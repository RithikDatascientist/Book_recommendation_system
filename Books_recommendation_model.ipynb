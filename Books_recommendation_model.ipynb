{
 "cells": [
  {
   "cell_type": "code",
   "execution_count": 1,
   "id": "fc61c2a2-44e2-4c0f-be66-b3a28d414bf4",
   "metadata": {},
   "outputs": [],
   "source": [
    "import pandas as pd \n",
    "import numpy as np \n",
    "import plotly.express as px"
   ]
  },
  {
   "cell_type": "code",
   "execution_count": 2,
   "id": "2a13be22-6d76-44f1-9bc6-9e4863c04204",
   "metadata": {},
   "outputs": [],
   "source": [
    "pd.set_option(\"display.max_rows\",None)\n",
    "pd.set_option(\"display.max_columns\",None)"
   ]
  },
  {
   "cell_type": "code",
   "execution_count": 3,
   "id": "7fd52c41-61d5-4ded-8807-e6968420327f",
   "metadata": {},
   "outputs": [
    {
     "data": {
      "text/html": [
       "<div>\n",
       "<style scoped>\n",
       "    .dataframe tbody tr th:only-of-type {\n",
       "        vertical-align: middle;\n",
       "    }\n",
       "\n",
       "    .dataframe tbody tr th {\n",
       "        vertical-align: top;\n",
       "    }\n",
       "\n",
       "    .dataframe thead th {\n",
       "        text-align: right;\n",
       "    }\n",
       "</style>\n",
       "<table border=\"1\" class=\"dataframe\">\n",
       "  <thead>\n",
       "    <tr style=\"text-align: right;\">\n",
       "      <th></th>\n",
       "      <th>bookId</th>\n",
       "      <th>title</th>\n",
       "      <th>series</th>\n",
       "      <th>author</th>\n",
       "      <th>rating</th>\n",
       "      <th>description</th>\n",
       "      <th>language</th>\n",
       "      <th>isbn</th>\n",
       "      <th>genres</th>\n",
       "      <th>characters</th>\n",
       "      <th>bookFormat</th>\n",
       "      <th>edition</th>\n",
       "      <th>pages</th>\n",
       "      <th>publisher</th>\n",
       "      <th>publishDate</th>\n",
       "      <th>firstPublishDate</th>\n",
       "      <th>awards</th>\n",
       "      <th>numRatings</th>\n",
       "      <th>ratingsByStars</th>\n",
       "      <th>likedPercent</th>\n",
       "      <th>setting</th>\n",
       "      <th>coverImg</th>\n",
       "      <th>bbeScore</th>\n",
       "      <th>bbeVotes</th>\n",
       "      <th>price</th>\n",
       "    </tr>\n",
       "  </thead>\n",
       "  <tbody>\n",
       "    <tr>\n",
       "      <th>0</th>\n",
       "      <td>2767052-the-hunger-games</td>\n",
       "      <td>The Hunger Games</td>\n",
       "      <td>The Hunger Games #1</td>\n",
       "      <td>Suzanne Collins</td>\n",
       "      <td>4.33</td>\n",
       "      <td>WINNING MEANS FAME AND FORTUNE.LOSING MEANS CE...</td>\n",
       "      <td>English</td>\n",
       "      <td>9780439023481</td>\n",
       "      <td>['Young Adult', 'Fiction', 'Dystopia', 'Fantas...</td>\n",
       "      <td>['Katniss Everdeen', 'Peeta Mellark', 'Cato (H...</td>\n",
       "      <td>Hardcover</td>\n",
       "      <td>First Edition</td>\n",
       "      <td>374</td>\n",
       "      <td>Scholastic Press</td>\n",
       "      <td>09/14/08</td>\n",
       "      <td>NaN</td>\n",
       "      <td>['Locus Award Nominee for Best Young Adult Boo...</td>\n",
       "      <td>6376780</td>\n",
       "      <td>['3444695', '1921313', '745221', '171994', '93...</td>\n",
       "      <td>96.0</td>\n",
       "      <td>['District 12, Panem', 'Capitol, Panem', 'Pane...</td>\n",
       "      <td>https://i.gr-assets.com/images/S/compressed.ph...</td>\n",
       "      <td>2993816</td>\n",
       "      <td>30516</td>\n",
       "      <td>5.09</td>\n",
       "    </tr>\n",
       "    <tr>\n",
       "      <th>1</th>\n",
       "      <td>2.Harry_Potter_and_the_Order_of_the_Phoenix</td>\n",
       "      <td>Harry Potter and the Order of the Phoenix</td>\n",
       "      <td>Harry Potter #5</td>\n",
       "      <td>J.K. Rowling, Mary GrandPré (Illustrator)</td>\n",
       "      <td>4.50</td>\n",
       "      <td>There is a door at the end of a silent corrido...</td>\n",
       "      <td>English</td>\n",
       "      <td>9780439358071</td>\n",
       "      <td>['Fantasy', 'Young Adult', 'Fiction', 'Magic',...</td>\n",
       "      <td>['Sirius Black', 'Draco Malfoy', 'Ron Weasley'...</td>\n",
       "      <td>Paperback</td>\n",
       "      <td>US Edition</td>\n",
       "      <td>870</td>\n",
       "      <td>Scholastic Inc.</td>\n",
       "      <td>09/28/04</td>\n",
       "      <td>06/21/03</td>\n",
       "      <td>['Bram Stoker Award for Works for Young Reader...</td>\n",
       "      <td>2507623</td>\n",
       "      <td>['1593642', '637516', '222366', '39573', '14526']</td>\n",
       "      <td>98.0</td>\n",
       "      <td>['Hogwarts School of Witchcraft and Wizardry (...</td>\n",
       "      <td>https://i.gr-assets.com/images/S/compressed.ph...</td>\n",
       "      <td>2632233</td>\n",
       "      <td>26923</td>\n",
       "      <td>7.38</td>\n",
       "    </tr>\n",
       "    <tr>\n",
       "      <th>2</th>\n",
       "      <td>2657.To_Kill_a_Mockingbird</td>\n",
       "      <td>To Kill a Mockingbird</td>\n",
       "      <td>To Kill a Mockingbird</td>\n",
       "      <td>Harper Lee</td>\n",
       "      <td>4.28</td>\n",
       "      <td>The unforgettable novel of a childhood in a sl...</td>\n",
       "      <td>English</td>\n",
       "      <td>9999999999999</td>\n",
       "      <td>['Classics', 'Fiction', 'Historical Fiction', ...</td>\n",
       "      <td>['Scout Finch', 'Atticus Finch', 'Jem Finch', ...</td>\n",
       "      <td>Paperback</td>\n",
       "      <td>NaN</td>\n",
       "      <td>324</td>\n",
       "      <td>Harper Perennial Modern Classics</td>\n",
       "      <td>05/23/06</td>\n",
       "      <td>07/11/60</td>\n",
       "      <td>['Pulitzer Prize for Fiction (1961)', 'Audie A...</td>\n",
       "      <td>4501075</td>\n",
       "      <td>['2363896', '1333153', '573280', '149952', '80...</td>\n",
       "      <td>95.0</td>\n",
       "      <td>['Maycomb, Alabama (United States)']</td>\n",
       "      <td>https://i.gr-assets.com/images/S/compressed.ph...</td>\n",
       "      <td>2269402</td>\n",
       "      <td>23328</td>\n",
       "      <td>NaN</td>\n",
       "    </tr>\n",
       "    <tr>\n",
       "      <th>3</th>\n",
       "      <td>1885.Pride_and_Prejudice</td>\n",
       "      <td>Pride and Prejudice</td>\n",
       "      <td>NaN</td>\n",
       "      <td>Jane Austen, Anna Quindlen (Introduction)</td>\n",
       "      <td>4.26</td>\n",
       "      <td>Alternate cover edition of ISBN 9780679783268S...</td>\n",
       "      <td>English</td>\n",
       "      <td>9999999999999</td>\n",
       "      <td>['Classics', 'Fiction', 'Romance', 'Historical...</td>\n",
       "      <td>['Mr. Bennet', 'Mrs. Bennet', 'Jane Bennet', '...</td>\n",
       "      <td>Paperback</td>\n",
       "      <td>Modern Library Classics, USA / CAN</td>\n",
       "      <td>279</td>\n",
       "      <td>Modern Library</td>\n",
       "      <td>10/10/00</td>\n",
       "      <td>01/28/13</td>\n",
       "      <td>[]</td>\n",
       "      <td>2998241</td>\n",
       "      <td>['1617567', '816659', '373311', '113934', '767...</td>\n",
       "      <td>94.0</td>\n",
       "      <td>['United Kingdom', 'Derbyshire, England (Unite...</td>\n",
       "      <td>https://i.gr-assets.com/images/S/compressed.ph...</td>\n",
       "      <td>1983116</td>\n",
       "      <td>20452</td>\n",
       "      <td>NaN</td>\n",
       "    </tr>\n",
       "    <tr>\n",
       "      <th>4</th>\n",
       "      <td>41865.Twilight</td>\n",
       "      <td>Twilight</td>\n",
       "      <td>The Twilight Saga #1</td>\n",
       "      <td>Stephenie Meyer</td>\n",
       "      <td>3.60</td>\n",
       "      <td>About three things I was absolutely positive.\\...</td>\n",
       "      <td>English</td>\n",
       "      <td>9780316015844</td>\n",
       "      <td>['Young Adult', 'Fantasy', 'Romance', 'Vampire...</td>\n",
       "      <td>['Edward Cullen', 'Jacob Black', 'Laurent', 'R...</td>\n",
       "      <td>Paperback</td>\n",
       "      <td>NaN</td>\n",
       "      <td>501</td>\n",
       "      <td>Little, Brown and Company</td>\n",
       "      <td>09/06/06</td>\n",
       "      <td>10/05/05</td>\n",
       "      <td>['Georgia Peach Book Award (2007)', 'Buxtehude...</td>\n",
       "      <td>4964519</td>\n",
       "      <td>['1751460', '1113682', '1008686', '542017', '5...</td>\n",
       "      <td>78.0</td>\n",
       "      <td>['Forks, Washington (United States)', 'Phoenix...</td>\n",
       "      <td>https://i.gr-assets.com/images/S/compressed.ph...</td>\n",
       "      <td>1459448</td>\n",
       "      <td>14874</td>\n",
       "      <td>2.1</td>\n",
       "    </tr>\n",
       "  </tbody>\n",
       "</table>\n",
       "</div>"
      ],
      "text/plain": [
       "                                        bookId  \\\n",
       "0                     2767052-the-hunger-games   \n",
       "1  2.Harry_Potter_and_the_Order_of_the_Phoenix   \n",
       "2                   2657.To_Kill_a_Mockingbird   \n",
       "3                     1885.Pride_and_Prejudice   \n",
       "4                               41865.Twilight   \n",
       "\n",
       "                                       title                 series  \\\n",
       "0                           The Hunger Games    The Hunger Games #1   \n",
       "1  Harry Potter and the Order of the Phoenix        Harry Potter #5   \n",
       "2                      To Kill a Mockingbird  To Kill a Mockingbird   \n",
       "3                        Pride and Prejudice                    NaN   \n",
       "4                                   Twilight   The Twilight Saga #1   \n",
       "\n",
       "                                      author  rating  \\\n",
       "0                            Suzanne Collins    4.33   \n",
       "1  J.K. Rowling, Mary GrandPré (Illustrator)    4.50   \n",
       "2                                 Harper Lee    4.28   \n",
       "3  Jane Austen, Anna Quindlen (Introduction)    4.26   \n",
       "4                            Stephenie Meyer    3.60   \n",
       "\n",
       "                                         description language           isbn  \\\n",
       "0  WINNING MEANS FAME AND FORTUNE.LOSING MEANS CE...  English  9780439023481   \n",
       "1  There is a door at the end of a silent corrido...  English  9780439358071   \n",
       "2  The unforgettable novel of a childhood in a sl...  English  9999999999999   \n",
       "3  Alternate cover edition of ISBN 9780679783268S...  English  9999999999999   \n",
       "4  About three things I was absolutely positive.\\...  English  9780316015844   \n",
       "\n",
       "                                              genres  \\\n",
       "0  ['Young Adult', 'Fiction', 'Dystopia', 'Fantas...   \n",
       "1  ['Fantasy', 'Young Adult', 'Fiction', 'Magic',...   \n",
       "2  ['Classics', 'Fiction', 'Historical Fiction', ...   \n",
       "3  ['Classics', 'Fiction', 'Romance', 'Historical...   \n",
       "4  ['Young Adult', 'Fantasy', 'Romance', 'Vampire...   \n",
       "\n",
       "                                          characters bookFormat  \\\n",
       "0  ['Katniss Everdeen', 'Peeta Mellark', 'Cato (H...  Hardcover   \n",
       "1  ['Sirius Black', 'Draco Malfoy', 'Ron Weasley'...  Paperback   \n",
       "2  ['Scout Finch', 'Atticus Finch', 'Jem Finch', ...  Paperback   \n",
       "3  ['Mr. Bennet', 'Mrs. Bennet', 'Jane Bennet', '...  Paperback   \n",
       "4  ['Edward Cullen', 'Jacob Black', 'Laurent', 'R...  Paperback   \n",
       "\n",
       "                              edition pages                         publisher  \\\n",
       "0                       First Edition   374                  Scholastic Press   \n",
       "1                          US Edition   870                   Scholastic Inc.   \n",
       "2                                 NaN   324  Harper Perennial Modern Classics   \n",
       "3  Modern Library Classics, USA / CAN   279                    Modern Library   \n",
       "4                                 NaN   501         Little, Brown and Company   \n",
       "\n",
       "  publishDate firstPublishDate  \\\n",
       "0    09/14/08              NaN   \n",
       "1    09/28/04         06/21/03   \n",
       "2    05/23/06         07/11/60   \n",
       "3    10/10/00         01/28/13   \n",
       "4    09/06/06         10/05/05   \n",
       "\n",
       "                                              awards  numRatings  \\\n",
       "0  ['Locus Award Nominee for Best Young Adult Boo...     6376780   \n",
       "1  ['Bram Stoker Award for Works for Young Reader...     2507623   \n",
       "2  ['Pulitzer Prize for Fiction (1961)', 'Audie A...     4501075   \n",
       "3                                                 []     2998241   \n",
       "4  ['Georgia Peach Book Award (2007)', 'Buxtehude...     4964519   \n",
       "\n",
       "                                      ratingsByStars  likedPercent  \\\n",
       "0  ['3444695', '1921313', '745221', '171994', '93...          96.0   \n",
       "1  ['1593642', '637516', '222366', '39573', '14526']          98.0   \n",
       "2  ['2363896', '1333153', '573280', '149952', '80...          95.0   \n",
       "3  ['1617567', '816659', '373311', '113934', '767...          94.0   \n",
       "4  ['1751460', '1113682', '1008686', '542017', '5...          78.0   \n",
       "\n",
       "                                             setting  \\\n",
       "0  ['District 12, Panem', 'Capitol, Panem', 'Pane...   \n",
       "1  ['Hogwarts School of Witchcraft and Wizardry (...   \n",
       "2               ['Maycomb, Alabama (United States)']   \n",
       "3  ['United Kingdom', 'Derbyshire, England (Unite...   \n",
       "4  ['Forks, Washington (United States)', 'Phoenix...   \n",
       "\n",
       "                                            coverImg  bbeScore  bbeVotes price  \n",
       "0  https://i.gr-assets.com/images/S/compressed.ph...   2993816     30516  5.09  \n",
       "1  https://i.gr-assets.com/images/S/compressed.ph...   2632233     26923  7.38  \n",
       "2  https://i.gr-assets.com/images/S/compressed.ph...   2269402     23328   NaN  \n",
       "3  https://i.gr-assets.com/images/S/compressed.ph...   1983116     20452   NaN  \n",
       "4  https://i.gr-assets.com/images/S/compressed.ph...   1459448     14874   2.1  "
      ]
     },
     "execution_count": 3,
     "metadata": {},
     "output_type": "execute_result"
    }
   ],
   "source": [
    "df = pd.read_csv(\"Books_dataset.csv\")\n",
    "df.head()"
   ]
  },
  {
   "cell_type": "code",
   "execution_count": 4,
   "id": "aa8027eb-6b5b-4ae8-9d1a-d48f17746b02",
   "metadata": {},
   "outputs": [
    {
     "name": "stdout",
     "output_type": "stream",
     "text": [
      "Index(['bookId', 'title', 'series', 'author', 'rating', 'description',\n",
      "       'language', 'isbn', 'genres', 'characters', 'bookFormat', 'edition',\n",
      "       'pages', 'publisher', 'publishDate', 'firstPublishDate', 'awards',\n",
      "       'numRatings', 'ratingsByStars', 'likedPercent', 'setting', 'coverImg',\n",
      "       'bbeScore', 'bbeVotes', 'price'],\n",
      "      dtype='object')\n"
     ]
    }
   ],
   "source": [
    "print(df.columns)"
   ]
  },
  {
   "cell_type": "code",
   "execution_count": 5,
   "id": "59813c8c-45bc-44d5-bc7c-612e0c31b6a4",
   "metadata": {},
   "outputs": [
    {
     "name": "stdout",
     "output_type": "stream",
     "text": [
      "25\n"
     ]
    }
   ],
   "source": [
    "print(len(df.columns))"
   ]
  },
  {
   "cell_type": "code",
   "execution_count": 6,
   "id": "dce8410e-a43c-49e2-814a-e81b51ec59cd",
   "metadata": {},
   "outputs": [
    {
     "name": "stdout",
     "output_type": "stream",
     "text": [
      "             rating    numRatings  likedPercent      bbeScore      bbeVotes\n",
      "count  52478.000000  5.247800e+04  51856.000000  5.247800e+04  52478.000000\n",
      "mean       4.021878  1.787865e+04     92.231545  1.984023e+03     22.529003\n",
      "std        0.367146  1.039448e+05      5.990689  3.515314e+04    369.158541\n",
      "min        0.000000  0.000000e+00      0.000000  0.000000e+00     -4.000000\n",
      "25%        3.820000  3.410000e+02     90.000000  8.400000e+01      1.000000\n",
      "50%        4.030000  2.307000e+03     94.000000  9.700000e+01      1.000000\n",
      "75%        4.230000  9.380500e+03     96.000000  1.870000e+02      2.000000\n",
      "max        5.000000  7.048471e+06    100.000000  2.993816e+06  30516.000000\n"
     ]
    }
   ],
   "source": [
    "print(df.describe())"
   ]
  },
  {
   "cell_type": "markdown",
   "id": "7d0429f2-aa9a-49b1-81ec-a38f62fdeb22",
   "metadata": {},
   "source": [
    "We dont need all the columns for our recommendation system, so we are going to remove columns which or not adding value to the model."
   ]
  },
  {
   "cell_type": "code",
   "execution_count": 7,
   "id": "b3529ff5-691f-4636-90c8-8e99c4a72e27",
   "metadata": {},
   "outputs": [],
   "source": [
    "drop_columns = ['bookId','series','isbn','characters', 'bookFormat', 'edition','publisher', 'publishDate', 'firstPublishDate', 'awards',\n",
    "                'ratingsByStars','setting', 'coverImg','price']"
   ]
  },
  {
   "cell_type": "code",
   "execution_count": 8,
   "id": "2a09b4cc-8c6e-4213-bdc7-9df180b78464",
   "metadata": {},
   "outputs": [
    {
     "data": {
      "text/html": [
       "<div>\n",
       "<style scoped>\n",
       "    .dataframe tbody tr th:only-of-type {\n",
       "        vertical-align: middle;\n",
       "    }\n",
       "\n",
       "    .dataframe tbody tr th {\n",
       "        vertical-align: top;\n",
       "    }\n",
       "\n",
       "    .dataframe thead th {\n",
       "        text-align: right;\n",
       "    }\n",
       "</style>\n",
       "<table border=\"1\" class=\"dataframe\">\n",
       "  <thead>\n",
       "    <tr style=\"text-align: right;\">\n",
       "      <th></th>\n",
       "      <th>title</th>\n",
       "      <th>author</th>\n",
       "      <th>rating</th>\n",
       "      <th>description</th>\n",
       "      <th>language</th>\n",
       "      <th>genres</th>\n",
       "      <th>pages</th>\n",
       "      <th>numRatings</th>\n",
       "      <th>likedPercent</th>\n",
       "      <th>bbeScore</th>\n",
       "      <th>bbeVotes</th>\n",
       "    </tr>\n",
       "  </thead>\n",
       "  <tbody>\n",
       "    <tr>\n",
       "      <th>0</th>\n",
       "      <td>The Hunger Games</td>\n",
       "      <td>Suzanne Collins</td>\n",
       "      <td>4.33</td>\n",
       "      <td>WINNING MEANS FAME AND FORTUNE.LOSING MEANS CE...</td>\n",
       "      <td>English</td>\n",
       "      <td>['Young Adult', 'Fiction', 'Dystopia', 'Fantas...</td>\n",
       "      <td>374</td>\n",
       "      <td>6376780</td>\n",
       "      <td>96.0</td>\n",
       "      <td>2993816</td>\n",
       "      <td>30516</td>\n",
       "    </tr>\n",
       "    <tr>\n",
       "      <th>1</th>\n",
       "      <td>Harry Potter and the Order of the Phoenix</td>\n",
       "      <td>J.K. Rowling, Mary GrandPré (Illustrator)</td>\n",
       "      <td>4.50</td>\n",
       "      <td>There is a door at the end of a silent corrido...</td>\n",
       "      <td>English</td>\n",
       "      <td>['Fantasy', 'Young Adult', 'Fiction', 'Magic',...</td>\n",
       "      <td>870</td>\n",
       "      <td>2507623</td>\n",
       "      <td>98.0</td>\n",
       "      <td>2632233</td>\n",
       "      <td>26923</td>\n",
       "    </tr>\n",
       "    <tr>\n",
       "      <th>2</th>\n",
       "      <td>To Kill a Mockingbird</td>\n",
       "      <td>Harper Lee</td>\n",
       "      <td>4.28</td>\n",
       "      <td>The unforgettable novel of a childhood in a sl...</td>\n",
       "      <td>English</td>\n",
       "      <td>['Classics', 'Fiction', 'Historical Fiction', ...</td>\n",
       "      <td>324</td>\n",
       "      <td>4501075</td>\n",
       "      <td>95.0</td>\n",
       "      <td>2269402</td>\n",
       "      <td>23328</td>\n",
       "    </tr>\n",
       "    <tr>\n",
       "      <th>3</th>\n",
       "      <td>Pride and Prejudice</td>\n",
       "      <td>Jane Austen, Anna Quindlen (Introduction)</td>\n",
       "      <td>4.26</td>\n",
       "      <td>Alternate cover edition of ISBN 9780679783268S...</td>\n",
       "      <td>English</td>\n",
       "      <td>['Classics', 'Fiction', 'Romance', 'Historical...</td>\n",
       "      <td>279</td>\n",
       "      <td>2998241</td>\n",
       "      <td>94.0</td>\n",
       "      <td>1983116</td>\n",
       "      <td>20452</td>\n",
       "    </tr>\n",
       "    <tr>\n",
       "      <th>4</th>\n",
       "      <td>Twilight</td>\n",
       "      <td>Stephenie Meyer</td>\n",
       "      <td>3.60</td>\n",
       "      <td>About three things I was absolutely positive.\\...</td>\n",
       "      <td>English</td>\n",
       "      <td>['Young Adult', 'Fantasy', 'Romance', 'Vampire...</td>\n",
       "      <td>501</td>\n",
       "      <td>4964519</td>\n",
       "      <td>78.0</td>\n",
       "      <td>1459448</td>\n",
       "      <td>14874</td>\n",
       "    </tr>\n",
       "  </tbody>\n",
       "</table>\n",
       "</div>"
      ],
      "text/plain": [
       "                                       title  \\\n",
       "0                           The Hunger Games   \n",
       "1  Harry Potter and the Order of the Phoenix   \n",
       "2                      To Kill a Mockingbird   \n",
       "3                        Pride and Prejudice   \n",
       "4                                   Twilight   \n",
       "\n",
       "                                      author  rating  \\\n",
       "0                            Suzanne Collins    4.33   \n",
       "1  J.K. Rowling, Mary GrandPré (Illustrator)    4.50   \n",
       "2                                 Harper Lee    4.28   \n",
       "3  Jane Austen, Anna Quindlen (Introduction)    4.26   \n",
       "4                            Stephenie Meyer    3.60   \n",
       "\n",
       "                                         description language  \\\n",
       "0  WINNING MEANS FAME AND FORTUNE.LOSING MEANS CE...  English   \n",
       "1  There is a door at the end of a silent corrido...  English   \n",
       "2  The unforgettable novel of a childhood in a sl...  English   \n",
       "3  Alternate cover edition of ISBN 9780679783268S...  English   \n",
       "4  About three things I was absolutely positive.\\...  English   \n",
       "\n",
       "                                              genres pages  numRatings  \\\n",
       "0  ['Young Adult', 'Fiction', 'Dystopia', 'Fantas...   374     6376780   \n",
       "1  ['Fantasy', 'Young Adult', 'Fiction', 'Magic',...   870     2507623   \n",
       "2  ['Classics', 'Fiction', 'Historical Fiction', ...   324     4501075   \n",
       "3  ['Classics', 'Fiction', 'Romance', 'Historical...   279     2998241   \n",
       "4  ['Young Adult', 'Fantasy', 'Romance', 'Vampire...   501     4964519   \n",
       "\n",
       "   likedPercent  bbeScore  bbeVotes  \n",
       "0          96.0   2993816     30516  \n",
       "1          98.0   2632233     26923  \n",
       "2          95.0   2269402     23328  \n",
       "3          94.0   1983116     20452  \n",
       "4          78.0   1459448     14874  "
      ]
     },
     "execution_count": 8,
     "metadata": {},
     "output_type": "execute_result"
    }
   ],
   "source": [
    "df = df.drop(drop_columns, axis = 1)\n",
    "df.head()"
   ]
  },
  {
   "cell_type": "code",
   "execution_count": 9,
   "id": "836f6f25-c97f-4d96-8ec7-8db33ec5bcd8",
   "metadata": {},
   "outputs": [
    {
     "name": "stdout",
     "output_type": "stream",
     "text": [
      "<class 'pandas.core.frame.DataFrame'>\n",
      "RangeIndex: 52478 entries, 0 to 52477\n",
      "Data columns (total 11 columns):\n",
      " #   Column        Non-Null Count  Dtype  \n",
      "---  ------        --------------  -----  \n",
      " 0   title         52478 non-null  object \n",
      " 1   author        52478 non-null  object \n",
      " 2   rating        52478 non-null  float64\n",
      " 3   description   51140 non-null  object \n",
      " 4   language      48672 non-null  object \n",
      " 5   genres        52478 non-null  object \n",
      " 6   pages         50131 non-null  object \n",
      " 7   numRatings    52478 non-null  int64  \n",
      " 8   likedPercent  51856 non-null  float64\n",
      " 9   bbeScore      52478 non-null  int64  \n",
      " 10  bbeVotes      52478 non-null  int64  \n",
      "dtypes: float64(2), int64(3), object(6)\n",
      "memory usage: 4.4+ MB\n",
      "None\n"
     ]
    }
   ],
   "source": [
    "print(df.info())"
   ]
  },
  {
   "cell_type": "code",
   "execution_count": 10,
   "id": "dc7ac3a7-c8bc-4105-89ae-e06096f69109",
   "metadata": {},
   "outputs": [
    {
     "name": "stdout",
     "output_type": "stream",
     "text": [
      "title              0\n",
      "author             0\n",
      "rating             0\n",
      "description     1338\n",
      "language        3806\n",
      "genres             0\n",
      "pages           2347\n",
      "numRatings         0\n",
      "likedPercent     622\n",
      "bbeScore           0\n",
      "bbeVotes           0\n",
      "dtype: int64\n"
     ]
    }
   ],
   "source": [
    "print(df.isna().sum())"
   ]
  },
  {
   "cell_type": "code",
   "execution_count": 11,
   "id": "eb58a788-b8f4-43bb-98d1-dcf22e685d72",
   "metadata": {},
   "outputs": [
    {
     "name": "stdout",
     "output_type": "stream",
     "text": [
      "52478\n"
     ]
    }
   ],
   "source": [
    "print(len(df))"
   ]
  },
  {
   "cell_type": "markdown",
   "id": "ce53f52c-a268-4c2a-b85e-92ae3fd73168",
   "metadata": {},
   "source": [
    "As we can see we are missing really low amount of data like max 4000 data. we can easly populate it with mean data or we can drop based on the amount of missing values, so in our next step we are going to handle missing Values."
   ]
  },
  {
   "cell_type": "code",
   "execution_count": 12,
   "id": "eeecd43d-3e91-4bd0-9a59-bc558b6bc3de",
   "metadata": {},
   "outputs": [],
   "source": [
    "#Since Description is something which can not be populated using mean or another values we are going to replace it with NA\n",
    "df[\"description\"] = df[\"description\"].fillna(\"NA\")"
   ]
  },
  {
   "cell_type": "code",
   "execution_count": 13,
   "id": "1ac2a294-a473-4008-b613-61745dbce41d",
   "metadata": {},
   "outputs": [],
   "source": [
    "#Now lets take care of language we are going to replace the missing values with Unknow values since its an language its not not going to play major role\n",
    "df[\"language\"] = df[\"language\"].fillna(\"Unknow\")"
   ]
  },
  {
   "cell_type": "code",
   "execution_count": 14,
   "id": "45feefa1-8f87-419d-a3f5-cce386f26f6d",
   "metadata": {},
   "outputs": [],
   "source": [
    "#For now lets replace the null values with 100 pages \n",
    "df[\"pages\"] = df[\"pages\"].fillna(\"100\")"
   ]
  },
  {
   "cell_type": "code",
   "execution_count": 15,
   "id": "315cf2af-8331-4c91-86e0-1df70cf0ead8",
   "metadata": {},
   "outputs": [],
   "source": [
    "#Since the likedPrecent is really low i.e 600 out of 50k  we are going to drop it \n",
    "df = df.dropna(subset = [\"likedPercent\"])"
   ]
  },
  {
   "cell_type": "code",
   "execution_count": 16,
   "id": "46fbce88-b9a3-4258-ac9b-24ee01ce332c",
   "metadata": {},
   "outputs": [
    {
     "name": "stdout",
     "output_type": "stream",
     "text": [
      "title           0\n",
      "author          0\n",
      "rating          0\n",
      "description     0\n",
      "language        0\n",
      "genres          0\n",
      "pages           0\n",
      "numRatings      0\n",
      "likedPercent    0\n",
      "bbeScore        0\n",
      "bbeVotes        0\n",
      "dtype: int64\n"
     ]
    }
   ],
   "source": [
    "print(df.isna().sum())"
   ]
  },
  {
   "cell_type": "code",
   "execution_count": 17,
   "id": "72559249-2ee2-4433-86e1-c45d62bf9481",
   "metadata": {},
   "outputs": [],
   "source": [
    "pd.set_option(\"display.max_colwidth\", None)"
   ]
  },
  {
   "cell_type": "code",
   "execution_count": 18,
   "id": "eca7c6f4-7587-4d47-9ca1-fc11d710a82a",
   "metadata": {},
   "outputs": [],
   "source": [
    "# As you can see the genres are wrapped inside of an array of string lets take care of it\n",
    "import ast \n",
    "df[\"genres\"] = df[\"genres\"].apply(ast.literal_eval)"
   ]
  },
  {
   "cell_type": "code",
   "execution_count": 19,
   "id": "c22e5033-6435-43a6-bd42-0d85b96169cb",
   "metadata": {},
   "outputs": [],
   "source": [
    "df[\"genres\"] = df[\"genres\"].apply(lambda x: ', '.join(x))"
   ]
  },
  {
   "cell_type": "code",
   "execution_count": 20,
   "id": "0883e60e-1123-4788-b65b-e529339a0f03",
   "metadata": {},
   "outputs": [
    {
     "data": {
      "text/html": [
       "<div>\n",
       "<style scoped>\n",
       "    .dataframe tbody tr th:only-of-type {\n",
       "        vertical-align: middle;\n",
       "    }\n",
       "\n",
       "    .dataframe tbody tr th {\n",
       "        vertical-align: top;\n",
       "    }\n",
       "\n",
       "    .dataframe thead th {\n",
       "        text-align: right;\n",
       "    }\n",
       "</style>\n",
       "<table border=\"1\" class=\"dataframe\">\n",
       "  <thead>\n",
       "    <tr style=\"text-align: right;\">\n",
       "      <th></th>\n",
       "      <th>title</th>\n",
       "      <th>author</th>\n",
       "      <th>rating</th>\n",
       "      <th>description</th>\n",
       "      <th>language</th>\n",
       "      <th>genres</th>\n",
       "      <th>pages</th>\n",
       "      <th>numRatings</th>\n",
       "      <th>likedPercent</th>\n",
       "      <th>bbeScore</th>\n",
       "      <th>bbeVotes</th>\n",
       "    </tr>\n",
       "  </thead>\n",
       "  <tbody>\n",
       "    <tr>\n",
       "      <th>0</th>\n",
       "      <td>The Hunger Games</td>\n",
       "      <td>Suzanne Collins</td>\n",
       "      <td>4.33</td>\n",
       "      <td>WINNING MEANS FAME AND FORTUNE.LOSING MEANS CERTAIN DEATH.THE HUNGER GAMES HAVE BEGUN. . . .In the ruins of a place once known as North America lies the nation of Panem, a shining Capitol surrounded by twelve outlying districts. The Capitol is harsh and cruel and keeps the districts in line by forcing them all to send one boy and once girl between the ages of twelve and eighteen to participate in the annual Hunger Games, a fight to the death on live TV.Sixteen-year-old Katniss Everdeen regards it as a death sentence when she steps forward to take her sister's place in the Games. But Katniss has been close to dead before—and survival, for her, is second nature. Without really meaning to, she becomes a contender. But if she is to win, she will have to start making choices that weight survival against humanity and life against love.</td>\n",
       "      <td>English</td>\n",
       "      <td>Young Adult, Fiction, Dystopia, Fantasy, Science Fiction, Romance, Adventure, Teen, Post Apocalyptic, Action</td>\n",
       "      <td>374</td>\n",
       "      <td>6376780</td>\n",
       "      <td>96.0</td>\n",
       "      <td>2993816</td>\n",
       "      <td>30516</td>\n",
       "    </tr>\n",
       "    <tr>\n",
       "      <th>1</th>\n",
       "      <td>Harry Potter and the Order of the Phoenix</td>\n",
       "      <td>J.K. Rowling, Mary GrandPré (Illustrator)</td>\n",
       "      <td>4.50</td>\n",
       "      <td>There is a door at the end of a silent corridor. And it’s haunting Harry Pottter’s dreams. Why else would he be waking in the middle of the night, screaming in terror?Harry has a lot on his mind for this, his fifth year at Hogwarts: a Defense Against the Dark Arts teacher with a personality like poisoned honey; a big surprise on the Gryffindor Quidditch team; and the looming terror of the Ordinary Wizarding Level exams. But all these things pale next to the growing threat of He-Who-Must-Not-Be-Named - a threat that neither the magical government nor the authorities at Hogwarts can stop.As the grasp of darkness tightens, Harry must discover the true depth and strength of his friends, the importance of boundless loyalty, and the shocking price of unbearable sacrifice.His fate depends on them all.</td>\n",
       "      <td>English</td>\n",
       "      <td>Fantasy, Young Adult, Fiction, Magic, Childrens, Adventure, Audiobook, Middle Grade, Classics, Science Fiction Fantasy</td>\n",
       "      <td>870</td>\n",
       "      <td>2507623</td>\n",
       "      <td>98.0</td>\n",
       "      <td>2632233</td>\n",
       "      <td>26923</td>\n",
       "    </tr>\n",
       "    <tr>\n",
       "      <th>2</th>\n",
       "      <td>To Kill a Mockingbird</td>\n",
       "      <td>Harper Lee</td>\n",
       "      <td>4.28</td>\n",
       "      <td>The unforgettable novel of a childhood in a sleepy Southern town and the crisis of conscience that rocked it, To Kill A Mockingbird became both an instant bestseller and a critical success when it was first published in 1960. It went on to win the Pulitzer Prize in 1961 and was later made into an Academy Award-winning film, also a classic.Compassionate, dramatic, and deeply moving, To Kill A Mockingbird takes readers to the roots of human behavior - to innocence and experience, kindness and cruelty, love and hatred, humor and pathos. Now with over 18 million copies in print and translated into forty languages, this regional story by a young Alabama woman claims universal appeal. Harper Lee always considered her book to be a simple love story. Today it is regarded as a masterpiece of American literature.</td>\n",
       "      <td>English</td>\n",
       "      <td>Classics, Fiction, Historical Fiction, School, Literature, Young Adult, Historical, Novels, Read For School, High School</td>\n",
       "      <td>324</td>\n",
       "      <td>4501075</td>\n",
       "      <td>95.0</td>\n",
       "      <td>2269402</td>\n",
       "      <td>23328</td>\n",
       "    </tr>\n",
       "    <tr>\n",
       "      <th>3</th>\n",
       "      <td>Pride and Prejudice</td>\n",
       "      <td>Jane Austen, Anna Quindlen (Introduction)</td>\n",
       "      <td>4.26</td>\n",
       "      <td>Alternate cover edition of ISBN 9780679783268Since its immediate success in 1813, Pride and Prejudice has remained one of the most popular novels in the English language. Jane Austen called this brilliant work \"her own darling child\" and its vivacious heroine, Elizabeth Bennet, \"as delightful a creature as ever appeared in print.\" The romantic clash between the opinionated Elizabeth and her proud beau, Mr. Darcy, is a splendid performance of civilized sparring. And Jane Austen's radiant wit sparkles as her characters dance a delicate quadrille of flirtation and intrigue, making this book the most superb comedy of manners of Regency England.</td>\n",
       "      <td>English</td>\n",
       "      <td>Classics, Fiction, Romance, Historical Fiction, Literature, Historical, Novels, Historical Romance, Classic Literature, Adult</td>\n",
       "      <td>279</td>\n",
       "      <td>2998241</td>\n",
       "      <td>94.0</td>\n",
       "      <td>1983116</td>\n",
       "      <td>20452</td>\n",
       "    </tr>\n",
       "    <tr>\n",
       "      <th>4</th>\n",
       "      <td>Twilight</td>\n",
       "      <td>Stephenie Meyer</td>\n",
       "      <td>3.60</td>\n",
       "      <td>About three things I was absolutely positive.\\r\\n\\r\\nFirst, Edward was a vampire.\\r\\n\\r\\nSecond, there was a part of him—and I didn't know how dominant that part might be—that thirsted for my blood.\\r\\n\\r\\nAnd third, I was unconditionally and irrevocably in love with him.\\r\\n\\r\\nDeeply seductive and extraordinarily suspenseful, Twilight is a love story with bite.</td>\n",
       "      <td>English</td>\n",
       "      <td>Young Adult, Fantasy, Romance, Vampires, Fiction, Paranormal, Paranormal Romance, Supernatural, Teen, Urban Fantasy</td>\n",
       "      <td>501</td>\n",
       "      <td>4964519</td>\n",
       "      <td>78.0</td>\n",
       "      <td>1459448</td>\n",
       "      <td>14874</td>\n",
       "    </tr>\n",
       "  </tbody>\n",
       "</table>\n",
       "</div>"
      ],
      "text/plain": [
       "                                       title  \\\n",
       "0                           The Hunger Games   \n",
       "1  Harry Potter and the Order of the Phoenix   \n",
       "2                      To Kill a Mockingbird   \n",
       "3                        Pride and Prejudice   \n",
       "4                                   Twilight   \n",
       "\n",
       "                                      author  rating  \\\n",
       "0                            Suzanne Collins    4.33   \n",
       "1  J.K. Rowling, Mary GrandPré (Illustrator)    4.50   \n",
       "2                                 Harper Lee    4.28   \n",
       "3  Jane Austen, Anna Quindlen (Introduction)    4.26   \n",
       "4                            Stephenie Meyer    3.60   \n",
       "\n",
       "                                                                                                                                                                                                                                                                                                                                                                                                                                                                                                                                                                                                                                                                                                                                                                                                                                                                 description  \\\n",
       "0  WINNING MEANS FAME AND FORTUNE.LOSING MEANS CERTAIN DEATH.THE HUNGER GAMES HAVE BEGUN. . . .In the ruins of a place once known as North America lies the nation of Panem, a shining Capitol surrounded by twelve outlying districts. The Capitol is harsh and cruel and keeps the districts in line by forcing them all to send one boy and once girl between the ages of twelve and eighteen to participate in the annual Hunger Games, a fight to the death on live TV.Sixteen-year-old Katniss Everdeen regards it as a death sentence when she steps forward to take her sister's place in the Games. But Katniss has been close to dead before—and survival, for her, is second nature. Without really meaning to, she becomes a contender. But if she is to win, she will have to start making choices that weight survival against humanity and life against love.   \n",
       "1                                      There is a door at the end of a silent corridor. And it’s haunting Harry Pottter’s dreams. Why else would he be waking in the middle of the night, screaming in terror?Harry has a lot on his mind for this, his fifth year at Hogwarts: a Defense Against the Dark Arts teacher with a personality like poisoned honey; a big surprise on the Gryffindor Quidditch team; and the looming terror of the Ordinary Wizarding Level exams. But all these things pale next to the growing threat of He-Who-Must-Not-Be-Named - a threat that neither the magical government nor the authorities at Hogwarts can stop.As the grasp of darkness tightens, Harry must discover the true depth and strength of his friends, the importance of boundless loyalty, and the shocking price of unbearable sacrifice.His fate depends on them all.   \n",
       "2                             The unforgettable novel of a childhood in a sleepy Southern town and the crisis of conscience that rocked it, To Kill A Mockingbird became both an instant bestseller and a critical success when it was first published in 1960. It went on to win the Pulitzer Prize in 1961 and was later made into an Academy Award-winning film, also a classic.Compassionate, dramatic, and deeply moving, To Kill A Mockingbird takes readers to the roots of human behavior - to innocence and experience, kindness and cruelty, love and hatred, humor and pathos. Now with over 18 million copies in print and translated into forty languages, this regional story by a young Alabama woman claims universal appeal. Harper Lee always considered her book to be a simple love story. Today it is regarded as a masterpiece of American literature.   \n",
       "3                                                                                                                                                                                                   Alternate cover edition of ISBN 9780679783268Since its immediate success in 1813, Pride and Prejudice has remained one of the most popular novels in the English language. Jane Austen called this brilliant work \"her own darling child\" and its vivacious heroine, Elizabeth Bennet, \"as delightful a creature as ever appeared in print.\" The romantic clash between the opinionated Elizabeth and her proud beau, Mr. Darcy, is a splendid performance of civilized sparring. And Jane Austen's radiant wit sparkles as her characters dance a delicate quadrille of flirtation and intrigue, making this book the most superb comedy of manners of Regency England.   \n",
       "4                                                                                                                                                                                                                                                                                                                                                                                                                                                                                              About three things I was absolutely positive.\\r\\n\\r\\nFirst, Edward was a vampire.\\r\\n\\r\\nSecond, there was a part of him—and I didn't know how dominant that part might be—that thirsted for my blood.\\r\\n\\r\\nAnd third, I was unconditionally and irrevocably in love with him.\\r\\n\\r\\nDeeply seductive and extraordinarily suspenseful, Twilight is a love story with bite.   \n",
       "\n",
       "  language  \\\n",
       "0  English   \n",
       "1  English   \n",
       "2  English   \n",
       "3  English   \n",
       "4  English   \n",
       "\n",
       "                                                                                                                          genres  \\\n",
       "0                   Young Adult, Fiction, Dystopia, Fantasy, Science Fiction, Romance, Adventure, Teen, Post Apocalyptic, Action   \n",
       "1         Fantasy, Young Adult, Fiction, Magic, Childrens, Adventure, Audiobook, Middle Grade, Classics, Science Fiction Fantasy   \n",
       "2       Classics, Fiction, Historical Fiction, School, Literature, Young Adult, Historical, Novels, Read For School, High School   \n",
       "3  Classics, Fiction, Romance, Historical Fiction, Literature, Historical, Novels, Historical Romance, Classic Literature, Adult   \n",
       "4            Young Adult, Fantasy, Romance, Vampires, Fiction, Paranormal, Paranormal Romance, Supernatural, Teen, Urban Fantasy   \n",
       "\n",
       "  pages  numRatings  likedPercent  bbeScore  bbeVotes  \n",
       "0   374     6376780          96.0   2993816     30516  \n",
       "1   870     2507623          98.0   2632233     26923  \n",
       "2   324     4501075          95.0   2269402     23328  \n",
       "3   279     2998241          94.0   1983116     20452  \n",
       "4   501     4964519          78.0   1459448     14874  "
      ]
     },
     "execution_count": 20,
     "metadata": {},
     "output_type": "execute_result"
    }
   ],
   "source": [
    "df.head()"
   ]
  },
  {
   "cell_type": "markdown",
   "id": "b7697ee3-3e95-4459-b1eb-ddaabb86754f",
   "metadata": {},
   "source": [
    "Now we have to deal with the author column. Below we will see what are the problem are in that columns and how we can solve them "
   ]
  },
  {
   "cell_type": "code",
   "execution_count": 21,
   "id": "03a8a0ba-40f1-4ac3-abb7-c21b013c2b61",
   "metadata": {},
   "outputs": [
    {
     "data": {
      "text/plain": [
       "27853"
      ]
     },
     "execution_count": 21,
     "metadata": {},
     "output_type": "execute_result"
    }
   ],
   "source": [
    "len(df.groupby(df[\"author\"]))"
   ]
  },
  {
   "cell_type": "markdown",
   "id": "a011e156-d3cc-4180-98c1-f68e88733957",
   "metadata": {},
   "source": [
    "As you can see we have around 28K of authors we should take a deep look inside of the column to get better understanding"
   ]
  },
  {
   "cell_type": "code",
   "execution_count": 22,
   "id": "380520bf-b65e-4ad7-bf69-cf4de28c67eb",
   "metadata": {},
   "outputs": [
    {
     "data": {
      "text/plain": [
       "20                                                                                                       Ray Bradbury\n",
       "21                                                                                   Veronica Roth (Goodreads Author)\n",
       "22                                                                                                    William Golding\n",
       "23           William Shakespeare, Paul Werstine (Editor), Barbara A. Mowat (Editor), Paavo Emil Cajander (Translator)\n",
       "24                       Paulo Coelho (Goodreads Author), Alan R. Clarke (Translator), James Noel Smith (Illustrator)\n",
       "25                                                                      Fyodor Dostoyevsky, David McDuff (Translator)\n",
       "26                                                                                                    Stephen Chbosky\n",
       "27                                                                      F. Scott Fitzgerald, Francis Scott Fitzgerald\n",
       "28                                                                                 Cassandra Clare (Goodreads Author)\n",
       "29                                            Orson Scott Card, Stefan Rudnicki (Narrator), Harlan Ellison (Narrator)\n",
       "30                                                                                Kathryn Stockett (Goodreads Author)\n",
       "31                                                                                                    L.M. Montgomery\n",
       "32                                                                          J.K. Rowling, Mary GrandPré (Illustrator)\n",
       "33    Antoine de Saint-Exupéry, Richard Howard (Translator), Ivan Minatti (Translator), Nguyễn Thành Vũ (Illustrator)\n",
       "34                                           E.B. White, Garth Williams (Illustrator), Rosemary Wells (Illustrations)\n",
       "35                                                                                                     John Steinbeck\n",
       "36                                                                              Audrey Niffenegger (Goodreads Author)\n",
       "37                                                        Bram Stoker, Nina Auerbach (Editor), David J. Skal (Editor)\n",
       "38                                                                                                      Aldous Huxley\n",
       "39                                                               Gabriel García Márquez, Gregory Rabassa (Translator)\n",
       "40                                                                                                      J.D. Salinger\n",
       "41                                                                                                    William Goldman\n",
       "42                                                                                    Rick Riordan (Goodreads Author)\n",
       "43                                                                                            Frances Hodgson Burnett\n",
       "44                                                                                 Khaled Hosseini (Goodreads Author)\n",
       "45                                                                                                  Madeleine L'Engle\n",
       "46                                                                                                 George R.R. Martin\n",
       "47                            Mark Twain, Guy Cardwell (Notes), John Seelye (Introduction), Walter Trier (Ilustrator)\n",
       "48                                                                                                       Alice Sebold\n",
       "49                                                                                     S.E. Hinton (Goodreads Author)\n",
       "50                                                                                                     Maurice Sendak\n",
       "51                                                                                                          Dr. Seuss\n",
       "52                                                     Homer, Robert Fagles (Translator), Bernard Knox (Introduction)\n",
       "53                                                                                                        Yann Martel\n",
       "54                                                             Charles Dickens, Richard Maxwell (Editor/Introduction)\n",
       "Name: author, dtype: object"
      ]
     },
     "execution_count": 22,
     "metadata": {},
     "output_type": "execute_result"
    }
   ],
   "source": [
    "df[\"author\"][20:55]"
   ]
  },
  {
   "cell_type": "markdown",
   "id": "35cff3a3-9199-4fc2-a8ba-4f55989ac6be",
   "metadata": {},
   "source": [
    "We've discovered that the author field often includes not just the author's name but also mentions of editors, illustrators, or even book titles. After research, we've identified that the first name listed typically refers to the main author. Additionally, in some entries, book titles appear in the bracket, which could introduce bias during model training. To ensure clean and consistent data, we will extract only the first name as the primary author and remove any unrelated or noisy information."
   ]
  },
  {
   "cell_type": "code",
   "execution_count": 23,
   "id": "05de4d1b-c876-45a2-a8f9-43894ebc82bc",
   "metadata": {},
   "outputs": [
    {
     "data": {
      "text/plain": [
       "'The Odyssey'"
      ]
     },
     "execution_count": 23,
     "metadata": {},
     "output_type": "execute_result"
    }
   ],
   "source": [
    "df[\"title\"][52]"
   ]
  },
  {
   "cell_type": "code",
   "execution_count": 24,
   "id": "e5043bd4-7b6a-4ead-9669-a4aebf381b1d",
   "metadata": {},
   "outputs": [],
   "source": [
    "df[\"author_alone\"] = df[\"author\"].apply(lambda x : x.split(\",\")[0].strip() if isinstance(x,str) else x)"
   ]
  },
  {
   "cell_type": "code",
   "execution_count": 25,
   "id": "493c24f0-30f1-43ce-93aa-11905f882879",
   "metadata": {},
   "outputs": [
    {
     "data": {
      "text/html": [
       "<div>\n",
       "<style scoped>\n",
       "    .dataframe tbody tr th:only-of-type {\n",
       "        vertical-align: middle;\n",
       "    }\n",
       "\n",
       "    .dataframe tbody tr th {\n",
       "        vertical-align: top;\n",
       "    }\n",
       "\n",
       "    .dataframe thead th {\n",
       "        text-align: right;\n",
       "    }\n",
       "</style>\n",
       "<table border=\"1\" class=\"dataframe\">\n",
       "  <thead>\n",
       "    <tr style=\"text-align: right;\">\n",
       "      <th></th>\n",
       "      <th>title</th>\n",
       "      <th>author</th>\n",
       "      <th>rating</th>\n",
       "      <th>description</th>\n",
       "      <th>language</th>\n",
       "      <th>genres</th>\n",
       "      <th>pages</th>\n",
       "      <th>numRatings</th>\n",
       "      <th>likedPercent</th>\n",
       "      <th>bbeScore</th>\n",
       "      <th>bbeVotes</th>\n",
       "      <th>author_alone</th>\n",
       "    </tr>\n",
       "  </thead>\n",
       "  <tbody>\n",
       "    <tr>\n",
       "      <th>0</th>\n",
       "      <td>The Hunger Games</td>\n",
       "      <td>Suzanne Collins</td>\n",
       "      <td>4.33</td>\n",
       "      <td>WINNING MEANS FAME AND FORTUNE.LOSING MEANS CERTAIN DEATH.THE HUNGER GAMES HAVE BEGUN. . . .In the ruins of a place once known as North America lies the nation of Panem, a shining Capitol surrounded by twelve outlying districts. The Capitol is harsh and cruel and keeps the districts in line by forcing them all to send one boy and once girl between the ages of twelve and eighteen to participate in the annual Hunger Games, a fight to the death on live TV.Sixteen-year-old Katniss Everdeen regards it as a death sentence when she steps forward to take her sister's place in the Games. But Katniss has been close to dead before—and survival, for her, is second nature. Without really meaning to, she becomes a contender. But if she is to win, she will have to start making choices that weight survival against humanity and life against love.</td>\n",
       "      <td>English</td>\n",
       "      <td>Young Adult, Fiction, Dystopia, Fantasy, Science Fiction, Romance, Adventure, Teen, Post Apocalyptic, Action</td>\n",
       "      <td>374</td>\n",
       "      <td>6376780</td>\n",
       "      <td>96.0</td>\n",
       "      <td>2993816</td>\n",
       "      <td>30516</td>\n",
       "      <td>Suzanne Collins</td>\n",
       "    </tr>\n",
       "    <tr>\n",
       "      <th>1</th>\n",
       "      <td>Harry Potter and the Order of the Phoenix</td>\n",
       "      <td>J.K. Rowling, Mary GrandPré (Illustrator)</td>\n",
       "      <td>4.50</td>\n",
       "      <td>There is a door at the end of a silent corridor. And it’s haunting Harry Pottter’s dreams. Why else would he be waking in the middle of the night, screaming in terror?Harry has a lot on his mind for this, his fifth year at Hogwarts: a Defense Against the Dark Arts teacher with a personality like poisoned honey; a big surprise on the Gryffindor Quidditch team; and the looming terror of the Ordinary Wizarding Level exams. But all these things pale next to the growing threat of He-Who-Must-Not-Be-Named - a threat that neither the magical government nor the authorities at Hogwarts can stop.As the grasp of darkness tightens, Harry must discover the true depth and strength of his friends, the importance of boundless loyalty, and the shocking price of unbearable sacrifice.His fate depends on them all.</td>\n",
       "      <td>English</td>\n",
       "      <td>Fantasy, Young Adult, Fiction, Magic, Childrens, Adventure, Audiobook, Middle Grade, Classics, Science Fiction Fantasy</td>\n",
       "      <td>870</td>\n",
       "      <td>2507623</td>\n",
       "      <td>98.0</td>\n",
       "      <td>2632233</td>\n",
       "      <td>26923</td>\n",
       "      <td>J.K. Rowling</td>\n",
       "    </tr>\n",
       "    <tr>\n",
       "      <th>2</th>\n",
       "      <td>To Kill a Mockingbird</td>\n",
       "      <td>Harper Lee</td>\n",
       "      <td>4.28</td>\n",
       "      <td>The unforgettable novel of a childhood in a sleepy Southern town and the crisis of conscience that rocked it, To Kill A Mockingbird became both an instant bestseller and a critical success when it was first published in 1960. It went on to win the Pulitzer Prize in 1961 and was later made into an Academy Award-winning film, also a classic.Compassionate, dramatic, and deeply moving, To Kill A Mockingbird takes readers to the roots of human behavior - to innocence and experience, kindness and cruelty, love and hatred, humor and pathos. Now with over 18 million copies in print and translated into forty languages, this regional story by a young Alabama woman claims universal appeal. Harper Lee always considered her book to be a simple love story. Today it is regarded as a masterpiece of American literature.</td>\n",
       "      <td>English</td>\n",
       "      <td>Classics, Fiction, Historical Fiction, School, Literature, Young Adult, Historical, Novels, Read For School, High School</td>\n",
       "      <td>324</td>\n",
       "      <td>4501075</td>\n",
       "      <td>95.0</td>\n",
       "      <td>2269402</td>\n",
       "      <td>23328</td>\n",
       "      <td>Harper Lee</td>\n",
       "    </tr>\n",
       "    <tr>\n",
       "      <th>3</th>\n",
       "      <td>Pride and Prejudice</td>\n",
       "      <td>Jane Austen, Anna Quindlen (Introduction)</td>\n",
       "      <td>4.26</td>\n",
       "      <td>Alternate cover edition of ISBN 9780679783268Since its immediate success in 1813, Pride and Prejudice has remained one of the most popular novels in the English language. Jane Austen called this brilliant work \"her own darling child\" and its vivacious heroine, Elizabeth Bennet, \"as delightful a creature as ever appeared in print.\" The romantic clash between the opinionated Elizabeth and her proud beau, Mr. Darcy, is a splendid performance of civilized sparring. And Jane Austen's radiant wit sparkles as her characters dance a delicate quadrille of flirtation and intrigue, making this book the most superb comedy of manners of Regency England.</td>\n",
       "      <td>English</td>\n",
       "      <td>Classics, Fiction, Romance, Historical Fiction, Literature, Historical, Novels, Historical Romance, Classic Literature, Adult</td>\n",
       "      <td>279</td>\n",
       "      <td>2998241</td>\n",
       "      <td>94.0</td>\n",
       "      <td>1983116</td>\n",
       "      <td>20452</td>\n",
       "      <td>Jane Austen</td>\n",
       "    </tr>\n",
       "    <tr>\n",
       "      <th>4</th>\n",
       "      <td>Twilight</td>\n",
       "      <td>Stephenie Meyer</td>\n",
       "      <td>3.60</td>\n",
       "      <td>About three things I was absolutely positive.\\r\\n\\r\\nFirst, Edward was a vampire.\\r\\n\\r\\nSecond, there was a part of him—and I didn't know how dominant that part might be—that thirsted for my blood.\\r\\n\\r\\nAnd third, I was unconditionally and irrevocably in love with him.\\r\\n\\r\\nDeeply seductive and extraordinarily suspenseful, Twilight is a love story with bite.</td>\n",
       "      <td>English</td>\n",
       "      <td>Young Adult, Fantasy, Romance, Vampires, Fiction, Paranormal, Paranormal Romance, Supernatural, Teen, Urban Fantasy</td>\n",
       "      <td>501</td>\n",
       "      <td>4964519</td>\n",
       "      <td>78.0</td>\n",
       "      <td>1459448</td>\n",
       "      <td>14874</td>\n",
       "      <td>Stephenie Meyer</td>\n",
       "    </tr>\n",
       "  </tbody>\n",
       "</table>\n",
       "</div>"
      ],
      "text/plain": [
       "                                       title  \\\n",
       "0                           The Hunger Games   \n",
       "1  Harry Potter and the Order of the Phoenix   \n",
       "2                      To Kill a Mockingbird   \n",
       "3                        Pride and Prejudice   \n",
       "4                                   Twilight   \n",
       "\n",
       "                                      author  rating  \\\n",
       "0                            Suzanne Collins    4.33   \n",
       "1  J.K. Rowling, Mary GrandPré (Illustrator)    4.50   \n",
       "2                                 Harper Lee    4.28   \n",
       "3  Jane Austen, Anna Quindlen (Introduction)    4.26   \n",
       "4                            Stephenie Meyer    3.60   \n",
       "\n",
       "                                                                                                                                                                                                                                                                                                                                                                                                                                                                                                                                                                                                                                                                                                                                                                                                                                                                 description  \\\n",
       "0  WINNING MEANS FAME AND FORTUNE.LOSING MEANS CERTAIN DEATH.THE HUNGER GAMES HAVE BEGUN. . . .In the ruins of a place once known as North America lies the nation of Panem, a shining Capitol surrounded by twelve outlying districts. The Capitol is harsh and cruel and keeps the districts in line by forcing them all to send one boy and once girl between the ages of twelve and eighteen to participate in the annual Hunger Games, a fight to the death on live TV.Sixteen-year-old Katniss Everdeen regards it as a death sentence when she steps forward to take her sister's place in the Games. But Katniss has been close to dead before—and survival, for her, is second nature. Without really meaning to, she becomes a contender. But if she is to win, she will have to start making choices that weight survival against humanity and life against love.   \n",
       "1                                      There is a door at the end of a silent corridor. And it’s haunting Harry Pottter’s dreams. Why else would he be waking in the middle of the night, screaming in terror?Harry has a lot on his mind for this, his fifth year at Hogwarts: a Defense Against the Dark Arts teacher with a personality like poisoned honey; a big surprise on the Gryffindor Quidditch team; and the looming terror of the Ordinary Wizarding Level exams. But all these things pale next to the growing threat of He-Who-Must-Not-Be-Named - a threat that neither the magical government nor the authorities at Hogwarts can stop.As the grasp of darkness tightens, Harry must discover the true depth and strength of his friends, the importance of boundless loyalty, and the shocking price of unbearable sacrifice.His fate depends on them all.   \n",
       "2                             The unforgettable novel of a childhood in a sleepy Southern town and the crisis of conscience that rocked it, To Kill A Mockingbird became both an instant bestseller and a critical success when it was first published in 1960. It went on to win the Pulitzer Prize in 1961 and was later made into an Academy Award-winning film, also a classic.Compassionate, dramatic, and deeply moving, To Kill A Mockingbird takes readers to the roots of human behavior - to innocence and experience, kindness and cruelty, love and hatred, humor and pathos. Now with over 18 million copies in print and translated into forty languages, this regional story by a young Alabama woman claims universal appeal. Harper Lee always considered her book to be a simple love story. Today it is regarded as a masterpiece of American literature.   \n",
       "3                                                                                                                                                                                                   Alternate cover edition of ISBN 9780679783268Since its immediate success in 1813, Pride and Prejudice has remained one of the most popular novels in the English language. Jane Austen called this brilliant work \"her own darling child\" and its vivacious heroine, Elizabeth Bennet, \"as delightful a creature as ever appeared in print.\" The romantic clash between the opinionated Elizabeth and her proud beau, Mr. Darcy, is a splendid performance of civilized sparring. And Jane Austen's radiant wit sparkles as her characters dance a delicate quadrille of flirtation and intrigue, making this book the most superb comedy of manners of Regency England.   \n",
       "4                                                                                                                                                                                                                                                                                                                                                                                                                                                                                              About three things I was absolutely positive.\\r\\n\\r\\nFirst, Edward was a vampire.\\r\\n\\r\\nSecond, there was a part of him—and I didn't know how dominant that part might be—that thirsted for my blood.\\r\\n\\r\\nAnd third, I was unconditionally and irrevocably in love with him.\\r\\n\\r\\nDeeply seductive and extraordinarily suspenseful, Twilight is a love story with bite.   \n",
       "\n",
       "  language  \\\n",
       "0  English   \n",
       "1  English   \n",
       "2  English   \n",
       "3  English   \n",
       "4  English   \n",
       "\n",
       "                                                                                                                          genres  \\\n",
       "0                   Young Adult, Fiction, Dystopia, Fantasy, Science Fiction, Romance, Adventure, Teen, Post Apocalyptic, Action   \n",
       "1         Fantasy, Young Adult, Fiction, Magic, Childrens, Adventure, Audiobook, Middle Grade, Classics, Science Fiction Fantasy   \n",
       "2       Classics, Fiction, Historical Fiction, School, Literature, Young Adult, Historical, Novels, Read For School, High School   \n",
       "3  Classics, Fiction, Romance, Historical Fiction, Literature, Historical, Novels, Historical Romance, Classic Literature, Adult   \n",
       "4            Young Adult, Fantasy, Romance, Vampires, Fiction, Paranormal, Paranormal Romance, Supernatural, Teen, Urban Fantasy   \n",
       "\n",
       "  pages  numRatings  likedPercent  bbeScore  bbeVotes     author_alone  \n",
       "0   374     6376780          96.0   2993816     30516  Suzanne Collins  \n",
       "1   870     2507623          98.0   2632233     26923     J.K. Rowling  \n",
       "2   324     4501075          95.0   2269402     23328       Harper Lee  \n",
       "3   279     2998241          94.0   1983116     20452      Jane Austen  \n",
       "4   501     4964519          78.0   1459448     14874  Stephenie Meyer  "
      ]
     },
     "execution_count": 25,
     "metadata": {},
     "output_type": "execute_result"
    }
   ],
   "source": [
    "df.head()"
   ]
  },
  {
   "cell_type": "code",
   "execution_count": 26,
   "id": "0e70a093-56a1-4300-b82d-3d0bdeecba9c",
   "metadata": {},
   "outputs": [
    {
     "data": {
      "text/plain": [
       "np.int64(51856)"
      ]
     },
     "execution_count": 26,
     "metadata": {},
     "output_type": "execute_result"
    }
   ],
   "source": [
    "df[\"author_alone\"].value_counts().sum()"
   ]
  },
  {
   "cell_type": "code",
   "execution_count": 27,
   "id": "0b8cd5a2-4446-4241-9f28-77e92ffe1e04",
   "metadata": {},
   "outputs": [
    {
     "name": "stdout",
     "output_type": "stream",
     "text": [
      "23156\n"
     ]
    }
   ],
   "source": [
    "print(len(df.groupby(\"author_alone\")))"
   ]
  },
  {
   "cell_type": "code",
   "execution_count": 28,
   "id": "0d3c1e28-ad83-4e3f-b182-55a7db943f64",
   "metadata": {},
   "outputs": [],
   "source": [
    "df[\"author_alone\"] = df[\"author_alone\"].str.strip().str.lower()"
   ]
  },
  {
   "cell_type": "code",
   "execution_count": 29,
   "id": "e6ee5e6b-1ded-47cd-b734-e171f407463b",
   "metadata": {},
   "outputs": [
    {
     "name": "stdout",
     "output_type": "stream",
     "text": [
      "23151\n"
     ]
    }
   ],
   "source": [
    "print(len(df.groupby(\"author_alone\")))"
   ]
  },
  {
   "cell_type": "code",
   "execution_count": 30,
   "id": "b3bc5af6-9660-4f0f-811e-c906efb3ce82",
   "metadata": {},
   "outputs": [
    {
     "data": {
      "text/html": [
       "<div>\n",
       "<style scoped>\n",
       "    .dataframe tbody tr th:only-of-type {\n",
       "        vertical-align: middle;\n",
       "    }\n",
       "\n",
       "    .dataframe tbody tr th {\n",
       "        vertical-align: top;\n",
       "    }\n",
       "\n",
       "    .dataframe thead th {\n",
       "        text-align: right;\n",
       "    }\n",
       "</style>\n",
       "<table border=\"1\" class=\"dataframe\">\n",
       "  <thead>\n",
       "    <tr style=\"text-align: right;\">\n",
       "      <th></th>\n",
       "      <th>title</th>\n",
       "      <th>author</th>\n",
       "      <th>rating</th>\n",
       "      <th>description</th>\n",
       "      <th>language</th>\n",
       "      <th>genres</th>\n",
       "      <th>pages</th>\n",
       "      <th>numRatings</th>\n",
       "      <th>likedPercent</th>\n",
       "      <th>bbeScore</th>\n",
       "      <th>bbeVotes</th>\n",
       "      <th>author_alone</th>\n",
       "    </tr>\n",
       "  </thead>\n",
       "  <tbody>\n",
       "    <tr>\n",
       "      <th>0</th>\n",
       "      <td>The Hunger Games</td>\n",
       "      <td>Suzanne Collins</td>\n",
       "      <td>4.33</td>\n",
       "      <td>WINNING MEANS FAME AND FORTUNE.LOSING MEANS CERTAIN DEATH.THE HUNGER GAMES HAVE BEGUN. . . .In the ruins of a place once known as North America lies the nation of Panem, a shining Capitol surrounded by twelve outlying districts. The Capitol is harsh and cruel and keeps the districts in line by forcing them all to send one boy and once girl between the ages of twelve and eighteen to participate in the annual Hunger Games, a fight to the death on live TV.Sixteen-year-old Katniss Everdeen regards it as a death sentence when she steps forward to take her sister's place in the Games. But Katniss has been close to dead before—and survival, for her, is second nature. Without really meaning to, she becomes a contender. But if she is to win, she will have to start making choices that weight survival against humanity and life against love.</td>\n",
       "      <td>English</td>\n",
       "      <td>Young Adult, Fiction, Dystopia, Fantasy, Science Fiction, Romance, Adventure, Teen, Post Apocalyptic, Action</td>\n",
       "      <td>374</td>\n",
       "      <td>6376780</td>\n",
       "      <td>96.0</td>\n",
       "      <td>2993816</td>\n",
       "      <td>30516</td>\n",
       "      <td>suzanne collins</td>\n",
       "    </tr>\n",
       "    <tr>\n",
       "      <th>1</th>\n",
       "      <td>Harry Potter and the Order of the Phoenix</td>\n",
       "      <td>J.K. Rowling, Mary GrandPré (Illustrator)</td>\n",
       "      <td>4.50</td>\n",
       "      <td>There is a door at the end of a silent corridor. And it’s haunting Harry Pottter’s dreams. Why else would he be waking in the middle of the night, screaming in terror?Harry has a lot on his mind for this, his fifth year at Hogwarts: a Defense Against the Dark Arts teacher with a personality like poisoned honey; a big surprise on the Gryffindor Quidditch team; and the looming terror of the Ordinary Wizarding Level exams. But all these things pale next to the growing threat of He-Who-Must-Not-Be-Named - a threat that neither the magical government nor the authorities at Hogwarts can stop.As the grasp of darkness tightens, Harry must discover the true depth and strength of his friends, the importance of boundless loyalty, and the shocking price of unbearable sacrifice.His fate depends on them all.</td>\n",
       "      <td>English</td>\n",
       "      <td>Fantasy, Young Adult, Fiction, Magic, Childrens, Adventure, Audiobook, Middle Grade, Classics, Science Fiction Fantasy</td>\n",
       "      <td>870</td>\n",
       "      <td>2507623</td>\n",
       "      <td>98.0</td>\n",
       "      <td>2632233</td>\n",
       "      <td>26923</td>\n",
       "      <td>j.k. rowling</td>\n",
       "    </tr>\n",
       "    <tr>\n",
       "      <th>2</th>\n",
       "      <td>To Kill a Mockingbird</td>\n",
       "      <td>Harper Lee</td>\n",
       "      <td>4.28</td>\n",
       "      <td>The unforgettable novel of a childhood in a sleepy Southern town and the crisis of conscience that rocked it, To Kill A Mockingbird became both an instant bestseller and a critical success when it was first published in 1960. It went on to win the Pulitzer Prize in 1961 and was later made into an Academy Award-winning film, also a classic.Compassionate, dramatic, and deeply moving, To Kill A Mockingbird takes readers to the roots of human behavior - to innocence and experience, kindness and cruelty, love and hatred, humor and pathos. Now with over 18 million copies in print and translated into forty languages, this regional story by a young Alabama woman claims universal appeal. Harper Lee always considered her book to be a simple love story. Today it is regarded as a masterpiece of American literature.</td>\n",
       "      <td>English</td>\n",
       "      <td>Classics, Fiction, Historical Fiction, School, Literature, Young Adult, Historical, Novels, Read For School, High School</td>\n",
       "      <td>324</td>\n",
       "      <td>4501075</td>\n",
       "      <td>95.0</td>\n",
       "      <td>2269402</td>\n",
       "      <td>23328</td>\n",
       "      <td>harper lee</td>\n",
       "    </tr>\n",
       "  </tbody>\n",
       "</table>\n",
       "</div>"
      ],
      "text/plain": [
       "                                       title  \\\n",
       "0                           The Hunger Games   \n",
       "1  Harry Potter and the Order of the Phoenix   \n",
       "2                      To Kill a Mockingbird   \n",
       "\n",
       "                                      author  rating  \\\n",
       "0                            Suzanne Collins    4.33   \n",
       "1  J.K. Rowling, Mary GrandPré (Illustrator)    4.50   \n",
       "2                                 Harper Lee    4.28   \n",
       "\n",
       "                                                                                                                                                                                                                                                                                                                                                                                                                                                                                                                                                                                                                                                                                                                                                                                                                                                                 description  \\\n",
       "0  WINNING MEANS FAME AND FORTUNE.LOSING MEANS CERTAIN DEATH.THE HUNGER GAMES HAVE BEGUN. . . .In the ruins of a place once known as North America lies the nation of Panem, a shining Capitol surrounded by twelve outlying districts. The Capitol is harsh and cruel and keeps the districts in line by forcing them all to send one boy and once girl between the ages of twelve and eighteen to participate in the annual Hunger Games, a fight to the death on live TV.Sixteen-year-old Katniss Everdeen regards it as a death sentence when she steps forward to take her sister's place in the Games. But Katniss has been close to dead before—and survival, for her, is second nature. Without really meaning to, she becomes a contender. But if she is to win, she will have to start making choices that weight survival against humanity and life against love.   \n",
       "1                                      There is a door at the end of a silent corridor. And it’s haunting Harry Pottter’s dreams. Why else would he be waking in the middle of the night, screaming in terror?Harry has a lot on his mind for this, his fifth year at Hogwarts: a Defense Against the Dark Arts teacher with a personality like poisoned honey; a big surprise on the Gryffindor Quidditch team; and the looming terror of the Ordinary Wizarding Level exams. But all these things pale next to the growing threat of He-Who-Must-Not-Be-Named - a threat that neither the magical government nor the authorities at Hogwarts can stop.As the grasp of darkness tightens, Harry must discover the true depth and strength of his friends, the importance of boundless loyalty, and the shocking price of unbearable sacrifice.His fate depends on them all.   \n",
       "2                             The unforgettable novel of a childhood in a sleepy Southern town and the crisis of conscience that rocked it, To Kill A Mockingbird became both an instant bestseller and a critical success when it was first published in 1960. It went on to win the Pulitzer Prize in 1961 and was later made into an Academy Award-winning film, also a classic.Compassionate, dramatic, and deeply moving, To Kill A Mockingbird takes readers to the roots of human behavior - to innocence and experience, kindness and cruelty, love and hatred, humor and pathos. Now with over 18 million copies in print and translated into forty languages, this regional story by a young Alabama woman claims universal appeal. Harper Lee always considered her book to be a simple love story. Today it is regarded as a masterpiece of American literature.   \n",
       "\n",
       "  language  \\\n",
       "0  English   \n",
       "1  English   \n",
       "2  English   \n",
       "\n",
       "                                                                                                                     genres  \\\n",
       "0              Young Adult, Fiction, Dystopia, Fantasy, Science Fiction, Romance, Adventure, Teen, Post Apocalyptic, Action   \n",
       "1    Fantasy, Young Adult, Fiction, Magic, Childrens, Adventure, Audiobook, Middle Grade, Classics, Science Fiction Fantasy   \n",
       "2  Classics, Fiction, Historical Fiction, School, Literature, Young Adult, Historical, Novels, Read For School, High School   \n",
       "\n",
       "  pages  numRatings  likedPercent  bbeScore  bbeVotes     author_alone  \n",
       "0   374     6376780          96.0   2993816     30516  suzanne collins  \n",
       "1   870     2507623          98.0   2632233     26923     j.k. rowling  \n",
       "2   324     4501075          95.0   2269402     23328       harper lee  "
      ]
     },
     "execution_count": 30,
     "metadata": {},
     "output_type": "execute_result"
    }
   ],
   "source": [
    "df.head(3)"
   ]
  },
  {
   "cell_type": "code",
   "execution_count": 31,
   "id": "1fefa116-38e9-4f88-90a7-09794b894485",
   "metadata": {},
   "outputs": [
    {
     "data": {
      "text/plain": [
       "np.int64(0)"
      ]
     },
     "execution_count": 31,
     "metadata": {},
     "output_type": "execute_result"
    }
   ],
   "source": [
    "(df[\"author_alone\"] == \"j. k. rowling\").sum()"
   ]
  },
  {
   "cell_type": "code",
   "execution_count": 32,
   "id": "64ef2085-f614-401a-8f08-937db340e8ae",
   "metadata": {},
   "outputs": [],
   "source": [
    "# now lets take care of the titles inside of the brackets \n",
    "df[\"author_alone\"] = df[\"author_alone\"].apply(lambda x : x.split(\"(\")[0].strip() if isinstance(x,str) else x)"
   ]
  },
  {
   "cell_type": "code",
   "execution_count": 33,
   "id": "4fa7fbb1-ffa0-43f7-bffd-3252b0ca9032",
   "metadata": {},
   "outputs": [],
   "source": [
    "df[\"author_alone\"] = df[\"author_alone\"].astype(\"string\")"
   ]
  },
  {
   "cell_type": "code",
   "execution_count": 34,
   "id": "773e50a4-5dbe-4223-bbdd-0de16958de27",
   "metadata": {},
   "outputs": [
    {
     "data": {
      "text/plain": [
       "20                ray bradbury\n",
       "21               veronica roth\n",
       "22             william golding\n",
       "23         william shakespeare\n",
       "24                paulo coelho\n",
       "25          fyodor dostoyevsky\n",
       "26             stephen chbosky\n",
       "27         f. scott fitzgerald\n",
       "28             cassandra clare\n",
       "29            orson scott card\n",
       "30            kathryn stockett\n",
       "31             l.m. montgomery\n",
       "32                j.k. rowling\n",
       "33    antoine de saint-exupéry\n",
       "34                  e.b. white\n",
       "35              john steinbeck\n",
       "36          audrey niffenegger\n",
       "37                 bram stoker\n",
       "38               aldous huxley\n",
       "39      gabriel garcía márquez\n",
       "40               j.d. salinger\n",
       "41             william goldman\n",
       "42                rick riordan\n",
       "43     frances hodgson burnett\n",
       "44             khaled hosseini\n",
       "45           madeleine l'engle\n",
       "46          george r.r. martin\n",
       "47                  mark twain\n",
       "48                alice sebold\n",
       "49                 s.e. hinton\n",
       "50              maurice sendak\n",
       "51                   dr. seuss\n",
       "52                       homer\n",
       "53                 yann martel\n",
       "54             charles dickens\n",
       "Name: author_alone, dtype: string"
      ]
     },
     "execution_count": 34,
     "metadata": {},
     "output_type": "execute_result"
    }
   ],
   "source": [
    "df[\"author_alone\"][20:55]"
   ]
  },
  {
   "cell_type": "code",
   "execution_count": 35,
   "id": "16bf59e7-cb07-4588-b38b-cbc958d4f8d1",
   "metadata": {},
   "outputs": [
    {
     "name": "stdout",
     "output_type": "stream",
     "text": [
      "22861\n"
     ]
    }
   ],
   "source": [
    "print(len(df.groupby(\"author_alone\")))"
   ]
  },
  {
   "cell_type": "code",
   "execution_count": 36,
   "id": "5a1f8995-5cdf-4083-a021-4c66ecc3a637",
   "metadata": {},
   "outputs": [
    {
     "data": {
      "text/plain": [
       "Index(['title', 'author', 'rating', 'description', 'language', 'genres',\n",
       "       'pages', 'numRatings', 'likedPercent', 'bbeScore', 'bbeVotes',\n",
       "       'author_alone'],\n",
       "      dtype='object')"
      ]
     },
     "execution_count": 36,
     "metadata": {},
     "output_type": "execute_result"
    }
   ],
   "source": [
    "df.columns"
   ]
  },
  {
   "cell_type": "markdown",
   "id": "1a985ccb-5d34-4d84-95f3-633bd5442a18",
   "metadata": {},
   "source": [
    "Let visualize some key features to understand the data set better "
   ]
  },
  {
   "cell_type": "code",
   "execution_count": 37,
   "id": "63945b58-a6be-4493-a883-2ebfe8a5b916",
   "metadata": {},
   "outputs": [],
   "source": [
    "import plotly.graph_objects as go"
   ]
  },
  {
   "cell_type": "code",
   "execution_count": 38,
   "id": "689cc3bf-efa9-45e6-8779-faa9ea8fe4c4",
   "metadata": {},
   "outputs": [],
   "source": [
    "top_10_liked_books = df.sort_values(by=\"likedPercent\", ascending = False).head(10)"
   ]
  },
  {
   "cell_type": "code",
   "execution_count": 39,
   "id": "784c06bb-6ee5-4a23-873e-679801d9c7fb",
   "metadata": {},
   "outputs": [
    {
     "data": {
      "text/plain": [
       "likedPercent\n",
       "100.0    10\n",
       "Name: count, dtype: int64"
      ]
     },
     "execution_count": 39,
     "metadata": {},
     "output_type": "execute_result"
    }
   ],
   "source": [
    "top_10_liked_books[\"likedPercent\"].value_counts()"
   ]
  },
  {
   "cell_type": "code",
   "execution_count": 40,
   "id": "164352af-509c-41b5-96c1-b72c67a381c1",
   "metadata": {},
   "outputs": [
    {
     "data": {
      "application/vnd.plotly.v1+json": {
       "config": {
        "plotlyServerURL": "https://plot.ly"
       },
       "data": [
        {
         "hovertemplate": "Book Title=Letters Home from The Crimea: A Young Cavalryman's Campaign<br>Liked Percentage=%{x}<br>Author=%{y}<extra></extra>",
         "legendgroup": "Letters Home from The Crimea: A Young Cavalryman's Campaign",
         "marker": {
          "color": "#636efa",
          "pattern": {
           "shape": ""
          }
         },
         "name": "Letters Home from The Crimea: A Young Cavalryman's Campaign",
         "orientation": "h",
         "showlegend": true,
         "textposition": "auto",
         "type": "bar",
         "x": {
          "bdata": "AAAAAAAAWUA=",
          "dtype": "f8"
         },
         "xaxis": "x",
         "y": [
          "temple godman"
         ],
         "yaxis": "y"
        },
        {
         "hovertemplate": "Book Title=Diana Princess of Wales<br>Liked Percentage=%{x}<br>Author=%{y}<extra></extra>",
         "legendgroup": "Diana Princess of Wales",
         "marker": {
          "color": "#EF553B",
          "pattern": {
           "shape": ""
          }
         },
         "name": "Diana Princess of Wales",
         "orientation": "h",
         "showlegend": true,
         "textposition": "auto",
         "type": "bar",
         "x": {
          "bdata": "AAAAAAAAWUA=",
          "dtype": "f8"
         },
         "xaxis": "x",
         "y": [
          "brian hoey"
         ],
         "yaxis": "y"
        },
        {
         "hovertemplate": "Book Title=Diana: A princess for the world<br>Liked Percentage=%{x}<br>Author=%{y}<extra></extra>",
         "legendgroup": "Diana: A princess for the world",
         "marker": {
          "color": "#00cc96",
          "pattern": {
           "shape": ""
          }
         },
         "name": "Diana: A princess for the world",
         "orientation": "h",
         "showlegend": true,
         "textposition": "auto",
         "type": "bar",
         "x": {
          "bdata": "AAAAAAAAWUA=",
          "dtype": "f8"
         },
         "xaxis": "x",
         "y": [
          "martine kurz"
         ],
         "yaxis": "y"
        },
        {
         "hovertemplate": "Book Title=The Battle for Innocence<br>Liked Percentage=%{x}<br>Author=%{y}<extra></extra>",
         "legendgroup": "The Battle for Innocence",
         "marker": {
          "color": "#ab63fa",
          "pattern": {
           "shape": ""
          }
         },
         "name": "The Battle for Innocence",
         "orientation": "h",
         "showlegend": true,
         "textposition": "auto",
         "type": "bar",
         "x": {
          "bdata": "AAAAAAAAWUA=",
          "dtype": "f8"
         },
         "xaxis": "x",
         "y": [
          "stacy a. padula"
         ],
         "yaxis": "y"
        },
        {
         "hovertemplate": "Book Title=From Pictland to Alba, 789 - 1070<br>Liked Percentage=%{x}<br>Author=%{y}<extra></extra>",
         "legendgroup": "From Pictland to Alba, 789 - 1070",
         "marker": {
          "color": "#FFA15A",
          "pattern": {
           "shape": ""
          }
         },
         "name": "From Pictland to Alba, 789 - 1070",
         "orientation": "h",
         "showlegend": true,
         "textposition": "auto",
         "type": "bar",
         "x": {
          "bdata": "AAAAAAAAWUA=",
          "dtype": "f8"
         },
         "xaxis": "x",
         "y": [
          "alex woolf"
         ],
         "yaxis": "y"
        },
        {
         "hovertemplate": "Book Title=Jesus, Skepticism, and the Problem of History: Criteria and Context in the Study of Christian Origins<br>Liked Percentage=%{x}<br>Author=%{y}<extra></extra>",
         "legendgroup": "Jesus, Skepticism, and the Problem of History: Criteria and Context in the Study of Christian Origins",
         "marker": {
          "color": "#19d3f3",
          "pattern": {
           "shape": ""
          }
         },
         "name": "Jesus, Skepticism, and the Problem of History: Criteria and Context in the Study of Christian Origins",
         "orientation": "h",
         "showlegend": true,
         "textposition": "auto",
         "type": "bar",
         "x": {
          "bdata": "AAAAAAAAWUA=",
          "dtype": "f8"
         },
         "xaxis": "x",
         "y": [
          "darrell l. bock"
         ],
         "yaxis": "y"
        },
        {
         "hovertemplate": "Book Title=Undetected<br>Liked Percentage=%{x}<br>Author=%{y}<extra></extra>",
         "legendgroup": "Undetected",
         "marker": {
          "color": "#FF6692",
          "pattern": {
           "shape": ""
          }
         },
         "name": "Undetected",
         "orientation": "h",
         "showlegend": true,
         "textposition": "auto",
         "type": "bar",
         "x": {
          "bdata": "AAAAAAAAWUA=",
          "dtype": "f8"
         },
         "xaxis": "x",
         "y": [
          "anna hackett"
         ],
         "yaxis": "y"
        },
        {
         "hovertemplate": "Book Title=Torn<br>Liked Percentage=%{x}<br>Author=%{y}<extra></extra>",
         "legendgroup": "Torn",
         "marker": {
          "color": "#B6E880",
          "pattern": {
           "shape": ""
          }
         },
         "name": "Torn",
         "orientation": "h",
         "showlegend": true,
         "textposition": "auto",
         "type": "bar",
         "x": {
          "bdata": "AAAAAAAAWUA=",
          "dtype": "f8"
         },
         "xaxis": "x",
         "y": [
          "ashley stambaugh"
         ],
         "yaxis": "y"
        },
        {
         "hovertemplate": "Book Title=Diario de Aya Kitou<br>Liked Percentage=%{x}<br>Author=%{y}<extra></extra>",
         "legendgroup": "Diario de Aya Kitou",
         "marker": {
          "color": "#FF97FF",
          "pattern": {
           "shape": ""
          }
         },
         "name": "Diario de Aya Kitou",
         "orientation": "h",
         "showlegend": true,
         "textposition": "auto",
         "type": "bar",
         "x": {
          "bdata": "AAAAAAAAWUA=",
          "dtype": "f8"
         },
         "xaxis": "x",
         "y": [
          "sanchez gomez david"
         ],
         "yaxis": "y"
        },
        {
         "hovertemplate": "Book Title=Dating Death Match<br>Liked Percentage=%{x}<br>Author=%{y}<extra></extra>",
         "legendgroup": "Dating Death Match",
         "marker": {
          "color": "#FECB52",
          "pattern": {
           "shape": ""
          }
         },
         "name": "Dating Death Match",
         "orientation": "h",
         "showlegend": true,
         "textposition": "auto",
         "type": "bar",
         "x": {
          "bdata": "AAAAAAAAWUA=",
          "dtype": "f8"
         },
         "xaxis": "x",
         "y": [
          "mike bernsten"
         ],
         "yaxis": "y"
        }
       ],
       "layout": {
        "barmode": "relative",
        "legend": {
         "title": {
          "text": "Book Title"
         },
         "tracegroupgap": 0
        },
        "template": {
         "data": {
          "bar": [
           {
            "error_x": {
             "color": "#2a3f5f"
            },
            "error_y": {
             "color": "#2a3f5f"
            },
            "marker": {
             "line": {
              "color": "#E5ECF6",
              "width": 0.5
             },
             "pattern": {
              "fillmode": "overlay",
              "size": 10,
              "solidity": 0.2
             }
            },
            "type": "bar"
           }
          ],
          "barpolar": [
           {
            "marker": {
             "line": {
              "color": "#E5ECF6",
              "width": 0.5
             },
             "pattern": {
              "fillmode": "overlay",
              "size": 10,
              "solidity": 0.2
             }
            },
            "type": "barpolar"
           }
          ],
          "carpet": [
           {
            "aaxis": {
             "endlinecolor": "#2a3f5f",
             "gridcolor": "white",
             "linecolor": "white",
             "minorgridcolor": "white",
             "startlinecolor": "#2a3f5f"
            },
            "baxis": {
             "endlinecolor": "#2a3f5f",
             "gridcolor": "white",
             "linecolor": "white",
             "minorgridcolor": "white",
             "startlinecolor": "#2a3f5f"
            },
            "type": "carpet"
           }
          ],
          "choropleth": [
           {
            "colorbar": {
             "outlinewidth": 0,
             "ticks": ""
            },
            "type": "choropleth"
           }
          ],
          "contour": [
           {
            "colorbar": {
             "outlinewidth": 0,
             "ticks": ""
            },
            "colorscale": [
             [
              0,
              "#0d0887"
             ],
             [
              0.1111111111111111,
              "#46039f"
             ],
             [
              0.2222222222222222,
              "#7201a8"
             ],
             [
              0.3333333333333333,
              "#9c179e"
             ],
             [
              0.4444444444444444,
              "#bd3786"
             ],
             [
              0.5555555555555556,
              "#d8576b"
             ],
             [
              0.6666666666666666,
              "#ed7953"
             ],
             [
              0.7777777777777778,
              "#fb9f3a"
             ],
             [
              0.8888888888888888,
              "#fdca26"
             ],
             [
              1,
              "#f0f921"
             ]
            ],
            "type": "contour"
           }
          ],
          "contourcarpet": [
           {
            "colorbar": {
             "outlinewidth": 0,
             "ticks": ""
            },
            "type": "contourcarpet"
           }
          ],
          "heatmap": [
           {
            "colorbar": {
             "outlinewidth": 0,
             "ticks": ""
            },
            "colorscale": [
             [
              0,
              "#0d0887"
             ],
             [
              0.1111111111111111,
              "#46039f"
             ],
             [
              0.2222222222222222,
              "#7201a8"
             ],
             [
              0.3333333333333333,
              "#9c179e"
             ],
             [
              0.4444444444444444,
              "#bd3786"
             ],
             [
              0.5555555555555556,
              "#d8576b"
             ],
             [
              0.6666666666666666,
              "#ed7953"
             ],
             [
              0.7777777777777778,
              "#fb9f3a"
             ],
             [
              0.8888888888888888,
              "#fdca26"
             ],
             [
              1,
              "#f0f921"
             ]
            ],
            "type": "heatmap"
           }
          ],
          "histogram": [
           {
            "marker": {
             "pattern": {
              "fillmode": "overlay",
              "size": 10,
              "solidity": 0.2
             }
            },
            "type": "histogram"
           }
          ],
          "histogram2d": [
           {
            "colorbar": {
             "outlinewidth": 0,
             "ticks": ""
            },
            "colorscale": [
             [
              0,
              "#0d0887"
             ],
             [
              0.1111111111111111,
              "#46039f"
             ],
             [
              0.2222222222222222,
              "#7201a8"
             ],
             [
              0.3333333333333333,
              "#9c179e"
             ],
             [
              0.4444444444444444,
              "#bd3786"
             ],
             [
              0.5555555555555556,
              "#d8576b"
             ],
             [
              0.6666666666666666,
              "#ed7953"
             ],
             [
              0.7777777777777778,
              "#fb9f3a"
             ],
             [
              0.8888888888888888,
              "#fdca26"
             ],
             [
              1,
              "#f0f921"
             ]
            ],
            "type": "histogram2d"
           }
          ],
          "histogram2dcontour": [
           {
            "colorbar": {
             "outlinewidth": 0,
             "ticks": ""
            },
            "colorscale": [
             [
              0,
              "#0d0887"
             ],
             [
              0.1111111111111111,
              "#46039f"
             ],
             [
              0.2222222222222222,
              "#7201a8"
             ],
             [
              0.3333333333333333,
              "#9c179e"
             ],
             [
              0.4444444444444444,
              "#bd3786"
             ],
             [
              0.5555555555555556,
              "#d8576b"
             ],
             [
              0.6666666666666666,
              "#ed7953"
             ],
             [
              0.7777777777777778,
              "#fb9f3a"
             ],
             [
              0.8888888888888888,
              "#fdca26"
             ],
             [
              1,
              "#f0f921"
             ]
            ],
            "type": "histogram2dcontour"
           }
          ],
          "mesh3d": [
           {
            "colorbar": {
             "outlinewidth": 0,
             "ticks": ""
            },
            "type": "mesh3d"
           }
          ],
          "parcoords": [
           {
            "line": {
             "colorbar": {
              "outlinewidth": 0,
              "ticks": ""
             }
            },
            "type": "parcoords"
           }
          ],
          "pie": [
           {
            "automargin": true,
            "type": "pie"
           }
          ],
          "scatter": [
           {
            "fillpattern": {
             "fillmode": "overlay",
             "size": 10,
             "solidity": 0.2
            },
            "type": "scatter"
           }
          ],
          "scatter3d": [
           {
            "line": {
             "colorbar": {
              "outlinewidth": 0,
              "ticks": ""
             }
            },
            "marker": {
             "colorbar": {
              "outlinewidth": 0,
              "ticks": ""
             }
            },
            "type": "scatter3d"
           }
          ],
          "scattercarpet": [
           {
            "marker": {
             "colorbar": {
              "outlinewidth": 0,
              "ticks": ""
             }
            },
            "type": "scattercarpet"
           }
          ],
          "scattergeo": [
           {
            "marker": {
             "colorbar": {
              "outlinewidth": 0,
              "ticks": ""
             }
            },
            "type": "scattergeo"
           }
          ],
          "scattergl": [
           {
            "marker": {
             "colorbar": {
              "outlinewidth": 0,
              "ticks": ""
             }
            },
            "type": "scattergl"
           }
          ],
          "scattermap": [
           {
            "marker": {
             "colorbar": {
              "outlinewidth": 0,
              "ticks": ""
             }
            },
            "type": "scattermap"
           }
          ],
          "scattermapbox": [
           {
            "marker": {
             "colorbar": {
              "outlinewidth": 0,
              "ticks": ""
             }
            },
            "type": "scattermapbox"
           }
          ],
          "scatterpolar": [
           {
            "marker": {
             "colorbar": {
              "outlinewidth": 0,
              "ticks": ""
             }
            },
            "type": "scatterpolar"
           }
          ],
          "scatterpolargl": [
           {
            "marker": {
             "colorbar": {
              "outlinewidth": 0,
              "ticks": ""
             }
            },
            "type": "scatterpolargl"
           }
          ],
          "scatterternary": [
           {
            "marker": {
             "colorbar": {
              "outlinewidth": 0,
              "ticks": ""
             }
            },
            "type": "scatterternary"
           }
          ],
          "surface": [
           {
            "colorbar": {
             "outlinewidth": 0,
             "ticks": ""
            },
            "colorscale": [
             [
              0,
              "#0d0887"
             ],
             [
              0.1111111111111111,
              "#46039f"
             ],
             [
              0.2222222222222222,
              "#7201a8"
             ],
             [
              0.3333333333333333,
              "#9c179e"
             ],
             [
              0.4444444444444444,
              "#bd3786"
             ],
             [
              0.5555555555555556,
              "#d8576b"
             ],
             [
              0.6666666666666666,
              "#ed7953"
             ],
             [
              0.7777777777777778,
              "#fb9f3a"
             ],
             [
              0.8888888888888888,
              "#fdca26"
             ],
             [
              1,
              "#f0f921"
             ]
            ],
            "type": "surface"
           }
          ],
          "table": [
           {
            "cells": {
             "fill": {
              "color": "#EBF0F8"
             },
             "line": {
              "color": "white"
             }
            },
            "header": {
             "fill": {
              "color": "#C8D4E3"
             },
             "line": {
              "color": "white"
             }
            },
            "type": "table"
           }
          ]
         },
         "layout": {
          "annotationdefaults": {
           "arrowcolor": "#2a3f5f",
           "arrowhead": 0,
           "arrowwidth": 1
          },
          "autotypenumbers": "strict",
          "coloraxis": {
           "colorbar": {
            "outlinewidth": 0,
            "ticks": ""
           }
          },
          "colorscale": {
           "diverging": [
            [
             0,
             "#8e0152"
            ],
            [
             0.1,
             "#c51b7d"
            ],
            [
             0.2,
             "#de77ae"
            ],
            [
             0.3,
             "#f1b6da"
            ],
            [
             0.4,
             "#fde0ef"
            ],
            [
             0.5,
             "#f7f7f7"
            ],
            [
             0.6,
             "#e6f5d0"
            ],
            [
             0.7,
             "#b8e186"
            ],
            [
             0.8,
             "#7fbc41"
            ],
            [
             0.9,
             "#4d9221"
            ],
            [
             1,
             "#276419"
            ]
           ],
           "sequential": [
            [
             0,
             "#0d0887"
            ],
            [
             0.1111111111111111,
             "#46039f"
            ],
            [
             0.2222222222222222,
             "#7201a8"
            ],
            [
             0.3333333333333333,
             "#9c179e"
            ],
            [
             0.4444444444444444,
             "#bd3786"
            ],
            [
             0.5555555555555556,
             "#d8576b"
            ],
            [
             0.6666666666666666,
             "#ed7953"
            ],
            [
             0.7777777777777778,
             "#fb9f3a"
            ],
            [
             0.8888888888888888,
             "#fdca26"
            ],
            [
             1,
             "#f0f921"
            ]
           ],
           "sequentialminus": [
            [
             0,
             "#0d0887"
            ],
            [
             0.1111111111111111,
             "#46039f"
            ],
            [
             0.2222222222222222,
             "#7201a8"
            ],
            [
             0.3333333333333333,
             "#9c179e"
            ],
            [
             0.4444444444444444,
             "#bd3786"
            ],
            [
             0.5555555555555556,
             "#d8576b"
            ],
            [
             0.6666666666666666,
             "#ed7953"
            ],
            [
             0.7777777777777778,
             "#fb9f3a"
            ],
            [
             0.8888888888888888,
             "#fdca26"
            ],
            [
             1,
             "#f0f921"
            ]
           ]
          },
          "colorway": [
           "#636efa",
           "#EF553B",
           "#00cc96",
           "#ab63fa",
           "#FFA15A",
           "#19d3f3",
           "#FF6692",
           "#B6E880",
           "#FF97FF",
           "#FECB52"
          ],
          "font": {
           "color": "#2a3f5f"
          },
          "geo": {
           "bgcolor": "white",
           "lakecolor": "white",
           "landcolor": "#E5ECF6",
           "showlakes": true,
           "showland": true,
           "subunitcolor": "white"
          },
          "hoverlabel": {
           "align": "left"
          },
          "hovermode": "closest",
          "mapbox": {
           "style": "light"
          },
          "paper_bgcolor": "white",
          "plot_bgcolor": "#E5ECF6",
          "polar": {
           "angularaxis": {
            "gridcolor": "white",
            "linecolor": "white",
            "ticks": ""
           },
           "bgcolor": "#E5ECF6",
           "radialaxis": {
            "gridcolor": "white",
            "linecolor": "white",
            "ticks": ""
           }
          },
          "scene": {
           "xaxis": {
            "backgroundcolor": "#E5ECF6",
            "gridcolor": "white",
            "gridwidth": 2,
            "linecolor": "white",
            "showbackground": true,
            "ticks": "",
            "zerolinecolor": "white"
           },
           "yaxis": {
            "backgroundcolor": "#E5ECF6",
            "gridcolor": "white",
            "gridwidth": 2,
            "linecolor": "white",
            "showbackground": true,
            "ticks": "",
            "zerolinecolor": "white"
           },
           "zaxis": {
            "backgroundcolor": "#E5ECF6",
            "gridcolor": "white",
            "gridwidth": 2,
            "linecolor": "white",
            "showbackground": true,
            "ticks": "",
            "zerolinecolor": "white"
           }
          },
          "shapedefaults": {
           "line": {
            "color": "#2a3f5f"
           }
          },
          "ternary": {
           "aaxis": {
            "gridcolor": "white",
            "linecolor": "white",
            "ticks": ""
           },
           "baxis": {
            "gridcolor": "white",
            "linecolor": "white",
            "ticks": ""
           },
           "bgcolor": "#E5ECF6",
           "caxis": {
            "gridcolor": "white",
            "linecolor": "white",
            "ticks": ""
           }
          },
          "title": {
           "x": 0.05
          },
          "xaxis": {
           "automargin": true,
           "gridcolor": "white",
           "linecolor": "white",
           "ticks": "",
           "title": {
            "standoff": 15
           },
           "zerolinecolor": "white",
           "zerolinewidth": 2
          },
          "yaxis": {
           "automargin": true,
           "gridcolor": "white",
           "linecolor": "white",
           "ticks": "",
           "title": {
            "standoff": 15
           },
           "zerolinecolor": "white",
           "zerolinewidth": 2
          }
         }
        },
        "title": {
         "text": "Top 10 Most Liked Books by Author"
        },
        "xaxis": {
         "anchor": "y",
         "domain": [
          0,
          1
         ],
         "title": {
          "text": "Liked Percentage"
         }
        },
        "yaxis": {
         "anchor": "x",
         "autorange": "reversed",
         "domain": [
          0,
          1
         ],
         "title": {
          "text": "Author"
         }
        }
       }
      },
      "image/png": "[encoded data removed]"
     },
     "metadata": {},
     "output_type": "display_data"
    }
   ],
   "source": [
    "fig = px.bar(\n",
    "    top_10_liked_books,\n",
    "    x=\"likedPercent\",\n",
    "    y=\"author_alone\",\n",
    "    color=\"title\", \n",
    "    orientation='h',\n",
    "    title=\"Top 10 Most Liked Books by Author\",\n",
    "    labels={\"author_alone\": \"Author\", \"likedPercent\": \"Liked Percentage\", \"title\": \"Book Title\"}\n",
    ")\n",
    "\n",
    "fig.update_layout(yaxis=dict(autorange=\"reversed\"))\n",
    "fig.show()\n"
   ]
  },
  {
   "cell_type": "markdown",
   "id": "882b0933-4e8f-4d21-ad3e-8a5186a43af5",
   "metadata": {},
   "source": [
    "Let see which book have highest BBE-Score (Best Book Ever) and there authors"
   ]
  },
  {
   "cell_type": "code",
   "execution_count": 41,
   "id": "a1295e5a-f350-450b-9996-10c9a2347b8c",
   "metadata": {},
   "outputs": [],
   "source": [
    "top_10_bbescore = df.sort_values(by=\"bbeScore\", ascending = False).head(10)"
   ]
  },
  {
   "cell_type": "code",
   "execution_count": 42,
   "id": "49d3c1ae-9428-48d0-959c-db027f35b6c3",
   "metadata": {},
   "outputs": [
    {
     "data": {
      "application/vnd.plotly.v1+json": {
       "config": {
        "plotlyServerURL": "https://plot.ly"
       },
       "data": [
        {
         "hovertemplate": "Author=suzanne collins<br>bbeScore=%{x}<br>Book Title=%{y}<extra></extra>",
         "legendgroup": "suzanne collins",
         "marker": {
          "color": "#636efa",
          "symbol": "circle"
         },
         "mode": "markers",
         "name": "suzanne collins",
         "orientation": "h",
         "showlegend": true,
         "type": "scatter",
         "x": {
          "bdata": "mK4tAA==",
          "dtype": "i4"
         },
         "xaxis": "x",
         "y": [
          "The Hunger Games"
         ],
         "yaxis": "y"
        },
        {
         "hovertemplate": "Author=j.k. rowling<br>bbeScore=%{x}<br>Book Title=%{y}<extra></extra>",
         "legendgroup": "j.k. rowling",
         "marker": {
          "color": "#EF553B",
          "symbol": "circle"
         },
         "mode": "markers",
         "name": "j.k. rowling",
         "orientation": "h",
         "showlegend": true,
         "type": "scatter",
         "x": {
          "bdata": "KSooAA==",
          "dtype": "i4"
         },
         "xaxis": "x",
         "y": [
          "Harry Potter and the Order of the Phoenix"
         ],
         "yaxis": "y"
        },
        {
         "hovertemplate": "Author=harper lee<br>bbeScore=%{x}<br>Book Title=%{y}<extra></extra>",
         "legendgroup": "harper lee",
         "marker": {
          "color": "#00cc96",
          "symbol": "circle"
         },
         "mode": "markers",
         "name": "harper lee",
         "orientation": "h",
         "showlegend": true,
         "type": "scatter",
         "x": {
          "bdata": "2qAiAA==",
          "dtype": "i4"
         },
         "xaxis": "x",
         "y": [
          "To Kill a Mockingbird"
         ],
         "yaxis": "y"
        },
        {
         "hovertemplate": "Author=jane austen<br>bbeScore=%{x}<br>Book Title=%{y}<extra></extra>",
         "legendgroup": "jane austen",
         "marker": {
          "color": "#ab63fa",
          "symbol": "circle"
         },
         "mode": "markers",
         "name": "jane austen",
         "orientation": "h",
         "showlegend": true,
         "type": "scatter",
         "x": {
          "bdata": "jEIeAA==",
          "dtype": "i4"
         },
         "xaxis": "x",
         "y": [
          "Pride and Prejudice"
         ],
         "yaxis": "y"
        },
        {
         "hovertemplate": "Author=stephenie meyer<br>bbeScore=%{x}<br>Book Title=%{y}<extra></extra>",
         "legendgroup": "stephenie meyer",
         "marker": {
          "color": "#FFA15A",
          "symbol": "circle"
         },
         "mode": "markers",
         "name": "stephenie meyer",
         "orientation": "h",
         "showlegend": true,
         "type": "scatter",
         "x": {
          "bdata": "+EQWAA==",
          "dtype": "i4"
         },
         "xaxis": "x",
         "y": [
          "Twilight"
         ],
         "yaxis": "y"
        },
        {
         "hovertemplate": "Author=markus zusak<br>bbeScore=%{x}<br>Book Title=%{y}<extra></extra>",
         "legendgroup": "markus zusak",
         "marker": {
          "color": "#19d3f3",
          "symbol": "circle"
         },
         "mode": "markers",
         "name": "markus zusak",
         "orientation": "h",
         "showlegend": true,
         "type": "scatter",
         "x": {
          "bdata": "ifIUAA==",
          "dtype": "i4"
         },
         "xaxis": "x",
         "y": [
          "The Book Thief"
         ],
         "yaxis": "y"
        },
        {
         "hovertemplate": "Author=george orwell<br>bbeScore=%{x}<br>Book Title=%{y}<extra></extra>",
         "legendgroup": "george orwell",
         "marker": {
          "color": "#FF6692",
          "symbol": "circle"
         },
         "mode": "markers",
         "name": "george orwell",
         "orientation": "h",
         "showlegend": true,
         "type": "scatter",
         "x": {
          "bdata": "t3oTAA==",
          "dtype": "i4"
         },
         "xaxis": "x",
         "y": [
          "Animal Farm"
         ],
         "yaxis": "y"
        },
        {
         "hovertemplate": "Author=c.s. lewis<br>bbeScore=%{x}<br>Book Title=%{y}<extra></extra>",
         "legendgroup": "c.s. lewis",
         "marker": {
          "color": "#B6E880",
          "symbol": "circle"
         },
         "mode": "markers",
         "name": "c.s. lewis",
         "orientation": "h",
         "showlegend": true,
         "type": "scatter",
         "x": {
          "bdata": "HOYSAA==",
          "dtype": "i4"
         },
         "xaxis": "x",
         "y": [
          "The Chronicles of Narnia"
         ],
         "yaxis": "y"
        },
        {
         "hovertemplate": "Author=j.r.r. tolkien<br>bbeScore=%{x}<br>Book Title=%{y}<extra></extra>",
         "legendgroup": "j.r.r. tolkien",
         "marker": {
          "color": "#FF97FF",
          "symbol": "circle"
         },
         "mode": "markers",
         "name": "j.r.r. tolkien",
         "orientation": "h",
         "showlegend": true,
         "type": "scatter",
         "x": {
          "bdata": "erIRAA==",
          "dtype": "i4"
         },
         "xaxis": "x",
         "y": [
          "J.R.R. Tolkien 4-Book Boxed Set: The Hobbit and The Lord of the Rings"
         ],
         "yaxis": "y"
        },
        {
         "hovertemplate": "Author=margaret mitchell<br>bbeScore=%{x}<br>Book Title=%{y}<extra></extra>",
         "legendgroup": "margaret mitchell",
         "marker": {
          "color": "#FECB52",
          "symbol": "circle"
         },
         "mode": "markers",
         "name": "margaret mitchell",
         "orientation": "h",
         "showlegend": true,
         "type": "scatter",
         "x": {
          "bdata": "9JgQAA==",
          "dtype": "i4"
         },
         "xaxis": "x",
         "y": [
          "Gone with the Wind"
         ],
         "yaxis": "y"
        }
       ],
       "layout": {
        "legend": {
         "title": {
          "text": "Author"
         },
         "tracegroupgap": 0
        },
        "template": {
         "data": {
          "bar": [
           {
            "error_x": {
             "color": "#2a3f5f"
            },
            "error_y": {
             "color": "#2a3f5f"
            },
            "marker": {
             "line": {
              "color": "#E5ECF6",
              "width": 0.5
             },
             "pattern": {
              "fillmode": "overlay",
              "size": 10,
              "solidity": 0.2
             }
            },
            "type": "bar"
           }
          ],
          "barpolar": [
           {
            "marker": {
             "line": {
              "color": "#E5ECF6",
              "width": 0.5
             },
             "pattern": {
              "fillmode": "overlay",
              "size": 10,
              "solidity": 0.2
             }
            },
            "type": "barpolar"
           }
          ],
          "carpet": [
           {
            "aaxis": {
             "endlinecolor": "#2a3f5f",
             "gridcolor": "white",
             "linecolor": "white",
             "minorgridcolor": "white",
             "startlinecolor": "#2a3f5f"
            },
            "baxis": {
             "endlinecolor": "#2a3f5f",
             "gridcolor": "white",
             "linecolor": "white",
             "minorgridcolor": "white",
             "startlinecolor": "#2a3f5f"
            },
            "type": "carpet"
           }
          ],
          "choropleth": [
           {
            "colorbar": {
             "outlinewidth": 0,
             "ticks": ""
            },
            "type": "choropleth"
           }
          ],
          "contour": [
           {
            "colorbar": {
             "outlinewidth": 0,
             "ticks": ""
            },
            "colorscale": [
             [
              0,
              "#0d0887"
             ],
             [
              0.1111111111111111,
              "#46039f"
             ],
             [
              0.2222222222222222,
              "#7201a8"
             ],
             [
              0.3333333333333333,
              "#9c179e"
             ],
             [
              0.4444444444444444,
              "#bd3786"
             ],
             [
              0.5555555555555556,
              "#d8576b"
             ],
             [
              0.6666666666666666,
              "#ed7953"
             ],
             [
              0.7777777777777778,
              "#fb9f3a"
             ],
             [
              0.8888888888888888,
              "#fdca26"
             ],
             [
              1,
              "#f0f921"
             ]
            ],
            "type": "contour"
           }
          ],
          "contourcarpet": [
           {
            "colorbar": {
             "outlinewidth": 0,
             "ticks": ""
            },
            "type": "contourcarpet"
           }
          ],
          "heatmap": [
           {
            "colorbar": {
             "outlinewidth": 0,
             "ticks": ""
            },
            "colorscale": [
             [
              0,
              "#0d0887"
             ],
             [
              0.1111111111111111,
              "#46039f"
             ],
             [
              0.2222222222222222,
              "#7201a8"
             ],
             [
              0.3333333333333333,
              "#9c179e"
             ],
             [
              0.4444444444444444,
              "#bd3786"
             ],
             [
              0.5555555555555556,
              "#d8576b"
             ],
             [
              0.6666666666666666,
              "#ed7953"
             ],
             [
              0.7777777777777778,
              "#fb9f3a"
             ],
             [
              0.8888888888888888,
              "#fdca26"
             ],
             [
              1,
              "#f0f921"
             ]
            ],
            "type": "heatmap"
           }
          ],
          "histogram": [
           {
            "marker": {
             "pattern": {
              "fillmode": "overlay",
              "size": 10,
              "solidity": 0.2
             }
            },
            "type": "histogram"
           }
          ],
          "histogram2d": [
           {
            "colorbar": {
             "outlinewidth": 0,
             "ticks": ""
            },
            "colorscale": [
             [
              0,
              "#0d0887"
             ],
             [
              0.1111111111111111,
              "#46039f"
             ],
             [
              0.2222222222222222,
              "#7201a8"
             ],
             [
              0.3333333333333333,
              "#9c179e"
             ],
             [
              0.4444444444444444,
              "#bd3786"
             ],
             [
              0.5555555555555556,
              "#d8576b"
             ],
             [
              0.6666666666666666,
              "#ed7953"
             ],
             [
              0.7777777777777778,
              "#fb9f3a"
             ],
             [
              0.8888888888888888,
              "#fdca26"
             ],
             [
              1,
              "#f0f921"
             ]
            ],
            "type": "histogram2d"
           }
          ],
          "histogram2dcontour": [
           {
            "colorbar": {
             "outlinewidth": 0,
             "ticks": ""
            },
            "colorscale": [
             [
              0,
              "#0d0887"
             ],
             [
              0.1111111111111111,
              "#46039f"
             ],
             [
              0.2222222222222222,
              "#7201a8"
             ],
             [
              0.3333333333333333,
              "#9c179e"
             ],
             [
              0.4444444444444444,
              "#bd3786"
             ],
             [
              0.5555555555555556,
              "#d8576b"
             ],
             [
              0.6666666666666666,
              "#ed7953"
             ],
             [
              0.7777777777777778,
              "#fb9f3a"
             ],
             [
              0.8888888888888888,
              "#fdca26"
             ],
             [
              1,
              "#f0f921"
             ]
            ],
            "type": "histogram2dcontour"
           }
          ],
          "mesh3d": [
           {
            "colorbar": {
             "outlinewidth": 0,
             "ticks": ""
            },
            "type": "mesh3d"
           }
          ],
          "parcoords": [
           {
            "line": {
             "colorbar": {
              "outlinewidth": 0,
              "ticks": ""
             }
            },
            "type": "parcoords"
           }
          ],
          "pie": [
           {
            "automargin": true,
            "type": "pie"
           }
          ],
          "scatter": [
           {
            "fillpattern": {
             "fillmode": "overlay",
             "size": 10,
             "solidity": 0.2
            },
            "type": "scatter"
           }
          ],
          "scatter3d": [
           {
            "line": {
             "colorbar": {
              "outlinewidth": 0,
              "ticks": ""
             }
            },
            "marker": {
             "colorbar": {
              "outlinewidth": 0,
              "ticks": ""
             }
            },
            "type": "scatter3d"
           }
          ],
          "scattercarpet": [
           {
            "marker": {
             "colorbar": {
              "outlinewidth": 0,
              "ticks": ""
             }
            },
            "type": "scattercarpet"
           }
          ],
          "scattergeo": [
           {
            "marker": {
             "colorbar": {
              "outlinewidth": 0,
              "ticks": ""
             }
            },
            "type": "scattergeo"
           }
          ],
          "scattergl": [
           {
            "marker": {
             "colorbar": {
              "outlinewidth": 0,
              "ticks": ""
             }
            },
            "type": "scattergl"
           }
          ],
          "scattermap": [
           {
            "marker": {
             "colorbar": {
              "outlinewidth": 0,
              "ticks": ""
             }
            },
            "type": "scattermap"
           }
          ],
          "scattermapbox": [
           {
            "marker": {
             "colorbar": {
              "outlinewidth": 0,
              "ticks": ""
             }
            },
            "type": "scattermapbox"
           }
          ],
          "scatterpolar": [
           {
            "marker": {
             "colorbar": {
              "outlinewidth": 0,
              "ticks": ""
             }
            },
            "type": "scatterpolar"
           }
          ],
          "scatterpolargl": [
           {
            "marker": {
             "colorbar": {
              "outlinewidth": 0,
              "ticks": ""
             }
            },
            "type": "scatterpolargl"
           }
          ],
          "scatterternary": [
           {
            "marker": {
             "colorbar": {
              "outlinewidth": 0,
              "ticks": ""
             }
            },
            "type": "scatterternary"
           }
          ],
          "surface": [
           {
            "colorbar": {
             "outlinewidth": 0,
             "ticks": ""
            },
            "colorscale": [
             [
              0,
              "#0d0887"
             ],
             [
              0.1111111111111111,
              "#46039f"
             ],
             [
              0.2222222222222222,
              "#7201a8"
             ],
             [
              0.3333333333333333,
              "#9c179e"
             ],
             [
              0.4444444444444444,
              "#bd3786"
             ],
             [
              0.5555555555555556,
              "#d8576b"
             ],
             [
              0.6666666666666666,
              "#ed7953"
             ],
             [
              0.7777777777777778,
              "#fb9f3a"
             ],
             [
              0.8888888888888888,
              "#fdca26"
             ],
             [
              1,
              "#f0f921"
             ]
            ],
            "type": "surface"
           }
          ],
          "table": [
           {
            "cells": {
             "fill": {
              "color": "#EBF0F8"
             },
             "line": {
              "color": "white"
             }
            },
            "header": {
             "fill": {
              "color": "#C8D4E3"
             },
             "line": {
              "color": "white"
             }
            },
            "type": "table"
           }
          ]
         },
         "layout": {
          "annotationdefaults": {
           "arrowcolor": "#2a3f5f",
           "arrowhead": 0,
           "arrowwidth": 1
          },
          "autotypenumbers": "strict",
          "coloraxis": {
           "colorbar": {
            "outlinewidth": 0,
            "ticks": ""
           }
          },
          "colorscale": {
           "diverging": [
            [
             0,
             "#8e0152"
            ],
            [
             0.1,
             "#c51b7d"
            ],
            [
             0.2,
             "#de77ae"
            ],
            [
             0.3,
             "#f1b6da"
            ],
            [
             0.4,
             "#fde0ef"
            ],
            [
             0.5,
             "#f7f7f7"
            ],
            [
             0.6,
             "#e6f5d0"
            ],
            [
             0.7,
             "#b8e186"
            ],
            [
             0.8,
             "#7fbc41"
            ],
            [
             0.9,
             "#4d9221"
            ],
            [
             1,
             "#276419"
            ]
           ],
           "sequential": [
            [
             0,
             "#0d0887"
            ],
            [
             0.1111111111111111,
             "#46039f"
            ],
            [
             0.2222222222222222,
             "#7201a8"
            ],
            [
             0.3333333333333333,
             "#9c179e"
            ],
            [
             0.4444444444444444,
             "#bd3786"
            ],
            [
             0.5555555555555556,
             "#d8576b"
            ],
            [
             0.6666666666666666,
             "#ed7953"
            ],
            [
             0.7777777777777778,
             "#fb9f3a"
            ],
            [
             0.8888888888888888,
             "#fdca26"
            ],
            [
             1,
             "#f0f921"
            ]
           ],
           "sequentialminus": [
            [
             0,
             "#0d0887"
            ],
            [
             0.1111111111111111,
             "#46039f"
            ],
            [
             0.2222222222222222,
             "#7201a8"
            ],
            [
             0.3333333333333333,
             "#9c179e"
            ],
            [
             0.4444444444444444,
             "#bd3786"
            ],
            [
             0.5555555555555556,
             "#d8576b"
            ],
            [
             0.6666666666666666,
             "#ed7953"
            ],
            [
             0.7777777777777778,
             "#fb9f3a"
            ],
            [
             0.8888888888888888,
             "#fdca26"
            ],
            [
             1,
             "#f0f921"
            ]
           ]
          },
          "colorway": [
           "#636efa",
           "#EF553B",
           "#00cc96",
           "#ab63fa",
           "#FFA15A",
           "#19d3f3",
           "#FF6692",
           "#B6E880",
           "#FF97FF",
           "#FECB52"
          ],
          "font": {
           "color": "#2a3f5f"
          },
          "geo": {
           "bgcolor": "white",
           "lakecolor": "white",
           "landcolor": "#E5ECF6",
           "showlakes": true,
           "showland": true,
           "subunitcolor": "white"
          },
          "hoverlabel": {
           "align": "left"
          },
          "hovermode": "closest",
          "mapbox": {
           "style": "light"
          },
          "paper_bgcolor": "white",
          "plot_bgcolor": "#E5ECF6",
          "polar": {
           "angularaxis": {
            "gridcolor": "white",
            "linecolor": "white",
            "ticks": ""
           },
           "bgcolor": "#E5ECF6",
           "radialaxis": {
            "gridcolor": "white",
            "linecolor": "white",
            "ticks": ""
           }
          },
          "scene": {
           "xaxis": {
            "backgroundcolor": "#E5ECF6",
            "gridcolor": "white",
            "gridwidth": 2,
            "linecolor": "white",
            "showbackground": true,
            "ticks": "",
            "zerolinecolor": "white"
           },
           "yaxis": {
            "backgroundcolor": "#E5ECF6",
            "gridcolor": "white",
            "gridwidth": 2,
            "linecolor": "white",
            "showbackground": true,
            "ticks": "",
            "zerolinecolor": "white"
           },
           "zaxis": {
            "backgroundcolor": "#E5ECF6",
            "gridcolor": "white",
            "gridwidth": 2,
            "linecolor": "white",
            "showbackground": true,
            "ticks": "",
            "zerolinecolor": "white"
           }
          },
          "shapedefaults": {
           "line": {
            "color": "#2a3f5f"
           }
          },
          "ternary": {
           "aaxis": {
            "gridcolor": "white",
            "linecolor": "white",
            "ticks": ""
           },
           "baxis": {
            "gridcolor": "white",
            "linecolor": "white",
            "ticks": ""
           },
           "bgcolor": "#E5ECF6",
           "caxis": {
            "gridcolor": "white",
            "linecolor": "white",
            "ticks": ""
           }
          },
          "title": {
           "x": 0.05
          },
          "xaxis": {
           "automargin": true,
           "gridcolor": "white",
           "linecolor": "white",
           "ticks": "",
           "title": {
            "standoff": 15
           },
           "zerolinecolor": "white",
           "zerolinewidth": 2
          },
          "yaxis": {
           "automargin": true,
           "gridcolor": "white",
           "linecolor": "white",
           "ticks": "",
           "title": {
            "standoff": 15
           },
           "zerolinecolor": "white",
           "zerolinewidth": 2
          }
         }
        },
        "title": {
         "text": "Top 10 Most Liked Books by Author"
        },
        "xaxis": {
         "anchor": "y",
         "domain": [
          0,
          1
         ],
         "title": {
          "text": "bbeScore"
         }
        },
        "yaxis": {
         "anchor": "x",
         "autorange": "reversed",
         "domain": [
          0,
          1
         ],
         "title": {
          "text": "Book Title"
         }
        }
       }
      },
      "image/png": "[encoded data removed]"
     },
     "metadata": {},
     "output_type": "display_data"
    }
   ],
   "source": [
    "fig = px.scatter(\n",
    "    top_10_bbescore,\n",
    "    x=\"bbeScore\",\n",
    "    y=\"title\",\n",
    "    color=\"author_alone\", \n",
    "    orientation='h',\n",
    "    title=\"Top 10 Most Liked Books by Author\",\n",
    "    labels={\"author_alone\" : \"Author\", \"BBE-Score\" : \"bbeScore\", \"title\" : \"Book Title\"}\n",
    ")\n",
    "\n",
    "fig.update_layout(\n",
    "    yaxis=dict(autorange=\"reversed\"),\n",
    ")\n",
    "fig.show()\n"
   ]
  },
  {
   "cell_type": "markdown",
   "id": "8a6aa7c0-9b6d-4300-ac0c-6ae115d83a69",
   "metadata": {},
   "source": [
    "Now lets find which book has the most rating "
   ]
  },
  {
   "cell_type": "code",
   "execution_count": 43,
   "id": "a1f9d42c-54e2-43f6-bc1e-a760c6cf2340",
   "metadata": {},
   "outputs": [],
   "source": [
    "most_rating = df.sort_values(by = \"rating\", ascending = False).head(10)"
   ]
  },
  {
   "cell_type": "code",
   "execution_count": 44,
   "id": "4ff17bf4-79b1-44d7-bbda-e211f3c0d788",
   "metadata": {},
   "outputs": [
    {
     "data": {
      "text/html": [
       "<div>\n",
       "<style scoped>\n",
       "    .dataframe tbody tr th:only-of-type {\n",
       "        vertical-align: middle;\n",
       "    }\n",
       "\n",
       "    .dataframe tbody tr th {\n",
       "        vertical-align: top;\n",
       "    }\n",
       "\n",
       "    .dataframe thead th {\n",
       "        text-align: right;\n",
       "    }\n",
       "</style>\n",
       "<table border=\"1\" class=\"dataframe\">\n",
       "  <thead>\n",
       "    <tr style=\"text-align: right;\">\n",
       "      <th></th>\n",
       "      <th>title</th>\n",
       "      <th>author</th>\n",
       "      <th>rating</th>\n",
       "      <th>description</th>\n",
       "      <th>language</th>\n",
       "      <th>genres</th>\n",
       "      <th>pages</th>\n",
       "      <th>numRatings</th>\n",
       "      <th>likedPercent</th>\n",
       "      <th>bbeScore</th>\n",
       "      <th>bbeVotes</th>\n",
       "      <th>author_alone</th>\n",
       "    </tr>\n",
       "  </thead>\n",
       "  <tbody>\n",
       "    <tr>\n",
       "      <th>11562</th>\n",
       "      <td>The Christian Self-Formation: Anthropology of Becoming</td>\n",
       "      <td>Krzysztof Stanibula</td>\n",
       "      <td>5.0</td>\n",
       "      <td>NA</td>\n",
       "      <td>Unknow</td>\n",
       "      <td></td>\n",
       "      <td>444</td>\n",
       "      <td>2</td>\n",
       "      <td>100.0</td>\n",
       "      <td>198</td>\n",
       "      <td>2</td>\n",
       "      <td>krzysztof stanibula</td>\n",
       "    </tr>\n",
       "    <tr>\n",
       "      <th>11561</th>\n",
       "      <td>Addressed To Her: A Short Story</td>\n",
       "      <td>Granthana Sinha (Goodreads Author)</td>\n",
       "      <td>5.0</td>\n",
       "      <td>Being the sole bearer of the truth, and responsible for delivering a package of grave importance, Harshvardhan Singh travels to the address of the addressee, only to find himself in the midst of a celebratory household. Knowing his very life hangs by a fragile thread, will he be able to deliver the package in time, before everything he has ever known obliterates into nothingness?</td>\n",
       "      <td>Unknow</td>\n",
       "      <td></td>\n",
       "      <td>32</td>\n",
       "      <td>5</td>\n",
       "      <td>100.0</td>\n",
       "      <td>198</td>\n",
       "      <td>2</td>\n",
       "      <td>granthana sinha</td>\n",
       "    </tr>\n",
       "    <tr>\n",
       "      <th>15446</th>\n",
       "      <td>Where Do I Begin?</td>\n",
       "      <td>Terri Ann Armstrong (Goodreads Author)</td>\n",
       "      <td>5.0</td>\n",
       "      <td>Where Do I Begin? is a book about my struggles with weight loss. I have struggled all my life, even from the time I was a young child. While I feel weight loss has little, if anything, to do with food directly, I do feel it has everything to do with self-esteem and self-worth. I focus largely on improving your self-esteem and finding ways to cheer yourself on in your fight against weight gain. Itas a difficult line the overweight person walks. People who have never struggled with this monster, or those who donat understand what itas all about, will come away with a better understanding of what it truly means to be overweight. This book will shed some needed light on this overwhelming problem. Americans today are heavier than ever, and it often begins in childhood. This is a book for parents, friends and children alike.</td>\n",
       "      <td>English</td>\n",
       "      <td></td>\n",
       "      <td>110</td>\n",
       "      <td>1</td>\n",
       "      <td>100.0</td>\n",
       "      <td>160</td>\n",
       "      <td>2</td>\n",
       "      <td>terri ann armstrong</td>\n",
       "    </tr>\n",
       "    <tr>\n",
       "      <th>20893</th>\n",
       "      <td>Angskandh</td>\n",
       "      <td>Manoj Pandey</td>\n",
       "      <td>5.0</td>\n",
       "      <td>Fiction</td>\n",
       "      <td>Unknow</td>\n",
       "      <td></td>\n",
       "      <td>200</td>\n",
       "      <td>4</td>\n",
       "      <td>100.0</td>\n",
       "      <td>100</td>\n",
       "      <td>1</td>\n",
       "      <td>manoj pandey</td>\n",
       "    </tr>\n",
       "    <tr>\n",
       "      <th>20850</th>\n",
       "      <td>The Omnidoxy</td>\n",
       "      <td>Cometan (Goodreads Author)</td>\n",
       "      <td>5.0</td>\n",
       "      <td>The Omnidoxy, solely authored by the philosopher Cometan, is the founding treatise over one million words in total length forming the conceptual, orientational, and structural foundations of Astronism. Partitioned into twelve disquisitions, each of which are further divided into hundreds of discourses, which are themselves titled by those which are known as rubrals, The Omnidoxy has been codified according to a unique writing structure known as insentence. The Omnidoxy not only forms the foundations of Astronism, but it remains the primary contributor to the wider Astronic philosophical tradition which encompasses the philosophy of Astronism. Introducing brand new philosophical concepts such as cosmocentricity, reascensionism, transcensionism, and sentientism, The Omnidoxy remains the principal signifier of a new era in philosophy. The Omnidoxy births hundreds of new belief orientations, schools of thought, neologisms, disciplines of study, theories, and concepts which, when combined and considered collectively, have formed the basis of Astronism. The authorship of The Omnidoxy rests with the single individual philosopher, Cometan, which is the mononym for the author of The Original Jesse Millette Series who began writing The Omnidoxy at the age of seventeen driven by what he terms as personal inspiration. The historical origination of The Omnidoxy rests in its authorship by Brandon Taylorian during early 21st century England, specifically in the northern county of Lancashire. Like in all textual criticism, the timing and location of the codification of The Omnidoxy is integral to understanding why and how it was written, especially by considering the influential factors impacting Taylorian during his construction of the text, particularly the cultural, political, religious, and social contexts of Taylorian's personal life and of wider society at the time. This forms an important branch of study within omnidoxicology known as omnidoxical criticism, or omnidoxical exegesis in which scholars study and investigate The Omnidoxy in order to discern conclusive judgements inspired by how, where, why, by whom, for whom, and in what circumstances The Omnidoxy was written.</td>\n",
       "      <td>English</td>\n",
       "      <td></td>\n",
       "      <td>3357</td>\n",
       "      <td>3</td>\n",
       "      <td>100.0</td>\n",
       "      <td>100</td>\n",
       "      <td>1</td>\n",
       "      <td>cometan</td>\n",
       "    </tr>\n",
       "    <tr>\n",
       "      <th>20887</th>\n",
       "      <td>Teddy Looks for Something Special</td>\n",
       "      <td>Misty Jones (Goodreads Author)</td>\n",
       "      <td>5.0</td>\n",
       "      <td>Join the adventure as Teddy, a lonely stuffed bear, ventures out into the big scary world to find something to make him special like all the other toys. Tag along as he meets different characters and finally makes a friend when he meets a plucky self-confident bunny who teaches him that everyone, even a small brown teddy bear, is special in their own way.</td>\n",
       "      <td>Unknow</td>\n",
       "      <td></td>\n",
       "      <td>19</td>\n",
       "      <td>2</td>\n",
       "      <td>100.0</td>\n",
       "      <td>100</td>\n",
       "      <td>1</td>\n",
       "      <td>misty jones</td>\n",
       "    </tr>\n",
       "    <tr>\n",
       "      <th>18616</th>\n",
       "      <td>Cherries Over Quicksand Romance Secrets Laughter Wit Timely Tales</td>\n",
       "      <td>Rhonda Ricardo (Goodreads Author)</td>\n",
       "      <td>5.0</td>\n",
       "      <td>NA</td>\n",
       "      <td>English</td>\n",
       "      <td></td>\n",
       "      <td>100</td>\n",
       "      <td>4</td>\n",
       "      <td>100.0</td>\n",
       "      <td>100</td>\n",
       "      <td>1</td>\n",
       "      <td>rhonda ricardo</td>\n",
       "    </tr>\n",
       "    <tr>\n",
       "      <th>20883</th>\n",
       "      <td>Broken Promises: The Suspenseful Sequel To The Novel, I, Beauty</td>\n",
       "      <td>Lashone Vs Shaneek (Goodreads Author)</td>\n",
       "      <td>5.0</td>\n",
       "      <td>For Beauty, all she wants is for her life to go back to normal. However, life has different plans for her.With her estranged husband, Caleb's return, she is struggling with the idea of him faking his own death. Feeling hurt and betrayed, she is not sure who she can trust anymore. Now, everything has turned upside down as an unexpected enemy creates another problem for Beauty.As her younger sister, Kyra, is abducted, Beauty and Caleb, along with Kyra's boyfriend Luke, and best friends Trace and Shy, will have to put their differences aside as they work together to find Kyra. Only, finding out who is behind Kyra's abduction won't be an easy task. With her previous mental instability due to previous violent events, the group has no idea what is in store for them. Discover this suspenseful sequel to the novel, I, Beauty.</td>\n",
       "      <td>Unknow</td>\n",
       "      <td></td>\n",
       "      <td>202</td>\n",
       "      <td>28</td>\n",
       "      <td>100.0</td>\n",
       "      <td>100</td>\n",
       "      <td>1</td>\n",
       "      <td>lashone vs shaneek</td>\n",
       "    </tr>\n",
       "    <tr>\n",
       "      <th>20828</th>\n",
       "      <td>Who I Am In Christ: 59 Truths To Build Your Identity in Christ</td>\n",
       "      <td>William Dika</td>\n",
       "      <td>5.0</td>\n",
       "      <td>Discover your identity in Christ through some Biblical verses. Knowing your identity is critical and an important element for your growth in Christ. Confess whom God says you are on a daily basis and see your life being transformed by the living Word of the Almighty God.</td>\n",
       "      <td>Unknow</td>\n",
       "      <td></td>\n",
       "      <td>184</td>\n",
       "      <td>3</td>\n",
       "      <td>100.0</td>\n",
       "      <td>100</td>\n",
       "      <td>1</td>\n",
       "      <td>william dika</td>\n",
       "    </tr>\n",
       "    <tr>\n",
       "      <th>18589</th>\n",
       "      <td>The Champlevé Gallery</td>\n",
       "      <td>William Masero (Goodreads Author)</td>\n",
       "      <td>5.0</td>\n",
       "      <td>Welcome to the grandiose art world of gallery owner Casper Kercheval as he struggles to keep together the out of control artist Octavius, while battling to hold his position of power against his archrival, gallery owner Darius Valley. On the fringe is underground gallery owner Molly Berkeley and Heights, an artist well beneath the radar. These five create a quintet of sophistication, genius, guts, and ruthlessness written in a glittering, exquisite literary style of impeccable taste.</td>\n",
       "      <td>English</td>\n",
       "      <td></td>\n",
       "      <td>176</td>\n",
       "      <td>2</td>\n",
       "      <td>100.0</td>\n",
       "      <td>100</td>\n",
       "      <td>1</td>\n",
       "      <td>william masero</td>\n",
       "    </tr>\n",
       "  </tbody>\n",
       "</table>\n",
       "</div>"
      ],
      "text/plain": [
       "                                                                   title  \\\n",
       "11562             The Christian Self-Formation: Anthropology of Becoming   \n",
       "11561                                    Addressed To Her: A Short Story   \n",
       "15446                                                  Where Do I Begin?   \n",
       "20893                                                          Angskandh   \n",
       "20850                                                       The Omnidoxy   \n",
       "20887                                  Teddy Looks for Something Special   \n",
       "18616  Cherries Over Quicksand Romance Secrets Laughter Wit Timely Tales   \n",
       "20883    Broken Promises: The Suspenseful Sequel To The Novel, I, Beauty   \n",
       "20828     Who I Am In Christ: 59 Truths To Build Your Identity in Christ   \n",
       "18589                                              The Champlevé Gallery   \n",
       "\n",
       "                                       author  rating  \\\n",
       "11562                     Krzysztof Stanibula     5.0   \n",
       "11561      Granthana Sinha (Goodreads Author)     5.0   \n",
       "15446  Terri Ann Armstrong (Goodreads Author)     5.0   \n",
       "20893                            Manoj Pandey     5.0   \n",
       "20850              Cometan (Goodreads Author)     5.0   \n",
       "20887          Misty Jones (Goodreads Author)     5.0   \n",
       "18616       Rhonda Ricardo (Goodreads Author)     5.0   \n",
       "20883   Lashone Vs Shaneek (Goodreads Author)     5.0   \n",
       "20828                            William Dika     5.0   \n",
       "18589       William Masero (Goodreads Author)     5.0   \n",
       "\n",
       "                                                                                                                                                                                                                                                                                                                                                                                                                                                                                                                                                                                                                                                                                                                                                                                                                                                                                                                                                                                                                                                                                                                                                                                                                                                                                                                                                                                                                                                                                                                                                                                                                                                                                                                                                                                                                                                                                                                                                                                                                                                                                                                                                                                                                                                                                     description  \\\n",
       "11562                                                                                                                                                                                                                                                                                                                                                                                                                                                                                                                                                                                                                                                                                                                                                                                                                                                                                                                                                                                                                                                                                                                                                                                                                                                                                                                                                                                                                                                                                                                                                                                                                                                                                                                                                                                                                                                                                                                                                                                                                                                                                                                                                                                                                                                                                         NA   \n",
       "11561                                                                                                                                                                                                                                                                                                                                                                                                                                                                                                                                                                                                                                                                                                                                                                                                                                                                                                                                                                                                                                                                                                                                                                                                                                                                                                                                                                                                                                                                                                                                                                                                                                                                                                                                                                                                                                                                                             Being the sole bearer of the truth, and responsible for delivering a package of grave importance, Harshvardhan Singh travels to the address of the addressee, only to find himself in the midst of a celebratory household. Knowing his very life hangs by a fragile thread, will he be able to deliver the package in time, before everything he has ever known obliterates into nothingness?   \n",
       "15446                                                                                                                                                                                                                                                                                                                                                                                                                                                                                                                                                                                                                                                                                                                                                                                                                                                                                                                                                                                                                                                                                                                                                                                                                                                                                                                                                                                                                             Where Do I Begin? is a book about my struggles with weight loss. I have struggled all my life, even from the time I was a young child. While I feel weight loss has little, if anything, to do with food directly, I do feel it has everything to do with self-esteem and self-worth. I focus largely on improving your self-esteem and finding ways to cheer yourself on in your fight against weight gain. Itas a difficult line the overweight person walks. People who have never struggled with this monster, or those who donat understand what itas all about, will come away with a better understanding of what it truly means to be overweight. This book will shed some needed light on this overwhelming problem. Americans today are heavier than ever, and it often begins in childhood. This is a book for parents, friends and children alike.   \n",
       "20893                                                                                                                                                                                                                                                                                                                                                                                                                                                                                                                                                                                                                                                                                                                                                                                                                                                                                                                                                                                                                                                                                                                                                                                                                                                                                                                                                                                                                                                                                                                                                                                                                                                                                                                                                                                                                                                                                                                                                                                                                                                                                                                                                                                                                                                                                    Fiction   \n",
       "20850  The Omnidoxy, solely authored by the philosopher Cometan, is the founding treatise over one million words in total length forming the conceptual, orientational, and structural foundations of Astronism. Partitioned into twelve disquisitions, each of which are further divided into hundreds of discourses, which are themselves titled by those which are known as rubrals, The Omnidoxy has been codified according to a unique writing structure known as insentence. The Omnidoxy not only forms the foundations of Astronism, but it remains the primary contributor to the wider Astronic philosophical tradition which encompasses the philosophy of Astronism. Introducing brand new philosophical concepts such as cosmocentricity, reascensionism, transcensionism, and sentientism, The Omnidoxy remains the principal signifier of a new era in philosophy. The Omnidoxy births hundreds of new belief orientations, schools of thought, neologisms, disciplines of study, theories, and concepts which, when combined and considered collectively, have formed the basis of Astronism. The authorship of The Omnidoxy rests with the single individual philosopher, Cometan, which is the mononym for the author of The Original Jesse Millette Series who began writing The Omnidoxy at the age of seventeen driven by what he terms as personal inspiration. The historical origination of The Omnidoxy rests in its authorship by Brandon Taylorian during early 21st century England, specifically in the northern county of Lancashire. Like in all textual criticism, the timing and location of the codification of The Omnidoxy is integral to understanding why and how it was written, especially by considering the influential factors impacting Taylorian during his construction of the text, particularly the cultural, political, religious, and social contexts of Taylorian's personal life and of wider society at the time. This forms an important branch of study within omnidoxicology known as omnidoxical criticism, or omnidoxical exegesis in which scholars study and investigate The Omnidoxy in order to discern conclusive judgements inspired by how, where, why, by whom, for whom, and in what circumstances The Omnidoxy was written.   \n",
       "20887                                                                                                                                                                                                                                                                                                                                                                                                                                                                                                                                                                                                                                                                                                                                                                                                                                                                                                                                                                                                                                                                                                                                                                                                                                                                                                                                                                                                                                                                                                                                                                                                                                                                                                                                                                                                                                                                                                                      Join the adventure as Teddy, a lonely stuffed bear, ventures out into the big scary world to find something to make him special like all the other toys. Tag along as he meets different characters and finally makes a friend when he meets a plucky self-confident bunny who teaches him that everyone, even a small brown teddy bear, is special in their own way.   \n",
       "18616                                                                                                                                                                                                                                                                                                                                                                                                                                                                                                                                                                                                                                                                                                                                                                                                                                                                                                                                                                                                                                                                                                                                                                                                                                                                                                                                                                                                                                                                                                                                                                                                                                                                                                                                                                                                                                                                                                                                                                                                                                                                                                                                                                                                                                                                                         NA   \n",
       "20883                                                                                                                                                                                                                                                                                                                                                                                                                                                                                                                                                                                                                                                                                                                                                                                                                                                                                                                                                                                                                                                                                                                                                                                                                                                                                                                                                                                                                               For Beauty, all she wants is for her life to go back to normal. However, life has different plans for her.With her estranged husband, Caleb's return, she is struggling with the idea of him faking his own death. Feeling hurt and betrayed, she is not sure who she can trust anymore. Now, everything has turned upside down as an unexpected enemy creates another problem for Beauty.As her younger sister, Kyra, is abducted, Beauty and Caleb, along with Kyra's boyfriend Luke, and best friends Trace and Shy, will have to put their differences aside as they work together to find Kyra. Only, finding out who is behind Kyra's abduction won't be an easy task. With her previous mental instability due to previous violent events, the group has no idea what is in store for them. Discover this suspenseful sequel to the novel, I, Beauty.   \n",
       "20828                                                                                                                                                                                                                                                                                                                                                                                                                                                                                                                                                                                                                                                                                                                                                                                                                                                                                                                                                                                                                                                                                                                                                                                                                                                                                                                                                                                                                                                                                                                                                                                                                                                                                                                                                                                                                                                                                                                                                                                                            Discover your identity in Christ through some Biblical verses. Knowing your identity is critical and an important element for your growth in Christ. Confess whom God says you are on a daily basis and see your life being transformed by the living Word of the Almighty God.   \n",
       "18589                                                                                                                                                                                                                                                                                                                                                                                                                                                                                                                                                                                                                                                                                                                                                                                                                                                                                                                                                                                                                                                                                                                                                                                                                                                                                                                                                                                                                                                                                                                                                                                                                                                                                                                                                                                   Welcome to the grandiose art world of gallery owner Casper Kercheval as he struggles to keep together the out of control artist Octavius, while battling to hold his position of power against his archrival, gallery owner Darius Valley. On the fringe is underground gallery owner Molly Berkeley and Heights, an artist well beneath the radar. These five create a quintet of sophistication, genius, guts, and ruthlessness written in a glittering, exquisite literary style of impeccable taste.   \n",
       "\n",
       "      language genres pages  numRatings  likedPercent  bbeScore  bbeVotes  \\\n",
       "11562   Unknow          444           2         100.0       198         2   \n",
       "11561   Unknow           32           5         100.0       198         2   \n",
       "15446  English          110           1         100.0       160         2   \n",
       "20893   Unknow          200           4         100.0       100         1   \n",
       "20850  English         3357           3         100.0       100         1   \n",
       "20887   Unknow           19           2         100.0       100         1   \n",
       "18616  English          100           4         100.0       100         1   \n",
       "20883   Unknow          202          28         100.0       100         1   \n",
       "20828   Unknow          184           3         100.0       100         1   \n",
       "18589  English          176           2         100.0       100         1   \n",
       "\n",
       "              author_alone  \n",
       "11562  krzysztof stanibula  \n",
       "11561      granthana sinha  \n",
       "15446  terri ann armstrong  \n",
       "20893         manoj pandey  \n",
       "20850              cometan  \n",
       "20887          misty jones  \n",
       "18616       rhonda ricardo  \n",
       "20883   lashone vs shaneek  \n",
       "20828         william dika  \n",
       "18589       william masero  "
      ]
     },
     "execution_count": 44,
     "metadata": {},
     "output_type": "execute_result"
    }
   ],
   "source": [
    "most_rating "
   ]
  },
  {
   "cell_type": "code",
   "execution_count": 45,
   "id": "7cf2fc3b-5bb9-4db0-865f-3ea28e6436c7",
   "metadata": {},
   "outputs": [
    {
     "data": {
      "application/vnd.plotly.v1+json": {
       "config": {
        "plotlyServerURL": "https://plot.ly"
       },
       "data": [
        {
         "alignmentgroup": "True",
         "hovertemplate": "Books Title=The Christian Self-Formation: Anthropology of Becoming<br>Rating=%{x}<br>Author=%{y}<extra></extra>",
         "legendgroup": "The Christian Self-Formation: Anthropology of Becoming",
         "marker": {
          "color": "#636efa"
         },
         "name": "The Christian Self-Formation: Anthropology of Becoming",
         "notched": false,
         "offsetgroup": "The Christian Self-Formation: Anthropology of Becoming",
         "orientation": "v",
         "showlegend": true,
         "type": "box",
         "x": {
          "bdata": "AAAAAAAAFEA=",
          "dtype": "f8"
         },
         "x0": " ",
         "xaxis": "x",
         "y": [
          "krzysztof stanibula"
         ],
         "y0": " ",
         "yaxis": "y"
        },
        {
         "alignmentgroup": "True",
         "hovertemplate": "Books Title=Addressed To Her: A Short Story<br>Rating=%{x}<br>Author=%{y}<extra></extra>",
         "legendgroup": "Addressed To Her: A Short Story",
         "marker": {
          "color": "#EF553B"
         },
         "name": "Addressed To Her: A Short Story",
         "notched": false,
         "offsetgroup": "Addressed To Her: A Short Story",
         "orientation": "v",
         "showlegend": true,
         "type": "box",
         "x": {
          "bdata": "AAAAAAAAFEA=",
          "dtype": "f8"
         },
         "x0": " ",
         "xaxis": "x",
         "y": [
          "granthana sinha"
         ],
         "y0": " ",
         "yaxis": "y"
        },
        {
         "alignmentgroup": "True",
         "hovertemplate": "Books Title=Where Do I Begin?<br>Rating=%{x}<br>Author=%{y}<extra></extra>",
         "legendgroup": "Where Do I Begin?",
         "marker": {
          "color": "#00cc96"
         },
         "name": "Where Do I Begin?",
         "notched": false,
         "offsetgroup": "Where Do I Begin?",
         "orientation": "v",
         "showlegend": true,
         "type": "box",
         "x": {
          "bdata": "AAAAAAAAFEA=",
          "dtype": "f8"
         },
         "x0": " ",
         "xaxis": "x",
         "y": [
          "terri ann armstrong"
         ],
         "y0": " ",
         "yaxis": "y"
        },
        {
         "alignmentgroup": "True",
         "hovertemplate": "Books Title=Angskandh<br>Rating=%{x}<br>Author=%{y}<extra></extra>",
         "legendgroup": "Angskandh",
         "marker": {
          "color": "#ab63fa"
         },
         "name": "Angskandh",
         "notched": false,
         "offsetgroup": "Angskandh",
         "orientation": "v",
         "showlegend": true,
         "type": "box",
         "x": {
          "bdata": "AAAAAAAAFEA=",
          "dtype": "f8"
         },
         "x0": " ",
         "xaxis": "x",
         "y": [
          "manoj pandey"
         ],
         "y0": " ",
         "yaxis": "y"
        },
        {
         "alignmentgroup": "True",
         "hovertemplate": "Books Title=The Omnidoxy<br>Rating=%{x}<br>Author=%{y}<extra></extra>",
         "legendgroup": "The Omnidoxy",
         "marker": {
          "color": "#FFA15A"
         },
         "name": "The Omnidoxy",
         "notched": false,
         "offsetgroup": "The Omnidoxy",
         "orientation": "v",
         "showlegend": true,
         "type": "box",
         "x": {
          "bdata": "AAAAAAAAFEA=",
          "dtype": "f8"
         },
         "x0": " ",
         "xaxis": "x",
         "y": [
          "cometan"
         ],
         "y0": " ",
         "yaxis": "y"
        },
        {
         "alignmentgroup": "True",
         "hovertemplate": "Books Title=Teddy Looks for Something Special<br>Rating=%{x}<br>Author=%{y}<extra></extra>",
         "legendgroup": "Teddy Looks for Something Special",
         "marker": {
          "color": "#19d3f3"
         },
         "name": "Teddy Looks for Something Special",
         "notched": false,
         "offsetgroup": "Teddy Looks for Something Special",
         "orientation": "v",
         "showlegend": true,
         "type": "box",
         "x": {
          "bdata": "AAAAAAAAFEA=",
          "dtype": "f8"
         },
         "x0": " ",
         "xaxis": "x",
         "y": [
          "misty jones"
         ],
         "y0": " ",
         "yaxis": "y"
        },
        {
         "alignmentgroup": "True",
         "hovertemplate": "Books Title=Cherries Over Quicksand Romance Secrets Laughter Wit Timely Tales<br>Rating=%{x}<br>Author=%{y}<extra></extra>",
         "legendgroup": "Cherries Over Quicksand Romance Secrets Laughter Wit Timely Tales",
         "marker": {
          "color": "#FF6692"
         },
         "name": "Cherries Over Quicksand Romance Secrets Laughter Wit Timely Tales",
         "notched": false,
         "offsetgroup": "Cherries Over Quicksand Romance Secrets Laughter Wit Timely Tales",
         "orientation": "v",
         "showlegend": true,
         "type": "box",
         "x": {
          "bdata": "AAAAAAAAFEA=",
          "dtype": "f8"
         },
         "x0": " ",
         "xaxis": "x",
         "y": [
          "rhonda ricardo"
         ],
         "y0": " ",
         "yaxis": "y"
        },
        {
         "alignmentgroup": "True",
         "hovertemplate": "Books Title=Broken Promises: The Suspenseful Sequel To The Novel, I, Beauty<br>Rating=%{x}<br>Author=%{y}<extra></extra>",
         "legendgroup": "Broken Promises: The Suspenseful Sequel To The Novel, I, Beauty",
         "marker": {
          "color": "#B6E880"
         },
         "name": "Broken Promises: The Suspenseful Sequel To The Novel, I, Beauty",
         "notched": false,
         "offsetgroup": "Broken Promises: The Suspenseful Sequel To The Novel, I, Beauty",
         "orientation": "v",
         "showlegend": true,
         "type": "box",
         "x": {
          "bdata": "AAAAAAAAFEA=",
          "dtype": "f8"
         },
         "x0": " ",
         "xaxis": "x",
         "y": [
          "lashone vs shaneek"
         ],
         "y0": " ",
         "yaxis": "y"
        },
        {
         "alignmentgroup": "True",
         "hovertemplate": "Books Title=Who I Am In Christ: 59 Truths To Build Your Identity in Christ<br>Rating=%{x}<br>Author=%{y}<extra></extra>",
         "legendgroup": "Who I Am In Christ: 59 Truths To Build Your Identity in Christ",
         "marker": {
          "color": "#FF97FF"
         },
         "name": "Who I Am In Christ: 59 Truths To Build Your Identity in Christ",
         "notched": false,
         "offsetgroup": "Who I Am In Christ: 59 Truths To Build Your Identity in Christ",
         "orientation": "v",
         "showlegend": true,
         "type": "box",
         "x": {
          "bdata": "AAAAAAAAFEA=",
          "dtype": "f8"
         },
         "x0": " ",
         "xaxis": "x",
         "y": [
          "william dika"
         ],
         "y0": " ",
         "yaxis": "y"
        },
        {
         "alignmentgroup": "True",
         "hovertemplate": "Books Title=The Champlevé Gallery<br>Rating=%{x}<br>Author=%{y}<extra></extra>",
         "legendgroup": "The Champlevé Gallery",
         "marker": {
          "color": "#FECB52"
         },
         "name": "The Champlevé Gallery",
         "notched": false,
         "offsetgroup": "The Champlevé Gallery",
         "orientation": "v",
         "showlegend": true,
         "type": "box",
         "x": {
          "bdata": "AAAAAAAAFEA=",
          "dtype": "f8"
         },
         "x0": " ",
         "xaxis": "x",
         "y": [
          "william masero"
         ],
         "y0": " ",
         "yaxis": "y"
        }
       ],
       "layout": {
        "boxmode": "group",
        "legend": {
         "title": {
          "text": "Books Title"
         },
         "tracegroupgap": 0
        },
        "template": {
         "data": {
          "bar": [
           {
            "error_x": {
             "color": "#2a3f5f"
            },
            "error_y": {
             "color": "#2a3f5f"
            },
            "marker": {
             "line": {
              "color": "#E5ECF6",
              "width": 0.5
             },
             "pattern": {
              "fillmode": "overlay",
              "size": 10,
              "solidity": 0.2
             }
            },
            "type": "bar"
           }
          ],
          "barpolar": [
           {
            "marker": {
             "line": {
              "color": "#E5ECF6",
              "width": 0.5
             },
             "pattern": {
              "fillmode": "overlay",
              "size": 10,
              "solidity": 0.2
             }
            },
            "type": "barpolar"
           }
          ],
          "carpet": [
           {
            "aaxis": {
             "endlinecolor": "#2a3f5f",
             "gridcolor": "white",
             "linecolor": "white",
             "minorgridcolor": "white",
             "startlinecolor": "#2a3f5f"
            },
            "baxis": {
             "endlinecolor": "#2a3f5f",
             "gridcolor": "white",
             "linecolor": "white",
             "minorgridcolor": "white",
             "startlinecolor": "#2a3f5f"
            },
            "type": "carpet"
           }
          ],
          "choropleth": [
           {
            "colorbar": {
             "outlinewidth": 0,
             "ticks": ""
            },
            "type": "choropleth"
           }
          ],
          "contour": [
           {
            "colorbar": {
             "outlinewidth": 0,
             "ticks": ""
            },
            "colorscale": [
             [
              0,
              "#0d0887"
             ],
             [
              0.1111111111111111,
              "#46039f"
             ],
             [
              0.2222222222222222,
              "#7201a8"
             ],
             [
              0.3333333333333333,
              "#9c179e"
             ],
             [
              0.4444444444444444,
              "#bd3786"
             ],
             [
              0.5555555555555556,
              "#d8576b"
             ],
             [
              0.6666666666666666,
              "#ed7953"
             ],
             [
              0.7777777777777778,
              "#fb9f3a"
             ],
             [
              0.8888888888888888,
              "#fdca26"
             ],
             [
              1,
              "#f0f921"
             ]
            ],
            "type": "contour"
           }
          ],
          "contourcarpet": [
           {
            "colorbar": {
             "outlinewidth": 0,
             "ticks": ""
            },
            "type": "contourcarpet"
           }
          ],
          "heatmap": [
           {
            "colorbar": {
             "outlinewidth": 0,
             "ticks": ""
            },
            "colorscale": [
             [
              0,
              "#0d0887"
             ],
             [
              0.1111111111111111,
              "#46039f"
             ],
             [
              0.2222222222222222,
              "#7201a8"
             ],
             [
              0.3333333333333333,
              "#9c179e"
             ],
             [
              0.4444444444444444,
              "#bd3786"
             ],
             [
              0.5555555555555556,
              "#d8576b"
             ],
             [
              0.6666666666666666,
              "#ed7953"
             ],
             [
              0.7777777777777778,
              "#fb9f3a"
             ],
             [
              0.8888888888888888,
              "#fdca26"
             ],
             [
              1,
              "#f0f921"
             ]
            ],
            "type": "heatmap"
           }
          ],
          "histogram": [
           {
            "marker": {
             "pattern": {
              "fillmode": "overlay",
              "size": 10,
              "solidity": 0.2
             }
            },
            "type": "histogram"
           }
          ],
          "histogram2d": [
           {
            "colorbar": {
             "outlinewidth": 0,
             "ticks": ""
            },
            "colorscale": [
             [
              0,
              "#0d0887"
             ],
             [
              0.1111111111111111,
              "#46039f"
             ],
             [
              0.2222222222222222,
              "#7201a8"
             ],
             [
              0.3333333333333333,
              "#9c179e"
             ],
             [
              0.4444444444444444,
              "#bd3786"
             ],
             [
              0.5555555555555556,
              "#d8576b"
             ],
             [
              0.6666666666666666,
              "#ed7953"
             ],
             [
              0.7777777777777778,
              "#fb9f3a"
             ],
             [
              0.8888888888888888,
              "#fdca26"
             ],
             [
              1,
              "#f0f921"
             ]
            ],
            "type": "histogram2d"
           }
          ],
          "histogram2dcontour": [
           {
            "colorbar": {
             "outlinewidth": 0,
             "ticks": ""
            },
            "colorscale": [
             [
              0,
              "#0d0887"
             ],
             [
              0.1111111111111111,
              "#46039f"
             ],
             [
              0.2222222222222222,
              "#7201a8"
             ],
             [
              0.3333333333333333,
              "#9c179e"
             ],
             [
              0.4444444444444444,
              "#bd3786"
             ],
             [
              0.5555555555555556,
              "#d8576b"
             ],
             [
              0.6666666666666666,
              "#ed7953"
             ],
             [
              0.7777777777777778,
              "#fb9f3a"
             ],
             [
              0.8888888888888888,
              "#fdca26"
             ],
             [
              1,
              "#f0f921"
             ]
            ],
            "type": "histogram2dcontour"
           }
          ],
          "mesh3d": [
           {
            "colorbar": {
             "outlinewidth": 0,
             "ticks": ""
            },
            "type": "mesh3d"
           }
          ],
          "parcoords": [
           {
            "line": {
             "colorbar": {
              "outlinewidth": 0,
              "ticks": ""
             }
            },
            "type": "parcoords"
           }
          ],
          "pie": [
           {
            "automargin": true,
            "type": "pie"
           }
          ],
          "scatter": [
           {
            "fillpattern": {
             "fillmode": "overlay",
             "size": 10,
             "solidity": 0.2
            },
            "type": "scatter"
           }
          ],
          "scatter3d": [
           {
            "line": {
             "colorbar": {
              "outlinewidth": 0,
              "ticks": ""
             }
            },
            "marker": {
             "colorbar": {
              "outlinewidth": 0,
              "ticks": ""
             }
            },
            "type": "scatter3d"
           }
          ],
          "scattercarpet": [
           {
            "marker": {
             "colorbar": {
              "outlinewidth": 0,
              "ticks": ""
             }
            },
            "type": "scattercarpet"
           }
          ],
          "scattergeo": [
           {
            "marker": {
             "colorbar": {
              "outlinewidth": 0,
              "ticks": ""
             }
            },
            "type": "scattergeo"
           }
          ],
          "scattergl": [
           {
            "marker": {
             "colorbar": {
              "outlinewidth": 0,
              "ticks": ""
             }
            },
            "type": "scattergl"
           }
          ],
          "scattermap": [
           {
            "marker": {
             "colorbar": {
              "outlinewidth": 0,
              "ticks": ""
             }
            },
            "type": "scattermap"
           }
          ],
          "scattermapbox": [
           {
            "marker": {
             "colorbar": {
              "outlinewidth": 0,
              "ticks": ""
             }
            },
            "type": "scattermapbox"
           }
          ],
          "scatterpolar": [
           {
            "marker": {
             "colorbar": {
              "outlinewidth": 0,
              "ticks": ""
             }
            },
            "type": "scatterpolar"
           }
          ],
          "scatterpolargl": [
           {
            "marker": {
             "colorbar": {
              "outlinewidth": 0,
              "ticks": ""
             }
            },
            "type": "scatterpolargl"
           }
          ],
          "scatterternary": [
           {
            "marker": {
             "colorbar": {
              "outlinewidth": 0,
              "ticks": ""
             }
            },
            "type": "scatterternary"
           }
          ],
          "surface": [
           {
            "colorbar": {
             "outlinewidth": 0,
             "ticks": ""
            },
            "colorscale": [
             [
              0,
              "#0d0887"
             ],
             [
              0.1111111111111111,
              "#46039f"
             ],
             [
              0.2222222222222222,
              "#7201a8"
             ],
             [
              0.3333333333333333,
              "#9c179e"
             ],
             [
              0.4444444444444444,
              "#bd3786"
             ],
             [
              0.5555555555555556,
              "#d8576b"
             ],
             [
              0.6666666666666666,
              "#ed7953"
             ],
             [
              0.7777777777777778,
              "#fb9f3a"
             ],
             [
              0.8888888888888888,
              "#fdca26"
             ],
             [
              1,
              "#f0f921"
             ]
            ],
            "type": "surface"
           }
          ],
          "table": [
           {
            "cells": {
             "fill": {
              "color": "#EBF0F8"
             },
             "line": {
              "color": "white"
             }
            },
            "header": {
             "fill": {
              "color": "#C8D4E3"
             },
             "line": {
              "color": "white"
             }
            },
            "type": "table"
           }
          ]
         },
         "layout": {
          "annotationdefaults": {
           "arrowcolor": "#2a3f5f",
           "arrowhead": 0,
           "arrowwidth": 1
          },
          "autotypenumbers": "strict",
          "coloraxis": {
           "colorbar": {
            "outlinewidth": 0,
            "ticks": ""
           }
          },
          "colorscale": {
           "diverging": [
            [
             0,
             "#8e0152"
            ],
            [
             0.1,
             "#c51b7d"
            ],
            [
             0.2,
             "#de77ae"
            ],
            [
             0.3,
             "#f1b6da"
            ],
            [
             0.4,
             "#fde0ef"
            ],
            [
             0.5,
             "#f7f7f7"
            ],
            [
             0.6,
             "#e6f5d0"
            ],
            [
             0.7,
             "#b8e186"
            ],
            [
             0.8,
             "#7fbc41"
            ],
            [
             0.9,
             "#4d9221"
            ],
            [
             1,
             "#276419"
            ]
           ],
           "sequential": [
            [
             0,
             "#0d0887"
            ],
            [
             0.1111111111111111,
             "#46039f"
            ],
            [
             0.2222222222222222,
             "#7201a8"
            ],
            [
             0.3333333333333333,
             "#9c179e"
            ],
            [
             0.4444444444444444,
             "#bd3786"
            ],
            [
             0.5555555555555556,
             "#d8576b"
            ],
            [
             0.6666666666666666,
             "#ed7953"
            ],
            [
             0.7777777777777778,
             "#fb9f3a"
            ],
            [
             0.8888888888888888,
             "#fdca26"
            ],
            [
             1,
             "#f0f921"
            ]
           ],
           "sequentialminus": [
            [
             0,
             "#0d0887"
            ],
            [
             0.1111111111111111,
             "#46039f"
            ],
            [
             0.2222222222222222,
             "#7201a8"
            ],
            [
             0.3333333333333333,
             "#9c179e"
            ],
            [
             0.4444444444444444,
             "#bd3786"
            ],
            [
             0.5555555555555556,
             "#d8576b"
            ],
            [
             0.6666666666666666,
             "#ed7953"
            ],
            [
             0.7777777777777778,
             "#fb9f3a"
            ],
            [
             0.8888888888888888,
             "#fdca26"
            ],
            [
             1,
             "#f0f921"
            ]
           ]
          },
          "colorway": [
           "#636efa",
           "#EF553B",
           "#00cc96",
           "#ab63fa",
           "#FFA15A",
           "#19d3f3",
           "#FF6692",
           "#B6E880",
           "#FF97FF",
           "#FECB52"
          ],
          "font": {
           "color": "#2a3f5f"
          },
          "geo": {
           "bgcolor": "white",
           "lakecolor": "white",
           "landcolor": "#E5ECF6",
           "showlakes": true,
           "showland": true,
           "subunitcolor": "white"
          },
          "hoverlabel": {
           "align": "left"
          },
          "hovermode": "closest",
          "mapbox": {
           "style": "light"
          },
          "paper_bgcolor": "white",
          "plot_bgcolor": "#E5ECF6",
          "polar": {
           "angularaxis": {
            "gridcolor": "white",
            "linecolor": "white",
            "ticks": ""
           },
           "bgcolor": "#E5ECF6",
           "radialaxis": {
            "gridcolor": "white",
            "linecolor": "white",
            "ticks": ""
           }
          },
          "scene": {
           "xaxis": {
            "backgroundcolor": "#E5ECF6",
            "gridcolor": "white",
            "gridwidth": 2,
            "linecolor": "white",
            "showbackground": true,
            "ticks": "",
            "zerolinecolor": "white"
           },
           "yaxis": {
            "backgroundcolor": "#E5ECF6",
            "gridcolor": "white",
            "gridwidth": 2,
            "linecolor": "white",
            "showbackground": true,
            "ticks": "",
            "zerolinecolor": "white"
           },
           "zaxis": {
            "backgroundcolor": "#E5ECF6",
            "gridcolor": "white",
            "gridwidth": 2,
            "linecolor": "white",
            "showbackground": true,
            "ticks": "",
            "zerolinecolor": "white"
           }
          },
          "shapedefaults": {
           "line": {
            "color": "#2a3f5f"
           }
          },
          "ternary": {
           "aaxis": {
            "gridcolor": "white",
            "linecolor": "white",
            "ticks": ""
           },
           "baxis": {
            "gridcolor": "white",
            "linecolor": "white",
            "ticks": ""
           },
           "bgcolor": "#E5ECF6",
           "caxis": {
            "gridcolor": "white",
            "linecolor": "white",
            "ticks": ""
           }
          },
          "title": {
           "x": 0.05
          },
          "xaxis": {
           "automargin": true,
           "gridcolor": "white",
           "linecolor": "white",
           "ticks": "",
           "title": {
            "standoff": 15
           },
           "zerolinecolor": "white",
           "zerolinewidth": 2
          },
          "yaxis": {
           "automargin": true,
           "gridcolor": "white",
           "linecolor": "white",
           "ticks": "",
           "title": {
            "standoff": 15
           },
           "zerolinecolor": "white",
           "zerolinewidth": 2
          }
         }
        },
        "title": {
         "text": "Most rated books and their author"
        },
        "xaxis": {
         "anchor": "y",
         "domain": [
          0,
          1
         ],
         "title": {
          "text": "Rating"
         }
        },
        "yaxis": {
         "anchor": "x",
         "autorange": "reversed",
         "domain": [
          0,
          1
         ],
         "title": {
          "text": "Author"
         }
        }
       }
      },
      "image/png": "[encoded data removed]"
     },
     "metadata": {},
     "output_type": "display_data"
    }
   ],
   "source": [
    "fig  = px.box(\n",
    "    most_rating,\n",
    "    x=\"rating\",\n",
    "    y=\"author_alone\",\n",
    "    color = \"title\",\n",
    "    orientation = \"v\",\n",
    "    title = \"Most rated books and their author\",\n",
    "    labels = {\"author_alone\" : \"Author\", \"title\" : \"Books Title\" , \"rating\" : \"Rating\"}\n",
    ")\n",
    "\n",
    "fig.update_layout(\n",
    "    yaxis=dict(autorange=\"reversed\")\n",
    ")\n",
    "fig.show()"
   ]
  },
  {
   "cell_type": "markdown",
   "id": "d6b77fe0-483a-4bf5-86cd-c328198dee73",
   "metadata": {},
   "source": [
    "Lets find how many language books are available and there frequency "
   ]
  },
  {
   "cell_type": "code",
   "execution_count": 46,
   "id": "d01f7deb-7e57-4fcf-b85b-3849a76d0eb7",
   "metadata": {},
   "outputs": [
    {
     "name": "stdout",
     "output_type": "stream",
     "text": [
      "language\n",
      "English       42296\n",
      "Unknow         3626\n",
      "Arabic         1035\n",
      "Spanish         682\n",
      "French          573\n",
      "German          506\n",
      "Indonesian      366\n",
      "Portuguese      359\n",
      "Italian         249\n",
      "Dutch           214\n",
      "Name: count, dtype: int64\n"
     ]
    }
   ],
   "source": [
    "print(df[\"language\"].value_counts().sort_values(ascending=False).head(10))"
   ]
  },
  {
   "cell_type": "code",
   "execution_count": 47,
   "id": "98b1aa8e-f8c4-4d51-b27f-55d5278a78b7",
   "metadata": {},
   "outputs": [
    {
     "data": {
      "text/plain": [
       "Index(['title', 'author', 'rating', 'description', 'language', 'genres',\n",
       "       'pages', 'numRatings', 'likedPercent', 'bbeScore', 'bbeVotes',\n",
       "       'author_alone'],\n",
       "      dtype='object')"
      ]
     },
     "execution_count": 47,
     "metadata": {},
     "output_type": "execute_result"
    }
   ],
   "source": [
    "df.columns"
   ]
  },
  {
   "cell_type": "markdown",
   "id": "748b5ae5-6248-44ce-bad1-2d0315261f04",
   "metadata": {},
   "source": [
    "# To build the recommendation system we have to select the important features. In next step we will list which features we are going to use and why.\n",
    "    Title: While the title itself doesn't contribute meaningfully to the recommendation logic or similarity calculations, it remains essential for display purposes when presenting recommendations to users.\n",
    "    \n",
    "    Author: The author can help generate recommendations by identifying books written by the same person. This is especially useful for users who prefer following specific authors and want to explore more of their work.\n",
    "    \n",
    "    Description: The book description provides valuable semantic information about the content. It can be leveraged using NLP techniques (like TF-IDF or embeddings) to recommend books with similar narratives, themes, or styles. It enhances contextual recommendations beyond structured features.\n",
    "    \n",
    "    Genres: Genres are one of the most critical features for recommendations. Books within similar genres tend to align with user preferences (e.g., mystery, fantasy, romance). Genre-based filtering or similarity scoring can directly match user tastes.\n",
    "    \n",
    "    Rating: Ratings reflect the average reader sentiment toward a book. While not personalized, high ratings can be used as a quality filter to prioritize or rank books, especially when multiple books are equally relevant.\n",
    "    \n",
    "    BbeScore: This score likely reflects deeper user engagement — such as how much a book sparks discussions, re-reads, or broader impact. It can help identify not just popular books, but influential ones, which adds another layer of value to recommendations."
   ]
  },
  {
   "cell_type": "code",
   "execution_count": 48,
   "id": "83b0ebf4-0f65-4a3a-a3ae-c9e717cb572e",
   "metadata": {},
   "outputs": [],
   "source": [
    "req_feature = df[[\"author_alone\",\"rating\",\"description\",\"title\",\"genres\",\"bbeScore\"]]\n",
    "req_feature = req_feature.rename(columns = {\"author_alone\"  : \"Author\"})"
   ]
  },
  {
   "cell_type": "code",
   "execution_count": 49,
   "id": "f92d16df-b7cf-4351-8e42-0d8207cbdf65",
   "metadata": {},
   "outputs": [],
   "source": [
    "req_feature[\"genres\"] = req_feature[\"genres\"].apply(lambda x:x.split(\",\"))"
   ]
  },
  {
   "cell_type": "code",
   "execution_count": 50,
   "id": "750279ee-e32a-4805-924c-4bff947df0c2",
   "metadata": {},
   "outputs": [],
   "source": [
    "req_feature[\"description\"] = req_feature[\"description\"].apply(lambda x:x.split())"
   ]
  },
  {
   "cell_type": "code",
   "execution_count": 51,
   "id": "d1a0f87b-735e-4e7d-8cb1-e6cb056707ab",
   "metadata": {},
   "outputs": [],
   "source": [
    "req_feature[\"genres\"] = req_feature[\"genres\"].apply(lambda x : [ i.replace(\" \" , \"\") for i in x])"
   ]
  },
  {
   "cell_type": "code",
   "execution_count": 52,
   "id": "4b9881b4-df86-40db-83ad-f663d2b6f16d",
   "metadata": {},
   "outputs": [],
   "source": [
    "req_feature[\"Author\"] = req_feature[\"Author\"].apply(\n",
    "    lambda x: x if isinstance(x, list) else [x] if pd.notnull(x) else []\n",
    ")"
   ]
  },
  {
   "cell_type": "code",
   "execution_count": 53,
   "id": "6b901438-e6b3-460e-8b6b-7b250d027bae",
   "metadata": {},
   "outputs": [
    {
     "data": {
      "text/html": [
       "<div>\n",
       "<style scoped>\n",
       "    .dataframe tbody tr th:only-of-type {\n",
       "        vertical-align: middle;\n",
       "    }\n",
       "\n",
       "    .dataframe tbody tr th {\n",
       "        vertical-align: top;\n",
       "    }\n",
       "\n",
       "    .dataframe thead th {\n",
       "        text-align: right;\n",
       "    }\n",
       "</style>\n",
       "<table border=\"1\" class=\"dataframe\">\n",
       "  <thead>\n",
       "    <tr style=\"text-align: right;\">\n",
       "      <th></th>\n",
       "      <th>Author</th>\n",
       "      <th>rating</th>\n",
       "      <th>description</th>\n",
       "      <th>title</th>\n",
       "      <th>genres</th>\n",
       "      <th>bbeScore</th>\n",
       "    </tr>\n",
       "  </thead>\n",
       "  <tbody>\n",
       "    <tr>\n",
       "      <th>0</th>\n",
       "      <td>[suzannecollins]</td>\n",
       "      <td>4.33</td>\n",
       "      <td>[WINNING, MEANS, FAME, AND, FORTUNE.LOSING, MEANS, CERTAIN, DEATH.THE, HUNGER, GAMES, HAVE, BEGUN., ., ., .In, the, ruins, of, a, place, once, known, as, North, America, lies, the, nation, of, Panem,, a, shining, Capitol, surrounded, by, twelve, outlying, districts., The, Capitol, is, harsh, and, cruel, and, keeps, the, districts, in, line, by, forcing, them, all, to, send, one, boy, and, once, girl, between, the, ages, of, twelve, and, eighteen, to, participate, in, the, annual, Hunger, Games,, a, fight, to, the, death, on, live, TV.Sixteen-year-old, Katniss, Everdeen, regards, it, as, a, death, sentence, when, she, steps, forward, to, take, her, sister's, place, ...]</td>\n",
       "      <td>The Hunger Games</td>\n",
       "      <td>[YoungAdult, Fiction, Dystopia, Fantasy, ScienceFiction, Romance, Adventure, Teen, PostApocalyptic, Action]</td>\n",
       "      <td>2993816</td>\n",
       "    </tr>\n",
       "    <tr>\n",
       "      <th>1</th>\n",
       "      <td>[j.k.rowling]</td>\n",
       "      <td>4.50</td>\n",
       "      <td>[There, is, a, door, at, the, end, of, a, silent, corridor., And, it’s, haunting, Harry, Pottter’s, dreams., Why, else, would, he, be, waking, in, the, middle, of, the, night,, screaming, in, terror?Harry, has, a, lot, on, his, mind, for, this,, his, fifth, year, at, Hogwarts:, a, Defense, Against, the, Dark, Arts, teacher, with, a, personality, like, poisoned, honey;, a, big, surprise, on, the, Gryffindor, Quidditch, team;, and, the, looming, terror, of, the, Ordinary, Wizarding, Level, exams., But, all, these, things, pale, next, to, the, growing, threat, of, He-Who-Must-Not-Be-Named, -, a, threat, that, neither, the, magical, government, nor, the, authorities, at, ...]</td>\n",
       "      <td>Harry Potter and the Order of the Phoenix</td>\n",
       "      <td>[Fantasy, YoungAdult, Fiction, Magic, Childrens, Adventure, Audiobook, MiddleGrade, Classics, ScienceFictionFantasy]</td>\n",
       "      <td>2632233</td>\n",
       "    </tr>\n",
       "    <tr>\n",
       "      <th>2</th>\n",
       "      <td>[harperlee]</td>\n",
       "      <td>4.28</td>\n",
       "      <td>[The, unforgettable, novel, of, a, childhood, in, a, sleepy, Southern, town, and, the, crisis, of, conscience, that, rocked, it,, To, Kill, A, Mockingbird, became, both, an, instant, bestseller, and, a, critical, success, when, it, was, first, published, in, 1960., It, went, on, to, win, the, Pulitzer, Prize, in, 1961, and, was, later, made, into, an, Academy, Award-winning, film,, also, a, classic.Compassionate,, dramatic,, and, deeply, moving,, To, Kill, A, Mockingbird, takes, readers, to, the, roots, of, human, behavior, -, to, innocence, and, experience,, kindness, and, cruelty,, love, and, hatred,, humor, and, pathos., Now, with, over, 18, million, copies, in, print, and, ...]</td>\n",
       "      <td>To Kill a Mockingbird</td>\n",
       "      <td>[Classics, Fiction, HistoricalFiction, School, Literature, YoungAdult, Historical, Novels, ReadForSchool, HighSchool]</td>\n",
       "      <td>2269402</td>\n",
       "    </tr>\n",
       "    <tr>\n",
       "      <th>3</th>\n",
       "      <td>[janeausten]</td>\n",
       "      <td>4.26</td>\n",
       "      <td>[Alternate, cover, edition, of, ISBN, 9780679783268Since, its, immediate, success, in, 1813,, Pride, and, Prejudice, has, remained, one, of, the, most, popular, novels, in, the, English, language., Jane, Austen, called, this, brilliant, work, \"her, own, darling, child\", and, its, vivacious, heroine,, Elizabeth, Bennet,, \"as, delightful, a, creature, as, ever, appeared, in, print.\", The, romantic, clash, between, the, opinionated, Elizabeth, and, her, proud, beau,, Mr., Darcy,, is, a, splendid, performance, of, civilized, sparring., And, Jane, Austen's, radiant, wit, sparkles, as, her, characters, dance, a, delicate, quadrille, of, flirtation, and, intrigue,, making, this, book, the, most, superb, comedy, of, manners, of, Regency, England.]</td>\n",
       "      <td>Pride and Prejudice</td>\n",
       "      <td>[Classics, Fiction, Romance, HistoricalFiction, Literature, Historical, Novels, HistoricalRomance, ClassicLiterature, Adult]</td>\n",
       "      <td>1983116</td>\n",
       "    </tr>\n",
       "    <tr>\n",
       "      <th>4</th>\n",
       "      <td>[stepheniemeyer]</td>\n",
       "      <td>3.60</td>\n",
       "      <td>[About, three, things, I, was, absolutely, positive., First,, Edward, was, a, vampire., Second,, there, was, a, part, of, him—and, I, didn't, know, how, dominant, that, part, might, be—that, thirsted, for, my, blood., And, third,, I, was, unconditionally, and, irrevocably, in, love, with, him., Deeply, seductive, and, extraordinarily, suspenseful,, Twilight, is, a, love, story, with, bite.]</td>\n",
       "      <td>Twilight</td>\n",
       "      <td>[YoungAdult, Fantasy, Romance, Vampires, Fiction, Paranormal, ParanormalRomance, Supernatural, Teen, UrbanFantasy]</td>\n",
       "      <td>1459448</td>\n",
       "    </tr>\n",
       "  </tbody>\n",
       "</table>\n",
       "</div>"
      ],
      "text/plain": [
       "             Author  rating  \\\n",
       "0  [suzannecollins]    4.33   \n",
       "1     [j.k.rowling]    4.50   \n",
       "2       [harperlee]    4.28   \n",
       "3      [janeausten]    4.26   \n",
       "4  [stepheniemeyer]    3.60   \n",
       "\n",
       "                                                                                                                                                                                                                                                                                                                                                                                                                                                                                                                                                                                                                                                                                                                                                                     description  \\\n",
       "0                                                                          [WINNING, MEANS, FAME, AND, FORTUNE.LOSING, MEANS, CERTAIN, DEATH.THE, HUNGER, GAMES, HAVE, BEGUN., ., ., .In, the, ruins, of, a, place, once, known, as, North, America, lies, the, nation, of, Panem,, a, shining, Capitol, surrounded, by, twelve, outlying, districts., The, Capitol, is, harsh, and, cruel, and, keeps, the, districts, in, line, by, forcing, them, all, to, send, one, boy, and, once, girl, between, the, ages, of, twelve, and, eighteen, to, participate, in, the, annual, Hunger, Games,, a, fight, to, the, death, on, live, TV.Sixteen-year-old, Katniss, Everdeen, regards, it, as, a, death, sentence, when, she, steps, forward, to, take, her, sister's, place, ...]   \n",
       "1                                                                       [There, is, a, door, at, the, end, of, a, silent, corridor., And, it’s, haunting, Harry, Pottter’s, dreams., Why, else, would, he, be, waking, in, the, middle, of, the, night,, screaming, in, terror?Harry, has, a, lot, on, his, mind, for, this,, his, fifth, year, at, Hogwarts:, a, Defense, Against, the, Dark, Arts, teacher, with, a, personality, like, poisoned, honey;, a, big, surprise, on, the, Gryffindor, Quidditch, team;, and, the, looming, terror, of, the, Ordinary, Wizarding, Level, exams., But, all, these, things, pale, next, to, the, growing, threat, of, He-Who-Must-Not-Be-Named, -, a, threat, that, neither, the, magical, government, nor, the, authorities, at, ...]   \n",
       "2                                                             [The, unforgettable, novel, of, a, childhood, in, a, sleepy, Southern, town, and, the, crisis, of, conscience, that, rocked, it,, To, Kill, A, Mockingbird, became, both, an, instant, bestseller, and, a, critical, success, when, it, was, first, published, in, 1960., It, went, on, to, win, the, Pulitzer, Prize, in, 1961, and, was, later, made, into, an, Academy, Award-winning, film,, also, a, classic.Compassionate,, dramatic,, and, deeply, moving,, To, Kill, A, Mockingbird, takes, readers, to, the, roots, of, human, behavior, -, to, innocence, and, experience,, kindness, and, cruelty,, love, and, hatred,, humor, and, pathos., Now, with, over, 18, million, copies, in, print, and, ...]   \n",
       "3  [Alternate, cover, edition, of, ISBN, 9780679783268Since, its, immediate, success, in, 1813,, Pride, and, Prejudice, has, remained, one, of, the, most, popular, novels, in, the, English, language., Jane, Austen, called, this, brilliant, work, \"her, own, darling, child\", and, its, vivacious, heroine,, Elizabeth, Bennet,, \"as, delightful, a, creature, as, ever, appeared, in, print.\", The, romantic, clash, between, the, opinionated, Elizabeth, and, her, proud, beau,, Mr., Darcy,, is, a, splendid, performance, of, civilized, sparring., And, Jane, Austen's, radiant, wit, sparkles, as, her, characters, dance, a, delicate, quadrille, of, flirtation, and, intrigue,, making, this, book, the, most, superb, comedy, of, manners, of, Regency, England.]   \n",
       "4                                                                                                                                                                                                                                                                                                                                                                      [About, three, things, I, was, absolutely, positive., First,, Edward, was, a, vampire., Second,, there, was, a, part, of, him—and, I, didn't, know, how, dominant, that, part, might, be—that, thirsted, for, my, blood., And, third,, I, was, unconditionally, and, irrevocably, in, love, with, him., Deeply, seductive, and, extraordinarily, suspenseful,, Twilight, is, a, love, story, with, bite.]   \n",
       "\n",
       "                                       title  \\\n",
       "0                           The Hunger Games   \n",
       "1  Harry Potter and the Order of the Phoenix   \n",
       "2                      To Kill a Mockingbird   \n",
       "3                        Pride and Prejudice   \n",
       "4                                   Twilight   \n",
       "\n",
       "                                                                                                                         genres  \\\n",
       "0                   [YoungAdult, Fiction, Dystopia, Fantasy, ScienceFiction, Romance, Adventure, Teen, PostApocalyptic, Action]   \n",
       "1          [Fantasy, YoungAdult, Fiction, Magic, Childrens, Adventure, Audiobook, MiddleGrade, Classics, ScienceFictionFantasy]   \n",
       "2         [Classics, Fiction, HistoricalFiction, School, Literature, YoungAdult, Historical, Novels, ReadForSchool, HighSchool]   \n",
       "3  [Classics, Fiction, Romance, HistoricalFiction, Literature, Historical, Novels, HistoricalRomance, ClassicLiterature, Adult]   \n",
       "4            [YoungAdult, Fantasy, Romance, Vampires, Fiction, Paranormal, ParanormalRomance, Supernatural, Teen, UrbanFantasy]   \n",
       "\n",
       "   bbeScore  \n",
       "0   2993816  \n",
       "1   2632233  \n",
       "2   2269402  \n",
       "3   1983116  \n",
       "4   1459448  "
      ]
     },
     "execution_count": 53,
     "metadata": {},
     "output_type": "execute_result"
    }
   ],
   "source": [
    "req_feature[\"Author\"] = req_feature[\"Author\"].apply(lambda x: [ i.replace(\" \", \"\") for i in x])\n",
    "req_feature.head()"
   ]
  },
  {
   "cell_type": "code",
   "execution_count": 54,
   "id": "5fc5cc93-259d-4cb6-b56c-ed457bb558c7",
   "metadata": {},
   "outputs": [],
   "source": [
    "req_feature[\"Tags\"] = req_feature[\"Author\"] + req_feature[\"description\"] + req_feature[\"genres\"]"
   ]
  },
  {
   "cell_type": "code",
   "execution_count": 55,
   "id": "fc37e576-fa5f-407d-9288-3f1d722e4bc6",
   "metadata": {},
   "outputs": [
    {
     "data": {
      "text/html": [
       "<div>\n",
       "<style scoped>\n",
       "    .dataframe tbody tr th:only-of-type {\n",
       "        vertical-align: middle;\n",
       "    }\n",
       "\n",
       "    .dataframe tbody tr th {\n",
       "        vertical-align: top;\n",
       "    }\n",
       "\n",
       "    .dataframe thead th {\n",
       "        text-align: right;\n",
       "    }\n",
       "</style>\n",
       "<table border=\"1\" class=\"dataframe\">\n",
       "  <thead>\n",
       "    <tr style=\"text-align: right;\">\n",
       "      <th></th>\n",
       "      <th>Author</th>\n",
       "      <th>rating</th>\n",
       "      <th>description</th>\n",
       "      <th>title</th>\n",
       "      <th>genres</th>\n",
       "      <th>bbeScore</th>\n",
       "      <th>Tags</th>\n",
       "    </tr>\n",
       "  </thead>\n",
       "  <tbody>\n",
       "    <tr>\n",
       "      <th>0</th>\n",
       "      <td>[suzannecollins]</td>\n",
       "      <td>4.33</td>\n",
       "      <td>[WINNING, MEANS, FAME, AND, FORTUNE.LOSING, MEANS, CERTAIN, DEATH.THE, HUNGER, GAMES, HAVE, BEGUN., ., ., .In, the, ruins, of, a, place, once, known, as, North, America, lies, the, nation, of, Panem,, a, shining, Capitol, surrounded, by, twelve, outlying, districts., The, Capitol, is, harsh, and, cruel, and, keeps, the, districts, in, line, by, forcing, them, all, to, send, one, boy, and, once, girl, between, the, ages, of, twelve, and, eighteen, to, participate, in, the, annual, Hunger, Games,, a, fight, to, the, death, on, live, TV.Sixteen-year-old, Katniss, Everdeen, regards, it, as, a, death, sentence, when, she, steps, forward, to, take, her, sister's, place, ...]</td>\n",
       "      <td>The Hunger Games</td>\n",
       "      <td>[YoungAdult, Fiction, Dystopia, Fantasy, ScienceFiction, Romance, Adventure, Teen, PostApocalyptic, Action]</td>\n",
       "      <td>2993816</td>\n",
       "      <td>[suzannecollins, WINNING, MEANS, FAME, AND, FORTUNE.LOSING, MEANS, CERTAIN, DEATH.THE, HUNGER, GAMES, HAVE, BEGUN., ., ., .In, the, ruins, of, a, place, once, known, as, North, America, lies, the, nation, of, Panem,, a, shining, Capitol, surrounded, by, twelve, outlying, districts., The, Capitol, is, harsh, and, cruel, and, keeps, the, districts, in, line, by, forcing, them, all, to, send, one, boy, and, once, girl, between, the, ages, of, twelve, and, eighteen, to, participate, in, the, annual, Hunger, Games,, a, fight, to, the, death, on, live, TV.Sixteen-year-old, Katniss, Everdeen, regards, it, as, a, death, sentence, when, she, steps, forward, to, take, her, sister's, ...]</td>\n",
       "    </tr>\n",
       "    <tr>\n",
       "      <th>1</th>\n",
       "      <td>[j.k.rowling]</td>\n",
       "      <td>4.50</td>\n",
       "      <td>[There, is, a, door, at, the, end, of, a, silent, corridor., And, it’s, haunting, Harry, Pottter’s, dreams., Why, else, would, he, be, waking, in, the, middle, of, the, night,, screaming, in, terror?Harry, has, a, lot, on, his, mind, for, this,, his, fifth, year, at, Hogwarts:, a, Defense, Against, the, Dark, Arts, teacher, with, a, personality, like, poisoned, honey;, a, big, surprise, on, the, Gryffindor, Quidditch, team;, and, the, looming, terror, of, the, Ordinary, Wizarding, Level, exams., But, all, these, things, pale, next, to, the, growing, threat, of, He-Who-Must-Not-Be-Named, -, a, threat, that, neither, the, magical, government, nor, the, authorities, at, ...]</td>\n",
       "      <td>Harry Potter and the Order of the Phoenix</td>\n",
       "      <td>[Fantasy, YoungAdult, Fiction, Magic, Childrens, Adventure, Audiobook, MiddleGrade, Classics, ScienceFictionFantasy]</td>\n",
       "      <td>2632233</td>\n",
       "      <td>[j.k.rowling, There, is, a, door, at, the, end, of, a, silent, corridor., And, it’s, haunting, Harry, Pottter’s, dreams., Why, else, would, he, be, waking, in, the, middle, of, the, night,, screaming, in, terror?Harry, has, a, lot, on, his, mind, for, this,, his, fifth, year, at, Hogwarts:, a, Defense, Against, the, Dark, Arts, teacher, with, a, personality, like, poisoned, honey;, a, big, surprise, on, the, Gryffindor, Quidditch, team;, and, the, looming, terror, of, the, Ordinary, Wizarding, Level, exams., But, all, these, things, pale, next, to, the, growing, threat, of, He-Who-Must-Not-Be-Named, -, a, threat, that, neither, the, magical, government, nor, the, authorities, ...]</td>\n",
       "    </tr>\n",
       "    <tr>\n",
       "      <th>2</th>\n",
       "      <td>[harperlee]</td>\n",
       "      <td>4.28</td>\n",
       "      <td>[The, unforgettable, novel, of, a, childhood, in, a, sleepy, Southern, town, and, the, crisis, of, conscience, that, rocked, it,, To, Kill, A, Mockingbird, became, both, an, instant, bestseller, and, a, critical, success, when, it, was, first, published, in, 1960., It, went, on, to, win, the, Pulitzer, Prize, in, 1961, and, was, later, made, into, an, Academy, Award-winning, film,, also, a, classic.Compassionate,, dramatic,, and, deeply, moving,, To, Kill, A, Mockingbird, takes, readers, to, the, roots, of, human, behavior, -, to, innocence, and, experience,, kindness, and, cruelty,, love, and, hatred,, humor, and, pathos., Now, with, over, 18, million, copies, in, print, and, ...]</td>\n",
       "      <td>To Kill a Mockingbird</td>\n",
       "      <td>[Classics, Fiction, HistoricalFiction, School, Literature, YoungAdult, Historical, Novels, ReadForSchool, HighSchool]</td>\n",
       "      <td>2269402</td>\n",
       "      <td>[harperlee, The, unforgettable, novel, of, a, childhood, in, a, sleepy, Southern, town, and, the, crisis, of, conscience, that, rocked, it,, To, Kill, A, Mockingbird, became, both, an, instant, bestseller, and, a, critical, success, when, it, was, first, published, in, 1960., It, went, on, to, win, the, Pulitzer, Prize, in, 1961, and, was, later, made, into, an, Academy, Award-winning, film,, also, a, classic.Compassionate,, dramatic,, and, deeply, moving,, To, Kill, A, Mockingbird, takes, readers, to, the, roots, of, human, behavior, -, to, innocence, and, experience,, kindness, and, cruelty,, love, and, hatred,, humor, and, pathos., Now, with, over, 18, million, copies, in, print, ...]</td>\n",
       "    </tr>\n",
       "  </tbody>\n",
       "</table>\n",
       "</div>"
      ],
      "text/plain": [
       "             Author  rating  \\\n",
       "0  [suzannecollins]    4.33   \n",
       "1     [j.k.rowling]    4.50   \n",
       "2       [harperlee]    4.28   \n",
       "\n",
       "                                                                                                                                                                                                                                                                                                                                                                                                                                                                                                                                                                                                                                                                                                          description  \\\n",
       "0               [WINNING, MEANS, FAME, AND, FORTUNE.LOSING, MEANS, CERTAIN, DEATH.THE, HUNGER, GAMES, HAVE, BEGUN., ., ., .In, the, ruins, of, a, place, once, known, as, North, America, lies, the, nation, of, Panem,, a, shining, Capitol, surrounded, by, twelve, outlying, districts., The, Capitol, is, harsh, and, cruel, and, keeps, the, districts, in, line, by, forcing, them, all, to, send, one, boy, and, once, girl, between, the, ages, of, twelve, and, eighteen, to, participate, in, the, annual, Hunger, Games,, a, fight, to, the, death, on, live, TV.Sixteen-year-old, Katniss, Everdeen, regards, it, as, a, death, sentence, when, she, steps, forward, to, take, her, sister's, place, ...]   \n",
       "1            [There, is, a, door, at, the, end, of, a, silent, corridor., And, it’s, haunting, Harry, Pottter’s, dreams., Why, else, would, he, be, waking, in, the, middle, of, the, night,, screaming, in, terror?Harry, has, a, lot, on, his, mind, for, this,, his, fifth, year, at, Hogwarts:, a, Defense, Against, the, Dark, Arts, teacher, with, a, personality, like, poisoned, honey;, a, big, surprise, on, the, Gryffindor, Quidditch, team;, and, the, looming, terror, of, the, Ordinary, Wizarding, Level, exams., But, all, these, things, pale, next, to, the, growing, threat, of, He-Who-Must-Not-Be-Named, -, a, threat, that, neither, the, magical, government, nor, the, authorities, at, ...]   \n",
       "2  [The, unforgettable, novel, of, a, childhood, in, a, sleepy, Southern, town, and, the, crisis, of, conscience, that, rocked, it,, To, Kill, A, Mockingbird, became, both, an, instant, bestseller, and, a, critical, success, when, it, was, first, published, in, 1960., It, went, on, to, win, the, Pulitzer, Prize, in, 1961, and, was, later, made, into, an, Academy, Award-winning, film,, also, a, classic.Compassionate,, dramatic,, and, deeply, moving,, To, Kill, A, Mockingbird, takes, readers, to, the, roots, of, human, behavior, -, to, innocence, and, experience,, kindness, and, cruelty,, love, and, hatred,, humor, and, pathos., Now, with, over, 18, million, copies, in, print, and, ...]   \n",
       "\n",
       "                                       title  \\\n",
       "0                           The Hunger Games   \n",
       "1  Harry Potter and the Order of the Phoenix   \n",
       "2                      To Kill a Mockingbird   \n",
       "\n",
       "                                                                                                                  genres  \\\n",
       "0            [YoungAdult, Fiction, Dystopia, Fantasy, ScienceFiction, Romance, Adventure, Teen, PostApocalyptic, Action]   \n",
       "1   [Fantasy, YoungAdult, Fiction, Magic, Childrens, Adventure, Audiobook, MiddleGrade, Classics, ScienceFictionFantasy]   \n",
       "2  [Classics, Fiction, HistoricalFiction, School, Literature, YoungAdult, Historical, Novels, ReadForSchool, HighSchool]   \n",
       "\n",
       "   bbeScore  \\\n",
       "0   2993816   \n",
       "1   2632233   \n",
       "2   2269402   \n",
       "\n",
       "                                                                                                                                                                                                                                                                                                                                                                                                                                                                                                                                                                                                                                                                                                                       Tags  \n",
       "0            [suzannecollins, WINNING, MEANS, FAME, AND, FORTUNE.LOSING, MEANS, CERTAIN, DEATH.THE, HUNGER, GAMES, HAVE, BEGUN., ., ., .In, the, ruins, of, a, place, once, known, as, North, America, lies, the, nation, of, Panem,, a, shining, Capitol, surrounded, by, twelve, outlying, districts., The, Capitol, is, harsh, and, cruel, and, keeps, the, districts, in, line, by, forcing, them, all, to, send, one, boy, and, once, girl, between, the, ages, of, twelve, and, eighteen, to, participate, in, the, annual, Hunger, Games,, a, fight, to, the, death, on, live, TV.Sixteen-year-old, Katniss, Everdeen, regards, it, as, a, death, sentence, when, she, steps, forward, to, take, her, sister's, ...]  \n",
       "1         [j.k.rowling, There, is, a, door, at, the, end, of, a, silent, corridor., And, it’s, haunting, Harry, Pottter’s, dreams., Why, else, would, he, be, waking, in, the, middle, of, the, night,, screaming, in, terror?Harry, has, a, lot, on, his, mind, for, this,, his, fifth, year, at, Hogwarts:, a, Defense, Against, the, Dark, Arts, teacher, with, a, personality, like, poisoned, honey;, a, big, surprise, on, the, Gryffindor, Quidditch, team;, and, the, looming, terror, of, the, Ordinary, Wizarding, Level, exams., But, all, these, things, pale, next, to, the, growing, threat, of, He-Who-Must-Not-Be-Named, -, a, threat, that, neither, the, magical, government, nor, the, authorities, ...]  \n",
       "2  [harperlee, The, unforgettable, novel, of, a, childhood, in, a, sleepy, Southern, town, and, the, crisis, of, conscience, that, rocked, it,, To, Kill, A, Mockingbird, became, both, an, instant, bestseller, and, a, critical, success, when, it, was, first, published, in, 1960., It, went, on, to, win, the, Pulitzer, Prize, in, 1961, and, was, later, made, into, an, Academy, Award-winning, film,, also, a, classic.Compassionate,, dramatic,, and, deeply, moving,, To, Kill, A, Mockingbird, takes, readers, to, the, roots, of, human, behavior, -, to, innocence, and, experience,, kindness, and, cruelty,, love, and, hatred,, humor, and, pathos., Now, with, over, 18, million, copies, in, print, ...]  "
      ]
     },
     "execution_count": 55,
     "metadata": {},
     "output_type": "execute_result"
    }
   ],
   "source": [
    "req_feature.head(3)"
   ]
  },
  {
   "cell_type": "code",
   "execution_count": 56,
   "id": "abc03ac5-6d6c-4046-bc8f-96d4fd5b425b",
   "metadata": {},
   "outputs": [],
   "source": [
    "req_feature[\"Tags\"] = req_feature[\"Tags\"].apply(lambda x: \" \".join(x))"
   ]
  },
  {
   "cell_type": "code",
   "execution_count": 57,
   "id": "d74fe054-2f33-4022-9ee8-cd61c3517b11",
   "metadata": {},
   "outputs": [
    {
     "data": {
      "text/html": [
       "<div>\n",
       "<style scoped>\n",
       "    .dataframe tbody tr th:only-of-type {\n",
       "        vertical-align: middle;\n",
       "    }\n",
       "\n",
       "    .dataframe tbody tr th {\n",
       "        vertical-align: top;\n",
       "    }\n",
       "\n",
       "    .dataframe thead th {\n",
       "        text-align: right;\n",
       "    }\n",
       "</style>\n",
       "<table border=\"1\" class=\"dataframe\">\n",
       "  <thead>\n",
       "    <tr style=\"text-align: right;\">\n",
       "      <th></th>\n",
       "      <th>title</th>\n",
       "      <th>Tags</th>\n",
       "      <th>rating</th>\n",
       "      <th>bbeScore</th>\n",
       "    </tr>\n",
       "  </thead>\n",
       "  <tbody>\n",
       "    <tr>\n",
       "      <th>0</th>\n",
       "      <td>The Hunger Games</td>\n",
       "      <td>suzannecollins WINNING MEANS FAME AND FORTUNE.LOSING MEANS CERTAIN DEATH.THE HUNGER GAMES HAVE BEGUN. . . .In the ruins of a place once known as North America lies the nation of Panem, a shining Capitol surrounded by twelve outlying districts. The Capitol is harsh and cruel and keeps the districts in line by forcing them all to send one boy and once girl between the ages of twelve and eighteen to participate in the annual Hunger Games, a fight to the death on live TV.Sixteen-year-old Katniss Everdeen regards it as a death sentence when she steps forward to take her sister's place in the Games. But Katniss has been close to dead before—and survival, for her, is second nature. Without really meaning to, she becomes a contender. But if she is to win, she will have to start making choices that weight survival against humanity and life against love. YoungAdult Fiction Dystopia Fantasy ScienceFiction Romance Adventure Teen PostApocalyptic Action</td>\n",
       "      <td>4.33</td>\n",
       "      <td>2993816</td>\n",
       "    </tr>\n",
       "    <tr>\n",
       "      <th>1</th>\n",
       "      <td>Harry Potter and the Order of the Phoenix</td>\n",
       "      <td>j.k.rowling There is a door at the end of a silent corridor. And it’s haunting Harry Pottter’s dreams. Why else would he be waking in the middle of the night, screaming in terror?Harry has a lot on his mind for this, his fifth year at Hogwarts: a Defense Against the Dark Arts teacher with a personality like poisoned honey; a big surprise on the Gryffindor Quidditch team; and the looming terror of the Ordinary Wizarding Level exams. But all these things pale next to the growing threat of He-Who-Must-Not-Be-Named - a threat that neither the magical government nor the authorities at Hogwarts can stop.As the grasp of darkness tightens, Harry must discover the true depth and strength of his friends, the importance of boundless loyalty, and the shocking price of unbearable sacrifice.His fate depends on them all. Fantasy YoungAdult Fiction Magic Childrens Adventure Audiobook MiddleGrade Classics ScienceFictionFantasy</td>\n",
       "      <td>4.50</td>\n",
       "      <td>2632233</td>\n",
       "    </tr>\n",
       "    <tr>\n",
       "      <th>2</th>\n",
       "      <td>To Kill a Mockingbird</td>\n",
       "      <td>harperlee The unforgettable novel of a childhood in a sleepy Southern town and the crisis of conscience that rocked it, To Kill A Mockingbird became both an instant bestseller and a critical success when it was first published in 1960. It went on to win the Pulitzer Prize in 1961 and was later made into an Academy Award-winning film, also a classic.Compassionate, dramatic, and deeply moving, To Kill A Mockingbird takes readers to the roots of human behavior - to innocence and experience, kindness and cruelty, love and hatred, humor and pathos. Now with over 18 million copies in print and translated into forty languages, this regional story by a young Alabama woman claims universal appeal. Harper Lee always considered her book to be a simple love story. Today it is regarded as a masterpiece of American literature. Classics Fiction HistoricalFiction School Literature YoungAdult Historical Novels ReadForSchool HighSchool</td>\n",
       "      <td>4.28</td>\n",
       "      <td>2269402</td>\n",
       "    </tr>\n",
       "  </tbody>\n",
       "</table>\n",
       "</div>"
      ],
      "text/plain": [
       "                                       title  \\\n",
       "0                           The Hunger Games   \n",
       "1  Harry Potter and the Order of the Phoenix   \n",
       "2                      To Kill a Mockingbird   \n",
       "\n",
       "                                                                                                                                                                                                                                                                                                                                                                                                                                                                                                                                                                                                                                                                                                                                                                                                                                                                                                                                                                                        Tags  \\\n",
       "0  suzannecollins WINNING MEANS FAME AND FORTUNE.LOSING MEANS CERTAIN DEATH.THE HUNGER GAMES HAVE BEGUN. . . .In the ruins of a place once known as North America lies the nation of Panem, a shining Capitol surrounded by twelve outlying districts. The Capitol is harsh and cruel and keeps the districts in line by forcing them all to send one boy and once girl between the ages of twelve and eighteen to participate in the annual Hunger Games, a fight to the death on live TV.Sixteen-year-old Katniss Everdeen regards it as a death sentence when she steps forward to take her sister's place in the Games. But Katniss has been close to dead before—and survival, for her, is second nature. Without really meaning to, she becomes a contender. But if she is to win, she will have to start making choices that weight survival against humanity and life against love. YoungAdult Fiction Dystopia Fantasy ScienceFiction Romance Adventure Teen PostApocalyptic Action   \n",
       "1                                j.k.rowling There is a door at the end of a silent corridor. And it’s haunting Harry Pottter’s dreams. Why else would he be waking in the middle of the night, screaming in terror?Harry has a lot on his mind for this, his fifth year at Hogwarts: a Defense Against the Dark Arts teacher with a personality like poisoned honey; a big surprise on the Gryffindor Quidditch team; and the looming terror of the Ordinary Wizarding Level exams. But all these things pale next to the growing threat of He-Who-Must-Not-Be-Named - a threat that neither the magical government nor the authorities at Hogwarts can stop.As the grasp of darkness tightens, Harry must discover the true depth and strength of his friends, the importance of boundless loyalty, and the shocking price of unbearable sacrifice.His fate depends on them all. Fantasy YoungAdult Fiction Magic Childrens Adventure Audiobook MiddleGrade Classics ScienceFictionFantasy   \n",
       "2                        harperlee The unforgettable novel of a childhood in a sleepy Southern town and the crisis of conscience that rocked it, To Kill A Mockingbird became both an instant bestseller and a critical success when it was first published in 1960. It went on to win the Pulitzer Prize in 1961 and was later made into an Academy Award-winning film, also a classic.Compassionate, dramatic, and deeply moving, To Kill A Mockingbird takes readers to the roots of human behavior - to innocence and experience, kindness and cruelty, love and hatred, humor and pathos. Now with over 18 million copies in print and translated into forty languages, this regional story by a young Alabama woman claims universal appeal. Harper Lee always considered her book to be a simple love story. Today it is regarded as a masterpiece of American literature. Classics Fiction HistoricalFiction School Literature YoungAdult Historical Novels ReadForSchool HighSchool   \n",
       "\n",
       "   rating  bbeScore  \n",
       "0    4.33   2993816  \n",
       "1    4.50   2632233  \n",
       "2    4.28   2269402  "
      ]
     },
     "execution_count": 57,
     "metadata": {},
     "output_type": "execute_result"
    }
   ],
   "source": [
    "new_df = req_feature[[\"title\",\"Tags\",\"rating\",\"bbeScore\"]]\n",
    "new_df.head(3)"
   ]
  },
  {
   "cell_type": "code",
   "execution_count": 58,
   "id": "768f33f1-855d-413a-9b8e-d61c5ddee131",
   "metadata": {},
   "outputs": [
    {
     "data": {
      "text/plain": [
       "\"suzannecollins WINNING MEANS FAME AND FORTUNE.LOSING MEANS CERTAIN DEATH.THE HUNGER GAMES HAVE BEGUN. . . .In the ruins of a place once known as North America lies the nation of Panem, a shining Capitol surrounded by twelve outlying districts. The Capitol is harsh and cruel and keeps the districts in line by forcing them all to send one boy and once girl between the ages of twelve and eighteen to participate in the annual Hunger Games, a fight to the death on live TV.Sixteen-year-old Katniss Everdeen regards it as a death sentence when she steps forward to take her sister's place in the Games. But Katniss has been close to dead before—and survival, for her, is second nature. Without really meaning to, she becomes a contender. But if she is to win, she will have to start making choices that weight survival against humanity and life against love. YoungAdult Fiction Dystopia Fantasy ScienceFiction Romance Adventure Teen PostApocalyptic Action\""
      ]
     },
     "execution_count": 58,
     "metadata": {},
     "output_type": "execute_result"
    }
   ],
   "source": [
    "new_df[\"Tags\"][0]"
   ]
  },
  {
   "cell_type": "code",
   "execution_count": 59,
   "id": "d49f78e7-e085-4527-8b7a-f2e59e34417f",
   "metadata": {},
   "outputs": [
    {
     "name": "stderr",
     "output_type": "stream",
     "text": [
      "C:\\Users\\Asus\\AppData\\Local\\Temp\\ipykernel_10452\\3820998520.py:1: SettingWithCopyWarning:\n",
      "\n",
      "\n",
      "A value is trying to be set on a copy of a slice from a DataFrame.\n",
      "Try using .loc[row_indexer,col_indexer] = value instead\n",
      "\n",
      "See the caveats in the documentation: https://pandas.pydata.org/pandas-docs/stable/user_guide/indexing.html#returning-a-view-versus-a-copy\n",
      "\n"
     ]
    }
   ],
   "source": [
    "new_df[\"Tags\"] = new_df[\"Tags\"].apply(lambda x : x.lower())"
   ]
  },
  {
   "cell_type": "code",
   "execution_count": 60,
   "id": "4c887e61-e660-47d2-85a8-876f9a5b9982",
   "metadata": {},
   "outputs": [
    {
     "data": {
      "text/html": [
       "<div>\n",
       "<style scoped>\n",
       "    .dataframe tbody tr th:only-of-type {\n",
       "        vertical-align: middle;\n",
       "    }\n",
       "\n",
       "    .dataframe tbody tr th {\n",
       "        vertical-align: top;\n",
       "    }\n",
       "\n",
       "    .dataframe thead th {\n",
       "        text-align: right;\n",
       "    }\n",
       "</style>\n",
       "<table border=\"1\" class=\"dataframe\">\n",
       "  <thead>\n",
       "    <tr style=\"text-align: right;\">\n",
       "      <th></th>\n",
       "      <th>title</th>\n",
       "      <th>Tags</th>\n",
       "      <th>rating</th>\n",
       "      <th>bbeScore</th>\n",
       "    </tr>\n",
       "  </thead>\n",
       "  <tbody>\n",
       "    <tr>\n",
       "      <th>0</th>\n",
       "      <td>The Hunger Games</td>\n",
       "      <td>suzannecollins winning means fame and fortune.losing means certain death.the hunger games have begun. . . .in the ruins of a place once known as north america lies the nation of panem, a shining capitol surrounded by twelve outlying districts. the capitol is harsh and cruel and keeps the districts in line by forcing them all to send one boy and once girl between the ages of twelve and eighteen to participate in the annual hunger games, a fight to the death on live tv.sixteen-year-old katniss everdeen regards it as a death sentence when she steps forward to take her sister's place in the games. but katniss has been close to dead before—and survival, for her, is second nature. without really meaning to, she becomes a contender. but if she is to win, she will have to start making choices that weight survival against humanity and life against love. youngadult fiction dystopia fantasy sciencefiction romance adventure teen postapocalyptic action</td>\n",
       "      <td>4.33</td>\n",
       "      <td>2993816</td>\n",
       "    </tr>\n",
       "    <tr>\n",
       "      <th>1</th>\n",
       "      <td>Harry Potter and the Order of the Phoenix</td>\n",
       "      <td>j.k.rowling there is a door at the end of a silent corridor. and it’s haunting harry pottter’s dreams. why else would he be waking in the middle of the night, screaming in terror?harry has a lot on his mind for this, his fifth year at hogwarts: a defense against the dark arts teacher with a personality like poisoned honey; a big surprise on the gryffindor quidditch team; and the looming terror of the ordinary wizarding level exams. but all these things pale next to the growing threat of he-who-must-not-be-named - a threat that neither the magical government nor the authorities at hogwarts can stop.as the grasp of darkness tightens, harry must discover the true depth and strength of his friends, the importance of boundless loyalty, and the shocking price of unbearable sacrifice.his fate depends on them all. fantasy youngadult fiction magic childrens adventure audiobook middlegrade classics sciencefictionfantasy</td>\n",
       "      <td>4.50</td>\n",
       "      <td>2632233</td>\n",
       "    </tr>\n",
       "    <tr>\n",
       "      <th>2</th>\n",
       "      <td>To Kill a Mockingbird</td>\n",
       "      <td>harperlee the unforgettable novel of a childhood in a sleepy southern town and the crisis of conscience that rocked it, to kill a mockingbird became both an instant bestseller and a critical success when it was first published in 1960. it went on to win the pulitzer prize in 1961 and was later made into an academy award-winning film, also a classic.compassionate, dramatic, and deeply moving, to kill a mockingbird takes readers to the roots of human behavior - to innocence and experience, kindness and cruelty, love and hatred, humor and pathos. now with over 18 million copies in print and translated into forty languages, this regional story by a young alabama woman claims universal appeal. harper lee always considered her book to be a simple love story. today it is regarded as a masterpiece of american literature. classics fiction historicalfiction school literature youngadult historical novels readforschool highschool</td>\n",
       "      <td>4.28</td>\n",
       "      <td>2269402</td>\n",
       "    </tr>\n",
       "    <tr>\n",
       "      <th>3</th>\n",
       "      <td>Pride and Prejudice</td>\n",
       "      <td>janeausten alternate cover edition of isbn 9780679783268since its immediate success in 1813, pride and prejudice has remained one of the most popular novels in the english language. jane austen called this brilliant work \"her own darling child\" and its vivacious heroine, elizabeth bennet, \"as delightful a creature as ever appeared in print.\" the romantic clash between the opinionated elizabeth and her proud beau, mr. darcy, is a splendid performance of civilized sparring. and jane austen's radiant wit sparkles as her characters dance a delicate quadrille of flirtation and intrigue, making this book the most superb comedy of manners of regency england. classics fiction romance historicalfiction literature historical novels historicalromance classicliterature adult</td>\n",
       "      <td>4.26</td>\n",
       "      <td>1983116</td>\n",
       "    </tr>\n",
       "    <tr>\n",
       "      <th>4</th>\n",
       "      <td>Twilight</td>\n",
       "      <td>stepheniemeyer about three things i was absolutely positive. first, edward was a vampire. second, there was a part of him—and i didn't know how dominant that part might be—that thirsted for my blood. and third, i was unconditionally and irrevocably in love with him. deeply seductive and extraordinarily suspenseful, twilight is a love story with bite. youngadult fantasy romance vampires fiction paranormal paranormalromance supernatural teen urbanfantasy</td>\n",
       "      <td>3.60</td>\n",
       "      <td>1459448</td>\n",
       "    </tr>\n",
       "  </tbody>\n",
       "</table>\n",
       "</div>"
      ],
      "text/plain": [
       "                                       title  \\\n",
       "0                           The Hunger Games   \n",
       "1  Harry Potter and the Order of the Phoenix   \n",
       "2                      To Kill a Mockingbird   \n",
       "3                        Pride and Prejudice   \n",
       "4                                   Twilight   \n",
       "\n",
       "                                                                                                                                                                                                                                                                                                                                                                                                                                                                                                                                                                                                                                                                                                                                                                                                                                                                                                                                                                                        Tags  \\\n",
       "0  suzannecollins winning means fame and fortune.losing means certain death.the hunger games have begun. . . .in the ruins of a place once known as north america lies the nation of panem, a shining capitol surrounded by twelve outlying districts. the capitol is harsh and cruel and keeps the districts in line by forcing them all to send one boy and once girl between the ages of twelve and eighteen to participate in the annual hunger games, a fight to the death on live tv.sixteen-year-old katniss everdeen regards it as a death sentence when she steps forward to take her sister's place in the games. but katniss has been close to dead before—and survival, for her, is second nature. without really meaning to, she becomes a contender. but if she is to win, she will have to start making choices that weight survival against humanity and life against love. youngadult fiction dystopia fantasy sciencefiction romance adventure teen postapocalyptic action   \n",
       "1                                j.k.rowling there is a door at the end of a silent corridor. and it’s haunting harry pottter’s dreams. why else would he be waking in the middle of the night, screaming in terror?harry has a lot on his mind for this, his fifth year at hogwarts: a defense against the dark arts teacher with a personality like poisoned honey; a big surprise on the gryffindor quidditch team; and the looming terror of the ordinary wizarding level exams. but all these things pale next to the growing threat of he-who-must-not-be-named - a threat that neither the magical government nor the authorities at hogwarts can stop.as the grasp of darkness tightens, harry must discover the true depth and strength of his friends, the importance of boundless loyalty, and the shocking price of unbearable sacrifice.his fate depends on them all. fantasy youngadult fiction magic childrens adventure audiobook middlegrade classics sciencefictionfantasy   \n",
       "2                        harperlee the unforgettable novel of a childhood in a sleepy southern town and the crisis of conscience that rocked it, to kill a mockingbird became both an instant bestseller and a critical success when it was first published in 1960. it went on to win the pulitzer prize in 1961 and was later made into an academy award-winning film, also a classic.compassionate, dramatic, and deeply moving, to kill a mockingbird takes readers to the roots of human behavior - to innocence and experience, kindness and cruelty, love and hatred, humor and pathos. now with over 18 million copies in print and translated into forty languages, this regional story by a young alabama woman claims universal appeal. harper lee always considered her book to be a simple love story. today it is regarded as a masterpiece of american literature. classics fiction historicalfiction school literature youngadult historical novels readforschool highschool   \n",
       "3                                                                                                                                                                                      janeausten alternate cover edition of isbn 9780679783268since its immediate success in 1813, pride and prejudice has remained one of the most popular novels in the english language. jane austen called this brilliant work \"her own darling child\" and its vivacious heroine, elizabeth bennet, \"as delightful a creature as ever appeared in print.\" the romantic clash between the opinionated elizabeth and her proud beau, mr. darcy, is a splendid performance of civilized sparring. and jane austen's radiant wit sparkles as her characters dance a delicate quadrille of flirtation and intrigue, making this book the most superb comedy of manners of regency england. classics fiction romance historicalfiction literature historical novels historicalromance classicliterature adult   \n",
       "4                                                                                                                                                                                                                                                                                                                                                                                                                                                                                                                   stepheniemeyer about three things i was absolutely positive. first, edward was a vampire. second, there was a part of him—and i didn't know how dominant that part might be—that thirsted for my blood. and third, i was unconditionally and irrevocably in love with him. deeply seductive and extraordinarily suspenseful, twilight is a love story with bite. youngadult fantasy romance vampires fiction paranormal paranormalromance supernatural teen urbanfantasy   \n",
       "\n",
       "   rating  bbeScore  \n",
       "0    4.33   2993816  \n",
       "1    4.50   2632233  \n",
       "2    4.28   2269402  \n",
       "3    4.26   1983116  \n",
       "4    3.60   1459448  "
      ]
     },
     "execution_count": 60,
     "metadata": {},
     "output_type": "execute_result"
    }
   ],
   "source": [
    "new_df.head()"
   ]
  },
  {
   "cell_type": "code",
   "execution_count": 61,
   "id": "15daa3dd-ee60-42f1-9ef0-308e6be55287",
   "metadata": {},
   "outputs": [],
   "source": [
    "import nltk "
   ]
  },
  {
   "cell_type": "code",
   "execution_count": 62,
   "id": "cbf9a975-bb31-443c-96a6-f3ce8dab44cd",
   "metadata": {},
   "outputs": [],
   "source": [
    "from nltk.stem.porter import PorterStemmer\n",
    "ps = PorterStemmer()"
   ]
  },
  {
   "cell_type": "code",
   "execution_count": 63,
   "id": "d28affaa-3d93-4ebf-90b4-4f433822cda7",
   "metadata": {},
   "outputs": [],
   "source": [
    "def stemming(text):\n",
    "    stem = []\n",
    "    for i in text.split():\n",
    "        stem.append(ps.stem(i))\n",
    "    return \" \".join(stem)"
   ]
  },
  {
   "cell_type": "code",
   "execution_count": 64,
   "id": "68b34e73-5d50-4f94-b740-0004efd82423",
   "metadata": {},
   "outputs": [
    {
     "name": "stderr",
     "output_type": "stream",
     "text": [
      "C:\\Users\\Asus\\AppData\\Local\\Temp\\ipykernel_10452\\3586195072.py:1: SettingWithCopyWarning:\n",
      "\n",
      "\n",
      "A value is trying to be set on a copy of a slice from a DataFrame.\n",
      "Try using .loc[row_indexer,col_indexer] = value instead\n",
      "\n",
      "See the caveats in the documentation: https://pandas.pydata.org/pandas-docs/stable/user_guide/indexing.html#returning-a-view-versus-a-copy\n",
      "\n"
     ]
    }
   ],
   "source": [
    "new_df[\"Tags\"] = new_df[\"Tags\"].apply(stemming)"
   ]
  },
  {
   "cell_type": "code",
   "execution_count": 65,
   "id": "b020e458-cefa-404e-b838-c058b4004ea3",
   "metadata": {},
   "outputs": [
    {
     "data": {
      "text/html": [
       "<div>\n",
       "<style scoped>\n",
       "    .dataframe tbody tr th:only-of-type {\n",
       "        vertical-align: middle;\n",
       "    }\n",
       "\n",
       "    .dataframe tbody tr th {\n",
       "        vertical-align: top;\n",
       "    }\n",
       "\n",
       "    .dataframe thead th {\n",
       "        text-align: right;\n",
       "    }\n",
       "</style>\n",
       "<table border=\"1\" class=\"dataframe\">\n",
       "  <thead>\n",
       "    <tr style=\"text-align: right;\">\n",
       "      <th></th>\n",
       "      <th>title</th>\n",
       "      <th>Tags</th>\n",
       "      <th>rating</th>\n",
       "      <th>bbeScore</th>\n",
       "    </tr>\n",
       "  </thead>\n",
       "  <tbody>\n",
       "    <tr>\n",
       "      <th>0</th>\n",
       "      <td>The Hunger Games</td>\n",
       "      <td>suzannecollin win mean fame and fortune.los mean certain death.th hunger game have begun. . . .in the ruin of a place onc known as north america lie the nation of panem, a shine capitol surround by twelv outli districts. the capitol is harsh and cruel and keep the district in line by forc them all to send one boy and onc girl between the age of twelv and eighteen to particip in the annual hunger games, a fight to the death on live tv.sixteen-year-old katniss everdeen regard it as a death sentenc when she step forward to take her sister' place in the games. but katniss ha been close to dead before—and survival, for her, is second nature. without realli mean to, she becom a contender. but if she is to win, she will have to start make choic that weight surviv against human and life against love. youngadult fiction dystopia fantasi sciencefict romanc adventur teen postapocalypt action</td>\n",
       "      <td>4.33</td>\n",
       "      <td>2993816</td>\n",
       "    </tr>\n",
       "    <tr>\n",
       "      <th>1</th>\n",
       "      <td>Harry Potter and the Order of the Phoenix</td>\n",
       "      <td>j.k.rowl there is a door at the end of a silent corridor. and it’ haunt harri pottter’ dreams. whi els would he be wake in the middl of the night, scream in terror?harri ha a lot on hi mind for this, hi fifth year at hogwarts: a defens against the dark art teacher with a person like poison honey; a big surpris on the gryffindor quidditch team; and the loom terror of the ordinari wizard level exams. but all these thing pale next to the grow threat of he-who-must-not-be-nam - a threat that neither the magic govern nor the author at hogwart can stop.a the grasp of dark tightens, harri must discov the true depth and strength of hi friends, the import of boundless loyalty, and the shock price of unbear sacrifice.hi fate depend on them all. fantasi youngadult fiction magic children adventur audiobook middlegrad classic sciencefictionfantasi</td>\n",
       "      <td>4.50</td>\n",
       "      <td>2632233</td>\n",
       "    </tr>\n",
       "    <tr>\n",
       "      <th>2</th>\n",
       "      <td>To Kill a Mockingbird</td>\n",
       "      <td>harperle the unforgett novel of a childhood in a sleepi southern town and the crisi of conscienc that rock it, to kill a mockingbird becam both an instant bestsel and a critic success when it wa first publish in 1960. it went on to win the pulitz prize in 1961 and wa later made into an academi award-win film, also a classic.compassionate, dramatic, and deepli moving, to kill a mockingbird take reader to the root of human behavior - to innoc and experience, kind and cruelty, love and hatred, humor and pathos. now with over 18 million copi in print and translat into forti languages, thi region stori by a young alabama woman claim univers appeal. harper lee alway consid her book to be a simpl love story. today it is regard as a masterpiec of american literature. classic fiction historicalfict school literatur youngadult histor novel readforschool highschool</td>\n",
       "      <td>4.28</td>\n",
       "      <td>2269402</td>\n",
       "    </tr>\n",
       "    <tr>\n",
       "      <th>3</th>\n",
       "      <td>Pride and Prejudice</td>\n",
       "      <td>janeausten altern cover edit of isbn 9780679783268sinc it immedi success in 1813, pride and prejudic ha remain one of the most popular novel in the english language. jane austen call thi brilliant work \"her own darl child\" and it vivaci heroine, elizabeth bennet, \"a delight a creatur as ever appear in print.\" the romant clash between the opinion elizabeth and her proud beau, mr. darcy, is a splendid perform of civil sparring. and jane austen' radiant wit sparkl as her charact danc a delic quadril of flirtat and intrigue, make thi book the most superb comedi of manner of regenc england. classic fiction romanc historicalfict literatur histor novel historicalrom classicliteratur adult</td>\n",
       "      <td>4.26</td>\n",
       "      <td>1983116</td>\n",
       "    </tr>\n",
       "    <tr>\n",
       "      <th>4</th>\n",
       "      <td>Twilight</td>\n",
       "      <td>stepheniemey about three thing i wa absolut positive. first, edward wa a vampire. second, there wa a part of him—and i didn't know how domin that part might be—that thirst for my blood. and third, i wa uncondit and irrevoc in love with him. deepli seduct and extraordinarili suspenseful, twilight is a love stori with bite. youngadult fantasi romanc vampir fiction paranorm paranormalrom supernatur teen urbanfantasi</td>\n",
       "      <td>3.60</td>\n",
       "      <td>1459448</td>\n",
       "    </tr>\n",
       "  </tbody>\n",
       "</table>\n",
       "</div>"
      ],
      "text/plain": [
       "                                       title  \\\n",
       "0                           The Hunger Games   \n",
       "1  Harry Potter and the Order of the Phoenix   \n",
       "2                      To Kill a Mockingbird   \n",
       "3                        Pride and Prejudice   \n",
       "4                                   Twilight   \n",
       "\n",
       "                                                                                                                                                                                                                                                                                                                                                                                                                                                                                                                                                                                                                                                                                                                                                                                                                                                                                                                            Tags  \\\n",
       "0  suzannecollin win mean fame and fortune.los mean certain death.th hunger game have begun. . . .in the ruin of a place onc known as north america lie the nation of panem, a shine capitol surround by twelv outli districts. the capitol is harsh and cruel and keep the district in line by forc them all to send one boy and onc girl between the age of twelv and eighteen to particip in the annual hunger games, a fight to the death on live tv.sixteen-year-old katniss everdeen regard it as a death sentenc when she step forward to take her sister' place in the games. but katniss ha been close to dead before—and survival, for her, is second nature. without realli mean to, she becom a contender. but if she is to win, she will have to start make choic that weight surviv against human and life against love. youngadult fiction dystopia fantasi sciencefict romanc adventur teen postapocalypt action   \n",
       "1                                                 j.k.rowl there is a door at the end of a silent corridor. and it’ haunt harri pottter’ dreams. whi els would he be wake in the middl of the night, scream in terror?harri ha a lot on hi mind for this, hi fifth year at hogwarts: a defens against the dark art teacher with a person like poison honey; a big surpris on the gryffindor quidditch team; and the loom terror of the ordinari wizard level exams. but all these thing pale next to the grow threat of he-who-must-not-be-nam - a threat that neither the magic govern nor the author at hogwart can stop.a the grasp of dark tightens, harri must discov the true depth and strength of hi friends, the import of boundless loyalty, and the shock price of unbear sacrifice.hi fate depend on them all. fantasi youngadult fiction magic children adventur audiobook middlegrad classic sciencefictionfantasi   \n",
       "2                             harperle the unforgett novel of a childhood in a sleepi southern town and the crisi of conscienc that rock it, to kill a mockingbird becam both an instant bestsel and a critic success when it wa first publish in 1960. it went on to win the pulitz prize in 1961 and wa later made into an academi award-win film, also a classic.compassionate, dramatic, and deepli moving, to kill a mockingbird take reader to the root of human behavior - to innoc and experience, kind and cruelty, love and hatred, humor and pathos. now with over 18 million copi in print and translat into forti languages, thi region stori by a young alabama woman claim univers appeal. harper lee alway consid her book to be a simpl love story. today it is regard as a masterpiec of american literature. classic fiction historicalfict school literatur youngadult histor novel readforschool highschool   \n",
       "3                                                                                                                                                                                                             janeausten altern cover edit of isbn 9780679783268sinc it immedi success in 1813, pride and prejudic ha remain one of the most popular novel in the english language. jane austen call thi brilliant work \"her own darl child\" and it vivaci heroine, elizabeth bennet, \"a delight a creatur as ever appear in print.\" the romant clash between the opinion elizabeth and her proud beau, mr. darcy, is a splendid perform of civil sparring. and jane austen' radiant wit sparkl as her charact danc a delic quadril of flirtat and intrigue, make thi book the most superb comedi of manner of regenc england. classic fiction romanc historicalfict literatur histor novel historicalrom classicliteratur adult   \n",
       "4                                                                                                                                                                                                                                                                                                                                                                                                                                                                                               stepheniemey about three thing i wa absolut positive. first, edward wa a vampire. second, there wa a part of him—and i didn't know how domin that part might be—that thirst for my blood. and third, i wa uncondit and irrevoc in love with him. deepli seduct and extraordinarili suspenseful, twilight is a love stori with bite. youngadult fantasi romanc vampir fiction paranorm paranormalrom supernatur teen urbanfantasi   \n",
       "\n",
       "   rating  bbeScore  \n",
       "0    4.33   2993816  \n",
       "1    4.50   2632233  \n",
       "2    4.28   2269402  \n",
       "3    4.26   1983116  \n",
       "4    3.60   1459448  "
      ]
     },
     "execution_count": 65,
     "metadata": {},
     "output_type": "execute_result"
    }
   ],
   "source": [
    "new_df.head()"
   ]
  },
  {
   "cell_type": "code",
   "execution_count": 66,
   "id": "4c28f4e6-7533-4e2d-af4d-c078f3d50762",
   "metadata": {},
   "outputs": [
    {
     "data": {
      "text/plain": [
       "\"johnsteinbeck while fulfil hi dead father' dream of creat a prosper farm in california, joseph wayn come to believ that a magnific tree on the farm embodi hi father' spirit. hi brother and their famili share in joseph' prosper and the farm flourish - until one brother, scare by joseph' pagan belief, kill the tree and bring diseas and famin on the farm. set in familiar steinbeck country, to a god unknown is a mystic tale, explor one man' attempt to control the forc of natur and to understand the way of god. fiction classic literatur american novel nobelpr literaryfict theunitedstatesofamerica historicalfict religion\""
      ]
     },
     "execution_count": 66,
     "metadata": {},
     "output_type": "execute_result"
    }
   ],
   "source": [
    "new_df[\"Tags\"][3455]"
   ]
  },
  {
   "cell_type": "markdown",
   "id": "9d78b91c-4cf2-41db-a92a-a511322fbdce",
   "metadata": {},
   "source": [
    "# Here we are going with Bag of Wrods Approach "
   ]
  },
  {
   "cell_type": "code",
   "execution_count": 67,
   "id": "94b3c3db-c63f-4812-a23e-bc9797361d1f",
   "metadata": {},
   "outputs": [],
   "source": [
    "from sklearn.feature_extraction.text import CountVectorizer\n",
    "cv = CountVectorizer(max_features = 2000, stop_words = 'english')"
   ]
  },
  {
   "cell_type": "code",
   "execution_count": 68,
   "id": "bcf699aa-3d5d-496b-9b93-9ff3f30fac08",
   "metadata": {},
   "outputs": [],
   "source": [
    "vectors = cv.fit_transform(new_df[\"Tags\"])"
   ]
  },
  {
   "cell_type": "code",
   "execution_count": 69,
   "id": "d009bb83-ab7e-44ae-948d-8800c6b9b43f",
   "metadata": {},
   "outputs": [
    {
     "data": {
      "text/plain": [
       "(51856, 2000)"
      ]
     },
     "execution_count": 69,
     "metadata": {},
     "output_type": "execute_result"
    }
   ],
   "source": [
    "vectors.shape"
   ]
  },
  {
   "cell_type": "code",
   "execution_count": 70,
   "id": "7fde4bd8-9d8f-4c37-b81c-0a84bc7e0073",
   "metadata": {},
   "outputs": [],
   "source": [
    "np.set_printoptions(threshold=np.inf)"
   ]
  },
  {
   "cell_type": "code",
   "execution_count": 71,
   "id": "216da002-756a-4979-ae74-d4d29fe1830c",
   "metadata": {},
   "outputs": [
    {
     "data": {
      "text/plain": [
       "array(['000', '10', '100', '11', '12', '15', '18', '19thcenturi',\n",
       "       '20thcenturi', 'abandon', 'abil', 'abl', 'abov', 'absolut', 'abus',\n",
       "       'academi', 'accept', 'access', 'accid', 'accident', 'acclaim',\n",
       "       'accompani', 'accord', 'account', 'achiev', 'act', 'action',\n",
       "       'activ', 'actual', 'ad', 'adam', 'adapt', 'addict', 'addit',\n",
       "       'address', 'adopt', 'adult', 'adultfict', 'advanc', 'adventur',\n",
       "       'adventure', 'advic', 'affair', 'affect', 'afraid', 'africa',\n",
       "       'african', 'africanamerican', 'aft', 'ag', 'age', 'agent', 'ago',\n",
       "       'agre', 'ahead', 'aid', 'air', 'al', 'alex', 'alic', 'alien',\n",
       "       'aliv', 'alive', 'alli', 'allow', 'alon', 'alpha', 'alreadi',\n",
       "       'alter', 'altern', 'alway', 'amaz', 'amazon', 'america',\n",
       "       'american', 'americanhistori', 'ami', 'amor', 'ancient', 'angel',\n",
       "       'anger', 'ani', 'anim', 'ann', 'anna', 'anni', 'anoth', 'answer',\n",
       "       'answers', 'antholog', 'anyon', 'anyth', 'apart', 'apocalypt',\n",
       "       'appeal', 'appear', 'appli', 'approach', 'area', 'aren', 'arm',\n",
       "       'armi', 'arriv', 'art', 'arthur', 'artist', 'asia', 'ask',\n",
       "       'assassin', 'assign', 'assist', 'astonish', 'attack', 'attempt',\n",
       "       'attend', 'attent', 'attract', 'au', 'audiobook', 'auf', 'aunt',\n",
       "       'australia', 'author', 'autobiographi', 'avail', 'avoid', 'await',\n",
       "       'awaken', 'award', 'away', 'babi', 'bad', 'balanc', 'band', 'bank',\n",
       "       'bar', 'bare', 'base', 'battl', 'battle', 'bdsm', 'beach', 'bear',\n",
       "       'beast', 'beat', 'beauti', 'beautiful', 'beauty', 'becam',\n",
       "       'becaus', 'becom', 'bed', 'befor', 'began', 'begin', 'begun',\n",
       "       'behavior', 'belief', 'believ', 'belong', 'belov', 'ben',\n",
       "       'beneath', 'best', 'bestsel', 'betray', 'betrayal', 'better', 'bi',\n",
       "       'bibl', 'big', 'biggest', 'biographi', 'biographymemoir', 'biolog',\n",
       "       'bir', 'bird', 'birth', 'birthday', 'bit', 'bitter', 'bizarr',\n",
       "       'black', 'blend', 'blind', 'blood', 'bloodi', 'blue', 'board',\n",
       "       'bodi', 'body', 'bold', 'bond', 'bone', 'book', 'bookclub',\n",
       "       'books', 'born', 'boss', 'boston', 'bound', 'box', 'boy',\n",
       "       'boyfriend', 'boys', 'brain', 'brand', 'brave', 'break', 'breath',\n",
       "       'breathtak', 'bride', 'bright', 'brilliant', 'brilliantli',\n",
       "       'bring', 'brink', 'britain', 'british', 'britishliteratur',\n",
       "       'broken', 'brother', 'brothers', 'brought', 'brown', 'brutal',\n",
       "       'bu', 'build', 'built', 'buri', 'burn', 'busi', 'business', 'buy',\n",
       "       'california', 'came', 'camp', 'canada', 'captain', 'captiv',\n",
       "       'captur', 'car', 'care', 'career', 'carri', 'case', 'cast',\n",
       "       'castl', 'cat', 'catch', 'caught', 'caus', 'ce', 'celebr',\n",
       "       'center', 'central', 'centuri', 'centuries', 'century', 'certain',\n",
       "       'challeng', 'chanc', 'chance', 'chang', 'change', 'chao',\n",
       "       'chapter', 'chapterbook', 'charact', 'character', 'characters',\n",
       "       'charg', 'charl', 'charli', 'charm', 'chase', 'che', 'chicago',\n",
       "       'chicklit', 'chief', 'child', 'childhood', 'children', 'chill',\n",
       "       'china', 'chines', 'choic', 'choice', 'choos', 'chosen', 'christ',\n",
       "       'christian', 'christianfict', 'christianrom', 'christma',\n",
       "       'chronicl', 'church', 'circl', 'citi', 'city', 'civil', 'claim',\n",
       "       'clair', 'clan', 'class', 'classic', 'clear', 'close', 'closer',\n",
       "       'club', 'clue', 'coast', 'code', 'cold', 'collect', 'colleg',\n",
       "       'college', 'color', 'com', 'combin', 'come', 'comedi', 'comfort',\n",
       "       'comic', 'comicbook', 'coming', 'comingofag', 'command', 'commit',\n",
       "       'common', 'commun', 'community', 'como', 'compani', 'companion',\n",
       "       'company', 'compel', 'complet', 'complex', 'complic', 'comput',\n",
       "       'concept', 'concern', 'conclus', 'confid', 'conflict', 'confront',\n",
       "       'connect', 'consequ', 'consid', 'conspiraci', 'constant', 'consum',\n",
       "       'contact', 'contain', 'contemporari', 'contemporaryrom', 'content',\n",
       "       'continu', 'control', 'controversi', 'convers', 'convinc', 'cook',\n",
       "       'cop', 'copi', 'core', 'corner', 'corrupt', 'cost', 'couldn',\n",
       "       'count', 'countri', 'country', 'coupl', 'courag', 'cours',\n",
       "       'course', 'court', 'cousin', 'cover', 'crack', 'craft', 'crash',\n",
       "       'crazi', 'creat', 'creation', 'creativ', 'creatur', 'crew',\n",
       "       'crime', 'crimin', 'critic', 'cross', 'crown', 'cruel', 'crush',\n",
       "       'cultur', 'culture', 'cure', 'current', 'curs', 'cut', 'da', 'dad',\n",
       "       'daili', 'dalam', 'dan', 'danc', 'danger', 'dangerous', 'daniel',\n",
       "       'dare', 'dari', 'dark', 'darkest', 'darkness', 'date', 'daughter',\n",
       "       'david', 'dawn', 'day', 'days', 'dazzl', 'dead', 'deadli', 'deal',\n",
       "       'dear', 'death', 'debut', 'decad', 'decid', 'decis', 'dedic',\n",
       "       'deep', 'deeper', 'deepli', 'defeat', 'defend', 'defi', 'defin',\n",
       "       'definit', 'del', 'delight', 'deliv', 'della', 'dem', 'demand',\n",
       "       'demon', 'demons', 'demonstr', 'den', 'dengan', 'deni', 'depend',\n",
       "       'depict', 'depth', 'der', 'descend', 'describ', 'desert', 'design',\n",
       "       'desir', 'desire', 'despair', 'desper', 'despit', 'destin',\n",
       "       'destini', 'destiny', 'destroy', 'destruct', 'destruction', 'det',\n",
       "       'detect', 'determin', 'devast', 'develop', 'devil', 'devot', 'di',\n",
       "       'dia', 'diari', 'did', 'didn', 'die', 'differ', 'different',\n",
       "       'difficult', 'direct', 'director', 'disappear', 'disast', 'discov',\n",
       "       'discoveri', 'discuss', 'distant', 'disturb', 'divid', 'divin',\n",
       "       'doctor', 'document', 'doe', 'doesn', 'dog', 'domin', 'don',\n",
       "       'doom', 'door', 'doubt', 'dr', 'dragon', 'drama', 'dramat', 'draw',\n",
       "       'drawn', 'dream', 'dreams', 'dress', 'drink', 'drive', 'driven',\n",
       "       'drop', 'drug', 'du', 'dure', 'duti', 'dystopia', 'earli',\n",
       "       'earlier', 'earn', 'earth', 'easi', 'east', 'easy', 'eat',\n",
       "       'econom', 'edg', 'edit', 'edition', 'editor', 'educ', 'edward',\n",
       "       'een', 'effect', 'effort', 'egypt', 'eighteen', 'ein', 'el',\n",
       "       'element', 'elit', 'elizabeth', 'ell', 'ella', 'els', 'em',\n",
       "       'embark', 'embrac', 'emerg', 'emili', 'emma', 'emot', 'emperor',\n",
       "       'empir', 'empire', 'en', 'enchant', 'encount', 'end', 'endur',\n",
       "       'enemi', 'enemies', 'enemy', 'engag', 'england', 'english',\n",
       "       'enigmat', 'enjoy', 'enter', 'entertain', 'entir', 'entr', 'epic',\n",
       "       'epicfantasi', 'equal', 'er', 'era', 'erot', 'erotica',\n",
       "       'eroticrom', 'es', 'escap', 'escape', 'especi', 'espionag',\n",
       "       'essay', 'essenti', 'est', 'establish', 'et', 'etern', 'europe',\n",
       "       'eve', 'event', 'events', 'eventu', 'everi', 'everyday', 'everyon',\n",
       "       'everyth', 'evid', 'evil', 'ex', 'exactli', 'examin', 'excit',\n",
       "       'exclus', 'execut', 'exil', 'exist', 'existence', 'expect',\n",
       "       'experi', 'experienc', 'experience', 'expert', 'explain', 'explor',\n",
       "       'explos', 'expos', 'express', 'extraordinari', 'extrem', 'eye',\n",
       "       'eyes', 'face', 'fact', 'fae', 'fail', 'fair', 'fairi', 'fairytal',\n",
       "       'faith', 'fall', 'fallen', 'fame', 'famili', 'familiar', 'family',\n",
       "       'famou', 'fan', 'fantasi', 'fantast', 'fantasy', 'far', 'farm',\n",
       "       'fascin', 'fashion', 'fast', 'fate', 'father', 'favorit', 'fbi',\n",
       "       'fear', 'featur', 'feel', 'feet', 'fell', 'fellow', 'felt',\n",
       "       'femal', 'femin', 'fiction', 'field', 'fierc', 'fight', 'figur',\n",
       "       'film', 'final', 'financi', 'fine', 'finest', 'finish', 'fit',\n",
       "       'flee', 'fli', 'flight', 'focu', 'focus', 'follow', 'food',\n",
       "       'footbal', 'forbidden', 'forc', 'foreign', 'forest', 'forev',\n",
       "       'forever', 'forg', 'forget', 'forgotten', 'form', 'fortun',\n",
       "       'forward', 'foster', 'fought', 'fourth', 'franc', 'france',\n",
       "       'francisco', 'frank', 'free', 'freedom', 'french',\n",
       "       'frenchliteratur', 'fresh', 'friend', 'friends', 'friendship',\n",
       "       'frighten', 'fulfil', 'fulli', 'fun', 'funni', 'funny', 'futur',\n",
       "       'future', 'gabriel', 'gain', 'game', 'gang', 'garden', 'gather',\n",
       "       'gave', 'gay', 'gener', 'geniu', 'georg', 'german', 'germani',\n",
       "       'germanliteratur', 'ghost', 'giant', 'gift', 'girl', 'girlfriend',\n",
       "       'girls', 'given', 'glass', 'glimps', 'global', 'globe', 'goal',\n",
       "       'god', 'goe', 'gold', 'golden', 'gone', 'good', 'gorgeou', 'got',\n",
       "       'gothic', 'govern', 'government', 'grace', 'graduat', 'grand',\n",
       "       'grant', 'graphic', 'graphicnovel', 'graphicnovelscom', 'grave',\n",
       "       'gray', 'great', 'greater', 'greatest', 'greek', 'green', 'grew',\n",
       "       'grief', 'grip', 'ground', 'group', 'grow', 'grown', 'guard',\n",
       "       'guardian', 'guid', 'guilt', 'gun', 'guy', 'ha', 'hair', 'half',\n",
       "       'hall', 'han', 'hand', 'hands', 'handsom', 'hang', 'hannah',\n",
       "       'happen', 'happi', 'happili', 'hard', 'hardcov', 'harri', 'harrow',\n",
       "       'hasn', 'hat', 'hate', 'haunt', 'haven', 'head', 'heal', 'health',\n",
       "       'hear', 'heard', 'heart', 'heartbreak', 'heat', 'heaven', 'heir',\n",
       "       'held', 'hell', 'help', 'henri', 'hero', 'heroin', 'het', 'hi',\n",
       "       'hidden', 'hide', 'high', 'highest', 'highfantasi', 'highli',\n",
       "       'highschool', 'hilari', 'hill', 'hire', 'histor', 'histori',\n",
       "       'historicalfict', 'historicalrom', 'history', 'hit', 'hitler',\n",
       "       'hold', 'holi', 'holiday', 'hollywood', 'holocaust', 'home',\n",
       "       'honest', 'honor', 'hope', 'horror', 'hors', 'hospit', 'host',\n",
       "       'hot', 'hotel', 'hour', 'hous', 'house', 'huge', 'human',\n",
       "       'humanity', 'humor', 'hundr', 'hunger', 'hunt', 'hunter', 'hurt',\n",
       "       'husband', 'ice', 'idea', 'ideal', 'ident', 'identity', 'ignor',\n",
       "       'ihr', 'ii', 'il', 'ill', 'illumin', 'illustr', 'imag', 'imagin',\n",
       "       'imagination', 'imagined', 'immedi', 'immort', 'impact', 'import',\n",
       "       'imposs', 'includ', 'increasingli', 'incred', 'independ', 'india',\n",
       "       'indian', 'individu', 'industri', 'influenc', 'inform', 'inhabit',\n",
       "       'inherit', 'ini', 'initi', 'inner', 'innoc', 'insid', 'insight',\n",
       "       'inspir', 'instal', 'instead', 'intellectu', 'intellig', 'intend',\n",
       "       'intens', 'intent', 'intern', 'interview', 'intim', 'intrigu',\n",
       "       'intrigue', 'introduc', 'introduct', 'invent', 'investig', 'invit',\n",
       "       'involv', 'ireland', 'irish', 'iron', 'irresist', 'islam',\n",
       "       'island', 'isn', 'isol', 'issu', 'ist', 'itali', 'itu', 'ja',\n",
       "       'jack', 'jackson', 'jake', 'jame', 'jane', 'japan', 'japanes',\n",
       "       'jason', 'je', 'jean', 'jesu', 'jewish', 'jim', 'job', 'joe',\n",
       "       'john', 'join', 'journal', 'journalist', 'journey', 'joy', 'julia',\n",
       "       'just', 'justic', 'juvenil', 'kate', 'kept', 'key', 'kid',\n",
       "       'kidnap', 'kill', 'killer', 'kind', 'king', 'kingdom', 'kiss',\n",
       "       'knew', 'knight', 'know', 'knowledg', 'known', 'la', 'ladi',\n",
       "       'lake', 'land', 'landscap', 'languag', 'language', 'larg', 'late',\n",
       "       'later', 'latest', 'laugh', 'launch', 'laura', 'law', 'lay', 'le',\n",
       "       'lead', 'leader', 'leadership', 'learn', 'leav', 'led', 'lee',\n",
       "       'left', 'legaci', 'legend', 'legendari', 'length', 'lesson', 'let',\n",
       "       'letter', 'level', 'lgbt', 'liber', 'librari', 'lie', 'lif',\n",
       "       'life', 'light', 'lik', 'like', 'lili', 'limit', 'line', 'link',\n",
       "       'list', 'listen', 'literari', 'literaryfict', 'literatur',\n",
       "       'literature', 'littl', 'live', 'lives', 'll', 'lo', 'local',\n",
       "       'locat', 'lock', 'london', 'lone', 'long', 'longer', 'look',\n",
       "       'lord', 'lose', 'loss', 'lost', 'lot', 'lov', 'love', 'lover',\n",
       "       'loves', 'low', 'loyalti', 'luck', 'lui', 'luke', 'lurk', 'lust',\n",
       "       'ma', 'mad', 'magic', 'magicalr', 'magnific', 'mai', 'main',\n",
       "       'major', 'make', 'male', 'man', 'manag', 'manga', 'manhattan',\n",
       "       'mani', 'mankind', 'map', 'march', 'mari', 'mark', 'market',\n",
       "       'marri', 'marriag', 'marriage', 'martin', 'marvel', 'master',\n",
       "       'masterpiec', 'match', 'mate', 'materi', 'matt', 'matter', 'matur',\n",
       "       'max', 'mayb', 'mean', 'meant', 'media', 'mediatiein', 'medic',\n",
       "       'mediev', 'meet', 'member', 'memoir', 'memori', 'men', 'mental',\n",
       "       'mentalhealth', 'mentalil', 'mention', 'mere', 'messag', 'met',\n",
       "       'method', 'mi', 'michael', 'middl', 'middlegrad', 'mile',\n",
       "       'militari', 'militaryfict', 'million', 'mind', 'minut', 'miss',\n",
       "       'missing', 'mission', 'mistak', 'mit', 'mix', 'mmromanc', 'model',\n",
       "       'modern', 'mom', 'moment', 'money', 'monster', 'month', 'moon',\n",
       "       'moral', 'morgan', 'morn', 'mortal', 'mother', 'motion', 'motiv',\n",
       "       'mountain', 'movement', 'movi', 'mr', 'murder', 'murdermysteri',\n",
       "       'music', 'mysteri', 'mystery', 'mysterythril', 'mystic', 'myth',\n",
       "       'mytholog', 'má', 'na', 'narr', 'narrat', 'nation', 'nativ',\n",
       "       'natur', 'nature', 'navig', 'nazi', 'ne', 'near', 'nearli', 'need',\n",
       "       'neighbor', 'new', 'newadult', 'newli', 'news', 'nicht', 'nick',\n",
       "       'night', 'nightmar', 'noir', 'non', 'nonfict', 'normal', 'north',\n",
       "       'note', 'noth', 'notic', 'notori', 'novel', 'novelist', 'novella',\n",
       "       'novels', 'number', 'object', 'observ', 'obsess', 'ocean', 'och',\n",
       "       'odd', 'offer', 'offic', 'og', 'old', 'older', 'olivia', 'om',\n",
       "       'onc', 'onli', 'op', 'open', 'oper', 'opportun', 'order',\n",
       "       'ordinari', 'organ', 'origin', 'orphan', 'os', 'outsid', 'overcom',\n",
       "       'owner', 'pa', 'pack', 'page', 'pages', 'pain', 'paint', 'pair',\n",
       "       'paper', 'paperback', 'par', 'para', 'paranorm', 'paranormalrom',\n",
       "       'parent', 'parents', 'pari', 'paris', 'park', 'parti', 'partner',\n",
       "       'pass', 'passion', 'past', 'path', 'patient', 'paul', 'pay',\n",
       "       'peac', 'peace', 'peopl', 'people', 'perfect', 'perform', 'perhap',\n",
       "       'peril', 'period', 'pero', 'person', 'personaldevelop', 'perspect',\n",
       "       'peter', 'philosoph', 'philosophi', 'phone', 'photograph',\n",
       "       'physic', 'pick', 'pictur', 'picturebook', 'piec', 'pirat',\n",
       "       'place', 'plagu', 'plain', 'plan', 'planet', 'play', 'player',\n",
       "       'pleas', 'pleasur', 'plot', 'plu', 'plung', 'poem', 'poet',\n",
       "       'poetri', 'poignant', 'point', 'polic', 'polit', 'politics',\n",
       "       'poor', 'popular', 'por', 'portrait', 'portray', 'posit',\n",
       "       'possess', 'possibl', 'possible', 'post', 'postapocalypt',\n",
       "       'potenti', 'pour', 'power', 'powerful', 'powers', 'practic',\n",
       "       'prepar', 'present', 'presid', 'press', 'pretti', 'prevent',\n",
       "       'price', 'princ', 'princess', 'principl', 'print', 'prison',\n",
       "       'privat', 'prize', 'problem', 'problems', 'process', 'produc',\n",
       "       'product', 'profession', 'professor', 'profound', 'program',\n",
       "       'project', 'promis', 'propheci', 'prose', 'protect', 'proud',\n",
       "       'prove', 'provid', 'psychic', 'psycholog', 'public', 'publish',\n",
       "       'pull', 'pure', 'purpos', 'pursu', 'pursuit', 'push', 'qu', 'que',\n",
       "       'queen', 'queer', 'quest', 'question', 'questions', 'qui', 'quick',\n",
       "       'quickli', 'quiet', 'quit', 'race', 'rachel', 'radic', 'rage',\n",
       "       'rain', 'rais', 'rang', 'rare', 'reach', 'read', 'reader',\n",
       "       'readers', 'readforschool', 'readi', 'real', 'realisticfict',\n",
       "       'realiti', 'reality', 'realiz', 'realli', 'realm', 'reason',\n",
       "       'rebel', 'receiv', 'recent', 'recogn', 'record', 'recount',\n",
       "       'recov', 'red', 'refer', 'reflect', 'refus', 'regard', 'regenc',\n",
       "       'relat', 'relationship', 'relationships', 'releas', 'religi',\n",
       "       'religion', 'remain', 'remark', 'rememb', 'remind', 'remot',\n",
       "       'renown', 'report', 'repres', 'reput', 'requir', 'rescu',\n",
       "       'research', 'resid', 'resist', 'respect', 'respons', 'rest',\n",
       "       'restor', 'result', 'retel', 'return', 'reveal', 'revel', 'reveng',\n",
       "       'revenge', 'review', 'revis', 'revolut', 'revolution', 'rich',\n",
       "       'richard', 'ride', 'right', 'ring', 'rise', 'risk', 'rival',\n",
       "       'river', 'rivet', 'road', 'robert', 'rock', 'role', 'roman',\n",
       "       'romanc', 'romance', 'romant', 'romanticsuspens', 'rome', 'room',\n",
       "       'root', 'rose', 'royal', 'ruin', 'rule', 'rumor', 'run', 'rural',\n",
       "       'russia', 'russian', 'ruthless', 'ryan', 'sa', 'sacrific', 'safe',\n",
       "       'saga', 'said', 'sam', 'san', 'sarah', 'savag', 'save', 'saw',\n",
       "       'say', 'scandal', 'scar', 'scene', 'scheme', 'scholar', 'school',\n",
       "       'scienc', 'science', 'sciencefict', 'sciencefictionfantasi',\n",
       "       'scientif', 'scientist', 'scotland', 'scott', 'se', 'sea',\n",
       "       'search', 'season', 'second', 'secret', 'secrets', 'secur',\n",
       "       'seduct', 'seek', 'seemingli', 'seen', 'sein', 'sel', 'select',\n",
       "       'self', 'selfhelp', 'sell', 'send', 'senior', 'sens', 'sensual',\n",
       "       'sent', 'separ', 'sequel', 'seri', 'serial', 'series', 'seriou',\n",
       "       'serv', 'servic', 'set', 'settl', 'seu', 'seven', 'seventeen',\n",
       "       'sever', 'sex', 'sexi', 'sexual', 'sh', 'shadow', 'shape',\n",
       "       'shapeshift', 'share', 'sharp', 'shatter', 'shift', 'ship',\n",
       "       'shock', 'shop', 'short', 'shortstori', 'shot', 'si', 'sich',\n",
       "       'sie', 'sight', 'sign', 'signific', 'silent', 'silver', 'simon',\n",
       "       'simpl', 'simpli', 'sin', 'sinc', 'singl', 'sinist', 'sister',\n",
       "       'sit', 'situat', 'sixteen', 'skill', 'skin', 'sky', 'slave',\n",
       "       'sleep', 'slowli', 'small', 'smart', 'smile', 'smith', 'snow',\n",
       "       'social', 'societi', 'society', 'sociolog', 'sold', 'soldier',\n",
       "       'solv', 'som', 'someon', 'someth', 'sometim', 'son', 'song',\n",
       "       'soon', 'sophi', 'sort', 'soul', 'sound', 'sourc', 'south',\n",
       "       'southern', 'space', 'spaceopera', 'spain', 'span',\n",
       "       'spanishliteratur', 'spark', 'speak', 'special', 'speculativefict',\n",
       "       'spell', 'spend', 'spent', 'spi', 'spin', 'spirit', 'spiritu',\n",
       "       'sport', 'spread', 'spring', 'st', 'stage', 'stake', 'stalk',\n",
       "       'stand', 'star', 'start', 'startl', 'state', 'states', 'stay',\n",
       "       'steal', 'steampunk', 'step', 'stephen', 'stir', 'stolen', 'stone',\n",
       "       'stop', 'store', 'stori', 'stories', 'storm', 'story', 'storytel',\n",
       "       'straight', 'strang', 'stranger', 'street', 'strength', 'strike',\n",
       "       'strip', 'strong', 'struggl', 'stuck', 'student', 'studi',\n",
       "       'stumbl', 'stun', 'style', 'su', 'sua', 'subject', 'succeed',\n",
       "       'success', 'sudden', 'suddenli', 'suffer', 'suggest', 'summer',\n",
       "       'summon', 'sun', 'super', 'superhero', 'supernatur', 'support',\n",
       "       'suppos', 'sur', 'sure', 'surpris', 'surround', 'surviv',\n",
       "       'survival', 'survive', 'survivor', 'suspect', 'suspens',\n",
       "       'suspense', 'sweep', 'sweet', 'sword', 'tak', 'taken', 'tale',\n",
       "       'talent', 'talk', 'target', 'task', 'tast', 'taught', 'taylor',\n",
       "       'te', 'teach', 'teacher', 'team', 'tear', 'technolog', 'teen',\n",
       "       'teenag', 'tell', 'tender', 'tension', 'term', 'terribl',\n",
       "       'terrifi', 'terror', 'test', 'text', 'th', 'thank', 'theatr',\n",
       "       'theme', 'themselv', 'theolog', 'theori',\n",
       "       'theunitedstatesofamerica', 'thi', 'thing', 'things', 'think',\n",
       "       'thirteen', 'thirti', 'thirty', 'thoma', 'thought', 'thousand',\n",
       "       'threat', 'threaten', 'thrill', 'thriller', 'throne', 'throw',\n",
       "       'thrown', 'tidak', 'tie', 'tim', 'time', 'timeless', 'times',\n",
       "       'timetravel', 'tini', 'titl', 'today', 'todo', 'togeth', 'told',\n",
       "       'tom', 'took', 'torment', 'torn', 'tortur', 'total', 'touch',\n",
       "       'tough', 'tour', 'tower', 'town', 'trace', 'track', 'trade',\n",
       "       'tradit', 'tragedi', 'tragedy', 'tragic', 'trail', 'train',\n",
       "       'transform', 'translat', 'transport', 'trap', 'travel', 'treasur',\n",
       "       'treat', 'tree', 'tri', 'trial', 'tribe', 'trilog', 'trilogy',\n",
       "       'trip', 'triumph', 'troubl', 'trouble', 'true', 'truli', 'trust',\n",
       "       'truth', 'turn', 'tv', 'twelv', 'twenti', 'twentieth', 'twin',\n",
       "       'twist', 'type', 'ultim', 'um', 'uma', 'una', 'unabl', 'uncl',\n",
       "       'uncov', 'und', 'underground', 'understand', 'underworld', 'une',\n",
       "       'unexpect', 'unfinish', 'unfold', 'unforgett', 'uniqu', 'unit',\n",
       "       'univers', 'universe', 'unknown', 'unleash', 'unless', 'unlik',\n",
       "       'unravel', 'untuk', 'unusu', 'upsid', 'urban', 'urbanfantasi',\n",
       "       'usa', 'use', 'usual', 'utterli', 'valley', 'valu', 'vampir',\n",
       "       'vampire', 'van', 'vanish', 'variou', 'vast', 've', 'veri',\n",
       "       'version', 'viciou', 'victim', 'victorian', 'vida', 'view',\n",
       "       'villag', 'violenc', 'violence', 'violent', 'vision', 'visit',\n",
       "       'vivid', 'voic', 'voice', 'volum', 'volume', 'von', 'vow', 'wa',\n",
       "       'wait', 'wake', 'walk', 'wall', 'want', 'wants', 'war', 'warm',\n",
       "       'warn', 'warning', 'warrior', 'washington', 'wasn', 'watch',\n",
       "       'water', 'way', 'ways', 'wealth', 'wealthi', 'weapon', 'wear',\n",
       "       'weav', 'web', 'wed', 'week', 'welcom', 'went', 'werewolf',\n",
       "       'werewolv', 'west', 'western', 'whatev', 'whi', 'whisper', 'white',\n",
       "       'wick', 'wide', 'widow', 'wife', 'wil', 'wild', 'william', 'win',\n",
       "       'wind', 'window', 'wing', 'winner', 'winter', 'wisdom', 'wise',\n",
       "       'wish', 'wit', 'witch', 'wizard', 'wolf', 'woman', 'women',\n",
       "       'womensfict', 'won', 'wonder', 'wood', 'word', 'words', 'work',\n",
       "       'works', 'world', 'worlds', 'worldwarii', 'worri', 'wors', 'worse',\n",
       "       'worst', 'worth', 'wound', 'write', 'writer', 'written', 'wrong',\n",
       "       'wrote', 'www', 'ya', 'yang', 'year', 'years', 'york', 'young',\n",
       "       'youngadult', 'youngadultcontemporari', 'youngadultfantasi',\n",
       "       'younger', 'youth', 'zijn', 'zombi', 'zu', 'και', 'το', 'του',\n",
       "       'на', 'أن', 'أو', 'إلى', 'التي', 'الذي', 'العربية', 'الكتاب', 'به',\n",
       "       'بين', 'در', 'على', 'عن', 'فى', 'في', 'كان', 'كل', 'لا', 'لم',\n",
       "       'ما', 'من', 'هذا', 'هذه', 'هو', 'هي'], dtype=object)"
      ]
     },
     "execution_count": 71,
     "metadata": {},
     "output_type": "execute_result"
    }
   ],
   "source": [
    "cv.get_feature_names_out()"
   ]
  },
  {
   "cell_type": "markdown",
   "id": "21d0263d-c415-47c6-aca4-a341b26e34ac",
   "metadata": {},
   "source": [
    "In high-dimensional spaces, using Euclidean distance is often not ideal due to the \"curse of dimensionality,\" which can cause distance values to become less meaningful. Instead, cosine similarity is generally preferred, as it focuses on the angle between vectors rather than their magnitude, making it more effective for measuring similarity in sparse or high-dimensional feature spaces (such as TF-IDF or embeddings)."
   ]
  },
  {
   "cell_type": "code",
   "execution_count": 72,
   "id": "97991691-eb12-47b8-99a4-c1d7cf246828",
   "metadata": {},
   "outputs": [],
   "source": [
    "from sklearn.metrics.pairwise import cosine_similarity\n",
    "similarity_matrix = cosine_similarity(vectors, dense_output=False)"
   ]
  },
  {
   "cell_type": "code",
   "execution_count": 73,
   "id": "8c013714-5ac4-4d7b-86a7-3b93b6a4e55a",
   "metadata": {},
   "outputs": [],
   "source": [
    "sim_matrix = similarity_matrix.toarray()"
   ]
  },
  {
   "cell_type": "code",
   "execution_count": 84,
   "id": "8a18b24f-f268-48c4-a3b3-c7064ebd6ca0",
   "metadata": {},
   "outputs": [
    {
     "data": {
      "text/plain": [
       "(51856, 51856)"
      ]
     },
     "execution_count": 84,
     "metadata": {},
     "output_type": "execute_result"
    }
   ],
   "source": [
    "sim_matrix.shape"
   ]
  },
  {
   "cell_type": "code",
   "execution_count": 86,
   "id": "079d958d-c786-4f54-a0f8-cd0007f22563",
   "metadata": {},
   "outputs": [
    {
     "data": {
      "text/html": [
       "<div>\n",
       "<style scoped>\n",
       "    .dataframe tbody tr th:only-of-type {\n",
       "        vertical-align: middle;\n",
       "    }\n",
       "\n",
       "    .dataframe tbody tr th {\n",
       "        vertical-align: top;\n",
       "    }\n",
       "\n",
       "    .dataframe thead th {\n",
       "        text-align: right;\n",
       "    }\n",
       "</style>\n",
       "<table border=\"1\" class=\"dataframe\">\n",
       "  <thead>\n",
       "    <tr style=\"text-align: right;\">\n",
       "      <th></th>\n",
       "      <th>title</th>\n",
       "      <th>Tags</th>\n",
       "      <th>rating</th>\n",
       "      <th>bbeScore</th>\n",
       "    </tr>\n",
       "  </thead>\n",
       "  <tbody>\n",
       "    <tr>\n",
       "      <th>0</th>\n",
       "      <td>The Hunger Games</td>\n",
       "      <td>suzannecollin win mean fame and fortune.los mean certain death.th hunger game have begun. . . .in the ruin of a place onc known as north america lie the nation of panem, a shine capitol surround by twelv outli districts. the capitol is harsh and cruel and keep the district in line by forc them all to send one boy and onc girl between the age of twelv and eighteen to particip in the annual hunger games, a fight to the death on live tv.sixteen-year-old katniss everdeen regard it as a death sentenc when she step forward to take her sister' place in the games. but katniss ha been close to dead before—and survival, for her, is second nature. without realli mean to, she becom a contender. but if she is to win, she will have to start make choic that weight surviv against human and life against love. youngadult fiction dystopia fantasi sciencefict romanc adventur teen postapocalypt action</td>\n",
       "      <td>4.33</td>\n",
       "      <td>2993816</td>\n",
       "    </tr>\n",
       "    <tr>\n",
       "      <th>1</th>\n",
       "      <td>Harry Potter and the Order of the Phoenix</td>\n",
       "      <td>j.k.rowl there is a door at the end of a silent corridor. and it’ haunt harri pottter’ dreams. whi els would he be wake in the middl of the night, scream in terror?harri ha a lot on hi mind for this, hi fifth year at hogwarts: a defens against the dark art teacher with a person like poison honey; a big surpris on the gryffindor quidditch team; and the loom terror of the ordinari wizard level exams. but all these thing pale next to the grow threat of he-who-must-not-be-nam - a threat that neither the magic govern nor the author at hogwart can stop.a the grasp of dark tightens, harri must discov the true depth and strength of hi friends, the import of boundless loyalty, and the shock price of unbear sacrifice.hi fate depend on them all. fantasi youngadult fiction magic children adventur audiobook middlegrad classic sciencefictionfantasi</td>\n",
       "      <td>4.50</td>\n",
       "      <td>2632233</td>\n",
       "    </tr>\n",
       "    <tr>\n",
       "      <th>2</th>\n",
       "      <td>To Kill a Mockingbird</td>\n",
       "      <td>harperle the unforgett novel of a childhood in a sleepi southern town and the crisi of conscienc that rock it, to kill a mockingbird becam both an instant bestsel and a critic success when it wa first publish in 1960. it went on to win the pulitz prize in 1961 and wa later made into an academi award-win film, also a classic.compassionate, dramatic, and deepli moving, to kill a mockingbird take reader to the root of human behavior - to innoc and experience, kind and cruelty, love and hatred, humor and pathos. now with over 18 million copi in print and translat into forti languages, thi region stori by a young alabama woman claim univers appeal. harper lee alway consid her book to be a simpl love story. today it is regard as a masterpiec of american literature. classic fiction historicalfict school literatur youngadult histor novel readforschool highschool</td>\n",
       "      <td>4.28</td>\n",
       "      <td>2269402</td>\n",
       "    </tr>\n",
       "    <tr>\n",
       "      <th>3</th>\n",
       "      <td>Pride and Prejudice</td>\n",
       "      <td>janeausten altern cover edit of isbn 9780679783268sinc it immedi success in 1813, pride and prejudic ha remain one of the most popular novel in the english language. jane austen call thi brilliant work \"her own darl child\" and it vivaci heroine, elizabeth bennet, \"a delight a creatur as ever appear in print.\" the romant clash between the opinion elizabeth and her proud beau, mr. darcy, is a splendid perform of civil sparring. and jane austen' radiant wit sparkl as her charact danc a delic quadril of flirtat and intrigue, make thi book the most superb comedi of manner of regenc england. classic fiction romanc historicalfict literatur histor novel historicalrom classicliteratur adult</td>\n",
       "      <td>4.26</td>\n",
       "      <td>1983116</td>\n",
       "    </tr>\n",
       "    <tr>\n",
       "      <th>4</th>\n",
       "      <td>Twilight</td>\n",
       "      <td>stepheniemey about three thing i wa absolut positive. first, edward wa a vampire. second, there wa a part of him—and i didn't know how domin that part might be—that thirst for my blood. and third, i wa uncondit and irrevoc in love with him. deepli seduct and extraordinarili suspenseful, twilight is a love stori with bite. youngadult fantasi romanc vampir fiction paranorm paranormalrom supernatur teen urbanfantasi</td>\n",
       "      <td>3.60</td>\n",
       "      <td>1459448</td>\n",
       "    </tr>\n",
       "  </tbody>\n",
       "</table>\n",
       "</div>"
      ],
      "text/plain": [
       "                                       title  \\\n",
       "0                           The Hunger Games   \n",
       "1  Harry Potter and the Order of the Phoenix   \n",
       "2                      To Kill a Mockingbird   \n",
       "3                        Pride and Prejudice   \n",
       "4                                   Twilight   \n",
       "\n",
       "                                                                                                                                                                                                                                                                                                                                                                                                                                                                                                                                                                                                                                                                                                                                                                                                                                                                                                                            Tags  \\\n",
       "0  suzannecollin win mean fame and fortune.los mean certain death.th hunger game have begun. . . .in the ruin of a place onc known as north america lie the nation of panem, a shine capitol surround by twelv outli districts. the capitol is harsh and cruel and keep the district in line by forc them all to send one boy and onc girl between the age of twelv and eighteen to particip in the annual hunger games, a fight to the death on live tv.sixteen-year-old katniss everdeen regard it as a death sentenc when she step forward to take her sister' place in the games. but katniss ha been close to dead before—and survival, for her, is second nature. without realli mean to, she becom a contender. but if she is to win, she will have to start make choic that weight surviv against human and life against love. youngadult fiction dystopia fantasi sciencefict romanc adventur teen postapocalypt action   \n",
       "1                                                 j.k.rowl there is a door at the end of a silent corridor. and it’ haunt harri pottter’ dreams. whi els would he be wake in the middl of the night, scream in terror?harri ha a lot on hi mind for this, hi fifth year at hogwarts: a defens against the dark art teacher with a person like poison honey; a big surpris on the gryffindor quidditch team; and the loom terror of the ordinari wizard level exams. but all these thing pale next to the grow threat of he-who-must-not-be-nam - a threat that neither the magic govern nor the author at hogwart can stop.a the grasp of dark tightens, harri must discov the true depth and strength of hi friends, the import of boundless loyalty, and the shock price of unbear sacrifice.hi fate depend on them all. fantasi youngadult fiction magic children adventur audiobook middlegrad classic sciencefictionfantasi   \n",
       "2                             harperle the unforgett novel of a childhood in a sleepi southern town and the crisi of conscienc that rock it, to kill a mockingbird becam both an instant bestsel and a critic success when it wa first publish in 1960. it went on to win the pulitz prize in 1961 and wa later made into an academi award-win film, also a classic.compassionate, dramatic, and deepli moving, to kill a mockingbird take reader to the root of human behavior - to innoc and experience, kind and cruelty, love and hatred, humor and pathos. now with over 18 million copi in print and translat into forti languages, thi region stori by a young alabama woman claim univers appeal. harper lee alway consid her book to be a simpl love story. today it is regard as a masterpiec of american literature. classic fiction historicalfict school literatur youngadult histor novel readforschool highschool   \n",
       "3                                                                                                                                                                                                             janeausten altern cover edit of isbn 9780679783268sinc it immedi success in 1813, pride and prejudic ha remain one of the most popular novel in the english language. jane austen call thi brilliant work \"her own darl child\" and it vivaci heroine, elizabeth bennet, \"a delight a creatur as ever appear in print.\" the romant clash between the opinion elizabeth and her proud beau, mr. darcy, is a splendid perform of civil sparring. and jane austen' radiant wit sparkl as her charact danc a delic quadril of flirtat and intrigue, make thi book the most superb comedi of manner of regenc england. classic fiction romanc historicalfict literatur histor novel historicalrom classicliteratur adult   \n",
       "4                                                                                                                                                                                                                                                                                                                                                                                                                                                                                               stepheniemey about three thing i wa absolut positive. first, edward wa a vampire. second, there wa a part of him—and i didn't know how domin that part might be—that thirst for my blood. and third, i wa uncondit and irrevoc in love with him. deepli seduct and extraordinarili suspenseful, twilight is a love stori with bite. youngadult fantasi romanc vampir fiction paranorm paranormalrom supernatur teen urbanfantasi   \n",
       "\n",
       "   rating  bbeScore  \n",
       "0    4.33   2993816  \n",
       "1    4.50   2632233  \n",
       "2    4.28   2269402  \n",
       "3    4.26   1983116  \n",
       "4    3.60   1459448  "
      ]
     },
     "execution_count": 86,
     "metadata": {},
     "output_type": "execute_result"
    }
   ],
   "source": [
    "new_df.head()"
   ]
  },
  {
   "cell_type": "code",
   "execution_count": 112,
   "id": "bb0d0604-a429-4093-ab13-843ad84e6590",
   "metadata": {},
   "outputs": [],
   "source": [
    "def recommendation(book_name):\n",
    "    book_index = new_df[new_df[\"title\"] == book_name].index[0]\n",
    "    cosin_distance  = sim_matrix[book_index]\n",
    "    book_list = sorted(list(enumerate(cosin_distance)),reverse = True, key = lambda x:x[1])[1:6]\n",
    "    for book in book_list:\n",
    "        print(new_df.iloc[book[0]].title)\n",
    "    "
   ]
  },
  {
   "cell_type": "code",
   "execution_count": 116,
   "id": "1542cedc-1154-4cb1-ba84-d6fa8f28199a",
   "metadata": {},
   "outputs": [
    {
     "name": "stdout",
     "output_type": "stream",
     "text": [
      "Secret Vampire\n",
      "Loving Mr. Daniels\n",
      "Cole\n",
      "PineLight\n",
      "Love Lost Her Way\n"
     ]
    }
   ],
   "source": [
    "recommendation(\"Twilight\")"
   ]
  },
  {
   "cell_type": "code",
   "execution_count": 93,
   "id": "80411ef2-16ad-4286-989f-3cb222fc8331",
   "metadata": {},
   "outputs": [
    {
     "data": {
      "text/plain": [
       "np.int64(46002)"
      ]
     },
     "execution_count": 93,
     "metadata": {},
     "output_type": "execute_result"
    }
   ],
   "source": [
    "new_df[new_df[\"title\"] == \"Troublesome Young Men: The Rebels Who Brought Churchill to Power and Helped Save England\"].index[0]"
   ]
  },
  {
   "cell_type": "markdown",
   "id": "383208ed-dc95-48d9-842e-98b0dbecc808",
   "metadata": {},
   "source": [
    "# After using the countVector I cant able to find the recommendation system is not making better recomendation. So we are now going to use TF-IDF and lets see is that making any good changes "
   ]
  },
  {
   "cell_type": "code",
   "execution_count": 119,
   "id": "8b6ca93e-1785-49f1-b9f5-1fc13d02638d",
   "metadata": {},
   "outputs": [],
   "source": [
    "from sklearn.feature_extraction.text import TfidfVectorizer"
   ]
  },
  {
   "cell_type": "code",
   "execution_count": 124,
   "id": "52bfeb6f-d381-4c9c-b4fb-f2d5b80b1bfe",
   "metadata": {},
   "outputs": [],
   "source": [
    "tfidf = TfidfVectorizer(stop_words='english',\n",
    "    ngram_range=(1, 2),\n",
    "    max_df=0.8,\n",
    "    min_df=2)"
   ]
  },
  {
   "cell_type": "code",
   "execution_count": 125,
   "id": "18cbd453-8559-4190-a7f6-8d3b102c0659",
   "metadata": {},
   "outputs": [],
   "source": [
    "tfidf_matrix = tfidf.fit_transform(new_df[\"Tags\"])"
   ]
  },
  {
   "cell_type": "code",
   "execution_count": 127,
   "id": "8802cd00-b09f-47e5-b3f7-bdace71a8308",
   "metadata": {},
   "outputs": [
    {
     "ename": "MemoryError",
     "evalue": "Unable to allocate 16.6 GiB for an array with shape (2228130061,) and data type int64",
     "output_type": "error",
     "traceback": [
      "\u001b[31m---------------------------------------------------------------------------\u001b[39m",
      "\u001b[31mMemoryError\u001b[39m                               Traceback (most recent call last)",
      "\u001b[36mCell\u001b[39m\u001b[36m \u001b[39m\u001b[32mIn[127]\u001b[39m\u001b[32m, line 1\u001b[39m\n\u001b[32m----> \u001b[39m\u001b[32m1\u001b[39m cosine_sim = cosine_similarity(tfidf_matrix, tfidf_matrix)\n",
      "\u001b[36mFile \u001b[39m\u001b[32m~\\.conda\\envs\\rcs11\\Lib\\site-packages\\sklearn\\utils\\_param_validation.py:218\u001b[39m, in \u001b[36mvalidate_params.<locals>.decorator.<locals>.wrapper\u001b[39m\u001b[34m(*args, **kwargs)\u001b[39m\n\u001b[32m    212\u001b[39m \u001b[38;5;28;01mtry\u001b[39;00m:\n\u001b[32m    213\u001b[39m     \u001b[38;5;28;01mwith\u001b[39;00m config_context(\n\u001b[32m    214\u001b[39m         skip_parameter_validation=(\n\u001b[32m    215\u001b[39m             prefer_skip_nested_validation \u001b[38;5;129;01mor\u001b[39;00m global_skip_validation\n\u001b[32m    216\u001b[39m         )\n\u001b[32m    217\u001b[39m     ):\n\u001b[32m--> \u001b[39m\u001b[32m218\u001b[39m         \u001b[38;5;28;01mreturn\u001b[39;00m func(*args, **kwargs)\n\u001b[32m    219\u001b[39m \u001b[38;5;28;01mexcept\u001b[39;00m InvalidParameterError \u001b[38;5;28;01mas\u001b[39;00m e:\n\u001b[32m    220\u001b[39m     \u001b[38;5;66;03m# When the function is just a wrapper around an estimator, we allow\u001b[39;00m\n\u001b[32m    221\u001b[39m     \u001b[38;5;66;03m# the function to delegate validation to the estimator, but we replace\u001b[39;00m\n\u001b[32m    222\u001b[39m     \u001b[38;5;66;03m# the name of the estimator by the name of the function in the error\u001b[39;00m\n\u001b[32m    223\u001b[39m     \u001b[38;5;66;03m# message to avoid confusion.\u001b[39;00m\n\u001b[32m    224\u001b[39m     msg = re.sub(\n\u001b[32m    225\u001b[39m         \u001b[33mr\u001b[39m\u001b[33m\"\u001b[39m\u001b[33mparameter of \u001b[39m\u001b[33m\\\u001b[39m\u001b[33mw+ must be\u001b[39m\u001b[33m\"\u001b[39m,\n\u001b[32m    226\u001b[39m         \u001b[33mf\u001b[39m\u001b[33m\"\u001b[39m\u001b[33mparameter of \u001b[39m\u001b[38;5;132;01m{\u001b[39;00mfunc.\u001b[34m__qualname__\u001b[39m\u001b[38;5;132;01m}\u001b[39;00m\u001b[33m must be\u001b[39m\u001b[33m\"\u001b[39m,\n\u001b[32m    227\u001b[39m         \u001b[38;5;28mstr\u001b[39m(e),\n\u001b[32m    228\u001b[39m     )\n",
      "\u001b[36mFile \u001b[39m\u001b[32m~\\.conda\\envs\\rcs11\\Lib\\site-packages\\sklearn\\metrics\\pairwise.py:1736\u001b[39m, in \u001b[36mcosine_similarity\u001b[39m\u001b[34m(X, Y, dense_output)\u001b[39m\n\u001b[32m   1733\u001b[39m \u001b[38;5;28;01melse\u001b[39;00m:\n\u001b[32m   1734\u001b[39m     Y_normalized = normalize(Y, copy=\u001b[38;5;28;01mTrue\u001b[39;00m)\n\u001b[32m-> \u001b[39m\u001b[32m1736\u001b[39m K = safe_sparse_dot(X_normalized, Y_normalized.T, dense_output=dense_output)\n\u001b[32m   1738\u001b[39m \u001b[38;5;28;01mreturn\u001b[39;00m K\n",
      "\u001b[36mFile \u001b[39m\u001b[32m~\\.conda\\envs\\rcs11\\Lib\\site-packages\\sklearn\\utils\\extmath.py:203\u001b[39m, in \u001b[36msafe_sparse_dot\u001b[39m\u001b[34m(a, b, dense_output)\u001b[39m\n\u001b[32m    201\u001b[39m         ret = xp.tensordot(a, b, axes=[-\u001b[32m1\u001b[39m, b_axis])\n\u001b[32m    202\u001b[39m \u001b[38;5;28;01melse\u001b[39;00m:\n\u001b[32m--> \u001b[39m\u001b[32m203\u001b[39m     ret = a @ b\n\u001b[32m    205\u001b[39m \u001b[38;5;28;01mif\u001b[39;00m (\n\u001b[32m    206\u001b[39m     sparse.issparse(a)\n\u001b[32m    207\u001b[39m     \u001b[38;5;129;01mand\u001b[39;00m sparse.issparse(b)\n\u001b[32m    208\u001b[39m     \u001b[38;5;129;01mand\u001b[39;00m dense_output\n\u001b[32m    209\u001b[39m     \u001b[38;5;129;01mand\u001b[39;00m \u001b[38;5;28mhasattr\u001b[39m(ret, \u001b[33m\"\u001b[39m\u001b[33mtoarray\u001b[39m\u001b[33m\"\u001b[39m)\n\u001b[32m    210\u001b[39m ):\n\u001b[32m    211\u001b[39m     \u001b[38;5;28;01mreturn\u001b[39;00m ret.toarray()\n",
      "\u001b[36mFile \u001b[39m\u001b[32m~\\.conda\\envs\\rcs11\\Lib\\site-packages\\scipy\\sparse\\_base.py:908\u001b[39m, in \u001b[36m_spbase.__matmul__\u001b[39m\u001b[34m(self, other)\u001b[39m\n\u001b[32m    905\u001b[39m \u001b[38;5;28;01mif\u001b[39;00m isscalarlike(other):\n\u001b[32m    906\u001b[39m     \u001b[38;5;28;01mraise\u001b[39;00m \u001b[38;5;167;01mValueError\u001b[39;00m(\u001b[33m\"\u001b[39m\u001b[33mScalar operands are not allowed, \u001b[39m\u001b[33m\"\u001b[39m\n\u001b[32m    907\u001b[39m                      \u001b[33m\"\u001b[39m\u001b[33muse \u001b[39m\u001b[33m'\u001b[39m\u001b[33m*\u001b[39m\u001b[33m'\u001b[39m\u001b[33m instead\u001b[39m\u001b[33m\"\u001b[39m)\n\u001b[32m--> \u001b[39m\u001b[32m908\u001b[39m \u001b[38;5;28;01mreturn\u001b[39;00m \u001b[38;5;28mself\u001b[39m._matmul_dispatch(other)\n",
      "\u001b[36mFile \u001b[39m\u001b[32m~\\.conda\\envs\\rcs11\\Lib\\site-packages\\scipy\\sparse\\_base.py:812\u001b[39m, in \u001b[36m_spbase._matmul_dispatch\u001b[39m\u001b[34m(self, other)\u001b[39m\n\u001b[32m    808\u001b[39m     \u001b[38;5;28;01mif\u001b[39;00m N != other.shape[\u001b[32m0\u001b[39m]:\n\u001b[32m    809\u001b[39m         \u001b[38;5;28;01mraise\u001b[39;00m \u001b[38;5;167;01mValueError\u001b[39;00m(\n\u001b[32m    810\u001b[39m             \u001b[33mf\u001b[39m\u001b[33m\"\u001b[39m\u001b[38;5;132;01m{\u001b[39;00merr_prefix\u001b[38;5;132;01m}\u001b[39;00m\u001b[33m (n,k=\u001b[39m\u001b[38;5;132;01m{\u001b[39;00mN\u001b[38;5;132;01m}\u001b[39;00m\u001b[33m),(k=\u001b[39m\u001b[38;5;132;01m{\u001b[39;00mother.shape[\u001b[32m0\u001b[39m]\u001b[38;5;132;01m}\u001b[39;00m\u001b[33m,m)->(n,m)\u001b[39m\u001b[33m\"\u001b[39m\n\u001b[32m    811\u001b[39m         )\n\u001b[32m--> \u001b[39m\u001b[32m812\u001b[39m     \u001b[38;5;28;01mreturn\u001b[39;00m \u001b[38;5;28mself\u001b[39m._matmul_sparse(other)\n\u001b[32m    814\u001b[39m \u001b[38;5;66;03m# If it's a list or whatever, treat it like an array\u001b[39;00m\n\u001b[32m    815\u001b[39m other_a = np.asanyarray(other)\n",
      "\u001b[36mFile \u001b[39m\u001b[32m~\\.conda\\envs\\rcs11\\Lib\\site-packages\\scipy\\sparse\\_compressed.py:459\u001b[39m, in \u001b[36m_cs_matrix._matmul_sparse\u001b[39m\u001b[34m(self, other)\u001b[39m\n\u001b[32m    456\u001b[39m     o_indices = np.asarray(o.indices, dtype=idx_dtype)\n\u001b[32m    458\u001b[39m indptr = np.empty(M + \u001b[32m1\u001b[39m, dtype=idx_dtype)\n\u001b[32m--> \u001b[39m\u001b[32m459\u001b[39m indices = np.empty(nnz, dtype=idx_dtype)\n\u001b[32m    460\u001b[39m data = np.empty(nnz, dtype=upcast(\u001b[38;5;28mself\u001b[39m.dtype, other.dtype))\n\u001b[32m    462\u001b[39m csr_matmat(M, N,\n\u001b[32m    463\u001b[39m            s_indptr, s_indices, s.data,\n\u001b[32m    464\u001b[39m            o_indptr, o_indices, o.data,\n\u001b[32m    465\u001b[39m            indptr, indices, data)\n",
      "\u001b[31mMemoryError\u001b[39m: Unable to allocate 16.6 GiB for an array with shape (2228130061,) and data type int64"
     ]
    }
   ],
   "source": [
    "# cosine_sim = cosine_similarity(tfidf_matrix, tfidf_matrix)"
   ]
  },
  {
   "cell_type": "code",
   "execution_count": 133,
   "id": "b9761aa2-3ee2-4ceb-8d66-18d93fce1a52",
   "metadata": {},
   "outputs": [],
   "source": [
    "# Index map: title to row index\n",
    "indices = pd.Series(new_df.index, index=new_df['title']).drop_duplicates()\n",
    "\n",
    "def recommend_books(title, n=5):\n",
    "    idx = indices[title]\n",
    "    target_vec = tfidf_matrix[idx]\n",
    "    sim_scores = cosine_similarity(target_vec, tfidf_matrix).flatten()\n",
    "    sim_scores[idx] = 0  # Ignore self\n",
    "    \n",
    "    top_indices = sim_scores.argsort()[::-1]  # Sorted in descending order\n",
    "    top_indices = top_indices[:n]  # Only take top N\n",
    "    \n",
    "    # Safety check: filter out invalid indices\n",
    "    top_indices = [i for i in top_indices if i < len(new_df)]\n",
    "\n",
    "    return new_df.iloc[top_indices][['title', 'rating']]\n"
   ]
  },
  {
   "cell_type": "code",
   "execution_count": 135,
   "id": "df627cf5-e383-4d17-b245-d6a3d057c5d4",
   "metadata": {},
   "outputs": [
    {
     "data": {
      "text/html": [
       "<div>\n",
       "<style scoped>\n",
       "    .dataframe tbody tr th:only-of-type {\n",
       "        vertical-align: middle;\n",
       "    }\n",
       "\n",
       "    .dataframe tbody tr th {\n",
       "        vertical-align: top;\n",
       "    }\n",
       "\n",
       "    .dataframe thead th {\n",
       "        text-align: right;\n",
       "    }\n",
       "</style>\n",
       "<table border=\"1\" class=\"dataframe\">\n",
       "  <thead>\n",
       "    <tr style=\"text-align: right;\">\n",
       "      <th></th>\n",
       "      <th>title</th>\n",
       "      <th>rating</th>\n",
       "    </tr>\n",
       "  </thead>\n",
       "  <tbody>\n",
       "    <tr>\n",
       "      <th>46670</th>\n",
       "      <td>The Way Between the Worlds</td>\n",
       "      <td>4.02</td>\n",
       "    </tr>\n",
       "    <tr>\n",
       "      <th>15720</th>\n",
       "      <td>A Shadow on the Glass</td>\n",
       "      <td>3.76</td>\n",
       "    </tr>\n",
       "    <tr>\n",
       "      <th>15476</th>\n",
       "      <td>The Tower on the Rift</td>\n",
       "      <td>3.93</td>\n",
       "    </tr>\n",
       "    <tr>\n",
       "      <th>16385</th>\n",
       "      <td>Doors of Stone</td>\n",
       "      <td>3.72</td>\n",
       "    </tr>\n",
       "    <tr>\n",
       "      <th>35276</th>\n",
       "      <td>A Breath of Frost</td>\n",
       "      <td>3.91</td>\n",
       "    </tr>\n",
       "  </tbody>\n",
       "</table>\n",
       "</div>"
      ],
      "text/plain": [
       "                            title  rating\n",
       "46670  The Way Between the Worlds    4.02\n",
       "15720       A Shadow on the Glass    3.76\n",
       "15476       The Tower on the Rift    3.93\n",
       "16385              Doors of Stone    3.72\n",
       "35276           A Breath of Frost    3.91"
      ]
     },
     "execution_count": 135,
     "metadata": {},
     "output_type": "execute_result"
    }
   ],
   "source": [
    "recommend_books(\"Troublesome Young Men: The Rebels Who Brought Churchill to Power and Helped Save England\", 5)"
   ]
  },
  {
   "cell_type": "code",
   "execution_count": null,
   "id": "9fdf6506-3db5-46fc-9a5b-a625dc846b9a",
   "metadata": {},
   "outputs": [],
   "source": []
  }
 ],
 "metadata": {
  "kernelspec": {
   "display_name": "rcs11",
   "language": "python",
   "name": "rcs11"
  },
  "language_info": {
   "codemirror_mode": {
    "name": "ipython",
    "version": 3
   },
   "file_extension": ".py",
   "mimetype": "text/x-python",
   "name": "python",
   "nbconvert_exporter": "python",
   "pygments_lexer": "ipython3",
   "version": "3.11.13"
  }
 },
 "nbformat": 4,
 "nbformat_minor": 5
}
