{
 "cells": [
  {
   "cell_type": "code",
   "execution_count": 1,
   "id": "fc61c2a2-44e2-4c0f-be66-b3a28d414bf4",
   "metadata": {},
   "outputs": [],
   "source": [
    "import pandas as pd \n",
    "import numpy as np \n",
    "import plotly.express as px"
   ]
  },
  {
   "cell_type": "code",
   "execution_count": 2,
   "id": "2a13be22-6d76-44f1-9bc6-9e4863c04204",
   "metadata": {},
   "outputs": [],
   "source": [
    "pd.set_option(\"display.max_rows\",None)\n",
    "pd.set_option(\"display.max_columns\",None)"
   ]
  },
  {
   "cell_type": "code",
   "execution_count": 3,
   "id": "7fd52c41-61d5-4ded-8807-e6968420327f",
   "metadata": {},
   "outputs": [
    {
     "data": {
      "text/html": [
       "<div>\n",
       "<style scoped>\n",
       "    .dataframe tbody tr th:only-of-type {\n",
       "        vertical-align: middle;\n",
       "    }\n",
       "\n",
       "    .dataframe tbody tr th {\n",
       "        vertical-align: top;\n",
       "    }\n",
       "\n",
       "    .dataframe thead th {\n",
       "        text-align: right;\n",
       "    }\n",
       "</style>\n",
       "<table border=\"1\" class=\"dataframe\">\n",
       "  <thead>\n",
       "    <tr style=\"text-align: right;\">\n",
       "      <th></th>\n",
       "      <th>bookId</th>\n",
       "      <th>title</th>\n",
       "      <th>series</th>\n",
       "      <th>author</th>\n",
       "      <th>rating</th>\n",
       "      <th>description</th>\n",
       "      <th>language</th>\n",
       "      <th>isbn</th>\n",
       "      <th>genres</th>\n",
       "      <th>characters</th>\n",
       "      <th>bookFormat</th>\n",
       "      <th>edition</th>\n",
       "      <th>pages</th>\n",
       "      <th>publisher</th>\n",
       "      <th>publishDate</th>\n",
       "      <th>firstPublishDate</th>\n",
       "      <th>awards</th>\n",
       "      <th>numRatings</th>\n",
       "      <th>ratingsByStars</th>\n",
       "      <th>likedPercent</th>\n",
       "      <th>setting</th>\n",
       "      <th>coverImg</th>\n",
       "      <th>bbeScore</th>\n",
       "      <th>bbeVotes</th>\n",
       "      <th>price</th>\n",
       "    </tr>\n",
       "  </thead>\n",
       "  <tbody>\n",
       "    <tr>\n",
       "      <th>0</th>\n",
       "      <td>2767052-the-hunger-games</td>\n",
       "      <td>The Hunger Games</td>\n",
       "      <td>The Hunger Games #1</td>\n",
       "      <td>Suzanne Collins</td>\n",
       "      <td>4.33</td>\n",
       "      <td>WINNING MEANS FAME AND FORTUNE.LOSING MEANS CE...</td>\n",
       "      <td>English</td>\n",
       "      <td>9780439023481</td>\n",
       "      <td>['Young Adult', 'Fiction', 'Dystopia', 'Fantas...</td>\n",
       "      <td>['Katniss Everdeen', 'Peeta Mellark', 'Cato (H...</td>\n",
       "      <td>Hardcover</td>\n",
       "      <td>First Edition</td>\n",
       "      <td>374</td>\n",
       "      <td>Scholastic Press</td>\n",
       "      <td>09/14/08</td>\n",
       "      <td>NaN</td>\n",
       "      <td>['Locus Award Nominee for Best Young Adult Boo...</td>\n",
       "      <td>6376780</td>\n",
       "      <td>['3444695', '1921313', '745221', '171994', '93...</td>\n",
       "      <td>96.0</td>\n",
       "      <td>['District 12, Panem', 'Capitol, Panem', 'Pane...</td>\n",
       "      <td>https://i.gr-assets.com/images/S/compressed.ph...</td>\n",
       "      <td>2993816</td>\n",
       "      <td>30516</td>\n",
       "      <td>5.09</td>\n",
       "    </tr>\n",
       "    <tr>\n",
       "      <th>1</th>\n",
       "      <td>2.Harry_Potter_and_the_Order_of_the_Phoenix</td>\n",
       "      <td>Harry Potter and the Order of the Phoenix</td>\n",
       "      <td>Harry Potter #5</td>\n",
       "      <td>J.K. Rowling, Mary GrandPré (Illustrator)</td>\n",
       "      <td>4.50</td>\n",
       "      <td>There is a door at the end of a silent corrido...</td>\n",
       "      <td>English</td>\n",
       "      <td>9780439358071</td>\n",
       "      <td>['Fantasy', 'Young Adult', 'Fiction', 'Magic',...</td>\n",
       "      <td>['Sirius Black', 'Draco Malfoy', 'Ron Weasley'...</td>\n",
       "      <td>Paperback</td>\n",
       "      <td>US Edition</td>\n",
       "      <td>870</td>\n",
       "      <td>Scholastic Inc.</td>\n",
       "      <td>09/28/04</td>\n",
       "      <td>06/21/03</td>\n",
       "      <td>['Bram Stoker Award for Works for Young Reader...</td>\n",
       "      <td>2507623</td>\n",
       "      <td>['1593642', '637516', '222366', '39573', '14526']</td>\n",
       "      <td>98.0</td>\n",
       "      <td>['Hogwarts School of Witchcraft and Wizardry (...</td>\n",
       "      <td>https://i.gr-assets.com/images/S/compressed.ph...</td>\n",
       "      <td>2632233</td>\n",
       "      <td>26923</td>\n",
       "      <td>7.38</td>\n",
       "    </tr>\n",
       "    <tr>\n",
       "      <th>2</th>\n",
       "      <td>2657.To_Kill_a_Mockingbird</td>\n",
       "      <td>To Kill a Mockingbird</td>\n",
       "      <td>To Kill a Mockingbird</td>\n",
       "      <td>Harper Lee</td>\n",
       "      <td>4.28</td>\n",
       "      <td>The unforgettable novel of a childhood in a sl...</td>\n",
       "      <td>English</td>\n",
       "      <td>9999999999999</td>\n",
       "      <td>['Classics', 'Fiction', 'Historical Fiction', ...</td>\n",
       "      <td>['Scout Finch', 'Atticus Finch', 'Jem Finch', ...</td>\n",
       "      <td>Paperback</td>\n",
       "      <td>NaN</td>\n",
       "      <td>324</td>\n",
       "      <td>Harper Perennial Modern Classics</td>\n",
       "      <td>05/23/06</td>\n",
       "      <td>07/11/60</td>\n",
       "      <td>['Pulitzer Prize for Fiction (1961)', 'Audie A...</td>\n",
       "      <td>4501075</td>\n",
       "      <td>['2363896', '1333153', '573280', '149952', '80...</td>\n",
       "      <td>95.0</td>\n",
       "      <td>['Maycomb, Alabama (United States)']</td>\n",
       "      <td>https://i.gr-assets.com/images/S/compressed.ph...</td>\n",
       "      <td>2269402</td>\n",
       "      <td>23328</td>\n",
       "      <td>NaN</td>\n",
       "    </tr>\n",
       "    <tr>\n",
       "      <th>3</th>\n",
       "      <td>1885.Pride_and_Prejudice</td>\n",
       "      <td>Pride and Prejudice</td>\n",
       "      <td>NaN</td>\n",
       "      <td>Jane Austen, Anna Quindlen (Introduction)</td>\n",
       "      <td>4.26</td>\n",
       "      <td>Alternate cover edition of ISBN 9780679783268S...</td>\n",
       "      <td>English</td>\n",
       "      <td>9999999999999</td>\n",
       "      <td>['Classics', 'Fiction', 'Romance', 'Historical...</td>\n",
       "      <td>['Mr. Bennet', 'Mrs. Bennet', 'Jane Bennet', '...</td>\n",
       "      <td>Paperback</td>\n",
       "      <td>Modern Library Classics, USA / CAN</td>\n",
       "      <td>279</td>\n",
       "      <td>Modern Library</td>\n",
       "      <td>10/10/00</td>\n",
       "      <td>01/28/13</td>\n",
       "      <td>[]</td>\n",
       "      <td>2998241</td>\n",
       "      <td>['1617567', '816659', '373311', '113934', '767...</td>\n",
       "      <td>94.0</td>\n",
       "      <td>['United Kingdom', 'Derbyshire, England (Unite...</td>\n",
       "      <td>https://i.gr-assets.com/images/S/compressed.ph...</td>\n",
       "      <td>1983116</td>\n",
       "      <td>20452</td>\n",
       "      <td>NaN</td>\n",
       "    </tr>\n",
       "    <tr>\n",
       "      <th>4</th>\n",
       "      <td>41865.Twilight</td>\n",
       "      <td>Twilight</td>\n",
       "      <td>The Twilight Saga #1</td>\n",
       "      <td>Stephenie Meyer</td>\n",
       "      <td>3.60</td>\n",
       "      <td>About three things I was absolutely positive.\\...</td>\n",
       "      <td>English</td>\n",
       "      <td>9780316015844</td>\n",
       "      <td>['Young Adult', 'Fantasy', 'Romance', 'Vampire...</td>\n",
       "      <td>['Edward Cullen', 'Jacob Black', 'Laurent', 'R...</td>\n",
       "      <td>Paperback</td>\n",
       "      <td>NaN</td>\n",
       "      <td>501</td>\n",
       "      <td>Little, Brown and Company</td>\n",
       "      <td>09/06/06</td>\n",
       "      <td>10/05/05</td>\n",
       "      <td>['Georgia Peach Book Award (2007)', 'Buxtehude...</td>\n",
       "      <td>4964519</td>\n",
       "      <td>['1751460', '1113682', '1008686', '542017', '5...</td>\n",
       "      <td>78.0</td>\n",
       "      <td>['Forks, Washington (United States)', 'Phoenix...</td>\n",
       "      <td>https://i.gr-assets.com/images/S/compressed.ph...</td>\n",
       "      <td>1459448</td>\n",
       "      <td>14874</td>\n",
       "      <td>2.1</td>\n",
       "    </tr>\n",
       "  </tbody>\n",
       "</table>\n",
       "</div>"
      ],
      "text/plain": [
       "                                        bookId  \\\n",
       "0                     2767052-the-hunger-games   \n",
       "1  2.Harry_Potter_and_the_Order_of_the_Phoenix   \n",
       "2                   2657.To_Kill_a_Mockingbird   \n",
       "3                     1885.Pride_and_Prejudice   \n",
       "4                               41865.Twilight   \n",
       "\n",
       "                                       title                 series  \\\n",
       "0                           The Hunger Games    The Hunger Games #1   \n",
       "1  Harry Potter and the Order of the Phoenix        Harry Potter #5   \n",
       "2                      To Kill a Mockingbird  To Kill a Mockingbird   \n",
       "3                        Pride and Prejudice                    NaN   \n",
       "4                                   Twilight   The Twilight Saga #1   \n",
       "\n",
       "                                      author  rating  \\\n",
       "0                            Suzanne Collins    4.33   \n",
       "1  J.K. Rowling, Mary GrandPré (Illustrator)    4.50   \n",
       "2                                 Harper Lee    4.28   \n",
       "3  Jane Austen, Anna Quindlen (Introduction)    4.26   \n",
       "4                            Stephenie Meyer    3.60   \n",
       "\n",
       "                                         description language           isbn  \\\n",
       "0  WINNING MEANS FAME AND FORTUNE.LOSING MEANS CE...  English  9780439023481   \n",
       "1  There is a door at the end of a silent corrido...  English  9780439358071   \n",
       "2  The unforgettable novel of a childhood in a sl...  English  9999999999999   \n",
       "3  Alternate cover edition of ISBN 9780679783268S...  English  9999999999999   \n",
       "4  About three things I was absolutely positive.\\...  English  9780316015844   \n",
       "\n",
       "                                              genres  \\\n",
       "0  ['Young Adult', 'Fiction', 'Dystopia', 'Fantas...   \n",
       "1  ['Fantasy', 'Young Adult', 'Fiction', 'Magic',...   \n",
       "2  ['Classics', 'Fiction', 'Historical Fiction', ...   \n",
       "3  ['Classics', 'Fiction', 'Romance', 'Historical...   \n",
       "4  ['Young Adult', 'Fantasy', 'Romance', 'Vampire...   \n",
       "\n",
       "                                          characters bookFormat  \\\n",
       "0  ['Katniss Everdeen', 'Peeta Mellark', 'Cato (H...  Hardcover   \n",
       "1  ['Sirius Black', 'Draco Malfoy', 'Ron Weasley'...  Paperback   \n",
       "2  ['Scout Finch', 'Atticus Finch', 'Jem Finch', ...  Paperback   \n",
       "3  ['Mr. Bennet', 'Mrs. Bennet', 'Jane Bennet', '...  Paperback   \n",
       "4  ['Edward Cullen', 'Jacob Black', 'Laurent', 'R...  Paperback   \n",
       "\n",
       "                              edition pages                         publisher  \\\n",
       "0                       First Edition   374                  Scholastic Press   \n",
       "1                          US Edition   870                   Scholastic Inc.   \n",
       "2                                 NaN   324  Harper Perennial Modern Classics   \n",
       "3  Modern Library Classics, USA / CAN   279                    Modern Library   \n",
       "4                                 NaN   501         Little, Brown and Company   \n",
       "\n",
       "  publishDate firstPublishDate  \\\n",
       "0    09/14/08              NaN   \n",
       "1    09/28/04         06/21/03   \n",
       "2    05/23/06         07/11/60   \n",
       "3    10/10/00         01/28/13   \n",
       "4    09/06/06         10/05/05   \n",
       "\n",
       "                                              awards  numRatings  \\\n",
       "0  ['Locus Award Nominee for Best Young Adult Boo...     6376780   \n",
       "1  ['Bram Stoker Award for Works for Young Reader...     2507623   \n",
       "2  ['Pulitzer Prize for Fiction (1961)', 'Audie A...     4501075   \n",
       "3                                                 []     2998241   \n",
       "4  ['Georgia Peach Book Award (2007)', 'Buxtehude...     4964519   \n",
       "\n",
       "                                      ratingsByStars  likedPercent  \\\n",
       "0  ['3444695', '1921313', '745221', '171994', '93...          96.0   \n",
       "1  ['1593642', '637516', '222366', '39573', '14526']          98.0   \n",
       "2  ['2363896', '1333153', '573280', '149952', '80...          95.0   \n",
       "3  ['1617567', '816659', '373311', '113934', '767...          94.0   \n",
       "4  ['1751460', '1113682', '1008686', '542017', '5...          78.0   \n",
       "\n",
       "                                             setting  \\\n",
       "0  ['District 12, Panem', 'Capitol, Panem', 'Pane...   \n",
       "1  ['Hogwarts School of Witchcraft and Wizardry (...   \n",
       "2               ['Maycomb, Alabama (United States)']   \n",
       "3  ['United Kingdom', 'Derbyshire, England (Unite...   \n",
       "4  ['Forks, Washington (United States)', 'Phoenix...   \n",
       "\n",
       "                                            coverImg  bbeScore  bbeVotes price  \n",
       "0  https://i.gr-assets.com/images/S/compressed.ph...   2993816     30516  5.09  \n",
       "1  https://i.gr-assets.com/images/S/compressed.ph...   2632233     26923  7.38  \n",
       "2  https://i.gr-assets.com/images/S/compressed.ph...   2269402     23328   NaN  \n",
       "3  https://i.gr-assets.com/images/S/compressed.ph...   1983116     20452   NaN  \n",
       "4  https://i.gr-assets.com/images/S/compressed.ph...   1459448     14874   2.1  "
      ]
     },
     "execution_count": 3,
     "metadata": {},
     "output_type": "execute_result"
    }
   ],
   "source": [
    "df = pd.read_csv(\"Books_dataset.csv\")\n",
    "df.head()"
   ]
  },
  {
   "cell_type": "code",
   "execution_count": 4,
   "id": "aa8027eb-6b5b-4ae8-9d1a-d48f17746b02",
   "metadata": {},
   "outputs": [
    {
     "name": "stdout",
     "output_type": "stream",
     "text": [
      "Index(['bookId', 'title', 'series', 'author', 'rating', 'description',\n",
      "       'language', 'isbn', 'genres', 'characters', 'bookFormat', 'edition',\n",
      "       'pages', 'publisher', 'publishDate', 'firstPublishDate', 'awards',\n",
      "       'numRatings', 'ratingsByStars', 'likedPercent', 'setting', 'coverImg',\n",
      "       'bbeScore', 'bbeVotes', 'price'],\n",
      "      dtype='object')\n"
     ]
    }
   ],
   "source": [
    "print(df.columns)"
   ]
  },
  {
   "cell_type": "code",
   "execution_count": 5,
   "id": "59813c8c-45bc-44d5-bc7c-612e0c31b6a4",
   "metadata": {},
   "outputs": [
    {
     "name": "stdout",
     "output_type": "stream",
     "text": [
      "25\n"
     ]
    }
   ],
   "source": [
    "print(len(df.columns))"
   ]
  },
  {
   "cell_type": "code",
   "execution_count": 6,
   "id": "dce8410e-a43c-49e2-814a-e81b51ec59cd",
   "metadata": {},
   "outputs": [
    {
     "name": "stdout",
     "output_type": "stream",
     "text": [
      "             rating    numRatings  likedPercent      bbeScore      bbeVotes\n",
      "count  52478.000000  5.247800e+04  51856.000000  5.247800e+04  52478.000000\n",
      "mean       4.021878  1.787865e+04     92.231545  1.984023e+03     22.529003\n",
      "std        0.367146  1.039448e+05      5.990689  3.515314e+04    369.158541\n",
      "min        0.000000  0.000000e+00      0.000000  0.000000e+00     -4.000000\n",
      "25%        3.820000  3.410000e+02     90.000000  8.400000e+01      1.000000\n",
      "50%        4.030000  2.307000e+03     94.000000  9.700000e+01      1.000000\n",
      "75%        4.230000  9.380500e+03     96.000000  1.870000e+02      2.000000\n",
      "max        5.000000  7.048471e+06    100.000000  2.993816e+06  30516.000000\n"
     ]
    }
   ],
   "source": [
    "print(df.describe())"
   ]
  },
  {
   "cell_type": "markdown",
   "id": "7d0429f2-aa9a-49b1-81ec-a38f62fdeb22",
   "metadata": {},
   "source": [
    "We dont need all the columns for our recommendation system, so we are going to remove columns which or not adding value to the model."
   ]
  },
  {
   "cell_type": "code",
   "execution_count": 7,
   "id": "b3529ff5-691f-4636-90c8-8e99c4a72e27",
   "metadata": {},
   "outputs": [],
   "source": [
    "drop_columns = ['bookId','series','isbn','characters', 'bookFormat', 'edition','publisher', 'publishDate', 'firstPublishDate', 'awards',\n",
    "                'ratingsByStars','setting', 'coverImg','price']"
   ]
  },
  {
   "cell_type": "code",
   "execution_count": 8,
   "id": "2a09b4cc-8c6e-4213-bdc7-9df180b78464",
   "metadata": {},
   "outputs": [
    {
     "data": {
      "text/html": [
       "<div>\n",
       "<style scoped>\n",
       "    .dataframe tbody tr th:only-of-type {\n",
       "        vertical-align: middle;\n",
       "    }\n",
       "\n",
       "    .dataframe tbody tr th {\n",
       "        vertical-align: top;\n",
       "    }\n",
       "\n",
       "    .dataframe thead th {\n",
       "        text-align: right;\n",
       "    }\n",
       "</style>\n",
       "<table border=\"1\" class=\"dataframe\">\n",
       "  <thead>\n",
       "    <tr style=\"text-align: right;\">\n",
       "      <th></th>\n",
       "      <th>title</th>\n",
       "      <th>author</th>\n",
       "      <th>rating</th>\n",
       "      <th>description</th>\n",
       "      <th>language</th>\n",
       "      <th>genres</th>\n",
       "      <th>pages</th>\n",
       "      <th>numRatings</th>\n",
       "      <th>likedPercent</th>\n",
       "      <th>bbeScore</th>\n",
       "      <th>bbeVotes</th>\n",
       "    </tr>\n",
       "  </thead>\n",
       "  <tbody>\n",
       "    <tr>\n",
       "      <th>0</th>\n",
       "      <td>The Hunger Games</td>\n",
       "      <td>Suzanne Collins</td>\n",
       "      <td>4.33</td>\n",
       "      <td>WINNING MEANS FAME AND FORTUNE.LOSING MEANS CE...</td>\n",
       "      <td>English</td>\n",
       "      <td>['Young Adult', 'Fiction', 'Dystopia', 'Fantas...</td>\n",
       "      <td>374</td>\n",
       "      <td>6376780</td>\n",
       "      <td>96.0</td>\n",
       "      <td>2993816</td>\n",
       "      <td>30516</td>\n",
       "    </tr>\n",
       "    <tr>\n",
       "      <th>1</th>\n",
       "      <td>Harry Potter and the Order of the Phoenix</td>\n",
       "      <td>J.K. Rowling, Mary GrandPré (Illustrator)</td>\n",
       "      <td>4.50</td>\n",
       "      <td>There is a door at the end of a silent corrido...</td>\n",
       "      <td>English</td>\n",
       "      <td>['Fantasy', 'Young Adult', 'Fiction', 'Magic',...</td>\n",
       "      <td>870</td>\n",
       "      <td>2507623</td>\n",
       "      <td>98.0</td>\n",
       "      <td>2632233</td>\n",
       "      <td>26923</td>\n",
       "    </tr>\n",
       "    <tr>\n",
       "      <th>2</th>\n",
       "      <td>To Kill a Mockingbird</td>\n",
       "      <td>Harper Lee</td>\n",
       "      <td>4.28</td>\n",
       "      <td>The unforgettable novel of a childhood in a sl...</td>\n",
       "      <td>English</td>\n",
       "      <td>['Classics', 'Fiction', 'Historical Fiction', ...</td>\n",
       "      <td>324</td>\n",
       "      <td>4501075</td>\n",
       "      <td>95.0</td>\n",
       "      <td>2269402</td>\n",
       "      <td>23328</td>\n",
       "    </tr>\n",
       "    <tr>\n",
       "      <th>3</th>\n",
       "      <td>Pride and Prejudice</td>\n",
       "      <td>Jane Austen, Anna Quindlen (Introduction)</td>\n",
       "      <td>4.26</td>\n",
       "      <td>Alternate cover edition of ISBN 9780679783268S...</td>\n",
       "      <td>English</td>\n",
       "      <td>['Classics', 'Fiction', 'Romance', 'Historical...</td>\n",
       "      <td>279</td>\n",
       "      <td>2998241</td>\n",
       "      <td>94.0</td>\n",
       "      <td>1983116</td>\n",
       "      <td>20452</td>\n",
       "    </tr>\n",
       "    <tr>\n",
       "      <th>4</th>\n",
       "      <td>Twilight</td>\n",
       "      <td>Stephenie Meyer</td>\n",
       "      <td>3.60</td>\n",
       "      <td>About three things I was absolutely positive.\\...</td>\n",
       "      <td>English</td>\n",
       "      <td>['Young Adult', 'Fantasy', 'Romance', 'Vampire...</td>\n",
       "      <td>501</td>\n",
       "      <td>4964519</td>\n",
       "      <td>78.0</td>\n",
       "      <td>1459448</td>\n",
       "      <td>14874</td>\n",
       "    </tr>\n",
       "  </tbody>\n",
       "</table>\n",
       "</div>"
      ],
      "text/plain": [
       "                                       title  \\\n",
       "0                           The Hunger Games   \n",
       "1  Harry Potter and the Order of the Phoenix   \n",
       "2                      To Kill a Mockingbird   \n",
       "3                        Pride and Prejudice   \n",
       "4                                   Twilight   \n",
       "\n",
       "                                      author  rating  \\\n",
       "0                            Suzanne Collins    4.33   \n",
       "1  J.K. Rowling, Mary GrandPré (Illustrator)    4.50   \n",
       "2                                 Harper Lee    4.28   \n",
       "3  Jane Austen, Anna Quindlen (Introduction)    4.26   \n",
       "4                            Stephenie Meyer    3.60   \n",
       "\n",
       "                                         description language  \\\n",
       "0  WINNING MEANS FAME AND FORTUNE.LOSING MEANS CE...  English   \n",
       "1  There is a door at the end of a silent corrido...  English   \n",
       "2  The unforgettable novel of a childhood in a sl...  English   \n",
       "3  Alternate cover edition of ISBN 9780679783268S...  English   \n",
       "4  About three things I was absolutely positive.\\...  English   \n",
       "\n",
       "                                              genres pages  numRatings  \\\n",
       "0  ['Young Adult', 'Fiction', 'Dystopia', 'Fantas...   374     6376780   \n",
       "1  ['Fantasy', 'Young Adult', 'Fiction', 'Magic',...   870     2507623   \n",
       "2  ['Classics', 'Fiction', 'Historical Fiction', ...   324     4501075   \n",
       "3  ['Classics', 'Fiction', 'Romance', 'Historical...   279     2998241   \n",
       "4  ['Young Adult', 'Fantasy', 'Romance', 'Vampire...   501     4964519   \n",
       "\n",
       "   likedPercent  bbeScore  bbeVotes  \n",
       "0          96.0   2993816     30516  \n",
       "1          98.0   2632233     26923  \n",
       "2          95.0   2269402     23328  \n",
       "3          94.0   1983116     20452  \n",
       "4          78.0   1459448     14874  "
      ]
     },
     "execution_count": 8,
     "metadata": {},
     "output_type": "execute_result"
    }
   ],
   "source": [
    "df = df.drop(drop_columns, axis = 1)\n",
    "df.head()"
   ]
  },
  {
   "cell_type": "code",
   "execution_count": 9,
   "id": "836f6f25-c97f-4d96-8ec7-8db33ec5bcd8",
   "metadata": {},
   "outputs": [
    {
     "name": "stdout",
     "output_type": "stream",
     "text": [
      "<class 'pandas.core.frame.DataFrame'>\n",
      "RangeIndex: 52478 entries, 0 to 52477\n",
      "Data columns (total 11 columns):\n",
      " #   Column        Non-Null Count  Dtype  \n",
      "---  ------        --------------  -----  \n",
      " 0   title         52478 non-null  object \n",
      " 1   author        52478 non-null  object \n",
      " 2   rating        52478 non-null  float64\n",
      " 3   description   51140 non-null  object \n",
      " 4   language      48672 non-null  object \n",
      " 5   genres        52478 non-null  object \n",
      " 6   pages         50131 non-null  object \n",
      " 7   numRatings    52478 non-null  int64  \n",
      " 8   likedPercent  51856 non-null  float64\n",
      " 9   bbeScore      52478 non-null  int64  \n",
      " 10  bbeVotes      52478 non-null  int64  \n",
      "dtypes: float64(2), int64(3), object(6)\n",
      "memory usage: 4.4+ MB\n",
      "None\n"
     ]
    }
   ],
   "source": [
    "print(df.info())"
   ]
  },
  {
   "cell_type": "code",
   "execution_count": 10,
   "id": "dc7ac3a7-c8bc-4105-89ae-e06096f69109",
   "metadata": {},
   "outputs": [
    {
     "name": "stdout",
     "output_type": "stream",
     "text": [
      "title              0\n",
      "author             0\n",
      "rating             0\n",
      "description     1338\n",
      "language        3806\n",
      "genres             0\n",
      "pages           2347\n",
      "numRatings         0\n",
      "likedPercent     622\n",
      "bbeScore           0\n",
      "bbeVotes           0\n",
      "dtype: int64\n"
     ]
    }
   ],
   "source": [
    "print(df.isna().sum())"
   ]
  },
  {
   "cell_type": "code",
   "execution_count": 11,
   "id": "eb58a788-b8f4-43bb-98d1-dcf22e685d72",
   "metadata": {},
   "outputs": [
    {
     "name": "stdout",
     "output_type": "stream",
     "text": [
      "52478\n"
     ]
    }
   ],
   "source": [
    "print(len(df))"
   ]
  },
  {
   "cell_type": "markdown",
   "id": "ce53f52c-a268-4c2a-b85e-92ae3fd73168",
   "metadata": {},
   "source": [
    "As we can see we are missing really low amount of data like max 4000 data. we can easly populate it with mean data or we can drop based on the amount of missing values, so in our next step we are going to handle missing Values."
   ]
  },
  {
   "cell_type": "code",
   "execution_count": 12,
   "id": "eeecd43d-3e91-4bd0-9a59-bc558b6bc3de",
   "metadata": {},
   "outputs": [],
   "source": [
    "#Since Description is something which can not be populated using mean or another values we are going to replace it with NA\n",
    "df[\"description\"] = df[\"description\"].fillna(\"NA\")"
   ]
  },
  {
   "cell_type": "code",
   "execution_count": 13,
   "id": "1ac2a294-a473-4008-b613-61745dbce41d",
   "metadata": {},
   "outputs": [],
   "source": [
    "#Now lets take care of language we are going to replace the missing values with Unknow values since its an language its not not going to play major role\n",
    "df[\"language\"] = df[\"language\"].fillna(\"Unknow\")"
   ]
  },
  {
   "cell_type": "code",
   "execution_count": 14,
   "id": "45feefa1-8f87-419d-a3f5-cce386f26f6d",
   "metadata": {},
   "outputs": [],
   "source": [
    "#For now lets replace the null values with 100 pages \n",
    "df[\"pages\"] = df[\"pages\"].fillna(\"100\")"
   ]
  },
  {
   "cell_type": "code",
   "execution_count": 15,
   "id": "315cf2af-8331-4c91-86e0-1df70cf0ead8",
   "metadata": {},
   "outputs": [],
   "source": [
    "#Since the likedPrecent is really low i.e 600 out of 50k  we are going to drop it \n",
    "df = df.dropna(subset = [\"likedPercent\"])"
   ]
  },
  {
   "cell_type": "code",
   "execution_count": 16,
   "id": "46fbce88-b9a3-4258-ac9b-24ee01ce332c",
   "metadata": {},
   "outputs": [
    {
     "name": "stdout",
     "output_type": "stream",
     "text": [
      "title           0\n",
      "author          0\n",
      "rating          0\n",
      "description     0\n",
      "language        0\n",
      "genres          0\n",
      "pages           0\n",
      "numRatings      0\n",
      "likedPercent    0\n",
      "bbeScore        0\n",
      "bbeVotes        0\n",
      "dtype: int64\n"
     ]
    }
   ],
   "source": [
    "print(df.isna().sum())"
   ]
  },
  {
   "cell_type": "code",
   "execution_count": 17,
   "id": "50b315d2-ebfc-46af-9412-da227fb312a0",
   "metadata": {},
   "outputs": [
    {
     "data": {
      "text/html": [
       "<div>\n",
       "<style scoped>\n",
       "    .dataframe tbody tr th:only-of-type {\n",
       "        vertical-align: middle;\n",
       "    }\n",
       "\n",
       "    .dataframe tbody tr th {\n",
       "        vertical-align: top;\n",
       "    }\n",
       "\n",
       "    .dataframe thead th {\n",
       "        text-align: right;\n",
       "    }\n",
       "</style>\n",
       "<table border=\"1\" class=\"dataframe\">\n",
       "  <thead>\n",
       "    <tr style=\"text-align: right;\">\n",
       "      <th></th>\n",
       "      <th>title</th>\n",
       "      <th>author</th>\n",
       "      <th>rating</th>\n",
       "      <th>description</th>\n",
       "      <th>language</th>\n",
       "      <th>genres</th>\n",
       "      <th>pages</th>\n",
       "      <th>numRatings</th>\n",
       "      <th>likedPercent</th>\n",
       "      <th>bbeScore</th>\n",
       "      <th>bbeVotes</th>\n",
       "    </tr>\n",
       "  </thead>\n",
       "  <tbody>\n",
       "    <tr>\n",
       "      <th>0</th>\n",
       "      <td>The Hunger Games</td>\n",
       "      <td>Suzanne Collins</td>\n",
       "      <td>4.33</td>\n",
       "      <td>WINNING MEANS FAME AND FORTUNE.LOSING MEANS CE...</td>\n",
       "      <td>English</td>\n",
       "      <td>['Young Adult', 'Fiction', 'Dystopia', 'Fantas...</td>\n",
       "      <td>374</td>\n",
       "      <td>6376780</td>\n",
       "      <td>96.0</td>\n",
       "      <td>2993816</td>\n",
       "      <td>30516</td>\n",
       "    </tr>\n",
       "    <tr>\n",
       "      <th>1</th>\n",
       "      <td>Harry Potter and the Order of the Phoenix</td>\n",
       "      <td>J.K. Rowling, Mary GrandPré (Illustrator)</td>\n",
       "      <td>4.50</td>\n",
       "      <td>There is a door at the end of a silent corrido...</td>\n",
       "      <td>English</td>\n",
       "      <td>['Fantasy', 'Young Adult', 'Fiction', 'Magic',...</td>\n",
       "      <td>870</td>\n",
       "      <td>2507623</td>\n",
       "      <td>98.0</td>\n",
       "      <td>2632233</td>\n",
       "      <td>26923</td>\n",
       "    </tr>\n",
       "    <tr>\n",
       "      <th>2</th>\n",
       "      <td>To Kill a Mockingbird</td>\n",
       "      <td>Harper Lee</td>\n",
       "      <td>4.28</td>\n",
       "      <td>The unforgettable novel of a childhood in a sl...</td>\n",
       "      <td>English</td>\n",
       "      <td>['Classics', 'Fiction', 'Historical Fiction', ...</td>\n",
       "      <td>324</td>\n",
       "      <td>4501075</td>\n",
       "      <td>95.0</td>\n",
       "      <td>2269402</td>\n",
       "      <td>23328</td>\n",
       "    </tr>\n",
       "    <tr>\n",
       "      <th>3</th>\n",
       "      <td>Pride and Prejudice</td>\n",
       "      <td>Jane Austen, Anna Quindlen (Introduction)</td>\n",
       "      <td>4.26</td>\n",
       "      <td>Alternate cover edition of ISBN 9780679783268S...</td>\n",
       "      <td>English</td>\n",
       "      <td>['Classics', 'Fiction', 'Romance', 'Historical...</td>\n",
       "      <td>279</td>\n",
       "      <td>2998241</td>\n",
       "      <td>94.0</td>\n",
       "      <td>1983116</td>\n",
       "      <td>20452</td>\n",
       "    </tr>\n",
       "    <tr>\n",
       "      <th>4</th>\n",
       "      <td>Twilight</td>\n",
       "      <td>Stephenie Meyer</td>\n",
       "      <td>3.60</td>\n",
       "      <td>About three things I was absolutely positive.\\...</td>\n",
       "      <td>English</td>\n",
       "      <td>['Young Adult', 'Fantasy', 'Romance', 'Vampire...</td>\n",
       "      <td>501</td>\n",
       "      <td>4964519</td>\n",
       "      <td>78.0</td>\n",
       "      <td>1459448</td>\n",
       "      <td>14874</td>\n",
       "    </tr>\n",
       "  </tbody>\n",
       "</table>\n",
       "</div>"
      ],
      "text/plain": [
       "                                       title  \\\n",
       "0                           The Hunger Games   \n",
       "1  Harry Potter and the Order of the Phoenix   \n",
       "2                      To Kill a Mockingbird   \n",
       "3                        Pride and Prejudice   \n",
       "4                                   Twilight   \n",
       "\n",
       "                                      author  rating  \\\n",
       "0                            Suzanne Collins    4.33   \n",
       "1  J.K. Rowling, Mary GrandPré (Illustrator)    4.50   \n",
       "2                                 Harper Lee    4.28   \n",
       "3  Jane Austen, Anna Quindlen (Introduction)    4.26   \n",
       "4                            Stephenie Meyer    3.60   \n",
       "\n",
       "                                         description language  \\\n",
       "0  WINNING MEANS FAME AND FORTUNE.LOSING MEANS CE...  English   \n",
       "1  There is a door at the end of a silent corrido...  English   \n",
       "2  The unforgettable novel of a childhood in a sl...  English   \n",
       "3  Alternate cover edition of ISBN 9780679783268S...  English   \n",
       "4  About three things I was absolutely positive.\\...  English   \n",
       "\n",
       "                                              genres pages  numRatings  \\\n",
       "0  ['Young Adult', 'Fiction', 'Dystopia', 'Fantas...   374     6376780   \n",
       "1  ['Fantasy', 'Young Adult', 'Fiction', 'Magic',...   870     2507623   \n",
       "2  ['Classics', 'Fiction', 'Historical Fiction', ...   324     4501075   \n",
       "3  ['Classics', 'Fiction', 'Romance', 'Historical...   279     2998241   \n",
       "4  ['Young Adult', 'Fantasy', 'Romance', 'Vampire...   501     4964519   \n",
       "\n",
       "   likedPercent  bbeScore  bbeVotes  \n",
       "0          96.0   2993816     30516  \n",
       "1          98.0   2632233     26923  \n",
       "2          95.0   2269402     23328  \n",
       "3          94.0   1983116     20452  \n",
       "4          78.0   1459448     14874  "
      ]
     },
     "execution_count": 17,
     "metadata": {},
     "output_type": "execute_result"
    }
   ],
   "source": [
    "df.head()"
   ]
  },
  {
   "cell_type": "code",
   "execution_count": 18,
   "id": "72559249-2ee2-4433-86e1-c45d62bf9481",
   "metadata": {},
   "outputs": [],
   "source": [
    "pd.set_option(\"display.max_colwidth\", None)"
   ]
  },
  {
   "cell_type": "code",
   "execution_count": 19,
   "id": "eca7c6f4-7587-4d47-9ca1-fc11d710a82a",
   "metadata": {},
   "outputs": [],
   "source": [
    "# As you can see the genres are wrapped inside of an array od string lets take care of it\n",
    "def genres_preprocess(each_data):\n",
    "    return each_data[1:-1]\n",
    "df[\"genres\"] = df[\"genres\"].apply(genres_preprocess)"
   ]
  },
  {
   "cell_type": "code",
   "execution_count": 20,
   "id": "0883e60e-1123-4788-b65b-e529339a0f03",
   "metadata": {},
   "outputs": [
    {
     "data": {
      "text/html": [
       "<div>\n",
       "<style scoped>\n",
       "    .dataframe tbody tr th:only-of-type {\n",
       "        vertical-align: middle;\n",
       "    }\n",
       "\n",
       "    .dataframe tbody tr th {\n",
       "        vertical-align: top;\n",
       "    }\n",
       "\n",
       "    .dataframe thead th {\n",
       "        text-align: right;\n",
       "    }\n",
       "</style>\n",
       "<table border=\"1\" class=\"dataframe\">\n",
       "  <thead>\n",
       "    <tr style=\"text-align: right;\">\n",
       "      <th></th>\n",
       "      <th>title</th>\n",
       "      <th>author</th>\n",
       "      <th>rating</th>\n",
       "      <th>description</th>\n",
       "      <th>language</th>\n",
       "      <th>genres</th>\n",
       "      <th>pages</th>\n",
       "      <th>numRatings</th>\n",
       "      <th>likedPercent</th>\n",
       "      <th>bbeScore</th>\n",
       "      <th>bbeVotes</th>\n",
       "    </tr>\n",
       "  </thead>\n",
       "  <tbody>\n",
       "    <tr>\n",
       "      <th>0</th>\n",
       "      <td>The Hunger Games</td>\n",
       "      <td>Suzanne Collins</td>\n",
       "      <td>4.33</td>\n",
       "      <td>WINNING MEANS FAME AND FORTUNE.LOSING MEANS CERTAIN DEATH.THE HUNGER GAMES HAVE BEGUN. . . .In the ruins of a place once known as North America lies the nation of Panem, a shining Capitol surrounded by twelve outlying districts. The Capitol is harsh and cruel and keeps the districts in line by forcing them all to send one boy and once girl between the ages of twelve and eighteen to participate in the annual Hunger Games, a fight to the death on live TV.Sixteen-year-old Katniss Everdeen regards it as a death sentence when she steps forward to take her sister's place in the Games. But Katniss has been close to dead before—and survival, for her, is second nature. Without really meaning to, she becomes a contender. But if she is to win, she will have to start making choices that weight survival against humanity and life against love.</td>\n",
       "      <td>English</td>\n",
       "      <td>'Young Adult', 'Fiction', 'Dystopia', 'Fantasy', 'Science Fiction', 'Romance', 'Adventure', 'Teen', 'Post Apocalyptic', 'Action'</td>\n",
       "      <td>374</td>\n",
       "      <td>6376780</td>\n",
       "      <td>96.0</td>\n",
       "      <td>2993816</td>\n",
       "      <td>30516</td>\n",
       "    </tr>\n",
       "    <tr>\n",
       "      <th>1</th>\n",
       "      <td>Harry Potter and the Order of the Phoenix</td>\n",
       "      <td>J.K. Rowling, Mary GrandPré (Illustrator)</td>\n",
       "      <td>4.50</td>\n",
       "      <td>There is a door at the end of a silent corridor. And it’s haunting Harry Pottter’s dreams. Why else would he be waking in the middle of the night, screaming in terror?Harry has a lot on his mind for this, his fifth year at Hogwarts: a Defense Against the Dark Arts teacher with a personality like poisoned honey; a big surprise on the Gryffindor Quidditch team; and the looming terror of the Ordinary Wizarding Level exams. But all these things pale next to the growing threat of He-Who-Must-Not-Be-Named - a threat that neither the magical government nor the authorities at Hogwarts can stop.As the grasp of darkness tightens, Harry must discover the true depth and strength of his friends, the importance of boundless loyalty, and the shocking price of unbearable sacrifice.His fate depends on them all.</td>\n",
       "      <td>English</td>\n",
       "      <td>'Fantasy', 'Young Adult', 'Fiction', 'Magic', 'Childrens', 'Adventure', 'Audiobook', 'Middle Grade', 'Classics', 'Science Fiction Fantasy'</td>\n",
       "      <td>870</td>\n",
       "      <td>2507623</td>\n",
       "      <td>98.0</td>\n",
       "      <td>2632233</td>\n",
       "      <td>26923</td>\n",
       "    </tr>\n",
       "    <tr>\n",
       "      <th>2</th>\n",
       "      <td>To Kill a Mockingbird</td>\n",
       "      <td>Harper Lee</td>\n",
       "      <td>4.28</td>\n",
       "      <td>The unforgettable novel of a childhood in a sleepy Southern town and the crisis of conscience that rocked it, To Kill A Mockingbird became both an instant bestseller and a critical success when it was first published in 1960. It went on to win the Pulitzer Prize in 1961 and was later made into an Academy Award-winning film, also a classic.Compassionate, dramatic, and deeply moving, To Kill A Mockingbird takes readers to the roots of human behavior - to innocence and experience, kindness and cruelty, love and hatred, humor and pathos. Now with over 18 million copies in print and translated into forty languages, this regional story by a young Alabama woman claims universal appeal. Harper Lee always considered her book to be a simple love story. Today it is regarded as a masterpiece of American literature.</td>\n",
       "      <td>English</td>\n",
       "      <td>'Classics', 'Fiction', 'Historical Fiction', 'School', 'Literature', 'Young Adult', 'Historical', 'Novels', 'Read For School', 'High School'</td>\n",
       "      <td>324</td>\n",
       "      <td>4501075</td>\n",
       "      <td>95.0</td>\n",
       "      <td>2269402</td>\n",
       "      <td>23328</td>\n",
       "    </tr>\n",
       "    <tr>\n",
       "      <th>3</th>\n",
       "      <td>Pride and Prejudice</td>\n",
       "      <td>Jane Austen, Anna Quindlen (Introduction)</td>\n",
       "      <td>4.26</td>\n",
       "      <td>Alternate cover edition of ISBN 9780679783268Since its immediate success in 1813, Pride and Prejudice has remained one of the most popular novels in the English language. Jane Austen called this brilliant work \"her own darling child\" and its vivacious heroine, Elizabeth Bennet, \"as delightful a creature as ever appeared in print.\" The romantic clash between the opinionated Elizabeth and her proud beau, Mr. Darcy, is a splendid performance of civilized sparring. And Jane Austen's radiant wit sparkles as her characters dance a delicate quadrille of flirtation and intrigue, making this book the most superb comedy of manners of Regency England.</td>\n",
       "      <td>English</td>\n",
       "      <td>'Classics', 'Fiction', 'Romance', 'Historical Fiction', 'Literature', 'Historical', 'Novels', 'Historical Romance', 'Classic Literature', 'Adult'</td>\n",
       "      <td>279</td>\n",
       "      <td>2998241</td>\n",
       "      <td>94.0</td>\n",
       "      <td>1983116</td>\n",
       "      <td>20452</td>\n",
       "    </tr>\n",
       "    <tr>\n",
       "      <th>4</th>\n",
       "      <td>Twilight</td>\n",
       "      <td>Stephenie Meyer</td>\n",
       "      <td>3.60</td>\n",
       "      <td>About three things I was absolutely positive.\\n\\nFirst, Edward was a vampire.\\n\\nSecond, there was a part of him—and I didn't know how dominant that part might be—that thirsted for my blood.\\n\\nAnd third, I was unconditionally and irrevocably in love with him.\\n\\nDeeply seductive and extraordinarily suspenseful, Twilight is a love story with bite.</td>\n",
       "      <td>English</td>\n",
       "      <td>'Young Adult', 'Fantasy', 'Romance', 'Vampires', 'Fiction', 'Paranormal', 'Paranormal Romance', 'Supernatural', 'Teen', 'Urban Fantasy'</td>\n",
       "      <td>501</td>\n",
       "      <td>4964519</td>\n",
       "      <td>78.0</td>\n",
       "      <td>1459448</td>\n",
       "      <td>14874</td>\n",
       "    </tr>\n",
       "  </tbody>\n",
       "</table>\n",
       "</div>"
      ],
      "text/plain": [
       "                                       title  \\\n",
       "0                           The Hunger Games   \n",
       "1  Harry Potter and the Order of the Phoenix   \n",
       "2                      To Kill a Mockingbird   \n",
       "3                        Pride and Prejudice   \n",
       "4                                   Twilight   \n",
       "\n",
       "                                      author  rating  \\\n",
       "0                            Suzanne Collins    4.33   \n",
       "1  J.K. Rowling, Mary GrandPré (Illustrator)    4.50   \n",
       "2                                 Harper Lee    4.28   \n",
       "3  Jane Austen, Anna Quindlen (Introduction)    4.26   \n",
       "4                            Stephenie Meyer    3.60   \n",
       "\n",
       "                                                                                                                                                                                                                                                                                                                                                                                                                                                                                                                                                                                                                                                                                                                                                                                                                                                                 description  \\\n",
       "0  WINNING MEANS FAME AND FORTUNE.LOSING MEANS CERTAIN DEATH.THE HUNGER GAMES HAVE BEGUN. . . .In the ruins of a place once known as North America lies the nation of Panem, a shining Capitol surrounded by twelve outlying districts. The Capitol is harsh and cruel and keeps the districts in line by forcing them all to send one boy and once girl between the ages of twelve and eighteen to participate in the annual Hunger Games, a fight to the death on live TV.Sixteen-year-old Katniss Everdeen regards it as a death sentence when she steps forward to take her sister's place in the Games. But Katniss has been close to dead before—and survival, for her, is second nature. Without really meaning to, she becomes a contender. But if she is to win, she will have to start making choices that weight survival against humanity and life against love.   \n",
       "1                                      There is a door at the end of a silent corridor. And it’s haunting Harry Pottter’s dreams. Why else would he be waking in the middle of the night, screaming in terror?Harry has a lot on his mind for this, his fifth year at Hogwarts: a Defense Against the Dark Arts teacher with a personality like poisoned honey; a big surprise on the Gryffindor Quidditch team; and the looming terror of the Ordinary Wizarding Level exams. But all these things pale next to the growing threat of He-Who-Must-Not-Be-Named - a threat that neither the magical government nor the authorities at Hogwarts can stop.As the grasp of darkness tightens, Harry must discover the true depth and strength of his friends, the importance of boundless loyalty, and the shocking price of unbearable sacrifice.His fate depends on them all.   \n",
       "2                             The unforgettable novel of a childhood in a sleepy Southern town and the crisis of conscience that rocked it, To Kill A Mockingbird became both an instant bestseller and a critical success when it was first published in 1960. It went on to win the Pulitzer Prize in 1961 and was later made into an Academy Award-winning film, also a classic.Compassionate, dramatic, and deeply moving, To Kill A Mockingbird takes readers to the roots of human behavior - to innocence and experience, kindness and cruelty, love and hatred, humor and pathos. Now with over 18 million copies in print and translated into forty languages, this regional story by a young Alabama woman claims universal appeal. Harper Lee always considered her book to be a simple love story. Today it is regarded as a masterpiece of American literature.   \n",
       "3                                                                                                                                                                                                   Alternate cover edition of ISBN 9780679783268Since its immediate success in 1813, Pride and Prejudice has remained one of the most popular novels in the English language. Jane Austen called this brilliant work \"her own darling child\" and its vivacious heroine, Elizabeth Bennet, \"as delightful a creature as ever appeared in print.\" The romantic clash between the opinionated Elizabeth and her proud beau, Mr. Darcy, is a splendid performance of civilized sparring. And Jane Austen's radiant wit sparkles as her characters dance a delicate quadrille of flirtation and intrigue, making this book the most superb comedy of manners of Regency England.   \n",
       "4                                                                                                                                                                                                                                                                                                                                                                                                                                                                                                              About three things I was absolutely positive.\\n\\nFirst, Edward was a vampire.\\n\\nSecond, there was a part of him—and I didn't know how dominant that part might be—that thirsted for my blood.\\n\\nAnd third, I was unconditionally and irrevocably in love with him.\\n\\nDeeply seductive and extraordinarily suspenseful, Twilight is a love story with bite.   \n",
       "\n",
       "  language  \\\n",
       "0  English   \n",
       "1  English   \n",
       "2  English   \n",
       "3  English   \n",
       "4  English   \n",
       "\n",
       "                                                                                                                                              genres  \\\n",
       "0                   'Young Adult', 'Fiction', 'Dystopia', 'Fantasy', 'Science Fiction', 'Romance', 'Adventure', 'Teen', 'Post Apocalyptic', 'Action'   \n",
       "1         'Fantasy', 'Young Adult', 'Fiction', 'Magic', 'Childrens', 'Adventure', 'Audiobook', 'Middle Grade', 'Classics', 'Science Fiction Fantasy'   \n",
       "2       'Classics', 'Fiction', 'Historical Fiction', 'School', 'Literature', 'Young Adult', 'Historical', 'Novels', 'Read For School', 'High School'   \n",
       "3  'Classics', 'Fiction', 'Romance', 'Historical Fiction', 'Literature', 'Historical', 'Novels', 'Historical Romance', 'Classic Literature', 'Adult'   \n",
       "4            'Young Adult', 'Fantasy', 'Romance', 'Vampires', 'Fiction', 'Paranormal', 'Paranormal Romance', 'Supernatural', 'Teen', 'Urban Fantasy'   \n",
       "\n",
       "  pages  numRatings  likedPercent  bbeScore  bbeVotes  \n",
       "0   374     6376780          96.0   2993816     30516  \n",
       "1   870     2507623          98.0   2632233     26923  \n",
       "2   324     4501075          95.0   2269402     23328  \n",
       "3   279     2998241          94.0   1983116     20452  \n",
       "4   501     4964519          78.0   1459448     14874  "
      ]
     },
     "execution_count": 20,
     "metadata": {},
     "output_type": "execute_result"
    }
   ],
   "source": [
    "df.head()"
   ]
  },
  {
   "cell_type": "markdown",
   "id": "b7697ee3-3e95-4459-b1eb-ddaabb86754f",
   "metadata": {},
   "source": [
    "Now we have to deal with the author column. Below we will see what are the problem are in that columns and how we can solve them "
   ]
  },
  {
   "cell_type": "code",
   "execution_count": 21,
   "id": "03a8a0ba-40f1-4ac3-abb7-c21b013c2b61",
   "metadata": {},
   "outputs": [
    {
     "data": {
      "text/plain": [
       "27853"
      ]
     },
     "execution_count": 21,
     "metadata": {},
     "output_type": "execute_result"
    }
   ],
   "source": [
    "len(df.groupby(df[\"author\"]))"
   ]
  },
  {
   "cell_type": "markdown",
   "id": "a011e156-d3cc-4180-98c1-f68e88733957",
   "metadata": {},
   "source": [
    "As you can see we have around 28K of authors we should take a deep look inside of the column to get better understanding"
   ]
  },
  {
   "cell_type": "code",
   "execution_count": 22,
   "id": "380520bf-b65e-4ad7-bf69-cf4de28c67eb",
   "metadata": {},
   "outputs": [
    {
     "data": {
      "text/plain": [
       "20                                                                                                       Ray Bradbury\n",
       "21                                                                                   Veronica Roth (Goodreads Author)\n",
       "22                                                                                                    William Golding\n",
       "23           William Shakespeare, Paul Werstine (Editor), Barbara A. Mowat (Editor), Paavo Emil Cajander (Translator)\n",
       "24                       Paulo Coelho (Goodreads Author), Alan R. Clarke (Translator), James Noel Smith (Illustrator)\n",
       "25                                                                      Fyodor Dostoyevsky, David McDuff (Translator)\n",
       "26                                                                                                    Stephen Chbosky\n",
       "27                                                                      F. Scott Fitzgerald, Francis Scott Fitzgerald\n",
       "28                                                                                 Cassandra Clare (Goodreads Author)\n",
       "29                                            Orson Scott Card, Stefan Rudnicki (Narrator), Harlan Ellison (Narrator)\n",
       "30                                                                                Kathryn Stockett (Goodreads Author)\n",
       "31                                                                                                    L.M. Montgomery\n",
       "32                                                                          J.K. Rowling, Mary GrandPré (Illustrator)\n",
       "33    Antoine de Saint-Exupéry, Richard Howard (Translator), Ivan Minatti (Translator), Nguyễn Thành Vũ (Illustrator)\n",
       "34                                           E.B. White, Garth Williams (Illustrator), Rosemary Wells (Illustrations)\n",
       "35                                                                                                     John Steinbeck\n",
       "36                                                                              Audrey Niffenegger (Goodreads Author)\n",
       "37                                                        Bram Stoker, Nina Auerbach (Editor), David J. Skal (Editor)\n",
       "38                                                                                                      Aldous Huxley\n",
       "39                                                               Gabriel García Márquez, Gregory Rabassa (Translator)\n",
       "40                                                                                                      J.D. Salinger\n",
       "41                                                                                                    William Goldman\n",
       "42                                                                                    Rick Riordan (Goodreads Author)\n",
       "43                                                                                            Frances Hodgson Burnett\n",
       "44                                                                                 Khaled Hosseini (Goodreads Author)\n",
       "45                                                                                                  Madeleine L'Engle\n",
       "46                                                                                                 George R.R. Martin\n",
       "47                            Mark Twain, Guy Cardwell (Notes), John Seelye (Introduction), Walter Trier (Ilustrator)\n",
       "48                                                                                                       Alice Sebold\n",
       "49                                                                                     S.E. Hinton (Goodreads Author)\n",
       "50                                                                                                     Maurice Sendak\n",
       "51                                                                                                          Dr. Seuss\n",
       "52                                                     Homer, Robert Fagles (Translator), Bernard Knox (Introduction)\n",
       "53                                                                                                        Yann Martel\n",
       "54                                                             Charles Dickens, Richard Maxwell (Editor/Introduction)\n",
       "Name: author, dtype: object"
      ]
     },
     "execution_count": 22,
     "metadata": {},
     "output_type": "execute_result"
    }
   ],
   "source": [
    "df[\"author\"][20:55]"
   ]
  },
  {
   "cell_type": "markdown",
   "id": "35cff3a3-9199-4fc2-a8ba-4f55989ac6be",
   "metadata": {},
   "source": [
    "We've discovered that the author field often includes not just the author's name but also mentions of editors, illustrators, or even book titles. After research, we've identified that the first name listed typically refers to the main author. Additionally, in some entries, book titles appear in the bracket, which could introduce bias during model training. To ensure clean and consistent data, we will extract only the first name as the primary author and remove any unrelated or noisy information."
   ]
  },
  {
   "cell_type": "code",
   "execution_count": 23,
   "id": "05de4d1b-c876-45a2-a8f9-43894ebc82bc",
   "metadata": {},
   "outputs": [
    {
     "data": {
      "text/plain": [
       "'The Odyssey'"
      ]
     },
     "execution_count": 23,
     "metadata": {},
     "output_type": "execute_result"
    }
   ],
   "source": [
    "df[\"title\"][52]"
   ]
  },
  {
   "cell_type": "code",
   "execution_count": 24,
   "id": "e5043bd4-7b6a-4ead-9669-a4aebf381b1d",
   "metadata": {},
   "outputs": [],
   "source": [
    "df[\"author_alone\"] = df[\"author\"].apply(lambda x : x.split(\",\")[0].strip() if isinstance(x,str) else x)"
   ]
  },
  {
   "cell_type": "code",
   "execution_count": 25,
   "id": "493c24f0-30f1-43ce-93aa-11905f882879",
   "metadata": {},
   "outputs": [
    {
     "data": {
      "text/html": [
       "<div>\n",
       "<style scoped>\n",
       "    .dataframe tbody tr th:only-of-type {\n",
       "        vertical-align: middle;\n",
       "    }\n",
       "\n",
       "    .dataframe tbody tr th {\n",
       "        vertical-align: top;\n",
       "    }\n",
       "\n",
       "    .dataframe thead th {\n",
       "        text-align: right;\n",
       "    }\n",
       "</style>\n",
       "<table border=\"1\" class=\"dataframe\">\n",
       "  <thead>\n",
       "    <tr style=\"text-align: right;\">\n",
       "      <th></th>\n",
       "      <th>title</th>\n",
       "      <th>author</th>\n",
       "      <th>rating</th>\n",
       "      <th>description</th>\n",
       "      <th>language</th>\n",
       "      <th>genres</th>\n",
       "      <th>pages</th>\n",
       "      <th>numRatings</th>\n",
       "      <th>likedPercent</th>\n",
       "      <th>bbeScore</th>\n",
       "      <th>bbeVotes</th>\n",
       "      <th>author_alone</th>\n",
       "    </tr>\n",
       "  </thead>\n",
       "  <tbody>\n",
       "    <tr>\n",
       "      <th>0</th>\n",
       "      <td>The Hunger Games</td>\n",
       "      <td>Suzanne Collins</td>\n",
       "      <td>4.33</td>\n",
       "      <td>WINNING MEANS FAME AND FORTUNE.LOSING MEANS CERTAIN DEATH.THE HUNGER GAMES HAVE BEGUN. . . .In the ruins of a place once known as North America lies the nation of Panem, a shining Capitol surrounded by twelve outlying districts. The Capitol is harsh and cruel and keeps the districts in line by forcing them all to send one boy and once girl between the ages of twelve and eighteen to participate in the annual Hunger Games, a fight to the death on live TV.Sixteen-year-old Katniss Everdeen regards it as a death sentence when she steps forward to take her sister's place in the Games. But Katniss has been close to dead before—and survival, for her, is second nature. Without really meaning to, she becomes a contender. But if she is to win, she will have to start making choices that weight survival against humanity and life against love.</td>\n",
       "      <td>English</td>\n",
       "      <td>'Young Adult', 'Fiction', 'Dystopia', 'Fantasy', 'Science Fiction', 'Romance', 'Adventure', 'Teen', 'Post Apocalyptic', 'Action'</td>\n",
       "      <td>374</td>\n",
       "      <td>6376780</td>\n",
       "      <td>96.0</td>\n",
       "      <td>2993816</td>\n",
       "      <td>30516</td>\n",
       "      <td>Suzanne Collins</td>\n",
       "    </tr>\n",
       "    <tr>\n",
       "      <th>1</th>\n",
       "      <td>Harry Potter and the Order of the Phoenix</td>\n",
       "      <td>J.K. Rowling, Mary GrandPré (Illustrator)</td>\n",
       "      <td>4.50</td>\n",
       "      <td>There is a door at the end of a silent corridor. And it’s haunting Harry Pottter’s dreams. Why else would he be waking in the middle of the night, screaming in terror?Harry has a lot on his mind for this, his fifth year at Hogwarts: a Defense Against the Dark Arts teacher with a personality like poisoned honey; a big surprise on the Gryffindor Quidditch team; and the looming terror of the Ordinary Wizarding Level exams. But all these things pale next to the growing threat of He-Who-Must-Not-Be-Named - a threat that neither the magical government nor the authorities at Hogwarts can stop.As the grasp of darkness tightens, Harry must discover the true depth and strength of his friends, the importance of boundless loyalty, and the shocking price of unbearable sacrifice.His fate depends on them all.</td>\n",
       "      <td>English</td>\n",
       "      <td>'Fantasy', 'Young Adult', 'Fiction', 'Magic', 'Childrens', 'Adventure', 'Audiobook', 'Middle Grade', 'Classics', 'Science Fiction Fantasy'</td>\n",
       "      <td>870</td>\n",
       "      <td>2507623</td>\n",
       "      <td>98.0</td>\n",
       "      <td>2632233</td>\n",
       "      <td>26923</td>\n",
       "      <td>J.K. Rowling</td>\n",
       "    </tr>\n",
       "    <tr>\n",
       "      <th>2</th>\n",
       "      <td>To Kill a Mockingbird</td>\n",
       "      <td>Harper Lee</td>\n",
       "      <td>4.28</td>\n",
       "      <td>The unforgettable novel of a childhood in a sleepy Southern town and the crisis of conscience that rocked it, To Kill A Mockingbird became both an instant bestseller and a critical success when it was first published in 1960. It went on to win the Pulitzer Prize in 1961 and was later made into an Academy Award-winning film, also a classic.Compassionate, dramatic, and deeply moving, To Kill A Mockingbird takes readers to the roots of human behavior - to innocence and experience, kindness and cruelty, love and hatred, humor and pathos. Now with over 18 million copies in print and translated into forty languages, this regional story by a young Alabama woman claims universal appeal. Harper Lee always considered her book to be a simple love story. Today it is regarded as a masterpiece of American literature.</td>\n",
       "      <td>English</td>\n",
       "      <td>'Classics', 'Fiction', 'Historical Fiction', 'School', 'Literature', 'Young Adult', 'Historical', 'Novels', 'Read For School', 'High School'</td>\n",
       "      <td>324</td>\n",
       "      <td>4501075</td>\n",
       "      <td>95.0</td>\n",
       "      <td>2269402</td>\n",
       "      <td>23328</td>\n",
       "      <td>Harper Lee</td>\n",
       "    </tr>\n",
       "    <tr>\n",
       "      <th>3</th>\n",
       "      <td>Pride and Prejudice</td>\n",
       "      <td>Jane Austen, Anna Quindlen (Introduction)</td>\n",
       "      <td>4.26</td>\n",
       "      <td>Alternate cover edition of ISBN 9780679783268Since its immediate success in 1813, Pride and Prejudice has remained one of the most popular novels in the English language. Jane Austen called this brilliant work \"her own darling child\" and its vivacious heroine, Elizabeth Bennet, \"as delightful a creature as ever appeared in print.\" The romantic clash between the opinionated Elizabeth and her proud beau, Mr. Darcy, is a splendid performance of civilized sparring. And Jane Austen's radiant wit sparkles as her characters dance a delicate quadrille of flirtation and intrigue, making this book the most superb comedy of manners of Regency England.</td>\n",
       "      <td>English</td>\n",
       "      <td>'Classics', 'Fiction', 'Romance', 'Historical Fiction', 'Literature', 'Historical', 'Novels', 'Historical Romance', 'Classic Literature', 'Adult'</td>\n",
       "      <td>279</td>\n",
       "      <td>2998241</td>\n",
       "      <td>94.0</td>\n",
       "      <td>1983116</td>\n",
       "      <td>20452</td>\n",
       "      <td>Jane Austen</td>\n",
       "    </tr>\n",
       "    <tr>\n",
       "      <th>4</th>\n",
       "      <td>Twilight</td>\n",
       "      <td>Stephenie Meyer</td>\n",
       "      <td>3.60</td>\n",
       "      <td>About three things I was absolutely positive.\\n\\nFirst, Edward was a vampire.\\n\\nSecond, there was a part of him—and I didn't know how dominant that part might be—that thirsted for my blood.\\n\\nAnd third, I was unconditionally and irrevocably in love with him.\\n\\nDeeply seductive and extraordinarily suspenseful, Twilight is a love story with bite.</td>\n",
       "      <td>English</td>\n",
       "      <td>'Young Adult', 'Fantasy', 'Romance', 'Vampires', 'Fiction', 'Paranormal', 'Paranormal Romance', 'Supernatural', 'Teen', 'Urban Fantasy'</td>\n",
       "      <td>501</td>\n",
       "      <td>4964519</td>\n",
       "      <td>78.0</td>\n",
       "      <td>1459448</td>\n",
       "      <td>14874</td>\n",
       "      <td>Stephenie Meyer</td>\n",
       "    </tr>\n",
       "  </tbody>\n",
       "</table>\n",
       "</div>"
      ],
      "text/plain": [
       "                                       title  \\\n",
       "0                           The Hunger Games   \n",
       "1  Harry Potter and the Order of the Phoenix   \n",
       "2                      To Kill a Mockingbird   \n",
       "3                        Pride and Prejudice   \n",
       "4                                   Twilight   \n",
       "\n",
       "                                      author  rating  \\\n",
       "0                            Suzanne Collins    4.33   \n",
       "1  J.K. Rowling, Mary GrandPré (Illustrator)    4.50   \n",
       "2                                 Harper Lee    4.28   \n",
       "3  Jane Austen, Anna Quindlen (Introduction)    4.26   \n",
       "4                            Stephenie Meyer    3.60   \n",
       "\n",
       "                                                                                                                                                                                                                                                                                                                                                                                                                                                                                                                                                                                                                                                                                                                                                                                                                                                                 description  \\\n",
       "0  WINNING MEANS FAME AND FORTUNE.LOSING MEANS CERTAIN DEATH.THE HUNGER GAMES HAVE BEGUN. . . .In the ruins of a place once known as North America lies the nation of Panem, a shining Capitol surrounded by twelve outlying districts. The Capitol is harsh and cruel and keeps the districts in line by forcing them all to send one boy and once girl between the ages of twelve and eighteen to participate in the annual Hunger Games, a fight to the death on live TV.Sixteen-year-old Katniss Everdeen regards it as a death sentence when she steps forward to take her sister's place in the Games. But Katniss has been close to dead before—and survival, for her, is second nature. Without really meaning to, she becomes a contender. But if she is to win, she will have to start making choices that weight survival against humanity and life against love.   \n",
       "1                                      There is a door at the end of a silent corridor. And it’s haunting Harry Pottter’s dreams. Why else would he be waking in the middle of the night, screaming in terror?Harry has a lot on his mind for this, his fifth year at Hogwarts: a Defense Against the Dark Arts teacher with a personality like poisoned honey; a big surprise on the Gryffindor Quidditch team; and the looming terror of the Ordinary Wizarding Level exams. But all these things pale next to the growing threat of He-Who-Must-Not-Be-Named - a threat that neither the magical government nor the authorities at Hogwarts can stop.As the grasp of darkness tightens, Harry must discover the true depth and strength of his friends, the importance of boundless loyalty, and the shocking price of unbearable sacrifice.His fate depends on them all.   \n",
       "2                             The unforgettable novel of a childhood in a sleepy Southern town and the crisis of conscience that rocked it, To Kill A Mockingbird became both an instant bestseller and a critical success when it was first published in 1960. It went on to win the Pulitzer Prize in 1961 and was later made into an Academy Award-winning film, also a classic.Compassionate, dramatic, and deeply moving, To Kill A Mockingbird takes readers to the roots of human behavior - to innocence and experience, kindness and cruelty, love and hatred, humor and pathos. Now with over 18 million copies in print and translated into forty languages, this regional story by a young Alabama woman claims universal appeal. Harper Lee always considered her book to be a simple love story. Today it is regarded as a masterpiece of American literature.   \n",
       "3                                                                                                                                                                                                   Alternate cover edition of ISBN 9780679783268Since its immediate success in 1813, Pride and Prejudice has remained one of the most popular novels in the English language. Jane Austen called this brilliant work \"her own darling child\" and its vivacious heroine, Elizabeth Bennet, \"as delightful a creature as ever appeared in print.\" The romantic clash between the opinionated Elizabeth and her proud beau, Mr. Darcy, is a splendid performance of civilized sparring. And Jane Austen's radiant wit sparkles as her characters dance a delicate quadrille of flirtation and intrigue, making this book the most superb comedy of manners of Regency England.   \n",
       "4                                                                                                                                                                                                                                                                                                                                                                                                                                                                                                              About three things I was absolutely positive.\\n\\nFirst, Edward was a vampire.\\n\\nSecond, there was a part of him—and I didn't know how dominant that part might be—that thirsted for my blood.\\n\\nAnd third, I was unconditionally and irrevocably in love with him.\\n\\nDeeply seductive and extraordinarily suspenseful, Twilight is a love story with bite.   \n",
       "\n",
       "  language  \\\n",
       "0  English   \n",
       "1  English   \n",
       "2  English   \n",
       "3  English   \n",
       "4  English   \n",
       "\n",
       "                                                                                                                                              genres  \\\n",
       "0                   'Young Adult', 'Fiction', 'Dystopia', 'Fantasy', 'Science Fiction', 'Romance', 'Adventure', 'Teen', 'Post Apocalyptic', 'Action'   \n",
       "1         'Fantasy', 'Young Adult', 'Fiction', 'Magic', 'Childrens', 'Adventure', 'Audiobook', 'Middle Grade', 'Classics', 'Science Fiction Fantasy'   \n",
       "2       'Classics', 'Fiction', 'Historical Fiction', 'School', 'Literature', 'Young Adult', 'Historical', 'Novels', 'Read For School', 'High School'   \n",
       "3  'Classics', 'Fiction', 'Romance', 'Historical Fiction', 'Literature', 'Historical', 'Novels', 'Historical Romance', 'Classic Literature', 'Adult'   \n",
       "4            'Young Adult', 'Fantasy', 'Romance', 'Vampires', 'Fiction', 'Paranormal', 'Paranormal Romance', 'Supernatural', 'Teen', 'Urban Fantasy'   \n",
       "\n",
       "  pages  numRatings  likedPercent  bbeScore  bbeVotes     author_alone  \n",
       "0   374     6376780          96.0   2993816     30516  Suzanne Collins  \n",
       "1   870     2507623          98.0   2632233     26923     J.K. Rowling  \n",
       "2   324     4501075          95.0   2269402     23328       Harper Lee  \n",
       "3   279     2998241          94.0   1983116     20452      Jane Austen  \n",
       "4   501     4964519          78.0   1459448     14874  Stephenie Meyer  "
      ]
     },
     "execution_count": 25,
     "metadata": {},
     "output_type": "execute_result"
    }
   ],
   "source": [
    "df.head()"
   ]
  },
  {
   "cell_type": "code",
   "execution_count": 26,
   "id": "0e70a093-56a1-4300-b82d-3d0bdeecba9c",
   "metadata": {},
   "outputs": [
    {
     "data": {
      "text/plain": [
       "np.int64(51856)"
      ]
     },
     "execution_count": 26,
     "metadata": {},
     "output_type": "execute_result"
    }
   ],
   "source": [
    "df[\"author_alone\"].value_counts().sum()"
   ]
  },
  {
   "cell_type": "code",
   "execution_count": 27,
   "id": "0b8cd5a2-4446-4241-9f28-77e92ffe1e04",
   "metadata": {},
   "outputs": [
    {
     "name": "stdout",
     "output_type": "stream",
     "text": [
      "23156\n"
     ]
    }
   ],
   "source": [
    "print(len(df.groupby(\"author_alone\")))"
   ]
  },
  {
   "cell_type": "code",
   "execution_count": 28,
   "id": "0d3c1e28-ad83-4e3f-b182-55a7db943f64",
   "metadata": {},
   "outputs": [],
   "source": [
    "df[\"author_alone\"] = df[\"author_alone\"].str.strip().str.lower()"
   ]
  },
  {
   "cell_type": "code",
   "execution_count": 29,
   "id": "e6ee5e6b-1ded-47cd-b734-e171f407463b",
   "metadata": {},
   "outputs": [
    {
     "name": "stdout",
     "output_type": "stream",
     "text": [
      "23151\n"
     ]
    }
   ],
   "source": [
    "print(len(df.groupby(\"author_alone\")))"
   ]
  },
  {
   "cell_type": "code",
   "execution_count": 30,
   "id": "b3bc5af6-9660-4f0f-811e-c906efb3ce82",
   "metadata": {},
   "outputs": [
    {
     "data": {
      "text/html": [
       "<div>\n",
       "<style scoped>\n",
       "    .dataframe tbody tr th:only-of-type {\n",
       "        vertical-align: middle;\n",
       "    }\n",
       "\n",
       "    .dataframe tbody tr th {\n",
       "        vertical-align: top;\n",
       "    }\n",
       "\n",
       "    .dataframe thead th {\n",
       "        text-align: right;\n",
       "    }\n",
       "</style>\n",
       "<table border=\"1\" class=\"dataframe\">\n",
       "  <thead>\n",
       "    <tr style=\"text-align: right;\">\n",
       "      <th></th>\n",
       "      <th>title</th>\n",
       "      <th>author</th>\n",
       "      <th>rating</th>\n",
       "      <th>description</th>\n",
       "      <th>language</th>\n",
       "      <th>genres</th>\n",
       "      <th>pages</th>\n",
       "      <th>numRatings</th>\n",
       "      <th>likedPercent</th>\n",
       "      <th>bbeScore</th>\n",
       "      <th>bbeVotes</th>\n",
       "      <th>author_alone</th>\n",
       "    </tr>\n",
       "  </thead>\n",
       "  <tbody>\n",
       "    <tr>\n",
       "      <th>0</th>\n",
       "      <td>The Hunger Games</td>\n",
       "      <td>Suzanne Collins</td>\n",
       "      <td>4.33</td>\n",
       "      <td>WINNING MEANS FAME AND FORTUNE.LOSING MEANS CERTAIN DEATH.THE HUNGER GAMES HAVE BEGUN. . . .In the ruins of a place once known as North America lies the nation of Panem, a shining Capitol surrounded by twelve outlying districts. The Capitol is harsh and cruel and keeps the districts in line by forcing them all to send one boy and once girl between the ages of twelve and eighteen to participate in the annual Hunger Games, a fight to the death on live TV.Sixteen-year-old Katniss Everdeen regards it as a death sentence when she steps forward to take her sister's place in the Games. But Katniss has been close to dead before—and survival, for her, is second nature. Without really meaning to, she becomes a contender. But if she is to win, she will have to start making choices that weight survival against humanity and life against love.</td>\n",
       "      <td>English</td>\n",
       "      <td>'Young Adult', 'Fiction', 'Dystopia', 'Fantasy', 'Science Fiction', 'Romance', 'Adventure', 'Teen', 'Post Apocalyptic', 'Action'</td>\n",
       "      <td>374</td>\n",
       "      <td>6376780</td>\n",
       "      <td>96.0</td>\n",
       "      <td>2993816</td>\n",
       "      <td>30516</td>\n",
       "      <td>suzanne collins</td>\n",
       "    </tr>\n",
       "    <tr>\n",
       "      <th>1</th>\n",
       "      <td>Harry Potter and the Order of the Phoenix</td>\n",
       "      <td>J.K. Rowling, Mary GrandPré (Illustrator)</td>\n",
       "      <td>4.50</td>\n",
       "      <td>There is a door at the end of a silent corridor. And it’s haunting Harry Pottter’s dreams. Why else would he be waking in the middle of the night, screaming in terror?Harry has a lot on his mind for this, his fifth year at Hogwarts: a Defense Against the Dark Arts teacher with a personality like poisoned honey; a big surprise on the Gryffindor Quidditch team; and the looming terror of the Ordinary Wizarding Level exams. But all these things pale next to the growing threat of He-Who-Must-Not-Be-Named - a threat that neither the magical government nor the authorities at Hogwarts can stop.As the grasp of darkness tightens, Harry must discover the true depth and strength of his friends, the importance of boundless loyalty, and the shocking price of unbearable sacrifice.His fate depends on them all.</td>\n",
       "      <td>English</td>\n",
       "      <td>'Fantasy', 'Young Adult', 'Fiction', 'Magic', 'Childrens', 'Adventure', 'Audiobook', 'Middle Grade', 'Classics', 'Science Fiction Fantasy'</td>\n",
       "      <td>870</td>\n",
       "      <td>2507623</td>\n",
       "      <td>98.0</td>\n",
       "      <td>2632233</td>\n",
       "      <td>26923</td>\n",
       "      <td>j.k. rowling</td>\n",
       "    </tr>\n",
       "    <tr>\n",
       "      <th>2</th>\n",
       "      <td>To Kill a Mockingbird</td>\n",
       "      <td>Harper Lee</td>\n",
       "      <td>4.28</td>\n",
       "      <td>The unforgettable novel of a childhood in a sleepy Southern town and the crisis of conscience that rocked it, To Kill A Mockingbird became both an instant bestseller and a critical success when it was first published in 1960. It went on to win the Pulitzer Prize in 1961 and was later made into an Academy Award-winning film, also a classic.Compassionate, dramatic, and deeply moving, To Kill A Mockingbird takes readers to the roots of human behavior - to innocence and experience, kindness and cruelty, love and hatred, humor and pathos. Now with over 18 million copies in print and translated into forty languages, this regional story by a young Alabama woman claims universal appeal. Harper Lee always considered her book to be a simple love story. Today it is regarded as a masterpiece of American literature.</td>\n",
       "      <td>English</td>\n",
       "      <td>'Classics', 'Fiction', 'Historical Fiction', 'School', 'Literature', 'Young Adult', 'Historical', 'Novels', 'Read For School', 'High School'</td>\n",
       "      <td>324</td>\n",
       "      <td>4501075</td>\n",
       "      <td>95.0</td>\n",
       "      <td>2269402</td>\n",
       "      <td>23328</td>\n",
       "      <td>harper lee</td>\n",
       "    </tr>\n",
       "  </tbody>\n",
       "</table>\n",
       "</div>"
      ],
      "text/plain": [
       "                                       title  \\\n",
       "0                           The Hunger Games   \n",
       "1  Harry Potter and the Order of the Phoenix   \n",
       "2                      To Kill a Mockingbird   \n",
       "\n",
       "                                      author  rating  \\\n",
       "0                            Suzanne Collins    4.33   \n",
       "1  J.K. Rowling, Mary GrandPré (Illustrator)    4.50   \n",
       "2                                 Harper Lee    4.28   \n",
       "\n",
       "                                                                                                                                                                                                                                                                                                                                                                                                                                                                                                                                                                                                                                                                                                                                                                                                                                                                 description  \\\n",
       "0  WINNING MEANS FAME AND FORTUNE.LOSING MEANS CERTAIN DEATH.THE HUNGER GAMES HAVE BEGUN. . . .In the ruins of a place once known as North America lies the nation of Panem, a shining Capitol surrounded by twelve outlying districts. The Capitol is harsh and cruel and keeps the districts in line by forcing them all to send one boy and once girl between the ages of twelve and eighteen to participate in the annual Hunger Games, a fight to the death on live TV.Sixteen-year-old Katniss Everdeen regards it as a death sentence when she steps forward to take her sister's place in the Games. But Katniss has been close to dead before—and survival, for her, is second nature. Without really meaning to, she becomes a contender. But if she is to win, she will have to start making choices that weight survival against humanity and life against love.   \n",
       "1                                      There is a door at the end of a silent corridor. And it’s haunting Harry Pottter’s dreams. Why else would he be waking in the middle of the night, screaming in terror?Harry has a lot on his mind for this, his fifth year at Hogwarts: a Defense Against the Dark Arts teacher with a personality like poisoned honey; a big surprise on the Gryffindor Quidditch team; and the looming terror of the Ordinary Wizarding Level exams. But all these things pale next to the growing threat of He-Who-Must-Not-Be-Named - a threat that neither the magical government nor the authorities at Hogwarts can stop.As the grasp of darkness tightens, Harry must discover the true depth and strength of his friends, the importance of boundless loyalty, and the shocking price of unbearable sacrifice.His fate depends on them all.   \n",
       "2                             The unforgettable novel of a childhood in a sleepy Southern town and the crisis of conscience that rocked it, To Kill A Mockingbird became both an instant bestseller and a critical success when it was first published in 1960. It went on to win the Pulitzer Prize in 1961 and was later made into an Academy Award-winning film, also a classic.Compassionate, dramatic, and deeply moving, To Kill A Mockingbird takes readers to the roots of human behavior - to innocence and experience, kindness and cruelty, love and hatred, humor and pathos. Now with over 18 million copies in print and translated into forty languages, this regional story by a young Alabama woman claims universal appeal. Harper Lee always considered her book to be a simple love story. Today it is regarded as a masterpiece of American literature.   \n",
       "\n",
       "  language  \\\n",
       "0  English   \n",
       "1  English   \n",
       "2  English   \n",
       "\n",
       "                                                                                                                                         genres  \\\n",
       "0              'Young Adult', 'Fiction', 'Dystopia', 'Fantasy', 'Science Fiction', 'Romance', 'Adventure', 'Teen', 'Post Apocalyptic', 'Action'   \n",
       "1    'Fantasy', 'Young Adult', 'Fiction', 'Magic', 'Childrens', 'Adventure', 'Audiobook', 'Middle Grade', 'Classics', 'Science Fiction Fantasy'   \n",
       "2  'Classics', 'Fiction', 'Historical Fiction', 'School', 'Literature', 'Young Adult', 'Historical', 'Novels', 'Read For School', 'High School'   \n",
       "\n",
       "  pages  numRatings  likedPercent  bbeScore  bbeVotes     author_alone  \n",
       "0   374     6376780          96.0   2993816     30516  suzanne collins  \n",
       "1   870     2507623          98.0   2632233     26923     j.k. rowling  \n",
       "2   324     4501075          95.0   2269402     23328       harper lee  "
      ]
     },
     "execution_count": 30,
     "metadata": {},
     "output_type": "execute_result"
    }
   ],
   "source": [
    "df.head(3)"
   ]
  },
  {
   "cell_type": "code",
   "execution_count": 31,
   "id": "1fefa116-38e9-4f88-90a7-09794b894485",
   "metadata": {},
   "outputs": [
    {
     "data": {
      "text/plain": [
       "np.int64(0)"
      ]
     },
     "execution_count": 31,
     "metadata": {},
     "output_type": "execute_result"
    }
   ],
   "source": [
    "(df[\"author_alone\"] == \"j. k. rowling\").sum()"
   ]
  },
  {
   "cell_type": "code",
   "execution_count": 32,
   "id": "64ef2085-f614-401a-8f08-937db340e8ae",
   "metadata": {},
   "outputs": [],
   "source": [
    "# now lets take care of the titles inside of the brackets \n",
    "df[\"author_alone\"] = df[\"author_alone\"].apply(lambda x : x.split(\"(\")[0].strip() if isinstance(x,str) else x)"
   ]
  },
  {
   "cell_type": "code",
   "execution_count": 33,
   "id": "4fa7fbb1-ffa0-43f7-bffd-3252b0ca9032",
   "metadata": {},
   "outputs": [],
   "source": [
    "df[\"author_alone\"] = df[\"author_alone\"].astype(\"string\")"
   ]
  },
  {
   "cell_type": "code",
   "execution_count": 34,
   "id": "773e50a4-5dbe-4223-bbdd-0de16958de27",
   "metadata": {},
   "outputs": [
    {
     "data": {
      "text/plain": [
       "20                ray bradbury\n",
       "21               veronica roth\n",
       "22             william golding\n",
       "23         william shakespeare\n",
       "24                paulo coelho\n",
       "25          fyodor dostoyevsky\n",
       "26             stephen chbosky\n",
       "27         f. scott fitzgerald\n",
       "28             cassandra clare\n",
       "29            orson scott card\n",
       "30            kathryn stockett\n",
       "31             l.m. montgomery\n",
       "32                j.k. rowling\n",
       "33    antoine de saint-exupéry\n",
       "34                  e.b. white\n",
       "35              john steinbeck\n",
       "36          audrey niffenegger\n",
       "37                 bram stoker\n",
       "38               aldous huxley\n",
       "39      gabriel garcía márquez\n",
       "40               j.d. salinger\n",
       "41             william goldman\n",
       "42                rick riordan\n",
       "43     frances hodgson burnett\n",
       "44             khaled hosseini\n",
       "45           madeleine l'engle\n",
       "46          george r.r. martin\n",
       "47                  mark twain\n",
       "48                alice sebold\n",
       "49                 s.e. hinton\n",
       "50              maurice sendak\n",
       "51                   dr. seuss\n",
       "52                       homer\n",
       "53                 yann martel\n",
       "54             charles dickens\n",
       "Name: author_alone, dtype: string"
      ]
     },
     "execution_count": 34,
     "metadata": {},
     "output_type": "execute_result"
    }
   ],
   "source": [
    "df[\"author_alone\"][20:55]"
   ]
  },
  {
   "cell_type": "code",
   "execution_count": 35,
   "id": "16bf59e7-cb07-4588-b38b-cbc958d4f8d1",
   "metadata": {},
   "outputs": [
    {
     "name": "stdout",
     "output_type": "stream",
     "text": [
      "22861\n"
     ]
    }
   ],
   "source": [
    "print(len(df.groupby(\"author_alone\")))"
   ]
  },
  {
   "cell_type": "code",
   "execution_count": 36,
   "id": "5a1f8995-5cdf-4083-a021-4c66ecc3a637",
   "metadata": {},
   "outputs": [
    {
     "data": {
      "text/plain": [
       "Index(['title', 'author', 'rating', 'description', 'language', 'genres',\n",
       "       'pages', 'numRatings', 'likedPercent', 'bbeScore', 'bbeVotes',\n",
       "       'author_alone'],\n",
       "      dtype='object')"
      ]
     },
     "execution_count": 36,
     "metadata": {},
     "output_type": "execute_result"
    }
   ],
   "source": [
    "df.columns"
   ]
  },
  {
   "cell_type": "markdown",
   "id": "1a985ccb-5d34-4d84-95f3-633bd5442a18",
   "metadata": {},
   "source": [
    "Let visualize some key features to understand the data set better "
   ]
  },
  {
   "cell_type": "code",
   "execution_count": 37,
   "id": "63945b58-a6be-4493-a883-2ebfe8a5b916",
   "metadata": {},
   "outputs": [],
   "source": [
    "import plotly.graph_objects as go"
   ]
  },
  {
   "cell_type": "code",
   "execution_count": 38,
   "id": "689cc3bf-efa9-45e6-8779-faa9ea8fe4c4",
   "metadata": {},
   "outputs": [],
   "source": [
    "top_10_liked_books = df.sort_values(by=\"likedPercent\", ascending = False).head(10)"
   ]
  },
  {
   "cell_type": "code",
   "execution_count": 39,
   "id": "784c06bb-6ee5-4a23-873e-679801d9c7fb",
   "metadata": {},
   "outputs": [
    {
     "data": {
      "text/plain": [
       "likedPercent\n",
       "100.0    10\n",
       "Name: count, dtype: int64"
      ]
     },
     "execution_count": 39,
     "metadata": {},
     "output_type": "execute_result"
    }
   ],
   "source": [
    "top_10_liked_books[\"likedPercent\"].value_counts()"
   ]
  },
  {
   "cell_type": "code",
   "execution_count": 40,
   "id": "164352af-509c-41b5-96c1-b72c67a381c1",
   "metadata": {},
   "outputs": [
    {
     "data": {
      "application/vnd.plotly.v1+json": {
       "config": {
        "plotlyServerURL": "https://plot.ly"
       },
       "data": [
        {
         "hovertemplate": "Book Title=Letters Home from The Crimea: A Young Cavalryman's Campaign<br>Liked Percentage=%{x}<br>Author=%{y}<extra></extra>",
         "legendgroup": "Letters Home from The Crimea: A Young Cavalryman's Campaign",
         "marker": {
          "color": "#636efa",
          "pattern": {
           "shape": ""
          }
         },
         "name": "Letters Home from The Crimea: A Young Cavalryman's Campaign",
         "orientation": "h",
         "showlegend": true,
         "textposition": "auto",
         "type": "bar",
         "x": {
          "bdata": "AAAAAAAAWUA=",
          "dtype": "f8"
         },
         "xaxis": "x",
         "y": [
          "temple godman"
         ],
         "yaxis": "y"
        },
        {
         "hovertemplate": "Book Title=Diana Princess of Wales<br>Liked Percentage=%{x}<br>Author=%{y}<extra></extra>",
         "legendgroup": "Diana Princess of Wales",
         "marker": {
          "color": "#EF553B",
          "pattern": {
           "shape": ""
          }
         },
         "name": "Diana Princess of Wales",
         "orientation": "h",
         "showlegend": true,
         "textposition": "auto",
         "type": "bar",
         "x": {
          "bdata": "AAAAAAAAWUA=",
          "dtype": "f8"
         },
         "xaxis": "x",
         "y": [
          "brian hoey"
         ],
         "yaxis": "y"
        },
        {
         "hovertemplate": "Book Title=Diana: A princess for the world<br>Liked Percentage=%{x}<br>Author=%{y}<extra></extra>",
         "legendgroup": "Diana: A princess for the world",
         "marker": {
          "color": "#00cc96",
          "pattern": {
           "shape": ""
          }
         },
         "name": "Diana: A princess for the world",
         "orientation": "h",
         "showlegend": true,
         "textposition": "auto",
         "type": "bar",
         "x": {
          "bdata": "AAAAAAAAWUA=",
          "dtype": "f8"
         },
         "xaxis": "x",
         "y": [
          "martine kurz"
         ],
         "yaxis": "y"
        },
        {
         "hovertemplate": "Book Title=The Battle for Innocence<br>Liked Percentage=%{x}<br>Author=%{y}<extra></extra>",
         "legendgroup": "The Battle for Innocence",
         "marker": {
          "color": "#ab63fa",
          "pattern": {
           "shape": ""
          }
         },
         "name": "The Battle for Innocence",
         "orientation": "h",
         "showlegend": true,
         "textposition": "auto",
         "type": "bar",
         "x": {
          "bdata": "AAAAAAAAWUA=",
          "dtype": "f8"
         },
         "xaxis": "x",
         "y": [
          "stacy a. padula"
         ],
         "yaxis": "y"
        },
        {
         "hovertemplate": "Book Title=From Pictland to Alba, 789 - 1070<br>Liked Percentage=%{x}<br>Author=%{y}<extra></extra>",
         "legendgroup": "From Pictland to Alba, 789 - 1070",
         "marker": {
          "color": "#FFA15A",
          "pattern": {
           "shape": ""
          }
         },
         "name": "From Pictland to Alba, 789 - 1070",
         "orientation": "h",
         "showlegend": true,
         "textposition": "auto",
         "type": "bar",
         "x": {
          "bdata": "AAAAAAAAWUA=",
          "dtype": "f8"
         },
         "xaxis": "x",
         "y": [
          "alex woolf"
         ],
         "yaxis": "y"
        },
        {
         "hovertemplate": "Book Title=Jesus, Skepticism, and the Problem of History: Criteria and Context in the Study of Christian Origins<br>Liked Percentage=%{x}<br>Author=%{y}<extra></extra>",
         "legendgroup": "Jesus, Skepticism, and the Problem of History: Criteria and Context in the Study of Christian Origins",
         "marker": {
          "color": "#19d3f3",
          "pattern": {
           "shape": ""
          }
         },
         "name": "Jesus, Skepticism, and the Problem of History: Criteria and Context in the Study of Christian Origins",
         "orientation": "h",
         "showlegend": true,
         "textposition": "auto",
         "type": "bar",
         "x": {
          "bdata": "AAAAAAAAWUA=",
          "dtype": "f8"
         },
         "xaxis": "x",
         "y": [
          "darrell l. bock"
         ],
         "yaxis": "y"
        },
        {
         "hovertemplate": "Book Title=Undetected<br>Liked Percentage=%{x}<br>Author=%{y}<extra></extra>",
         "legendgroup": "Undetected",
         "marker": {
          "color": "#FF6692",
          "pattern": {
           "shape": ""
          }
         },
         "name": "Undetected",
         "orientation": "h",
         "showlegend": true,
         "textposition": "auto",
         "type": "bar",
         "x": {
          "bdata": "AAAAAAAAWUA=",
          "dtype": "f8"
         },
         "xaxis": "x",
         "y": [
          "anna hackett"
         ],
         "yaxis": "y"
        },
        {
         "hovertemplate": "Book Title=Torn<br>Liked Percentage=%{x}<br>Author=%{y}<extra></extra>",
         "legendgroup": "Torn",
         "marker": {
          "color": "#B6E880",
          "pattern": {
           "shape": ""
          }
         },
         "name": "Torn",
         "orientation": "h",
         "showlegend": true,
         "textposition": "auto",
         "type": "bar",
         "x": {
          "bdata": "AAAAAAAAWUA=",
          "dtype": "f8"
         },
         "xaxis": "x",
         "y": [
          "ashley stambaugh"
         ],
         "yaxis": "y"
        },
        {
         "hovertemplate": "Book Title=Diario de Aya Kitou<br>Liked Percentage=%{x}<br>Author=%{y}<extra></extra>",
         "legendgroup": "Diario de Aya Kitou",
         "marker": {
          "color": "#FF97FF",
          "pattern": {
           "shape": ""
          }
         },
         "name": "Diario de Aya Kitou",
         "orientation": "h",
         "showlegend": true,
         "textposition": "auto",
         "type": "bar",
         "x": {
          "bdata": "AAAAAAAAWUA=",
          "dtype": "f8"
         },
         "xaxis": "x",
         "y": [
          "sanchez gomez david"
         ],
         "yaxis": "y"
        },
        {
         "hovertemplate": "Book Title=Dating Death Match<br>Liked Percentage=%{x}<br>Author=%{y}<extra></extra>",
         "legendgroup": "Dating Death Match",
         "marker": {
          "color": "#FECB52",
          "pattern": {
           "shape": ""
          }
         },
         "name": "Dating Death Match",
         "orientation": "h",
         "showlegend": true,
         "textposition": "auto",
         "type": "bar",
         "x": {
          "bdata": "AAAAAAAAWUA=",
          "dtype": "f8"
         },
         "xaxis": "x",
         "y": [
          "mike bernsten"
         ],
         "yaxis": "y"
        }
       ],
       "layout": {
        "barmode": "relative",
        "legend": {
         "title": {
          "text": "Book Title"
         },
         "tracegroupgap": 0
        },
        "template": {
         "data": {
          "bar": [
           {
            "error_x": {
             "color": "#2a3f5f"
            },
            "error_y": {
             "color": "#2a3f5f"
            },
            "marker": {
             "line": {
              "color": "#E5ECF6",
              "width": 0.5
             },
             "pattern": {
              "fillmode": "overlay",
              "size": 10,
              "solidity": 0.2
             }
            },
            "type": "bar"
           }
          ],
          "barpolar": [
           {
            "marker": {
             "line": {
              "color": "#E5ECF6",
              "width": 0.5
             },
             "pattern": {
              "fillmode": "overlay",
              "size": 10,
              "solidity": 0.2
             }
            },
            "type": "barpolar"
           }
          ],
          "carpet": [
           {
            "aaxis": {
             "endlinecolor": "#2a3f5f",
             "gridcolor": "white",
             "linecolor": "white",
             "minorgridcolor": "white",
             "startlinecolor": "#2a3f5f"
            },
            "baxis": {
             "endlinecolor": "#2a3f5f",
             "gridcolor": "white",
             "linecolor": "white",
             "minorgridcolor": "white",
             "startlinecolor": "#2a3f5f"
            },
            "type": "carpet"
           }
          ],
          "choropleth": [
           {
            "colorbar": {
             "outlinewidth": 0,
             "ticks": ""
            },
            "type": "choropleth"
           }
          ],
          "contour": [
           {
            "colorbar": {
             "outlinewidth": 0,
             "ticks": ""
            },
            "colorscale": [
             [
              0,
              "#0d0887"
             ],
             [
              0.1111111111111111,
              "#46039f"
             ],
             [
              0.2222222222222222,
              "#7201a8"
             ],
             [
              0.3333333333333333,
              "#9c179e"
             ],
             [
              0.4444444444444444,
              "#bd3786"
             ],
             [
              0.5555555555555556,
              "#d8576b"
             ],
             [
              0.6666666666666666,
              "#ed7953"
             ],
             [
              0.7777777777777778,
              "#fb9f3a"
             ],
             [
              0.8888888888888888,
              "#fdca26"
             ],
             [
              1,
              "#f0f921"
             ]
            ],
            "type": "contour"
           }
          ],
          "contourcarpet": [
           {
            "colorbar": {
             "outlinewidth": 0,
             "ticks": ""
            },
            "type": "contourcarpet"
           }
          ],
          "heatmap": [
           {
            "colorbar": {
             "outlinewidth": 0,
             "ticks": ""
            },
            "colorscale": [
             [
              0,
              "#0d0887"
             ],
             [
              0.1111111111111111,
              "#46039f"
             ],
             [
              0.2222222222222222,
              "#7201a8"
             ],
             [
              0.3333333333333333,
              "#9c179e"
             ],
             [
              0.4444444444444444,
              "#bd3786"
             ],
             [
              0.5555555555555556,
              "#d8576b"
             ],
             [
              0.6666666666666666,
              "#ed7953"
             ],
             [
              0.7777777777777778,
              "#fb9f3a"
             ],
             [
              0.8888888888888888,
              "#fdca26"
             ],
             [
              1,
              "#f0f921"
             ]
            ],
            "type": "heatmap"
           }
          ],
          "histogram": [
           {
            "marker": {
             "pattern": {
              "fillmode": "overlay",
              "size": 10,
              "solidity": 0.2
             }
            },
            "type": "histogram"
           }
          ],
          "histogram2d": [
           {
            "colorbar": {
             "outlinewidth": 0,
             "ticks": ""
            },
            "colorscale": [
             [
              0,
              "#0d0887"
             ],
             [
              0.1111111111111111,
              "#46039f"
             ],
             [
              0.2222222222222222,
              "#7201a8"
             ],
             [
              0.3333333333333333,
              "#9c179e"
             ],
             [
              0.4444444444444444,
              "#bd3786"
             ],
             [
              0.5555555555555556,
              "#d8576b"
             ],
             [
              0.6666666666666666,
              "#ed7953"
             ],
             [
              0.7777777777777778,
              "#fb9f3a"
             ],
             [
              0.8888888888888888,
              "#fdca26"
             ],
             [
              1,
              "#f0f921"
             ]
            ],
            "type": "histogram2d"
           }
          ],
          "histogram2dcontour": [
           {
            "colorbar": {
             "outlinewidth": 0,
             "ticks": ""
            },
            "colorscale": [
             [
              0,
              "#0d0887"
             ],
             [
              0.1111111111111111,
              "#46039f"
             ],
             [
              0.2222222222222222,
              "#7201a8"
             ],
             [
              0.3333333333333333,
              "#9c179e"
             ],
             [
              0.4444444444444444,
              "#bd3786"
             ],
             [
              0.5555555555555556,
              "#d8576b"
             ],
             [
              0.6666666666666666,
              "#ed7953"
             ],
             [
              0.7777777777777778,
              "#fb9f3a"
             ],
             [
              0.8888888888888888,
              "#fdca26"
             ],
             [
              1,
              "#f0f921"
             ]
            ],
            "type": "histogram2dcontour"
           }
          ],
          "mesh3d": [
           {
            "colorbar": {
             "outlinewidth": 0,
             "ticks": ""
            },
            "type": "mesh3d"
           }
          ],
          "parcoords": [
           {
            "line": {
             "colorbar": {
              "outlinewidth": 0,
              "ticks": ""
             }
            },
            "type": "parcoords"
           }
          ],
          "pie": [
           {
            "automargin": true,
            "type": "pie"
           }
          ],
          "scatter": [
           {
            "fillpattern": {
             "fillmode": "overlay",
             "size": 10,
             "solidity": 0.2
            },
            "type": "scatter"
           }
          ],
          "scatter3d": [
           {
            "line": {
             "colorbar": {
              "outlinewidth": 0,
              "ticks": ""
             }
            },
            "marker": {
             "colorbar": {
              "outlinewidth": 0,
              "ticks": ""
             }
            },
            "type": "scatter3d"
           }
          ],
          "scattercarpet": [
           {
            "marker": {
             "colorbar": {
              "outlinewidth": 0,
              "ticks": ""
             }
            },
            "type": "scattercarpet"
           }
          ],
          "scattergeo": [
           {
            "marker": {
             "colorbar": {
              "outlinewidth": 0,
              "ticks": ""
             }
            },
            "type": "scattergeo"
           }
          ],
          "scattergl": [
           {
            "marker": {
             "colorbar": {
              "outlinewidth": 0,
              "ticks": ""
             }
            },
            "type": "scattergl"
           }
          ],
          "scattermap": [
           {
            "marker": {
             "colorbar": {
              "outlinewidth": 0,
              "ticks": ""
             }
            },
            "type": "scattermap"
           }
          ],
          "scattermapbox": [
           {
            "marker": {
             "colorbar": {
              "outlinewidth": 0,
              "ticks": ""
             }
            },
            "type": "scattermapbox"
           }
          ],
          "scatterpolar": [
           {
            "marker": {
             "colorbar": {
              "outlinewidth": 0,
              "ticks": ""
             }
            },
            "type": "scatterpolar"
           }
          ],
          "scatterpolargl": [
           {
            "marker": {
             "colorbar": {
              "outlinewidth": 0,
              "ticks": ""
             }
            },
            "type": "scatterpolargl"
           }
          ],
          "scatterternary": [
           {
            "marker": {
             "colorbar": {
              "outlinewidth": 0,
              "ticks": ""
             }
            },
            "type": "scatterternary"
           }
          ],
          "surface": [
           {
            "colorbar": {
             "outlinewidth": 0,
             "ticks": ""
            },
            "colorscale": [
             [
              0,
              "#0d0887"
             ],
             [
              0.1111111111111111,
              "#46039f"
             ],
             [
              0.2222222222222222,
              "#7201a8"
             ],
             [
              0.3333333333333333,
              "#9c179e"
             ],
             [
              0.4444444444444444,
              "#bd3786"
             ],
             [
              0.5555555555555556,
              "#d8576b"
             ],
             [
              0.6666666666666666,
              "#ed7953"
             ],
             [
              0.7777777777777778,
              "#fb9f3a"
             ],
             [
              0.8888888888888888,
              "#fdca26"
             ],
             [
              1,
              "#f0f921"
             ]
            ],
            "type": "surface"
           }
          ],
          "table": [
           {
            "cells": {
             "fill": {
              "color": "#EBF0F8"
             },
             "line": {
              "color": "white"
             }
            },
            "header": {
             "fill": {
              "color": "#C8D4E3"
             },
             "line": {
              "color": "white"
             }
            },
            "type": "table"
           }
          ]
         },
         "layout": {
          "annotationdefaults": {
           "arrowcolor": "#2a3f5f",
           "arrowhead": 0,
           "arrowwidth": 1
          },
          "autotypenumbers": "strict",
          "coloraxis": {
           "colorbar": {
            "outlinewidth": 0,
            "ticks": ""
           }
          },
          "colorscale": {
           "diverging": [
            [
             0,
             "#8e0152"
            ],
            [
             0.1,
             "#c51b7d"
            ],
            [
             0.2,
             "#de77ae"
            ],
            [
             0.3,
             "#f1b6da"
            ],
            [
             0.4,
             "#fde0ef"
            ],
            [
             0.5,
             "#f7f7f7"
            ],
            [
             0.6,
             "#e6f5d0"
            ],
            [
             0.7,
             "#b8e186"
            ],
            [
             0.8,
             "#7fbc41"
            ],
            [
             0.9,
             "#4d9221"
            ],
            [
             1,
             "#276419"
            ]
           ],
           "sequential": [
            [
             0,
             "#0d0887"
            ],
            [
             0.1111111111111111,
             "#46039f"
            ],
            [
             0.2222222222222222,
             "#7201a8"
            ],
            [
             0.3333333333333333,
             "#9c179e"
            ],
            [
             0.4444444444444444,
             "#bd3786"
            ],
            [
             0.5555555555555556,
             "#d8576b"
            ],
            [
             0.6666666666666666,
             "#ed7953"
            ],
            [
             0.7777777777777778,
             "#fb9f3a"
            ],
            [
             0.8888888888888888,
             "#fdca26"
            ],
            [
             1,
             "#f0f921"
            ]
           ],
           "sequentialminus": [
            [
             0,
             "#0d0887"
            ],
            [
             0.1111111111111111,
             "#46039f"
            ],
            [
             0.2222222222222222,
             "#7201a8"
            ],
            [
             0.3333333333333333,
             "#9c179e"
            ],
            [
             0.4444444444444444,
             "#bd3786"
            ],
            [
             0.5555555555555556,
             "#d8576b"
            ],
            [
             0.6666666666666666,
             "#ed7953"
            ],
            [
             0.7777777777777778,
             "#fb9f3a"
            ],
            [
             0.8888888888888888,
             "#fdca26"
            ],
            [
             1,
             "#f0f921"
            ]
           ]
          },
          "colorway": [
           "#636efa",
           "#EF553B",
           "#00cc96",
           "#ab63fa",
           "#FFA15A",
           "#19d3f3",
           "#FF6692",
           "#B6E880",
           "#FF97FF",
           "#FECB52"
          ],
          "font": {
           "color": "#2a3f5f"
          },
          "geo": {
           "bgcolor": "white",
           "lakecolor": "white",
           "landcolor": "#E5ECF6",
           "showlakes": true,
           "showland": true,
           "subunitcolor": "white"
          },
          "hoverlabel": {
           "align": "left"
          },
          "hovermode": "closest",
          "mapbox": {
           "style": "light"
          },
          "paper_bgcolor": "white",
          "plot_bgcolor": "#E5ECF6",
          "polar": {
           "angularaxis": {
            "gridcolor": "white",
            "linecolor": "white",
            "ticks": ""
           },
           "bgcolor": "#E5ECF6",
           "radialaxis": {
            "gridcolor": "white",
            "linecolor": "white",
            "ticks": ""
           }
          },
          "scene": {
           "xaxis": {
            "backgroundcolor": "#E5ECF6",
            "gridcolor": "white",
            "gridwidth": 2,
            "linecolor": "white",
            "showbackground": true,
            "ticks": "",
            "zerolinecolor": "white"
           },
           "yaxis": {
            "backgroundcolor": "#E5ECF6",
            "gridcolor": "white",
            "gridwidth": 2,
            "linecolor": "white",
            "showbackground": true,
            "ticks": "",
            "zerolinecolor": "white"
           },
           "zaxis": {
            "backgroundcolor": "#E5ECF6",
            "gridcolor": "white",
            "gridwidth": 2,
            "linecolor": "white",
            "showbackground": true,
            "ticks": "",
            "zerolinecolor": "white"
           }
          },
          "shapedefaults": {
           "line": {
            "color": "#2a3f5f"
           }
          },
          "ternary": {
           "aaxis": {
            "gridcolor": "white",
            "linecolor": "white",
            "ticks": ""
           },
           "baxis": {
            "gridcolor": "white",
            "linecolor": "white",
            "ticks": ""
           },
           "bgcolor": "#E5ECF6",
           "caxis": {
            "gridcolor": "white",
            "linecolor": "white",
            "ticks": ""
           }
          },
          "title": {
           "x": 0.05
          },
          "xaxis": {
           "automargin": true,
           "gridcolor": "white",
           "linecolor": "white",
           "ticks": "",
           "title": {
            "standoff": 15
           },
           "zerolinecolor": "white",
           "zerolinewidth": 2
          },
          "yaxis": {
           "automargin": true,
           "gridcolor": "white",
           "linecolor": "white",
           "ticks": "",
           "title": {
            "standoff": 15
           },
           "zerolinecolor": "white",
           "zerolinewidth": 2
          }
         }
        },
        "title": {
         "text": "Top 10 Most Liked Books by Author"
        },
        "xaxis": {
         "anchor": "y",
         "domain": [
          0,
          1
         ],
         "title": {
          "text": "Liked Percentage"
         }
        },
        "yaxis": {
         "anchor": "x",
         "autorange": "reversed",
         "domain": [
          0,
          1
         ],
         "title": {
          "text": "Author"
         }
        }
       }
      },
      "image/png": "[encoded data removed]"
     },
     "metadata": {},
     "output_type": "display_data"
    }
   ],
   "source": [
    "fig = px.bar(\n",
    "    top_10_liked_books,\n",
    "    x=\"likedPercent\",\n",
    "    y=\"author_alone\",\n",
    "    color=\"title\", \n",
    "    orientation='h',\n",
    "    title=\"Top 10 Most Liked Books by Author\",\n",
    "    labels={\"author_alone\": \"Author\", \"likedPercent\": \"Liked Percentage\", \"title\": \"Book Title\"}\n",
    ")\n",
    "\n",
    "fig.update_layout(yaxis=dict(autorange=\"reversed\"))\n",
    "fig.show()\n"
   ]
  },
  {
   "cell_type": "markdown",
   "id": "882b0933-4e8f-4d21-ad3e-8a5186a43af5",
   "metadata": {},
   "source": [
    "Let see which book have highest BBE-Score (Best Book Ever) and there authors"
   ]
  },
  {
   "cell_type": "code",
   "execution_count": 41,
   "id": "a1295e5a-f350-450b-9996-10c9a2347b8c",
   "metadata": {},
   "outputs": [],
   "source": [
    "top_10_bbescore = df.sort_values(by=\"bbeScore\", ascending = False).head(10)"
   ]
  },
  {
   "cell_type": "code",
   "execution_count": 48,
   "id": "49d3c1ae-9428-48d0-959c-db027f35b6c3",
   "metadata": {},
   "outputs": [
    {
     "data": {
      "application/vnd.plotly.v1+json": {
       "config": {
        "plotlyServerURL": "https://plot.ly"
       },
       "data": [
        {
         "hovertemplate": "Author=suzanne collins<br>bbeScore=%{x}<br>Book Title=%{y}<extra></extra>",
         "legendgroup": "suzanne collins",
         "marker": {
          "color": "#636efa",
          "symbol": "circle"
         },
         "mode": "markers",
         "name": "suzanne collins",
         "orientation": "h",
         "showlegend": true,
         "type": "scatter",
         "x": {
          "bdata": "mK4tAA==",
          "dtype": "i4"
         },
         "xaxis": "x",
         "y": [
          "The Hunger Games"
         ],
         "yaxis": "y"
        },
        {
         "hovertemplate": "Author=j.k. rowling<br>bbeScore=%{x}<br>Book Title=%{y}<extra></extra>",
         "legendgroup": "j.k. rowling",
         "marker": {
          "color": "#EF553B",
          "symbol": "circle"
         },
         "mode": "markers",
         "name": "j.k. rowling",
         "orientation": "h",
         "showlegend": true,
         "type": "scatter",
         "x": {
          "bdata": "KSooAA==",
          "dtype": "i4"
         },
         "xaxis": "x",
         "y": [
          "Harry Potter and the Order of the Phoenix"
         ],
         "yaxis": "y"
        },
        {
         "hovertemplate": "Author=harper lee<br>bbeScore=%{x}<br>Book Title=%{y}<extra></extra>",
         "legendgroup": "harper lee",
         "marker": {
          "color": "#00cc96",
          "symbol": "circle"
         },
         "mode": "markers",
         "name": "harper lee",
         "orientation": "h",
         "showlegend": true,
         "type": "scatter",
         "x": {
          "bdata": "2qAiAA==",
          "dtype": "i4"
         },
         "xaxis": "x",
         "y": [
          "To Kill a Mockingbird"
         ],
         "yaxis": "y"
        },
        {
         "hovertemplate": "Author=jane austen<br>bbeScore=%{x}<br>Book Title=%{y}<extra></extra>",
         "legendgroup": "jane austen",
         "marker": {
          "color": "#ab63fa",
          "symbol": "circle"
         },
         "mode": "markers",
         "name": "jane austen",
         "orientation": "h",
         "showlegend": true,
         "type": "scatter",
         "x": {
          "bdata": "jEIeAA==",
          "dtype": "i4"
         },
         "xaxis": "x",
         "y": [
          "Pride and Prejudice"
         ],
         "yaxis": "y"
        },
        {
         "hovertemplate": "Author=stephenie meyer<br>bbeScore=%{x}<br>Book Title=%{y}<extra></extra>",
         "legendgroup": "stephenie meyer",
         "marker": {
          "color": "#FFA15A",
          "symbol": "circle"
         },
         "mode": "markers",
         "name": "stephenie meyer",
         "orientation": "h",
         "showlegend": true,
         "type": "scatter",
         "x": {
          "bdata": "+EQWAA==",
          "dtype": "i4"
         },
         "xaxis": "x",
         "y": [
          "Twilight"
         ],
         "yaxis": "y"
        },
        {
         "hovertemplate": "Author=markus zusak<br>bbeScore=%{x}<br>Book Title=%{y}<extra></extra>",
         "legendgroup": "markus zusak",
         "marker": {
          "color": "#19d3f3",
          "symbol": "circle"
         },
         "mode": "markers",
         "name": "markus zusak",
         "orientation": "h",
         "showlegend": true,
         "type": "scatter",
         "x": {
          "bdata": "ifIUAA==",
          "dtype": "i4"
         },
         "xaxis": "x",
         "y": [
          "The Book Thief"
         ],
         "yaxis": "y"
        },
        {
         "hovertemplate": "Author=george orwell<br>bbeScore=%{x}<br>Book Title=%{y}<extra></extra>",
         "legendgroup": "george orwell",
         "marker": {
          "color": "#FF6692",
          "symbol": "circle"
         },
         "mode": "markers",
         "name": "george orwell",
         "orientation": "h",
         "showlegend": true,
         "type": "scatter",
         "x": {
          "bdata": "t3oTAA==",
          "dtype": "i4"
         },
         "xaxis": "x",
         "y": [
          "Animal Farm"
         ],
         "yaxis": "y"
        },
        {
         "hovertemplate": "Author=c.s. lewis<br>bbeScore=%{x}<br>Book Title=%{y}<extra></extra>",
         "legendgroup": "c.s. lewis",
         "marker": {
          "color": "#B6E880",
          "symbol": "circle"
         },
         "mode": "markers",
         "name": "c.s. lewis",
         "orientation": "h",
         "showlegend": true,
         "type": "scatter",
         "x": {
          "bdata": "HOYSAA==",
          "dtype": "i4"
         },
         "xaxis": "x",
         "y": [
          "The Chronicles of Narnia"
         ],
         "yaxis": "y"
        },
        {
         "hovertemplate": "Author=j.r.r. tolkien<br>bbeScore=%{x}<br>Book Title=%{y}<extra></extra>",
         "legendgroup": "j.r.r. tolkien",
         "marker": {
          "color": "#FF97FF",
          "symbol": "circle"
         },
         "mode": "markers",
         "name": "j.r.r. tolkien",
         "orientation": "h",
         "showlegend": true,
         "type": "scatter",
         "x": {
          "bdata": "erIRAA==",
          "dtype": "i4"
         },
         "xaxis": "x",
         "y": [
          "J.R.R. Tolkien 4-Book Boxed Set: The Hobbit and The Lord of the Rings"
         ],
         "yaxis": "y"
        },
        {
         "hovertemplate": "Author=margaret mitchell<br>bbeScore=%{x}<br>Book Title=%{y}<extra></extra>",
         "legendgroup": "margaret mitchell",
         "marker": {
          "color": "#FECB52",
          "symbol": "circle"
         },
         "mode": "markers",
         "name": "margaret mitchell",
         "orientation": "h",
         "showlegend": true,
         "type": "scatter",
         "x": {
          "bdata": "9JgQAA==",
          "dtype": "i4"
         },
         "xaxis": "x",
         "y": [
          "Gone with the Wind"
         ],
         "yaxis": "y"
        }
       ],
       "layout": {
        "legend": {
         "title": {
          "text": "Author"
         },
         "tracegroupgap": 0
        },
        "template": {
         "data": {
          "bar": [
           {
            "error_x": {
             "color": "#2a3f5f"
            },
            "error_y": {
             "color": "#2a3f5f"
            },
            "marker": {
             "line": {
              "color": "#E5ECF6",
              "width": 0.5
             },
             "pattern": {
              "fillmode": "overlay",
              "size": 10,
              "solidity": 0.2
             }
            },
            "type": "bar"
           }
          ],
          "barpolar": [
           {
            "marker": {
             "line": {
              "color": "#E5ECF6",
              "width": 0.5
             },
             "pattern": {
              "fillmode": "overlay",
              "size": 10,
              "solidity": 0.2
             }
            },
            "type": "barpolar"
           }
          ],
          "carpet": [
           {
            "aaxis": {
             "endlinecolor": "#2a3f5f",
             "gridcolor": "white",
             "linecolor": "white",
             "minorgridcolor": "white",
             "startlinecolor": "#2a3f5f"
            },
            "baxis": {
             "endlinecolor": "#2a3f5f",
             "gridcolor": "white",
             "linecolor": "white",
             "minorgridcolor": "white",
             "startlinecolor": "#2a3f5f"
            },
            "type": "carpet"
           }
          ],
          "choropleth": [
           {
            "colorbar": {
             "outlinewidth": 0,
             "ticks": ""
            },
            "type": "choropleth"
           }
          ],
          "contour": [
           {
            "colorbar": {
             "outlinewidth": 0,
             "ticks": ""
            },
            "colorscale": [
             [
              0,
              "#0d0887"
             ],
             [
              0.1111111111111111,
              "#46039f"
             ],
             [
              0.2222222222222222,
              "#7201a8"
             ],
             [
              0.3333333333333333,
              "#9c179e"
             ],
             [
              0.4444444444444444,
              "#bd3786"
             ],
             [
              0.5555555555555556,
              "#d8576b"
             ],
             [
              0.6666666666666666,
              "#ed7953"
             ],
             [
              0.7777777777777778,
              "#fb9f3a"
             ],
             [
              0.8888888888888888,
              "#fdca26"
             ],
             [
              1,
              "#f0f921"
             ]
            ],
            "type": "contour"
           }
          ],
          "contourcarpet": [
           {
            "colorbar": {
             "outlinewidth": 0,
             "ticks": ""
            },
            "type": "contourcarpet"
           }
          ],
          "heatmap": [
           {
            "colorbar": {
             "outlinewidth": 0,
             "ticks": ""
            },
            "colorscale": [
             [
              0,
              "#0d0887"
             ],
             [
              0.1111111111111111,
              "#46039f"
             ],
             [
              0.2222222222222222,
              "#7201a8"
             ],
             [
              0.3333333333333333,
              "#9c179e"
             ],
             [
              0.4444444444444444,
              "#bd3786"
             ],
             [
              0.5555555555555556,
              "#d8576b"
             ],
             [
              0.6666666666666666,
              "#ed7953"
             ],
             [
              0.7777777777777778,
              "#fb9f3a"
             ],
             [
              0.8888888888888888,
              "#fdca26"
             ],
             [
              1,
              "#f0f921"
             ]
            ],
            "type": "heatmap"
           }
          ],
          "histogram": [
           {
            "marker": {
             "pattern": {
              "fillmode": "overlay",
              "size": 10,
              "solidity": 0.2
             }
            },
            "type": "histogram"
           }
          ],
          "histogram2d": [
           {
            "colorbar": {
             "outlinewidth": 0,
             "ticks": ""
            },
            "colorscale": [
             [
              0,
              "#0d0887"
             ],
             [
              0.1111111111111111,
              "#46039f"
             ],
             [
              0.2222222222222222,
              "#7201a8"
             ],
             [
              0.3333333333333333,
              "#9c179e"
             ],
             [
              0.4444444444444444,
              "#bd3786"
             ],
             [
              0.5555555555555556,
              "#d8576b"
             ],
             [
              0.6666666666666666,
              "#ed7953"
             ],
             [
              0.7777777777777778,
              "#fb9f3a"
             ],
             [
              0.8888888888888888,
              "#fdca26"
             ],
             [
              1,
              "#f0f921"
             ]
            ],
            "type": "histogram2d"
           }
          ],
          "histogram2dcontour": [
           {
            "colorbar": {
             "outlinewidth": 0,
             "ticks": ""
            },
            "colorscale": [
             [
              0,
              "#0d0887"
             ],
             [
              0.1111111111111111,
              "#46039f"
             ],
             [
              0.2222222222222222,
              "#7201a8"
             ],
             [
              0.3333333333333333,
              "#9c179e"
             ],
             [
              0.4444444444444444,
              "#bd3786"
             ],
             [
              0.5555555555555556,
              "#d8576b"
             ],
             [
              0.6666666666666666,
              "#ed7953"
             ],
             [
              0.7777777777777778,
              "#fb9f3a"
             ],
             [
              0.8888888888888888,
              "#fdca26"
             ],
             [
              1,
              "#f0f921"
             ]
            ],
            "type": "histogram2dcontour"
           }
          ],
          "mesh3d": [
           {
            "colorbar": {
             "outlinewidth": 0,
             "ticks": ""
            },
            "type": "mesh3d"
           }
          ],
          "parcoords": [
           {
            "line": {
             "colorbar": {
              "outlinewidth": 0,
              "ticks": ""
             }
            },
            "type": "parcoords"
           }
          ],
          "pie": [
           {
            "automargin": true,
            "type": "pie"
           }
          ],
          "scatter": [
           {
            "fillpattern": {
             "fillmode": "overlay",
             "size": 10,
             "solidity": 0.2
            },
            "type": "scatter"
           }
          ],
          "scatter3d": [
           {
            "line": {
             "colorbar": {
              "outlinewidth": 0,
              "ticks": ""
             }
            },
            "marker": {
             "colorbar": {
              "outlinewidth": 0,
              "ticks": ""
             }
            },
            "type": "scatter3d"
           }
          ],
          "scattercarpet": [
           {
            "marker": {
             "colorbar": {
              "outlinewidth": 0,
              "ticks": ""
             }
            },
            "type": "scattercarpet"
           }
          ],
          "scattergeo": [
           {
            "marker": {
             "colorbar": {
              "outlinewidth": 0,
              "ticks": ""
             }
            },
            "type": "scattergeo"
           }
          ],
          "scattergl": [
           {
            "marker": {
             "colorbar": {
              "outlinewidth": 0,
              "ticks": ""
             }
            },
            "type": "scattergl"
           }
          ],
          "scattermap": [
           {
            "marker": {
             "colorbar": {
              "outlinewidth": 0,
              "ticks": ""
             }
            },
            "type": "scattermap"
           }
          ],
          "scattermapbox": [
           {
            "marker": {
             "colorbar": {
              "outlinewidth": 0,
              "ticks": ""
             }
            },
            "type": "scattermapbox"
           }
          ],
          "scatterpolar": [
           {
            "marker": {
             "colorbar": {
              "outlinewidth": 0,
              "ticks": ""
             }
            },
            "type": "scatterpolar"
           }
          ],
          "scatterpolargl": [
           {
            "marker": {
             "colorbar": {
              "outlinewidth": 0,
              "ticks": ""
             }
            },
            "type": "scatterpolargl"
           }
          ],
          "scatterternary": [
           {
            "marker": {
             "colorbar": {
              "outlinewidth": 0,
              "ticks": ""
             }
            },
            "type": "scatterternary"
           }
          ],
          "surface": [
           {
            "colorbar": {
             "outlinewidth": 0,
             "ticks": ""
            },
            "colorscale": [
             [
              0,
              "#0d0887"
             ],
             [
              0.1111111111111111,
              "#46039f"
             ],
             [
              0.2222222222222222,
              "#7201a8"
             ],
             [
              0.3333333333333333,
              "#9c179e"
             ],
             [
              0.4444444444444444,
              "#bd3786"
             ],
             [
              0.5555555555555556,
              "#d8576b"
             ],
             [
              0.6666666666666666,
              "#ed7953"
             ],
             [
              0.7777777777777778,
              "#fb9f3a"
             ],
             [
              0.8888888888888888,
              "#fdca26"
             ],
             [
              1,
              "#f0f921"
             ]
            ],
            "type": "surface"
           }
          ],
          "table": [
           {
            "cells": {
             "fill": {
              "color": "#EBF0F8"
             },
             "line": {
              "color": "white"
             }
            },
            "header": {
             "fill": {
              "color": "#C8D4E3"
             },
             "line": {
              "color": "white"
             }
            },
            "type": "table"
           }
          ]
         },
         "layout": {
          "annotationdefaults": {
           "arrowcolor": "#2a3f5f",
           "arrowhead": 0,
           "arrowwidth": 1
          },
          "autotypenumbers": "strict",
          "coloraxis": {
           "colorbar": {
            "outlinewidth": 0,
            "ticks": ""
           }
          },
          "colorscale": {
           "diverging": [
            [
             0,
             "#8e0152"
            ],
            [
             0.1,
             "#c51b7d"
            ],
            [
             0.2,
             "#de77ae"
            ],
            [
             0.3,
             "#f1b6da"
            ],
            [
             0.4,
             "#fde0ef"
            ],
            [
             0.5,
             "#f7f7f7"
            ],
            [
             0.6,
             "#e6f5d0"
            ],
            [
             0.7,
             "#b8e186"
            ],
            [
             0.8,
             "#7fbc41"
            ],
            [
             0.9,
             "#4d9221"
            ],
            [
             1,
             "#276419"
            ]
           ],
           "sequential": [
            [
             0,
             "#0d0887"
            ],
            [
             0.1111111111111111,
             "#46039f"
            ],
            [
             0.2222222222222222,
             "#7201a8"
            ],
            [
             0.3333333333333333,
             "#9c179e"
            ],
            [
             0.4444444444444444,
             "#bd3786"
            ],
            [
             0.5555555555555556,
             "#d8576b"
            ],
            [
             0.6666666666666666,
             "#ed7953"
            ],
            [
             0.7777777777777778,
             "#fb9f3a"
            ],
            [
             0.8888888888888888,
             "#fdca26"
            ],
            [
             1,
             "#f0f921"
            ]
           ],
           "sequentialminus": [
            [
             0,
             "#0d0887"
            ],
            [
             0.1111111111111111,
             "#46039f"
            ],
            [
             0.2222222222222222,
             "#7201a8"
            ],
            [
             0.3333333333333333,
             "#9c179e"
            ],
            [
             0.4444444444444444,
             "#bd3786"
            ],
            [
             0.5555555555555556,
             "#d8576b"
            ],
            [
             0.6666666666666666,
             "#ed7953"
            ],
            [
             0.7777777777777778,
             "#fb9f3a"
            ],
            [
             0.8888888888888888,
             "#fdca26"
            ],
            [
             1,
             "#f0f921"
            ]
           ]
          },
          "colorway": [
           "#636efa",
           "#EF553B",
           "#00cc96",
           "#ab63fa",
           "#FFA15A",
           "#19d3f3",
           "#FF6692",
           "#B6E880",
           "#FF97FF",
           "#FECB52"
          ],
          "font": {
           "color": "#2a3f5f"
          },
          "geo": {
           "bgcolor": "white",
           "lakecolor": "white",
           "landcolor": "#E5ECF6",
           "showlakes": true,
           "showland": true,
           "subunitcolor": "white"
          },
          "hoverlabel": {
           "align": "left"
          },
          "hovermode": "closest",
          "mapbox": {
           "style": "light"
          },
          "paper_bgcolor": "white",
          "plot_bgcolor": "#E5ECF6",
          "polar": {
           "angularaxis": {
            "gridcolor": "white",
            "linecolor": "white",
            "ticks": ""
           },
           "bgcolor": "#E5ECF6",
           "radialaxis": {
            "gridcolor": "white",
            "linecolor": "white",
            "ticks": ""
           }
          },
          "scene": {
           "xaxis": {
            "backgroundcolor": "#E5ECF6",
            "gridcolor": "white",
            "gridwidth": 2,
            "linecolor": "white",
            "showbackground": true,
            "ticks": "",
            "zerolinecolor": "white"
           },
           "yaxis": {
            "backgroundcolor": "#E5ECF6",
            "gridcolor": "white",
            "gridwidth": 2,
            "linecolor": "white",
            "showbackground": true,
            "ticks": "",
            "zerolinecolor": "white"
           },
           "zaxis": {
            "backgroundcolor": "#E5ECF6",
            "gridcolor": "white",
            "gridwidth": 2,
            "linecolor": "white",
            "showbackground": true,
            "ticks": "",
            "zerolinecolor": "white"
           }
          },
          "shapedefaults": {
           "line": {
            "color": "#2a3f5f"
           }
          },
          "ternary": {
           "aaxis": {
            "gridcolor": "white",
            "linecolor": "white",
            "ticks": ""
           },
           "baxis": {
            "gridcolor": "white",
            "linecolor": "white",
            "ticks": ""
           },
           "bgcolor": "#E5ECF6",
           "caxis": {
            "gridcolor": "white",
            "linecolor": "white",
            "ticks": ""
           }
          },
          "title": {
           "x": 0.05
          },
          "xaxis": {
           "automargin": true,
           "gridcolor": "white",
           "linecolor": "white",
           "ticks": "",
           "title": {
            "standoff": 15
           },
           "zerolinecolor": "white",
           "zerolinewidth": 2
          },
          "yaxis": {
           "automargin": true,
           "gridcolor": "white",
           "linecolor": "white",
           "ticks": "",
           "title": {
            "standoff": 15
           },
           "zerolinecolor": "white",
           "zerolinewidth": 2
          }
         }
        },
        "title": {
         "text": "Top 10 Most Liked Books by Author"
        },
        "xaxis": {
         "anchor": "y",
         "domain": [
          0,
          1
         ],
         "title": {
          "text": "bbeScore"
         }
        },
        "yaxis": {
         "anchor": "x",
         "autorange": "reversed",
         "domain": [
          0,
          1
         ],
         "title": {
          "text": "Book Title"
         }
        }
       }
      },
      "image/png": "[encoded data removed]"
     },
     "metadata": {},
     "output_type": "display_data"
    }
   ],
   "source": [
    "fig = px.scatter(\n",
    "    top_10_bbescore,\n",
    "    x=\"bbeScore\",\n",
    "    y=\"title\",\n",
    "    color=\"author_alone\", \n",
    "    orientation='h',\n",
    "    title=\"Top 10 Most Liked Books by Author\",\n",
    "    labels={\"author_alone\" : \"Author\", \"BBE-Score\" : \"bbeScore\", \"title\" : \"Book Title\"}\n",
    ")\n",
    "\n",
    "fig.update_layout(\n",
    "    yaxis=dict(autorange=\"reversed\"),\n",
    ")\n",
    "fig.show()\n"
   ]
  },
  {
   "cell_type": "markdown",
   "id": "8a6aa7c0-9b6d-4300-ac0c-6ae115d83a69",
   "metadata": {},
   "source": [
    "Now lets find which book has the most rating "
   ]
  },
  {
   "cell_type": "code",
   "execution_count": 43,
   "id": "a1f9d42c-54e2-43f6-bc1e-a760c6cf2340",
   "metadata": {},
   "outputs": [],
   "source": [
    "most_rating = df.sort_values(by = \"rating\", ascending = False).head(10)"
   ]
  },
  {
   "cell_type": "code",
   "execution_count": 44,
   "id": "4ff17bf4-79b1-44d7-bbda-e211f3c0d788",
   "metadata": {},
   "outputs": [
    {
     "data": {
      "text/html": [
       "<div>\n",
       "<style scoped>\n",
       "    .dataframe tbody tr th:only-of-type {\n",
       "        vertical-align: middle;\n",
       "    }\n",
       "\n",
       "    .dataframe tbody tr th {\n",
       "        vertical-align: top;\n",
       "    }\n",
       "\n",
       "    .dataframe thead th {\n",
       "        text-align: right;\n",
       "    }\n",
       "</style>\n",
       "<table border=\"1\" class=\"dataframe\">\n",
       "  <thead>\n",
       "    <tr style=\"text-align: right;\">\n",
       "      <th></th>\n",
       "      <th>title</th>\n",
       "      <th>author</th>\n",
       "      <th>rating</th>\n",
       "      <th>description</th>\n",
       "      <th>language</th>\n",
       "      <th>genres</th>\n",
       "      <th>pages</th>\n",
       "      <th>numRatings</th>\n",
       "      <th>likedPercent</th>\n",
       "      <th>bbeScore</th>\n",
       "      <th>bbeVotes</th>\n",
       "      <th>author_alone</th>\n",
       "    </tr>\n",
       "  </thead>\n",
       "  <tbody>\n",
       "    <tr>\n",
       "      <th>11562</th>\n",
       "      <td>The Christian Self-Formation: Anthropology of Becoming</td>\n",
       "      <td>Krzysztof Stanibula</td>\n",
       "      <td>5.0</td>\n",
       "      <td>NA</td>\n",
       "      <td>Unknow</td>\n",
       "      <td></td>\n",
       "      <td>444</td>\n",
       "      <td>2</td>\n",
       "      <td>100.0</td>\n",
       "      <td>198</td>\n",
       "      <td>2</td>\n",
       "      <td>krzysztof stanibula</td>\n",
       "    </tr>\n",
       "    <tr>\n",
       "      <th>11561</th>\n",
       "      <td>Addressed To Her: A Short Story</td>\n",
       "      <td>Granthana Sinha (Goodreads Author)</td>\n",
       "      <td>5.0</td>\n",
       "      <td>Being the sole bearer of the truth, and responsible for delivering a package of grave importance, Harshvardhan Singh travels to the address of the addressee, only to find himself in the midst of a celebratory household. Knowing his very life hangs by a fragile thread, will he be able to deliver the package in time, before everything he has ever known obliterates into nothingness?</td>\n",
       "      <td>Unknow</td>\n",
       "      <td></td>\n",
       "      <td>32</td>\n",
       "      <td>5</td>\n",
       "      <td>100.0</td>\n",
       "      <td>198</td>\n",
       "      <td>2</td>\n",
       "      <td>granthana sinha</td>\n",
       "    </tr>\n",
       "    <tr>\n",
       "      <th>15446</th>\n",
       "      <td>Where Do I Begin?</td>\n",
       "      <td>Terri Ann Armstrong (Goodreads Author)</td>\n",
       "      <td>5.0</td>\n",
       "      <td>Where Do I Begin? is a book about my struggles with weight loss. I have struggled all my life, even from the time I was a young child. While I feel weight loss has little, if anything, to do with food directly, I do feel it has everything to do with self-esteem and self-worth. I focus largely on improving your self-esteem and finding ways to cheer yourself on in your fight against weight gain. Itas a difficult line the overweight person walks. People who have never struggled with this monster, or those who donat understand what itas all about, will come away with a better understanding of what it truly means to be overweight. This book will shed some needed light on this overwhelming problem. Americans today are heavier than ever, and it often begins in childhood. This is a book for parents, friends and children alike.</td>\n",
       "      <td>English</td>\n",
       "      <td></td>\n",
       "      <td>110</td>\n",
       "      <td>1</td>\n",
       "      <td>100.0</td>\n",
       "      <td>160</td>\n",
       "      <td>2</td>\n",
       "      <td>terri ann armstrong</td>\n",
       "    </tr>\n",
       "    <tr>\n",
       "      <th>20893</th>\n",
       "      <td>Angskandh</td>\n",
       "      <td>Manoj Pandey</td>\n",
       "      <td>5.0</td>\n",
       "      <td>Fiction</td>\n",
       "      <td>Unknow</td>\n",
       "      <td></td>\n",
       "      <td>200</td>\n",
       "      <td>4</td>\n",
       "      <td>100.0</td>\n",
       "      <td>100</td>\n",
       "      <td>1</td>\n",
       "      <td>manoj pandey</td>\n",
       "    </tr>\n",
       "    <tr>\n",
       "      <th>20850</th>\n",
       "      <td>The Omnidoxy</td>\n",
       "      <td>Cometan (Goodreads Author)</td>\n",
       "      <td>5.0</td>\n",
       "      <td>The Omnidoxy, solely authored by the philosopher Cometan, is the founding treatise over one million words in total length forming the conceptual, orientational, and structural foundations of Astronism. Partitioned into twelve disquisitions, each of which are further divided into hundreds of discourses, which are themselves titled by those which are known as rubrals, The Omnidoxy has been codified according to a unique writing structure known as insentence. The Omnidoxy not only forms the foundations of Astronism, but it remains the primary contributor to the wider Astronic philosophical tradition which encompasses the philosophy of Astronism. Introducing brand new philosophical concepts such as cosmocentricity, reascensionism, transcensionism, and sentientism, The Omnidoxy remains the principal signifier of a new era in philosophy. The Omnidoxy births hundreds of new belief orientations, schools of thought, neologisms, disciplines of study, theories, and concepts which, when combined and considered collectively, have formed the basis of Astronism. The authorship of The Omnidoxy rests with the single individual philosopher, Cometan, which is the mononym for the author of The Original Jesse Millette Series who began writing The Omnidoxy at the age of seventeen driven by what he terms as personal inspiration. The historical origination of The Omnidoxy rests in its authorship by Brandon Taylorian during early 21st century England, specifically in the northern county of Lancashire. Like in all textual criticism, the timing and location of the codification of The Omnidoxy is integral to understanding why and how it was written, especially by considering the influential factors impacting Taylorian during his construction of the text, particularly the cultural, political, religious, and social contexts of Taylorian's personal life and of wider society at the time. This forms an important branch of study within omnidoxicology known as omnidoxical criticism, or omnidoxical exegesis in which scholars study and investigate The Omnidoxy in order to discern conclusive judgements inspired by how, where, why, by whom, for whom, and in what circumstances The Omnidoxy was written.</td>\n",
       "      <td>English</td>\n",
       "      <td></td>\n",
       "      <td>3357</td>\n",
       "      <td>3</td>\n",
       "      <td>100.0</td>\n",
       "      <td>100</td>\n",
       "      <td>1</td>\n",
       "      <td>cometan</td>\n",
       "    </tr>\n",
       "    <tr>\n",
       "      <th>20887</th>\n",
       "      <td>Teddy Looks for Something Special</td>\n",
       "      <td>Misty Jones (Goodreads Author)</td>\n",
       "      <td>5.0</td>\n",
       "      <td>Join the adventure as Teddy, a lonely stuffed bear, ventures out into the big scary world to find something to make him special like all the other toys. Tag along as he meets different characters and finally makes a friend when he meets a plucky self-confident bunny who teaches him that everyone, even a small brown teddy bear, is special in their own way.</td>\n",
       "      <td>Unknow</td>\n",
       "      <td></td>\n",
       "      <td>19</td>\n",
       "      <td>2</td>\n",
       "      <td>100.0</td>\n",
       "      <td>100</td>\n",
       "      <td>1</td>\n",
       "      <td>misty jones</td>\n",
       "    </tr>\n",
       "    <tr>\n",
       "      <th>18616</th>\n",
       "      <td>Cherries Over Quicksand Romance Secrets Laughter Wit Timely Tales</td>\n",
       "      <td>Rhonda Ricardo (Goodreads Author)</td>\n",
       "      <td>5.0</td>\n",
       "      <td>NA</td>\n",
       "      <td>English</td>\n",
       "      <td></td>\n",
       "      <td>100</td>\n",
       "      <td>4</td>\n",
       "      <td>100.0</td>\n",
       "      <td>100</td>\n",
       "      <td>1</td>\n",
       "      <td>rhonda ricardo</td>\n",
       "    </tr>\n",
       "    <tr>\n",
       "      <th>20883</th>\n",
       "      <td>Broken Promises: The Suspenseful Sequel To The Novel, I, Beauty</td>\n",
       "      <td>Lashone Vs Shaneek (Goodreads Author)</td>\n",
       "      <td>5.0</td>\n",
       "      <td>For Beauty, all she wants is for her life to go back to normal. However, life has different plans for her.With her estranged husband, Caleb's return, she is struggling with the idea of him faking his own death. Feeling hurt and betrayed, she is not sure who she can trust anymore. Now, everything has turned upside down as an unexpected enemy creates another problem for Beauty.As her younger sister, Kyra, is abducted, Beauty and Caleb, along with Kyra's boyfriend Luke, and best friends Trace and Shy, will have to put their differences aside as they work together to find Kyra. Only, finding out who is behind Kyra's abduction won't be an easy task. With her previous mental instability due to previous violent events, the group has no idea what is in store for them. Discover this suspenseful sequel to the novel, I, Beauty.</td>\n",
       "      <td>Unknow</td>\n",
       "      <td></td>\n",
       "      <td>202</td>\n",
       "      <td>28</td>\n",
       "      <td>100.0</td>\n",
       "      <td>100</td>\n",
       "      <td>1</td>\n",
       "      <td>lashone vs shaneek</td>\n",
       "    </tr>\n",
       "    <tr>\n",
       "      <th>20828</th>\n",
       "      <td>Who I Am In Christ: 59 Truths To Build Your Identity in Christ</td>\n",
       "      <td>William Dika</td>\n",
       "      <td>5.0</td>\n",
       "      <td>Discover your identity in Christ through some Biblical verses. Knowing your identity is critical and an important element for your growth in Christ. Confess whom God says you are on a daily basis and see your life being transformed by the living Word of the Almighty God.</td>\n",
       "      <td>Unknow</td>\n",
       "      <td></td>\n",
       "      <td>184</td>\n",
       "      <td>3</td>\n",
       "      <td>100.0</td>\n",
       "      <td>100</td>\n",
       "      <td>1</td>\n",
       "      <td>william dika</td>\n",
       "    </tr>\n",
       "    <tr>\n",
       "      <th>18589</th>\n",
       "      <td>The Champlevé Gallery</td>\n",
       "      <td>William Masero (Goodreads Author)</td>\n",
       "      <td>5.0</td>\n",
       "      <td>Welcome to the grandiose art world of gallery owner Casper Kercheval as he struggles to keep together the out of control artist Octavius, while battling to hold his position of power against his archrival, gallery owner Darius Valley. On the fringe is underground gallery owner Molly Berkeley and Heights, an artist well beneath the radar. These five create a quintet of sophistication, genius, guts, and ruthlessness written in a glittering, exquisite literary style of impeccable taste.</td>\n",
       "      <td>English</td>\n",
       "      <td></td>\n",
       "      <td>176</td>\n",
       "      <td>2</td>\n",
       "      <td>100.0</td>\n",
       "      <td>100</td>\n",
       "      <td>1</td>\n",
       "      <td>william masero</td>\n",
       "    </tr>\n",
       "  </tbody>\n",
       "</table>\n",
       "</div>"
      ],
      "text/plain": [
       "                                                                   title  \\\n",
       "11562             The Christian Self-Formation: Anthropology of Becoming   \n",
       "11561                                    Addressed To Her: A Short Story   \n",
       "15446                                                  Where Do I Begin?   \n",
       "20893                                                          Angskandh   \n",
       "20850                                                       The Omnidoxy   \n",
       "20887                                  Teddy Looks for Something Special   \n",
       "18616  Cherries Over Quicksand Romance Secrets Laughter Wit Timely Tales   \n",
       "20883    Broken Promises: The Suspenseful Sequel To The Novel, I, Beauty   \n",
       "20828     Who I Am In Christ: 59 Truths To Build Your Identity in Christ   \n",
       "18589                                              The Champlevé Gallery   \n",
       "\n",
       "                                       author  rating  \\\n",
       "11562                     Krzysztof Stanibula     5.0   \n",
       "11561      Granthana Sinha (Goodreads Author)     5.0   \n",
       "15446  Terri Ann Armstrong (Goodreads Author)     5.0   \n",
       "20893                            Manoj Pandey     5.0   \n",
       "20850              Cometan (Goodreads Author)     5.0   \n",
       "20887          Misty Jones (Goodreads Author)     5.0   \n",
       "18616       Rhonda Ricardo (Goodreads Author)     5.0   \n",
       "20883   Lashone Vs Shaneek (Goodreads Author)     5.0   \n",
       "20828                            William Dika     5.0   \n",
       "18589       William Masero (Goodreads Author)     5.0   \n",
       "\n",
       "                                                                                                                                                                                                                                                                                                                                                                                                                                                                                                                                                                                                                                                                                                                                                                                                                                                                                                                                                                                                                                                                                                                                                                                                                                                                                                                                                                                                                                                                                                                                                                                                                                                                                                                                                                                                                                                                                                                                                                                                                                                                                                                                                                                                                                                                                     description  \\\n",
       "11562                                                                                                                                                                                                                                                                                                                                                                                                                                                                                                                                                                                                                                                                                                                                                                                                                                                                                                                                                                                                                                                                                                                                                                                                                                                                                                                                                                                                                                                                                                                                                                                                                                                                                                                                                                                                                                                                                                                                                                                                                                                                                                                                                                                                                                                                                         NA   \n",
       "11561                                                                                                                                                                                                                                                                                                                                                                                                                                                                                                                                                                                                                                                                                                                                                                                                                                                                                                                                                                                                                                                                                                                                                                                                                                                                                                                                                                                                                                                                                                                                                                                                                                                                                                                                                                                                                                                                                             Being the sole bearer of the truth, and responsible for delivering a package of grave importance, Harshvardhan Singh travels to the address of the addressee, only to find himself in the midst of a celebratory household. Knowing his very life hangs by a fragile thread, will he be able to deliver the package in time, before everything he has ever known obliterates into nothingness?   \n",
       "15446                                                                                                                                                                                                                                                                                                                                                                                                                                                                                                                                                                                                                                                                                                                                                                                                                                                                                                                                                                                                                                                                                                                                                                                                                                                                                                                                                                                                                             Where Do I Begin? is a book about my struggles with weight loss. I have struggled all my life, even from the time I was a young child. While I feel weight loss has little, if anything, to do with food directly, I do feel it has everything to do with self-esteem and self-worth. I focus largely on improving your self-esteem and finding ways to cheer yourself on in your fight against weight gain. Itas a difficult line the overweight person walks. People who have never struggled with this monster, or those who donat understand what itas all about, will come away with a better understanding of what it truly means to be overweight. This book will shed some needed light on this overwhelming problem. Americans today are heavier than ever, and it often begins in childhood. This is a book for parents, friends and children alike.   \n",
       "20893                                                                                                                                                                                                                                                                                                                                                                                                                                                                                                                                                                                                                                                                                                                                                                                                                                                                                                                                                                                                                                                                                                                                                                                                                                                                                                                                                                                                                                                                                                                                                                                                                                                                                                                                                                                                                                                                                                                                                                                                                                                                                                                                                                                                                                                                                    Fiction   \n",
       "20850  The Omnidoxy, solely authored by the philosopher Cometan, is the founding treatise over one million words in total length forming the conceptual, orientational, and structural foundations of Astronism. Partitioned into twelve disquisitions, each of which are further divided into hundreds of discourses, which are themselves titled by those which are known as rubrals, The Omnidoxy has been codified according to a unique writing structure known as insentence. The Omnidoxy not only forms the foundations of Astronism, but it remains the primary contributor to the wider Astronic philosophical tradition which encompasses the philosophy of Astronism. Introducing brand new philosophical concepts such as cosmocentricity, reascensionism, transcensionism, and sentientism, The Omnidoxy remains the principal signifier of a new era in philosophy. The Omnidoxy births hundreds of new belief orientations, schools of thought, neologisms, disciplines of study, theories, and concepts which, when combined and considered collectively, have formed the basis of Astronism. The authorship of The Omnidoxy rests with the single individual philosopher, Cometan, which is the mononym for the author of The Original Jesse Millette Series who began writing The Omnidoxy at the age of seventeen driven by what he terms as personal inspiration. The historical origination of The Omnidoxy rests in its authorship by Brandon Taylorian during early 21st century England, specifically in the northern county of Lancashire. Like in all textual criticism, the timing and location of the codification of The Omnidoxy is integral to understanding why and how it was written, especially by considering the influential factors impacting Taylorian during his construction of the text, particularly the cultural, political, religious, and social contexts of Taylorian's personal life and of wider society at the time. This forms an important branch of study within omnidoxicology known as omnidoxical criticism, or omnidoxical exegesis in which scholars study and investigate The Omnidoxy in order to discern conclusive judgements inspired by how, where, why, by whom, for whom, and in what circumstances The Omnidoxy was written.   \n",
       "20887                                                                                                                                                                                                                                                                                                                                                                                                                                                                                                                                                                                                                                                                                                                                                                                                                                                                                                                                                                                                                                                                                                                                                                                                                                                                                                                                                                                                                                                                                                                                                                                                                                                                                                                                                                                                                                                                                                                      Join the adventure as Teddy, a lonely stuffed bear, ventures out into the big scary world to find something to make him special like all the other toys. Tag along as he meets different characters and finally makes a friend when he meets a plucky self-confident bunny who teaches him that everyone, even a small brown teddy bear, is special in their own way.   \n",
       "18616                                                                                                                                                                                                                                                                                                                                                                                                                                                                                                                                                                                                                                                                                                                                                                                                                                                                                                                                                                                                                                                                                                                                                                                                                                                                                                                                                                                                                                                                                                                                                                                                                                                                                                                                                                                                                                                                                                                                                                                                                                                                                                                                                                                                                                                                                         NA   \n",
       "20883                                                                                                                                                                                                                                                                                                                                                                                                                                                                                                                                                                                                                                                                                                                                                                                                                                                                                                                                                                                                                                                                                                                                                                                                                                                                                                                                                                                                                               For Beauty, all she wants is for her life to go back to normal. However, life has different plans for her.With her estranged husband, Caleb's return, she is struggling with the idea of him faking his own death. Feeling hurt and betrayed, she is not sure who she can trust anymore. Now, everything has turned upside down as an unexpected enemy creates another problem for Beauty.As her younger sister, Kyra, is abducted, Beauty and Caleb, along with Kyra's boyfriend Luke, and best friends Trace and Shy, will have to put their differences aside as they work together to find Kyra. Only, finding out who is behind Kyra's abduction won't be an easy task. With her previous mental instability due to previous violent events, the group has no idea what is in store for them. Discover this suspenseful sequel to the novel, I, Beauty.   \n",
       "20828                                                                                                                                                                                                                                                                                                                                                                                                                                                                                                                                                                                                                                                                                                                                                                                                                                                                                                                                                                                                                                                                                                                                                                                                                                                                                                                                                                                                                                                                                                                                                                                                                                                                                                                                                                                                                                                                                                                                                                                                            Discover your identity in Christ through some Biblical verses. Knowing your identity is critical and an important element for your growth in Christ. Confess whom God says you are on a daily basis and see your life being transformed by the living Word of the Almighty God.   \n",
       "18589                                                                                                                                                                                                                                                                                                                                                                                                                                                                                                                                                                                                                                                                                                                                                                                                                                                                                                                                                                                                                                                                                                                                                                                                                                                                                                                                                                                                                                                                                                                                                                                                                                                                                                                                                                                   Welcome to the grandiose art world of gallery owner Casper Kercheval as he struggles to keep together the out of control artist Octavius, while battling to hold his position of power against his archrival, gallery owner Darius Valley. On the fringe is underground gallery owner Molly Berkeley and Heights, an artist well beneath the radar. These five create a quintet of sophistication, genius, guts, and ruthlessness written in a glittering, exquisite literary style of impeccable taste.   \n",
       "\n",
       "      language genres pages  numRatings  likedPercent  bbeScore  bbeVotes  \\\n",
       "11562   Unknow          444           2         100.0       198         2   \n",
       "11561   Unknow           32           5         100.0       198         2   \n",
       "15446  English          110           1         100.0       160         2   \n",
       "20893   Unknow          200           4         100.0       100         1   \n",
       "20850  English         3357           3         100.0       100         1   \n",
       "20887   Unknow           19           2         100.0       100         1   \n",
       "18616  English          100           4         100.0       100         1   \n",
       "20883   Unknow          202          28         100.0       100         1   \n",
       "20828   Unknow          184           3         100.0       100         1   \n",
       "18589  English          176           2         100.0       100         1   \n",
       "\n",
       "              author_alone  \n",
       "11562  krzysztof stanibula  \n",
       "11561      granthana sinha  \n",
       "15446  terri ann armstrong  \n",
       "20893         manoj pandey  \n",
       "20850              cometan  \n",
       "20887          misty jones  \n",
       "18616       rhonda ricardo  \n",
       "20883   lashone vs shaneek  \n",
       "20828         william dika  \n",
       "18589       william masero  "
      ]
     },
     "execution_count": 44,
     "metadata": {},
     "output_type": "execute_result"
    }
   ],
   "source": [
    "most_rating "
   ]
  },
  {
   "cell_type": "code",
   "execution_count": 51,
   "id": "7cf2fc3b-5bb9-4db0-865f-3ea28e6436c7",
   "metadata": {},
   "outputs": [
    {
     "data": {
      "application/vnd.plotly.v1+json": {
       "config": {
        "plotlyServerURL": "https://plot.ly"
       },
       "data": [
        {
         "alignmentgroup": "True",
         "hovertemplate": "Books Title=The Christian Self-Formation: Anthropology of Becoming<br>Rating=%{x}<br>Author=%{y}<extra></extra>",
         "legendgroup": "The Christian Self-Formation: Anthropology of Becoming",
         "marker": {
          "color": "#636efa"
         },
         "name": "The Christian Self-Formation: Anthropology of Becoming",
         "notched": false,
         "offsetgroup": "The Christian Self-Formation: Anthropology of Becoming",
         "orientation": "v",
         "showlegend": true,
         "type": "box",
         "x": {
          "bdata": "AAAAAAAAFEA=",
          "dtype": "f8"
         },
         "x0": " ",
         "xaxis": "x",
         "y": [
          "krzysztof stanibula"
         ],
         "y0": " ",
         "yaxis": "y"
        },
        {
         "alignmentgroup": "True",
         "hovertemplate": "Books Title=Addressed To Her: A Short Story<br>Rating=%{x}<br>Author=%{y}<extra></extra>",
         "legendgroup": "Addressed To Her: A Short Story",
         "marker": {
          "color": "#EF553B"
         },
         "name": "Addressed To Her: A Short Story",
         "notched": false,
         "offsetgroup": "Addressed To Her: A Short Story",
         "orientation": "v",
         "showlegend": true,
         "type": "box",
         "x": {
          "bdata": "AAAAAAAAFEA=",
          "dtype": "f8"
         },
         "x0": " ",
         "xaxis": "x",
         "y": [
          "granthana sinha"
         ],
         "y0": " ",
         "yaxis": "y"
        },
        {
         "alignmentgroup": "True",
         "hovertemplate": "Books Title=Where Do I Begin?<br>Rating=%{x}<br>Author=%{y}<extra></extra>",
         "legendgroup": "Where Do I Begin?",
         "marker": {
          "color": "#00cc96"
         },
         "name": "Where Do I Begin?",
         "notched": false,
         "offsetgroup": "Where Do I Begin?",
         "orientation": "v",
         "showlegend": true,
         "type": "box",
         "x": {
          "bdata": "AAAAAAAAFEA=",
          "dtype": "f8"
         },
         "x0": " ",
         "xaxis": "x",
         "y": [
          "terri ann armstrong"
         ],
         "y0": " ",
         "yaxis": "y"
        },
        {
         "alignmentgroup": "True",
         "hovertemplate": "Books Title=Angskandh<br>Rating=%{x}<br>Author=%{y}<extra></extra>",
         "legendgroup": "Angskandh",
         "marker": {
          "color": "#ab63fa"
         },
         "name": "Angskandh",
         "notched": false,
         "offsetgroup": "Angskandh",
         "orientation": "v",
         "showlegend": true,
         "type": "box",
         "x": {
          "bdata": "AAAAAAAAFEA=",
          "dtype": "f8"
         },
         "x0": " ",
         "xaxis": "x",
         "y": [
          "manoj pandey"
         ],
         "y0": " ",
         "yaxis": "y"
        },
        {
         "alignmentgroup": "True",
         "hovertemplate": "Books Title=The Omnidoxy<br>Rating=%{x}<br>Author=%{y}<extra></extra>",
         "legendgroup": "The Omnidoxy",
         "marker": {
          "color": "#FFA15A"
         },
         "name": "The Omnidoxy",
         "notched": false,
         "offsetgroup": "The Omnidoxy",
         "orientation": "v",
         "showlegend": true,
         "type": "box",
         "x": {
          "bdata": "AAAAAAAAFEA=",
          "dtype": "f8"
         },
         "x0": " ",
         "xaxis": "x",
         "y": [
          "cometan"
         ],
         "y0": " ",
         "yaxis": "y"
        },
        {
         "alignmentgroup": "True",
         "hovertemplate": "Books Title=Teddy Looks for Something Special<br>Rating=%{x}<br>Author=%{y}<extra></extra>",
         "legendgroup": "Teddy Looks for Something Special",
         "marker": {
          "color": "#19d3f3"
         },
         "name": "Teddy Looks for Something Special",
         "notched": false,
         "offsetgroup": "Teddy Looks for Something Special",
         "orientation": "v",
         "showlegend": true,
         "type": "box",
         "x": {
          "bdata": "AAAAAAAAFEA=",
          "dtype": "f8"
         },
         "x0": " ",
         "xaxis": "x",
         "y": [
          "misty jones"
         ],
         "y0": " ",
         "yaxis": "y"
        },
        {
         "alignmentgroup": "True",
         "hovertemplate": "Books Title=Cherries Over Quicksand Romance Secrets Laughter Wit Timely Tales<br>Rating=%{x}<br>Author=%{y}<extra></extra>",
         "legendgroup": "Cherries Over Quicksand Romance Secrets Laughter Wit Timely Tales",
         "marker": {
          "color": "#FF6692"
         },
         "name": "Cherries Over Quicksand Romance Secrets Laughter Wit Timely Tales",
         "notched": false,
         "offsetgroup": "Cherries Over Quicksand Romance Secrets Laughter Wit Timely Tales",
         "orientation": "v",
         "showlegend": true,
         "type": "box",
         "x": {
          "bdata": "AAAAAAAAFEA=",
          "dtype": "f8"
         },
         "x0": " ",
         "xaxis": "x",
         "y": [
          "rhonda ricardo"
         ],
         "y0": " ",
         "yaxis": "y"
        },
        {
         "alignmentgroup": "True",
         "hovertemplate": "Books Title=Broken Promises: The Suspenseful Sequel To The Novel, I, Beauty<br>Rating=%{x}<br>Author=%{y}<extra></extra>",
         "legendgroup": "Broken Promises: The Suspenseful Sequel To The Novel, I, Beauty",
         "marker": {
          "color": "#B6E880"
         },
         "name": "Broken Promises: The Suspenseful Sequel To The Novel, I, Beauty",
         "notched": false,
         "offsetgroup": "Broken Promises: The Suspenseful Sequel To The Novel, I, Beauty",
         "orientation": "v",
         "showlegend": true,
         "type": "box",
         "x": {
          "bdata": "AAAAAAAAFEA=",
          "dtype": "f8"
         },
         "x0": " ",
         "xaxis": "x",
         "y": [
          "lashone vs shaneek"
         ],
         "y0": " ",
         "yaxis": "y"
        },
        {
         "alignmentgroup": "True",
         "hovertemplate": "Books Title=Who I Am In Christ: 59 Truths To Build Your Identity in Christ<br>Rating=%{x}<br>Author=%{y}<extra></extra>",
         "legendgroup": "Who I Am In Christ: 59 Truths To Build Your Identity in Christ",
         "marker": {
          "color": "#FF97FF"
         },
         "name": "Who I Am In Christ: 59 Truths To Build Your Identity in Christ",
         "notched": false,
         "offsetgroup": "Who I Am In Christ: 59 Truths To Build Your Identity in Christ",
         "orientation": "v",
         "showlegend": true,
         "type": "box",
         "x": {
          "bdata": "AAAAAAAAFEA=",
          "dtype": "f8"
         },
         "x0": " ",
         "xaxis": "x",
         "y": [
          "william dika"
         ],
         "y0": " ",
         "yaxis": "y"
        },
        {
         "alignmentgroup": "True",
         "hovertemplate": "Books Title=The Champlevé Gallery<br>Rating=%{x}<br>Author=%{y}<extra></extra>",
         "legendgroup": "The Champlevé Gallery",
         "marker": {
          "color": "#FECB52"
         },
         "name": "The Champlevé Gallery",
         "notched": false,
         "offsetgroup": "The Champlevé Gallery",
         "orientation": "v",
         "showlegend": true,
         "type": "box",
         "x": {
          "bdata": "AAAAAAAAFEA=",
          "dtype": "f8"
         },
         "x0": " ",
         "xaxis": "x",
         "y": [
          "william masero"
         ],
         "y0": " ",
         "yaxis": "y"
        }
       ],
       "layout": {
        "boxmode": "group",
        "legend": {
         "title": {
          "text": "Books Title"
         },
         "tracegroupgap": 0
        },
        "template": {
         "data": {
          "bar": [
           {
            "error_x": {
             "color": "#2a3f5f"
            },
            "error_y": {
             "color": "#2a3f5f"
            },
            "marker": {
             "line": {
              "color": "#E5ECF6",
              "width": 0.5
             },
             "pattern": {
              "fillmode": "overlay",
              "size": 10,
              "solidity": 0.2
             }
            },
            "type": "bar"
           }
          ],
          "barpolar": [
           {
            "marker": {
             "line": {
              "color": "#E5ECF6",
              "width": 0.5
             },
             "pattern": {
              "fillmode": "overlay",
              "size": 10,
              "solidity": 0.2
             }
            },
            "type": "barpolar"
           }
          ],
          "carpet": [
           {
            "aaxis": {
             "endlinecolor": "#2a3f5f",
             "gridcolor": "white",
             "linecolor": "white",
             "minorgridcolor": "white",
             "startlinecolor": "#2a3f5f"
            },
            "baxis": {
             "endlinecolor": "#2a3f5f",
             "gridcolor": "white",
             "linecolor": "white",
             "minorgridcolor": "white",
             "startlinecolor": "#2a3f5f"
            },
            "type": "carpet"
           }
          ],
          "choropleth": [
           {
            "colorbar": {
             "outlinewidth": 0,
             "ticks": ""
            },
            "type": "choropleth"
           }
          ],
          "contour": [
           {
            "colorbar": {
             "outlinewidth": 0,
             "ticks": ""
            },
            "colorscale": [
             [
              0,
              "#0d0887"
             ],
             [
              0.1111111111111111,
              "#46039f"
             ],
             [
              0.2222222222222222,
              "#7201a8"
             ],
             [
              0.3333333333333333,
              "#9c179e"
             ],
             [
              0.4444444444444444,
              "#bd3786"
             ],
             [
              0.5555555555555556,
              "#d8576b"
             ],
             [
              0.6666666666666666,
              "#ed7953"
             ],
             [
              0.7777777777777778,
              "#fb9f3a"
             ],
             [
              0.8888888888888888,
              "#fdca26"
             ],
             [
              1,
              "#f0f921"
             ]
            ],
            "type": "contour"
           }
          ],
          "contourcarpet": [
           {
            "colorbar": {
             "outlinewidth": 0,
             "ticks": ""
            },
            "type": "contourcarpet"
           }
          ],
          "heatmap": [
           {
            "colorbar": {
             "outlinewidth": 0,
             "ticks": ""
            },
            "colorscale": [
             [
              0,
              "#0d0887"
             ],
             [
              0.1111111111111111,
              "#46039f"
             ],
             [
              0.2222222222222222,
              "#7201a8"
             ],
             [
              0.3333333333333333,
              "#9c179e"
             ],
             [
              0.4444444444444444,
              "#bd3786"
             ],
             [
              0.5555555555555556,
              "#d8576b"
             ],
             [
              0.6666666666666666,
              "#ed7953"
             ],
             [
              0.7777777777777778,
              "#fb9f3a"
             ],
             [
              0.8888888888888888,
              "#fdca26"
             ],
             [
              1,
              "#f0f921"
             ]
            ],
            "type": "heatmap"
           }
          ],
          "histogram": [
           {
            "marker": {
             "pattern": {
              "fillmode": "overlay",
              "size": 10,
              "solidity": 0.2
             }
            },
            "type": "histogram"
           }
          ],
          "histogram2d": [
           {
            "colorbar": {
             "outlinewidth": 0,
             "ticks": ""
            },
            "colorscale": [
             [
              0,
              "#0d0887"
             ],
             [
              0.1111111111111111,
              "#46039f"
             ],
             [
              0.2222222222222222,
              "#7201a8"
             ],
             [
              0.3333333333333333,
              "#9c179e"
             ],
             [
              0.4444444444444444,
              "#bd3786"
             ],
             [
              0.5555555555555556,
              "#d8576b"
             ],
             [
              0.6666666666666666,
              "#ed7953"
             ],
             [
              0.7777777777777778,
              "#fb9f3a"
             ],
             [
              0.8888888888888888,
              "#fdca26"
             ],
             [
              1,
              "#f0f921"
             ]
            ],
            "type": "histogram2d"
           }
          ],
          "histogram2dcontour": [
           {
            "colorbar": {
             "outlinewidth": 0,
             "ticks": ""
            },
            "colorscale": [
             [
              0,
              "#0d0887"
             ],
             [
              0.1111111111111111,
              "#46039f"
             ],
             [
              0.2222222222222222,
              "#7201a8"
             ],
             [
              0.3333333333333333,
              "#9c179e"
             ],
             [
              0.4444444444444444,
              "#bd3786"
             ],
             [
              0.5555555555555556,
              "#d8576b"
             ],
             [
              0.6666666666666666,
              "#ed7953"
             ],
             [
              0.7777777777777778,
              "#fb9f3a"
             ],
             [
              0.8888888888888888,
              "#fdca26"
             ],
             [
              1,
              "#f0f921"
             ]
            ],
            "type": "histogram2dcontour"
           }
          ],
          "mesh3d": [
           {
            "colorbar": {
             "outlinewidth": 0,
             "ticks": ""
            },
            "type": "mesh3d"
           }
          ],
          "parcoords": [
           {
            "line": {
             "colorbar": {
              "outlinewidth": 0,
              "ticks": ""
             }
            },
            "type": "parcoords"
           }
          ],
          "pie": [
           {
            "automargin": true,
            "type": "pie"
           }
          ],
          "scatter": [
           {
            "fillpattern": {
             "fillmode": "overlay",
             "size": 10,
             "solidity": 0.2
            },
            "type": "scatter"
           }
          ],
          "scatter3d": [
           {
            "line": {
             "colorbar": {
              "outlinewidth": 0,
              "ticks": ""
             }
            },
            "marker": {
             "colorbar": {
              "outlinewidth": 0,
              "ticks": ""
             }
            },
            "type": "scatter3d"
           }
          ],
          "scattercarpet": [
           {
            "marker": {
             "colorbar": {
              "outlinewidth": 0,
              "ticks": ""
             }
            },
            "type": "scattercarpet"
           }
          ],
          "scattergeo": [
           {
            "marker": {
             "colorbar": {
              "outlinewidth": 0,
              "ticks": ""
             }
            },
            "type": "scattergeo"
           }
          ],
          "scattergl": [
           {
            "marker": {
             "colorbar": {
              "outlinewidth": 0,
              "ticks": ""
             }
            },
            "type": "scattergl"
           }
          ],
          "scattermap": [
           {
            "marker": {
             "colorbar": {
              "outlinewidth": 0,
              "ticks": ""
             }
            },
            "type": "scattermap"
           }
          ],
          "scattermapbox": [
           {
            "marker": {
             "colorbar": {
              "outlinewidth": 0,
              "ticks": ""
             }
            },
            "type": "scattermapbox"
           }
          ],
          "scatterpolar": [
           {
            "marker": {
             "colorbar": {
              "outlinewidth": 0,
              "ticks": ""
             }
            },
            "type": "scatterpolar"
           }
          ],
          "scatterpolargl": [
           {
            "marker": {
             "colorbar": {
              "outlinewidth": 0,
              "ticks": ""
             }
            },
            "type": "scatterpolargl"
           }
          ],
          "scatterternary": [
           {
            "marker": {
             "colorbar": {
              "outlinewidth": 0,
              "ticks": ""
             }
            },
            "type": "scatterternary"
           }
          ],
          "surface": [
           {
            "colorbar": {
             "outlinewidth": 0,
             "ticks": ""
            },
            "colorscale": [
             [
              0,
              "#0d0887"
             ],
             [
              0.1111111111111111,
              "#46039f"
             ],
             [
              0.2222222222222222,
              "#7201a8"
             ],
             [
              0.3333333333333333,
              "#9c179e"
             ],
             [
              0.4444444444444444,
              "#bd3786"
             ],
             [
              0.5555555555555556,
              "#d8576b"
             ],
             [
              0.6666666666666666,
              "#ed7953"
             ],
             [
              0.7777777777777778,
              "#fb9f3a"
             ],
             [
              0.8888888888888888,
              "#fdca26"
             ],
             [
              1,
              "#f0f921"
             ]
            ],
            "type": "surface"
           }
          ],
          "table": [
           {
            "cells": {
             "fill": {
              "color": "#EBF0F8"
             },
             "line": {
              "color": "white"
             }
            },
            "header": {
             "fill": {
              "color": "#C8D4E3"
             },
             "line": {
              "color": "white"
             }
            },
            "type": "table"
           }
          ]
         },
         "layout": {
          "annotationdefaults": {
           "arrowcolor": "#2a3f5f",
           "arrowhead": 0,
           "arrowwidth": 1
          },
          "autotypenumbers": "strict",
          "coloraxis": {
           "colorbar": {
            "outlinewidth": 0,
            "ticks": ""
           }
          },
          "colorscale": {
           "diverging": [
            [
             0,
             "#8e0152"
            ],
            [
             0.1,
             "#c51b7d"
            ],
            [
             0.2,
             "#de77ae"
            ],
            [
             0.3,
             "#f1b6da"
            ],
            [
             0.4,
             "#fde0ef"
            ],
            [
             0.5,
             "#f7f7f7"
            ],
            [
             0.6,
             "#e6f5d0"
            ],
            [
             0.7,
             "#b8e186"
            ],
            [
             0.8,
             "#7fbc41"
            ],
            [
             0.9,
             "#4d9221"
            ],
            [
             1,
             "#276419"
            ]
           ],
           "sequential": [
            [
             0,
             "#0d0887"
            ],
            [
             0.1111111111111111,
             "#46039f"
            ],
            [
             0.2222222222222222,
             "#7201a8"
            ],
            [
             0.3333333333333333,
             "#9c179e"
            ],
            [
             0.4444444444444444,
             "#bd3786"
            ],
            [
             0.5555555555555556,
             "#d8576b"
            ],
            [
             0.6666666666666666,
             "#ed7953"
            ],
            [
             0.7777777777777778,
             "#fb9f3a"
            ],
            [
             0.8888888888888888,
             "#fdca26"
            ],
            [
             1,
             "#f0f921"
            ]
           ],
           "sequentialminus": [
            [
             0,
             "#0d0887"
            ],
            [
             0.1111111111111111,
             "#46039f"
            ],
            [
             0.2222222222222222,
             "#7201a8"
            ],
            [
             0.3333333333333333,
             "#9c179e"
            ],
            [
             0.4444444444444444,
             "#bd3786"
            ],
            [
             0.5555555555555556,
             "#d8576b"
            ],
            [
             0.6666666666666666,
             "#ed7953"
            ],
            [
             0.7777777777777778,
             "#fb9f3a"
            ],
            [
             0.8888888888888888,
             "#fdca26"
            ],
            [
             1,
             "#f0f921"
            ]
           ]
          },
          "colorway": [
           "#636efa",
           "#EF553B",
           "#00cc96",
           "#ab63fa",
           "#FFA15A",
           "#19d3f3",
           "#FF6692",
           "#B6E880",
           "#FF97FF",
           "#FECB52"
          ],
          "font": {
           "color": "#2a3f5f"
          },
          "geo": {
           "bgcolor": "white",
           "lakecolor": "white",
           "landcolor": "#E5ECF6",
           "showlakes": true,
           "showland": true,
           "subunitcolor": "white"
          },
          "hoverlabel": {
           "align": "left"
          },
          "hovermode": "closest",
          "mapbox": {
           "style": "light"
          },
          "paper_bgcolor": "white",
          "plot_bgcolor": "#E5ECF6",
          "polar": {
           "angularaxis": {
            "gridcolor": "white",
            "linecolor": "white",
            "ticks": ""
           },
           "bgcolor": "#E5ECF6",
           "radialaxis": {
            "gridcolor": "white",
            "linecolor": "white",
            "ticks": ""
           }
          },
          "scene": {
           "xaxis": {
            "backgroundcolor": "#E5ECF6",
            "gridcolor": "white",
            "gridwidth": 2,
            "linecolor": "white",
            "showbackground": true,
            "ticks": "",
            "zerolinecolor": "white"
           },
           "yaxis": {
            "backgroundcolor": "#E5ECF6",
            "gridcolor": "white",
            "gridwidth": 2,
            "linecolor": "white",
            "showbackground": true,
            "ticks": "",
            "zerolinecolor": "white"
           },
           "zaxis": {
            "backgroundcolor": "#E5ECF6",
            "gridcolor": "white",
            "gridwidth": 2,
            "linecolor": "white",
            "showbackground": true,
            "ticks": "",
            "zerolinecolor": "white"
           }
          },
          "shapedefaults": {
           "line": {
            "color": "#2a3f5f"
           }
          },
          "ternary": {
           "aaxis": {
            "gridcolor": "white",
            "linecolor": "white",
            "ticks": ""
           },
           "baxis": {
            "gridcolor": "white",
            "linecolor": "white",
            "ticks": ""
           },
           "bgcolor": "#E5ECF6",
           "caxis": {
            "gridcolor": "white",
            "linecolor": "white",
            "ticks": ""
           }
          },
          "title": {
           "x": 0.05
          },
          "xaxis": {
           "automargin": true,
           "gridcolor": "white",
           "linecolor": "white",
           "ticks": "",
           "title": {
            "standoff": 15
           },
           "zerolinecolor": "white",
           "zerolinewidth": 2
          },
          "yaxis": {
           "automargin": true,
           "gridcolor": "white",
           "linecolor": "white",
           "ticks": "",
           "title": {
            "standoff": 15
           },
           "zerolinecolor": "white",
           "zerolinewidth": 2
          }
         }
        },
        "title": {
         "text": "Most rated books and their author"
        },
        "xaxis": {
         "anchor": "y",
         "domain": [
          0,
          1
         ],
         "title": {
          "text": "Rating"
         }
        },
        "yaxis": {
         "anchor": "x",
         "autorange": "reversed",
         "domain": [
          0,
          1
         ],
         "title": {
          "text": "Author"
         }
        }
       }
      },
      "image/png": "[encoded data removed]"
     },
     "metadata": {},
     "output_type": "display_data"
    }
   ],
   "source": [
    "fig  = px.box(\n",
    "    most_rating,\n",
    "    x=\"rating\",\n",
    "    y=\"author_alone\",\n",
    "    color = \"title\",\n",
    "    orientation = \"v\",\n",
    "    title = \"Most rated books and their author\",\n",
    "    labels = {\"author_alone\" : \"Author\", \"title\" : \"Books Title\" , \"rating\" : \"Rating\"}\n",
    ")\n",
    "\n",
    "fig.update_layout(\n",
    "    yaxis=dict(autorange=\"reversed\")\n",
    ")\n",
    "fig.show()"
   ]
  },
  {
   "cell_type": "markdown",
   "id": "d6b77fe0-483a-4bf5-86cd-c328198dee73",
   "metadata": {},
   "source": [
    "Lets find how many language books are available and there frequency "
   ]
  },
  {
   "cell_type": "code",
   "execution_count": 47,
   "id": "d01f7deb-7e57-4fcf-b85b-3849a76d0eb7",
   "metadata": {},
   "outputs": [
    {
     "name": "stdout",
     "output_type": "stream",
     "text": [
      "language\n",
      "English       42296\n",
      "Unknow         3626\n",
      "Arabic         1035\n",
      "Spanish         682\n",
      "French          573\n",
      "German          506\n",
      "Indonesian      366\n",
      "Portuguese      359\n",
      "Italian         249\n",
      "Dutch           214\n",
      "Name: count, dtype: int64\n"
     ]
    }
   ],
   "source": [
    "print(df[\"language\"].value_counts().sort_values(ascending=False).head(10))"
   ]
  },
  {
   "cell_type": "code",
   "execution_count": 52,
   "id": "98b1aa8e-f8c4-4d51-b27f-55d5278a78b7",
   "metadata": {},
   "outputs": [
    {
     "data": {
      "text/plain": [
       "Index(['title', 'author', 'rating', 'description', 'language', 'genres',\n",
       "       'pages', 'numRatings', 'likedPercent', 'bbeScore', 'bbeVotes',\n",
       "       'author_alone'],\n",
       "      dtype='object')"
      ]
     },
     "execution_count": 52,
     "metadata": {},
     "output_type": "execute_result"
    }
   ],
   "source": [
    "df.columns"
   ]
  },
  {
   "cell_type": "code",
   "execution_count": null,
   "id": "86ef091e-cc6e-458a-a235-d9ff41b617f7",
   "metadata": {},
   "outputs": [],
   "source": []
  }
 ],
 "metadata": {
  "kernelspec": {
   "display_name": "rcs11",
   "language": "python",
   "name": "rcs11"
  },
  "language_info": {
   "codemirror_mode": {
    "name": "ipython",
    "version": 3
   },
   "file_extension": ".py",
   "mimetype": "text/x-python",
   "name": "python",
   "nbconvert_exporter": "python",
   "pygments_lexer": "ipython3",
   "version": "3.11.13"
  }
 },
 "nbformat": 4,
 "nbformat_minor": 5
}
